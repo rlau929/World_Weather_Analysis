{
 "cells": [
  {
   "cell_type": "code",
   "execution_count": 1,
   "metadata": {},
   "outputs": [],
   "source": [
    "# Import the dependencies.\n",
    "import pandas as pd\n",
    "import matplotlib.pyplot as plt\n",
    "import numpy as np\n",
    "\n",
    "import requests\n",
    "from datetime import datetime\n",
    "\n",
    "from config import weather_api_key\n",
    "\n",
    "# Use the citipy module to determine city based on latitude and longitude.\n",
    "from citipy import citipy\n",
    "\n",
    "# Import linear regression from the SciPy stats module.\n",
    "from scipy.stats import linregress"
   ]
  },
  {
   "cell_type": "code",
   "execution_count": 2,
   "metadata": {},
   "outputs": [
    {
     "name": "stdout",
     "output_type": "stream",
     "text": [
      "http://api.openweathermap.org/data/2.5/weather?units=Imperial&APPID=905b32babdb8b30c96f3b85b5e463ca8\n"
     ]
    }
   ],
   "source": [
    "# Starting URL for Weather Map API Call.\n",
    "url = \"http://api.openweathermap.org/data/2.5/weather?units=Imperial&APPID=\" + weather_api_key\n",
    "print(url)"
   ]
  },
  {
   "cell_type": "code",
   "execution_count": 3,
   "metadata": {},
   "outputs": [
    {
     "name": "stdout",
     "output_type": "stream",
     "text": [
      "http://api.openweathermap.org/data/2.5/weather?units=Imperial&APPID=905b32babdb8b30c96f3b85b5e463ca8&q=Boston\n"
     ]
    }
   ],
   "source": [
    "# Create an endpoint URL for a city.\n",
    "city_url = url + \"&q=\" + \"Boston\"\n",
    "print(city_url)"
   ]
  },
  {
   "cell_type": "code",
   "execution_count": 4,
   "metadata": {},
   "outputs": [
    {
     "data": {
      "text/plain": [
       "<zip at 0x18d7951e608>"
      ]
     },
     "execution_count": 4,
     "metadata": {},
     "output_type": "execute_result"
    }
   ],
   "source": [
    "# Create a set of random latitude and longitude combinations.\n",
    "lats = np.random.uniform(low = -90.000, high = 90.000, size = 1500)\n",
    "lngs = np.random.uniform(low = -180.000, high = 180.000, size = 1500)\n",
    "lat_lngs = zip(lats, lngs)\n",
    "lat_lngs"
   ]
  },
  {
   "cell_type": "code",
   "execution_count": 5,
   "metadata": {},
   "outputs": [],
   "source": [
    "# Add the latitudes and longitudes to a list.\n",
    "coordinates = list(lat_lngs)"
   ]
  },
  {
   "cell_type": "code",
   "execution_count": 6,
   "metadata": {},
   "outputs": [
    {
     "data": {
      "text/plain": [
       "596"
      ]
     },
     "execution_count": 6,
     "metadata": {},
     "output_type": "execute_result"
    }
   ],
   "source": [
    "# Create a list for holding the cities.\n",
    "cities = []\n",
    "# Identify the nearest city for each latitude and longitude combination.\n",
    "for coordinate in coordinates:\n",
    "    city = citipy.nearest_city(coordinate[0], coordinate[1]).city_name\n",
    "    \n",
    "    # If the city is unique, then we will add it to the cities list.\n",
    "    if city not in cities:\n",
    "        cities.append(city)\n",
    "# Print the city count to confirm sufficient count.\n",
    "len(cities)"
   ]
  },
  {
   "cell_type": "code",
   "execution_count": 7,
   "metadata": {},
   "outputs": [
    {
     "data": {
      "text/plain": [
       "<Response [200]>"
      ]
     },
     "execution_count": 7,
     "metadata": {},
     "output_type": "execute_result"
    }
   ],
   "source": [
    "# Make a 'Get' request for the city weather.\n",
    "city_weather = requests.get(city_url)\n",
    "city_weather"
   ]
  },
  {
   "cell_type": "code",
   "execution_count": 8,
   "metadata": {},
   "outputs": [
    {
     "data": {
      "text/plain": [
       "200"
      ]
     },
     "execution_count": 8,
     "metadata": {},
     "output_type": "execute_result"
    }
   ],
   "source": [
    "city_weather.status_code"
   ]
  },
  {
   "cell_type": "code",
   "execution_count": 9,
   "metadata": {},
   "outputs": [
    {
     "data": {
      "text/plain": [
       "<Response [200]>"
      ]
     },
     "execution_count": 9,
     "metadata": {},
     "output_type": "execute_result"
    }
   ],
   "source": [
    "# Create an endpoint URL for a city.\n",
    "city_url = url + \"&q=\" + \"Boston\"\n",
    "city_weather = requests.get(city_url)\n",
    "city_weather"
   ]
  },
  {
   "cell_type": "code",
   "execution_count": 10,
   "metadata": {},
   "outputs": [
    {
     "data": {
      "text/plain": [
       "'{\"coord\":{\"lon\":-71.06,\"lat\":42.36},\"weather\":[{\"id\":800,\"main\":\"Clear\",\"description\":\"clear sky\",\"icon\":\"01d\"}],\"base\":\"stations\",\"main\":{\"temp\":69.21,\"feels_like\":70.63,\"temp_min\":66,\"temp_max\":73,\"pressure\":1027,\"humidity\":63},\"wind\":{\"speed\":0.83,\"deg\":100},\"clouds\":{\"all\":0},\"dt\":1592400890,\"sys\":{\"type\":1,\"id\":4967,\"country\":\"US\",\"sunrise\":1592384819,\"sunset\":1592439816},\"timezone\":-14400,\"id\":4930956,\"name\":\"Boston\",\"cod\":200}'"
      ]
     },
     "execution_count": 10,
     "metadata": {},
     "output_type": "execute_result"
    }
   ],
   "source": [
    "# Get the text of the 'Get' request.\n",
    "city_weather.text"
   ]
  },
  {
   "cell_type": "code",
   "execution_count": 11,
   "metadata": {},
   "outputs": [
    {
     "data": {
      "text/plain": [
       "{'coord': {'lon': -71.06, 'lat': 42.36},\n",
       " 'weather': [{'id': 800,\n",
       "   'main': 'Clear',\n",
       "   'description': 'clear sky',\n",
       "   'icon': '01d'}],\n",
       " 'base': 'stations',\n",
       " 'main': {'temp': 69.21,\n",
       "  'feels_like': 70.63,\n",
       "  'temp_min': 66,\n",
       "  'temp_max': 73,\n",
       "  'pressure': 1027,\n",
       "  'humidity': 63},\n",
       " 'wind': {'speed': 0.83, 'deg': 100},\n",
       " 'clouds': {'all': 0},\n",
       " 'dt': 1592400890,\n",
       " 'sys': {'type': 1,\n",
       "  'id': 4967,\n",
       "  'country': 'US',\n",
       "  'sunrise': 1592384819,\n",
       "  'sunset': 1592439816},\n",
       " 'timezone': -14400,\n",
       " 'id': 4930956,\n",
       " 'name': 'Boston',\n",
       " 'cod': 200}"
      ]
     },
     "execution_count": 11,
     "metadata": {},
     "output_type": "execute_result"
    }
   ],
   "source": [
    "# Get the JSON text of the 'Get' request.\n",
    "city_weather.json()"
   ]
  },
  {
   "cell_type": "code",
   "execution_count": 12,
   "metadata": {},
   "outputs": [
    {
     "name": "stdout",
     "output_type": "stream",
     "text": [
      "City Weather found.\n"
     ]
    }
   ],
   "source": [
    "# Create an endpoint URL for a city.\n",
    "city_url = url + \"&q=\" + \"Boston\"\n",
    "city_weather = requests.get(city_url)\n",
    "if city_weather.status_code == 200:\n",
    "    print(f\"City Weather found.\")\n",
    "else:\n",
    "    print(f\"City weather not found.\")"
   ]
  },
  {
   "cell_type": "code",
   "execution_count": 13,
   "metadata": {},
   "outputs": [
    {
     "name": "stdout",
     "output_type": "stream",
     "text": [
      "City Weather found.\n"
     ]
    }
   ],
   "source": [
    "# Create an endpoint URL for a city.\n",
    "city_url = url + \"&q=\" + \"Boston\"\n",
    "city_weather = requests.get(city_url)\n",
    "if city_weather.json():\n",
    "    print(f\"City Weather found.\")\n",
    "else:\n",
    "    print(f\"City weather not found.\")"
   ]
  },
  {
   "cell_type": "code",
   "execution_count": 14,
   "metadata": {},
   "outputs": [
    {
     "name": "stdout",
     "output_type": "stream",
     "text": [
      "http://api.openweathermap.org/data/2.5/weather?units=Imperial&APPID=905b32babdb8b30c96f3b85b5e463ca8&q=Boston\n"
     ]
    }
   ],
   "source": [
    "print(city_url)"
   ]
  },
  {
   "cell_type": "code",
   "execution_count": 15,
   "metadata": {},
   "outputs": [
    {
     "data": {
      "text/plain": [
       "{'coord': {'lon': -71.06, 'lat': 42.36},\n",
       " 'weather': [{'id': 800,\n",
       "   'main': 'Clear',\n",
       "   'description': 'clear sky',\n",
       "   'icon': '01d'}],\n",
       " 'base': 'stations',\n",
       " 'main': {'temp': 69.21,\n",
       "  'feels_like': 70.63,\n",
       "  'temp_min': 66,\n",
       "  'temp_max': 73,\n",
       "  'pressure': 1027,\n",
       "  'humidity': 63},\n",
       " 'wind': {'speed': 0.83, 'deg': 100},\n",
       " 'clouds': {'all': 0},\n",
       " 'dt': 1592400890,\n",
       " 'sys': {'type': 1,\n",
       "  'id': 4967,\n",
       "  'country': 'US',\n",
       "  'sunrise': 1592384819,\n",
       "  'sunset': 1592439816},\n",
       " 'timezone': -14400,\n",
       " 'id': 4930956,\n",
       " 'name': 'Boston',\n",
       " 'cod': 200}"
      ]
     },
     "execution_count": 15,
     "metadata": {},
     "output_type": "execute_result"
    }
   ],
   "source": [
    "# Create an endpoint URL for a city.\n",
    "city_url = url + \"&q=\" + \"Boston\"\n",
    "city_weather = requests.get(city_url)\n",
    "city_weather.json()"
   ]
  },
  {
   "cell_type": "code",
   "execution_count": 16,
   "metadata": {},
   "outputs": [
    {
     "data": {
      "text/plain": [
       "{'type': 1,\n",
       " 'id': 4967,\n",
       " 'country': 'US',\n",
       " 'sunrise': 1592384819,\n",
       " 'sunset': 1592439816}"
      ]
     },
     "execution_count": 16,
     "metadata": {},
     "output_type": "execute_result"
    }
   ],
   "source": [
    "# Get the JSON data.\n",
    "boston_data = city_weather.json()\n",
    "boston_data[\"sys\"]"
   ]
  },
  {
   "cell_type": "code",
   "execution_count": 17,
   "metadata": {},
   "outputs": [
    {
     "data": {
      "text/plain": [
       "'US'"
      ]
     },
     "execution_count": 17,
     "metadata": {},
     "output_type": "execute_result"
    }
   ],
   "source": [
    "boston_data[\"sys\"][\"country\"]"
   ]
  },
  {
   "cell_type": "code",
   "execution_count": 18,
   "metadata": {},
   "outputs": [
    {
     "data": {
      "text/plain": [
       "1592400890"
      ]
     },
     "execution_count": 18,
     "metadata": {},
     "output_type": "execute_result"
    }
   ],
   "source": [
    "boston_data[\"dt\"]"
   ]
  },
  {
   "cell_type": "code",
   "execution_count": 19,
   "metadata": {},
   "outputs": [
    {
     "data": {
      "text/plain": [
       "42.36"
      ]
     },
     "execution_count": 19,
     "metadata": {},
     "output_type": "execute_result"
    }
   ],
   "source": [
    "boston_data[\"coord\"][\"lat\"]"
   ]
  },
  {
   "cell_type": "code",
   "execution_count": 20,
   "metadata": {},
   "outputs": [
    {
     "data": {
      "text/plain": [
       "73"
      ]
     },
     "execution_count": 20,
     "metadata": {},
     "output_type": "execute_result"
    }
   ],
   "source": [
    "boston_data[\"main\"][\"temp_max\"]"
   ]
  },
  {
   "cell_type": "code",
   "execution_count": 21,
   "metadata": {},
   "outputs": [
    {
     "name": "stdout",
     "output_type": "stream",
     "text": [
      "42.36 -71.06 73 63 0 0.83\n"
     ]
    }
   ],
   "source": [
    "lat = boston_data[\"coord\"][\"lat\"]\n",
    "lng = boston_data[\"coord\"][\"lon\"]\n",
    "max_temp = boston_data[\"main\"][\"temp_max\"]\n",
    "humidity = boston_data[\"main\"][\"humidity\"]\n",
    "clouds = boston_data[\"clouds\"][\"all\"]\n",
    "wind = boston_data[\"wind\"][\"speed\"]\n",
    "print(lat, lng, max_temp, humidity, clouds, wind)"
   ]
  },
  {
   "cell_type": "code",
   "execution_count": 22,
   "metadata": {},
   "outputs": [
    {
     "data": {
      "text/plain": [
       "datetime.datetime(2020, 6, 17, 13, 34, 50)"
      ]
     },
     "execution_count": 22,
     "metadata": {},
     "output_type": "execute_result"
    }
   ],
   "source": [
    "# Import the datetime module from the datetime library.\n",
    "from datetime import datetime\n",
    "\n",
    "# Get the date from the JSON file.\n",
    "date = boston_data[\"dt\"]\n",
    "\n",
    "# Convert the UTC date to a date format with year, month, day, hours, minutes, and seconds.\n",
    "datetime.utcfromtimestamp(date)"
   ]
  },
  {
   "cell_type": "code",
   "execution_count": 23,
   "metadata": {},
   "outputs": [],
   "source": [
    "# Import the datetime module from the datetime library.\n",
    "from datetime import datetime"
   ]
  },
  {
   "cell_type": "code",
   "execution_count": 24,
   "metadata": {
    "scrolled": true
   },
   "outputs": [
    {
     "name": "stdout",
     "output_type": "stream",
     "text": [
      "Beginning Data Retrieval     \n",
      "-----------------------------\n",
      "Processing Record 1 of Set 1 | longfeng\n",
      "Processing Record 2 of Set 1 | paka\n",
      "Processing Record 3 of Set 1 | andevoranto\n",
      "City not found. Skipping...\n",
      "Processing Record 4 of Set 1 | avarua\n",
      "Processing Record 5 of Set 1 | albany\n",
      "Processing Record 6 of Set 1 | ushuaia\n",
      "Processing Record 7 of Set 1 | balkhash\n",
      "Processing Record 8 of Set 1 | kalmunai\n",
      "Processing Record 9 of Set 1 | cikarang\n",
      "Processing Record 10 of Set 1 | guerrero negro\n",
      "Processing Record 11 of Set 1 | isla aguada\n",
      "Processing Record 12 of Set 1 | bluff\n",
      "Processing Record 13 of Set 1 | piacabucu\n",
      "Processing Record 14 of Set 1 | hay river\n",
      "Processing Record 15 of Set 1 | abu kamal\n",
      "Processing Record 16 of Set 1 | pevek\n",
      "Processing Record 17 of Set 1 | touros\n",
      "Processing Record 18 of Set 1 | clearwater\n",
      "Processing Record 19 of Set 1 | barcelos\n",
      "Processing Record 20 of Set 1 | vaini\n",
      "Processing Record 21 of Set 1 | belushya guba\n",
      "City not found. Skipping...\n",
      "Processing Record 22 of Set 1 | nantucket\n",
      "Processing Record 23 of Set 1 | amderma\n",
      "City not found. Skipping...\n",
      "Processing Record 24 of Set 1 | barentsburg\n",
      "City not found. Skipping...\n",
      "Processing Record 25 of Set 1 | lorengau\n",
      "Processing Record 26 of Set 1 | batemans bay\n",
      "Processing Record 27 of Set 1 | saint-philippe\n",
      "Processing Record 28 of Set 1 | nikolskoye\n",
      "Processing Record 29 of Set 1 | hithadhoo\n",
      "Processing Record 30 of Set 1 | hermanus\n",
      "Processing Record 31 of Set 1 | carnarvon\n",
      "Processing Record 32 of Set 1 | tsihombe\n",
      "City not found. Skipping...\n",
      "Processing Record 33 of Set 1 | gunjur\n",
      "Processing Record 34 of Set 1 | kapaa\n",
      "Processing Record 35 of Set 1 | ribeira grande\n",
      "Processing Record 36 of Set 1 | rikitea\n",
      "Processing Record 37 of Set 1 | bredasdorp\n",
      "Processing Record 38 of Set 1 | punta arenas\n",
      "Processing Record 39 of Set 1 | port keats\n",
      "Processing Record 40 of Set 1 | hami\n",
      "Processing Record 41 of Set 1 | vilyuysk\n",
      "Processing Record 42 of Set 1 | busselton\n",
      "Processing Record 43 of Set 1 | bambous virieux\n",
      "Processing Record 44 of Set 1 | saskylakh\n",
      "Processing Record 45 of Set 1 | leningradskiy\n",
      "Processing Record 46 of Set 1 | atka\n",
      "City not found. Skipping...\n",
      "Processing Record 47 of Set 1 | quatre cocos\n",
      "Processing Record 48 of Set 1 | east london\n",
      "Processing Record 49 of Set 1 | tuktoyaktuk\n",
      "Processing Record 50 of Set 1 | port lincoln\n",
      "Processing Record 1 of Set 2 | narsaq\n",
      "Processing Record 2 of Set 2 | arraial do cabo\n",
      "Processing Record 3 of Set 2 | limulan\n",
      "Processing Record 4 of Set 2 | port alfred\n",
      "Processing Record 5 of Set 2 | shenjiamen\n",
      "Processing Record 6 of Set 2 | port elizabeth\n",
      "Processing Record 7 of Set 2 | tasiilaq\n",
      "Processing Record 8 of Set 2 | sao filipe\n",
      "Processing Record 9 of Set 2 | tiksi\n",
      "Processing Record 10 of Set 2 | broken hill\n",
      "Processing Record 11 of Set 2 | victoria\n",
      "Processing Record 12 of Set 2 | georgetown\n",
      "Processing Record 13 of Set 2 | komsomolskoye\n",
      "Processing Record 14 of Set 2 | zolotukhino\n",
      "Processing Record 15 of Set 2 | tigil\n",
      "Processing Record 16 of Set 2 | paamiut\n",
      "Processing Record 17 of Set 2 | paradise\n",
      "Processing Record 18 of Set 2 | puerto gaitan\n",
      "Processing Record 19 of Set 2 | samusu\n",
      "City not found. Skipping...\n",
      "Processing Record 20 of Set 2 | ponta do sol\n",
      "Processing Record 21 of Set 2 | ormond beach\n",
      "Processing Record 22 of Set 2 | grindavik\n",
      "Processing Record 23 of Set 2 | shestakovo\n",
      "Processing Record 24 of Set 2 | new norfolk\n",
      "Processing Record 25 of Set 2 | castro\n",
      "Processing Record 26 of Set 2 | haines junction\n",
      "Processing Record 27 of Set 2 | show low\n",
      "Processing Record 28 of Set 2 | lebu\n",
      "Processing Record 29 of Set 2 | viedma\n",
      "Processing Record 30 of Set 2 | elizabeth city\n",
      "Processing Record 31 of Set 2 | los llanos de aridane\n",
      "Processing Record 32 of Set 2 | mataura\n",
      "Processing Record 33 of Set 2 | cozumel\n",
      "Processing Record 34 of Set 2 | majene\n",
      "Processing Record 35 of Set 2 | miraflores\n",
      "Processing Record 36 of Set 2 | dikson\n",
      "Processing Record 37 of Set 2 | bonfim\n",
      "Processing Record 38 of Set 2 | butaritari\n",
      "Processing Record 39 of Set 2 | probolinggo\n",
      "Processing Record 40 of Set 2 | sungairaya\n",
      "Processing Record 41 of Set 2 | taolanaro\n",
      "City not found. Skipping...\n",
      "Processing Record 42 of Set 2 | manakara\n",
      "Processing Record 43 of Set 2 | nizhneyansk\n",
      "City not found. Skipping...\n",
      "Processing Record 44 of Set 2 | omboue\n",
      "Processing Record 45 of Set 2 | namibe\n",
      "Processing Record 46 of Set 2 | olafsvik\n",
      "Processing Record 47 of Set 2 | jamestown\n",
      "Processing Record 48 of Set 2 | cape town\n",
      "Processing Record 49 of Set 2 | sentyabrskiy\n",
      "City not found. Skipping...\n",
      "Processing Record 50 of Set 2 | torbay\n",
      "Processing Record 1 of Set 3 | atuona\n",
      "Processing Record 2 of Set 3 | nome\n",
      "Processing Record 3 of Set 3 | hudson bay\n",
      "Processing Record 4 of Set 3 | bethel\n",
      "Processing Record 5 of Set 3 | nanakuli\n",
      "Processing Record 6 of Set 3 | hobart\n",
      "Processing Record 7 of Set 3 | lavrentiya\n",
      "Processing Record 8 of Set 3 | bereda\n",
      "Processing Record 9 of Set 3 | shitanjing\n",
      "Processing Record 10 of Set 3 | san cristobal\n",
      "Processing Record 11 of Set 3 | hamilton\n",
      "Processing Record 12 of Set 3 | north bend\n",
      "Processing Record 13 of Set 3 | chokurdakh\n",
      "Processing Record 14 of Set 3 | rio grande\n",
      "Processing Record 15 of Set 3 | aklavik\n",
      "Processing Record 16 of Set 3 | port augusta\n",
      "Processing Record 17 of Set 3 | salalah\n",
      "Processing Record 18 of Set 3 | outlook\n",
      "Processing Record 19 of Set 3 | blagoyevo\n",
      "Processing Record 20 of Set 3 | tancanhuitz\n",
      "Processing Record 21 of Set 3 | codrington\n",
      "Processing Record 22 of Set 3 | faanui\n",
      "Processing Record 23 of Set 3 | bengkulu\n",
      "Processing Record 24 of Set 3 | ballachulish\n",
      "Processing Record 25 of Set 3 | vila velha\n",
      "Processing Record 26 of Set 3 | attawapiskat\n",
      "City not found. Skipping...\n",
      "Processing Record 27 of Set 3 | may pen\n",
      "Processing Record 28 of Set 3 | synya\n",
      "Processing Record 29 of Set 3 | yellowknife\n",
      "Processing Record 30 of Set 3 | sobolevo\n",
      "Processing Record 31 of Set 3 | khatanga\n",
      "Processing Record 32 of Set 3 | buraydah\n",
      "Processing Record 33 of Set 3 | cortez\n",
      "Processing Record 34 of Set 3 | tulun\n",
      "Processing Record 35 of Set 3 | nauta\n",
      "Processing Record 36 of Set 3 | asau\n",
      "Processing Record 37 of Set 3 | lazaro cardenas\n",
      "Processing Record 38 of Set 3 | verkh-usugli\n",
      "Processing Record 39 of Set 3 | nelson bay\n",
      "Processing Record 40 of Set 3 | pangody\n",
      "Processing Record 41 of Set 3 | wynyard\n",
      "Processing Record 42 of Set 3 | chuy\n",
      "Processing Record 43 of Set 3 | praia da vitoria\n",
      "Processing Record 44 of Set 3 | kahului\n",
      "Processing Record 45 of Set 3 | soe\n",
      "Processing Record 46 of Set 3 | debre sina\n",
      "Processing Record 47 of Set 3 | mehamn\n",
      "Processing Record 48 of Set 3 | ixtapa\n",
      "Processing Record 49 of Set 3 | kudahuvadhoo\n",
      "Processing Record 50 of Set 3 | cabo san lucas\n",
      "Processing Record 1 of Set 4 | nishihara\n",
      "Processing Record 2 of Set 4 | maningrida\n",
      "Processing Record 3 of Set 4 | pedernales\n",
      "Processing Record 4 of Set 4 | cuamba\n",
      "Processing Record 5 of Set 4 | mangan\n",
      "Processing Record 6 of Set 4 | nemuro\n",
      "Processing Record 7 of Set 4 | puerto ayora\n",
      "Processing Record 8 of Set 4 | celestun\n",
      "Processing Record 9 of Set 4 | geraldton\n",
      "Processing Record 10 of Set 4 | ust-omchug\n",
      "Processing Record 11 of Set 4 | acajutla\n",
      "Processing Record 12 of Set 4 | saint-joseph\n",
      "Processing Record 13 of Set 4 | nanortalik\n",
      "Processing Record 14 of Set 4 | topchikha\n",
      "Processing Record 15 of Set 4 | soyo\n",
      "Processing Record 16 of Set 4 | ilulissat\n",
      "Processing Record 17 of Set 4 | fortuna\n",
      "Processing Record 18 of Set 4 | flinders\n",
      "Processing Record 19 of Set 4 | nizhyn\n",
      "Processing Record 20 of Set 4 | camargo\n",
      "Processing Record 21 of Set 4 | isangel\n",
      "Processing Record 22 of Set 4 | qaanaaq\n",
      "Processing Record 23 of Set 4 | upernavik\n",
      "Processing Record 24 of Set 4 | fomboni\n",
      "Processing Record 25 of Set 4 | tidore\n",
      "City not found. Skipping...\n",
      "Processing Record 26 of Set 4 | alofi\n",
      "Processing Record 27 of Set 4 | kulhudhuffushi\n",
      "Processing Record 28 of Set 4 | aktanysh\n",
      "Processing Record 29 of Set 4 | tarudant\n",
      "City not found. Skipping...\n",
      "Processing Record 30 of Set 4 | alice springs\n",
      "Processing Record 31 of Set 4 | namatanai\n",
      "Processing Record 32 of Set 4 | avera\n",
      "Processing Record 33 of Set 4 | garachine\n",
      "Processing Record 34 of Set 4 | okha\n",
      "Processing Record 35 of Set 4 | borogontsy\n",
      "Processing Record 36 of Set 4 | santa ines\n",
      "Processing Record 37 of Set 4 | graaff-reinet\n"
     ]
    },
    {
     "name": "stdout",
     "output_type": "stream",
     "text": [
      "Processing Record 38 of Set 4 | korla\n",
      "Processing Record 39 of Set 4 | pisco\n",
      "Processing Record 40 of Set 4 | umzimvubu\n",
      "City not found. Skipping...\n",
      "Processing Record 41 of Set 4 | lunenburg\n",
      "Processing Record 42 of Set 4 | vardo\n",
      "Processing Record 43 of Set 4 | gizo\n",
      "Processing Record 44 of Set 4 | burica\n",
      "City not found. Skipping...\n",
      "Processing Record 45 of Set 4 | hilo\n",
      "Processing Record 46 of Set 4 | baie-comeau\n",
      "Processing Record 47 of Set 4 | vestmannaeyjar\n",
      "Processing Record 48 of Set 4 | illoqqortoormiut\n",
      "City not found. Skipping...\n",
      "Processing Record 49 of Set 4 | kaitangata\n",
      "Processing Record 50 of Set 4 | san jose\n",
      "Processing Record 1 of Set 5 | basco\n",
      "Processing Record 2 of Set 5 | esperance\n",
      "Processing Record 3 of Set 5 | cabedelo\n",
      "Processing Record 4 of Set 5 | ust-kuyga\n",
      "Processing Record 5 of Set 5 | stornoway\n",
      "Processing Record 6 of Set 5 | mar del plata\n",
      "Processing Record 7 of Set 5 | marcona\n",
      "City not found. Skipping...\n",
      "Processing Record 8 of Set 5 | saldanha\n",
      "Processing Record 9 of Set 5 | sao geraldo do araguaia\n",
      "Processing Record 10 of Set 5 | gornopravdinsk\n",
      "Processing Record 11 of Set 5 | podujevo\n",
      "Processing Record 12 of Set 5 | kiama\n",
      "Processing Record 13 of Set 5 | praia\n",
      "Processing Record 14 of Set 5 | izumo\n",
      "Processing Record 15 of Set 5 | ternate\n",
      "Processing Record 16 of Set 5 | souillac\n",
      "Processing Record 17 of Set 5 | lindenberg\n",
      "Processing Record 18 of Set 5 | klaksvik\n",
      "Processing Record 19 of Set 5 | okhotsk\n",
      "Processing Record 20 of Set 5 | banjar\n",
      "Processing Record 21 of Set 5 | nhulunbuy\n",
      "Processing Record 22 of Set 5 | phayao\n",
      "Processing Record 23 of Set 5 | lienz\n",
      "Processing Record 24 of Set 5 | longyearbyen\n",
      "Processing Record 25 of Set 5 | barrow\n",
      "Processing Record 26 of Set 5 | kalang\n",
      "Processing Record 27 of Set 5 | hofn\n",
      "Processing Record 28 of Set 5 | ngunguru\n",
      "Processing Record 29 of Set 5 | broome\n",
      "Processing Record 30 of Set 5 | puerto madryn\n",
      "Processing Record 31 of Set 5 | cairns\n",
      "Processing Record 32 of Set 5 | rocky mountain house\n",
      "Processing Record 33 of Set 5 | mrirt\n",
      "City not found. Skipping...\n",
      "Processing Record 34 of Set 5 | esmeraldas\n",
      "Processing Record 35 of Set 5 | marfino\n",
      "Processing Record 36 of Set 5 | russell\n",
      "Processing Record 37 of Set 5 | balad\n",
      "Processing Record 38 of Set 5 | ola\n",
      "Processing Record 39 of Set 5 | oranjemund\n",
      "Processing Record 40 of Set 5 | mys shmidta\n",
      "City not found. Skipping...\n",
      "Processing Record 41 of Set 5 | racine\n",
      "Processing Record 42 of Set 5 | saleaula\n",
      "City not found. Skipping...\n",
      "Processing Record 43 of Set 5 | padang\n",
      "Processing Record 44 of Set 5 | yerbogachen\n",
      "Processing Record 45 of Set 5 | bauchi\n",
      "Processing Record 46 of Set 5 | kamenka\n",
      "Processing Record 47 of Set 5 | el faiyum\n",
      "City not found. Skipping...\n",
      "Processing Record 48 of Set 5 | baiyin\n",
      "Processing Record 49 of Set 5 | pringsewu\n",
      "Processing Record 50 of Set 5 | dawei\n",
      "Processing Record 1 of Set 6 | port-gentil\n",
      "Processing Record 2 of Set 6 | sola\n",
      "Processing Record 3 of Set 6 | tautira\n",
      "Processing Record 4 of Set 6 | cagayan de tawi-tawi\n",
      "City not found. Skipping...\n",
      "Processing Record 5 of Set 6 | qaqortoq\n",
      "Processing Record 6 of Set 6 | natal\n",
      "Processing Record 7 of Set 6 | tateyama\n",
      "Processing Record 8 of Set 6 | moyale\n",
      "Processing Record 9 of Set 6 | katsuura\n",
      "Processing Record 10 of Set 6 | port macquarie\n",
      "Processing Record 11 of Set 6 | sakakah\n",
      "Processing Record 12 of Set 6 | matay\n",
      "Processing Record 13 of Set 6 | chawinda\n",
      "Processing Record 14 of Set 6 | camacha\n",
      "Processing Record 15 of Set 6 | sarahan\n",
      "Processing Record 16 of Set 6 | marsh harbour\n",
      "Processing Record 17 of Set 6 | nouadhibou\n",
      "Processing Record 18 of Set 6 | lohardaga\n",
      "Processing Record 19 of Set 6 | la ronge\n",
      "Processing Record 20 of Set 6 | masallatah\n",
      "Processing Record 21 of Set 6 | vila\n",
      "Processing Record 22 of Set 6 | changji\n",
      "Processing Record 23 of Set 6 | provideniya\n",
      "Processing Record 24 of Set 6 | fukue\n",
      "Processing Record 25 of Set 6 | kodiak\n",
      "Processing Record 26 of Set 6 | larsnes\n",
      "Processing Record 27 of Set 6 | ganganagar\n",
      "Processing Record 28 of Set 6 | beringovskiy\n",
      "Processing Record 29 of Set 6 | bud\n",
      "Processing Record 30 of Set 6 | kloulklubed\n",
      "Processing Record 31 of Set 6 | giyani\n",
      "Processing Record 32 of Set 6 | gorlitz\n",
      "Processing Record 33 of Set 6 | muhos\n",
      "Processing Record 34 of Set 6 | kruisfontein\n",
      "Processing Record 35 of Set 6 | buchanan\n",
      "Processing Record 36 of Set 6 | grand gaube\n",
      "Processing Record 37 of Set 6 | ponta delgada\n",
      "Processing Record 38 of Set 6 | batsfjord\n",
      "Processing Record 39 of Set 6 | porto novo\n",
      "Processing Record 40 of Set 6 | cabra\n",
      "Processing Record 41 of Set 6 | bose\n",
      "Processing Record 42 of Set 6 | chicama\n",
      "Processing Record 43 of Set 6 | caranavi\n",
      "Processing Record 44 of Set 6 | thompson\n",
      "Processing Record 45 of Set 6 | lichinga\n",
      "Processing Record 46 of Set 6 | kenora\n",
      "Processing Record 47 of Set 6 | iqaluit\n",
      "Processing Record 48 of Set 6 | aykhal\n",
      "Processing Record 49 of Set 6 | phan thiet\n",
      "Processing Record 50 of Set 6 | halmstad\n",
      "Processing Record 1 of Set 7 | luderitz\n",
      "Processing Record 2 of Set 7 | obluche\n",
      "City not found. Skipping...\n",
      "Processing Record 3 of Set 7 | sisimiut\n",
      "Processing Record 4 of Set 7 | granada\n",
      "Processing Record 5 of Set 7 | paranhos\n",
      "Processing Record 6 of Set 7 | bireun\n",
      "Processing Record 7 of Set 7 | umm lajj\n",
      "Processing Record 8 of Set 7 | tura\n",
      "Processing Record 9 of Set 7 | chibombo\n",
      "Processing Record 10 of Set 7 | kota belud\n",
      "Processing Record 11 of Set 7 | paragominas\n",
      "Processing Record 12 of Set 7 | cayenne\n",
      "Processing Record 13 of Set 7 | karakose\n",
      "City not found. Skipping...\n",
      "Processing Record 14 of Set 7 | areia branca\n",
      "Processing Record 15 of Set 7 | meiningen\n",
      "Processing Record 16 of Set 7 | deputatskiy\n",
      "Processing Record 17 of Set 7 | yashan\n",
      "Processing Record 18 of Set 7 | muros\n",
      "Processing Record 19 of Set 7 | resplendor\n",
      "Processing Record 20 of Set 7 | tiganasi\n",
      "Processing Record 21 of Set 7 | vaitupu\n",
      "City not found. Skipping...\n",
      "Processing Record 22 of Set 7 | gat\n",
      "Processing Record 23 of Set 7 | bara\n",
      "Processing Record 24 of Set 7 | havelock\n",
      "Processing Record 25 of Set 7 | cockburn town\n",
      "Processing Record 26 of Set 7 | dunedin\n",
      "Processing Record 27 of Set 7 | sitka\n",
      "Processing Record 28 of Set 7 | quballat\n",
      "Processing Record 29 of Set 7 | savannah bight\n",
      "Processing Record 30 of Set 7 | grand centre\n",
      "City not found. Skipping...\n",
      "Processing Record 31 of Set 7 | bin qirdan\n",
      "Processing Record 32 of Set 7 | xichang\n",
      "Processing Record 33 of Set 7 | laguna\n",
      "Processing Record 34 of Set 7 | athabasca\n",
      "Processing Record 35 of Set 7 | bathsheba\n",
      "Processing Record 36 of Set 7 | thinadhoo\n",
      "Processing Record 37 of Set 7 | akyab\n",
      "Processing Record 38 of Set 7 | qarqin\n",
      "Processing Record 39 of Set 7 | carbonia\n",
      "Processing Record 40 of Set 7 | ishigaki\n",
      "Processing Record 41 of Set 7 | san quintin\n",
      "Processing Record 42 of Set 7 | komsomolskiy\n",
      "Processing Record 43 of Set 7 | razole\n",
      "Processing Record 44 of Set 7 | cam pha\n",
      "City not found. Skipping...\n",
      "Processing Record 45 of Set 7 | yar-sale\n",
      "Processing Record 46 of Set 7 | kattivakkam\n",
      "Processing Record 47 of Set 7 | ostrovnoy\n",
      "Processing Record 48 of Set 7 | chapadinha\n",
      "Processing Record 49 of Set 7 | hanzhong\n",
      "Processing Record 50 of Set 7 | lasa\n",
      "Processing Record 1 of Set 8 | coihaique\n",
      "Processing Record 2 of Set 8 | lubu\n",
      "Processing Record 3 of Set 8 | labuan\n",
      "Processing Record 4 of Set 8 | xinxiang\n",
      "Processing Record 5 of Set 8 | husavik\n",
      "Processing Record 6 of Set 8 | jalu\n",
      "Processing Record 7 of Set 8 | suntar\n",
      "Processing Record 8 of Set 8 | macaboboni\n",
      "City not found. Skipping...\n",
      "Processing Record 9 of Set 8 | ugoofaaru\n",
      "Processing Record 10 of Set 8 | itarema\n",
      "Processing Record 11 of Set 8 | leeton\n",
      "Processing Record 12 of Set 8 | cochirleanca\n",
      "Processing Record 13 of Set 8 | adra\n",
      "Processing Record 14 of Set 8 | port saint lucie\n",
      "Processing Record 15 of Set 8 | shimoda\n",
      "Processing Record 16 of Set 8 | buin\n",
      "Processing Record 17 of Set 8 | puri\n",
      "Processing Record 18 of Set 8 | ancud\n",
      "Processing Record 19 of Set 8 | kamenskoye\n",
      "City not found. Skipping...\n",
      "Processing Record 20 of Set 8 | tuatapere\n",
      "Processing Record 21 of Set 8 | dosso\n",
      "Processing Record 22 of Set 8 | kavieng\n",
      "Processing Record 23 of Set 8 | pemangkat\n",
      "Processing Record 24 of Set 8 | lakes entrance\n",
      "Processing Record 25 of Set 8 | gilazi\n",
      "City not found. Skipping...\n",
      "Processing Record 26 of Set 8 | norman wells\n"
     ]
    },
    {
     "name": "stdout",
     "output_type": "stream",
     "text": [
      "Processing Record 27 of Set 8 | nyagan\n",
      "Processing Record 28 of Set 8 | cherskiy\n",
      "Processing Record 29 of Set 8 | caravelas\n",
      "Processing Record 30 of Set 8 | debre tabor\n",
      "Processing Record 31 of Set 8 | zaysan\n",
      "Processing Record 32 of Set 8 | severnyy\n",
      "Processing Record 33 of Set 8 | faya\n",
      "Processing Record 34 of Set 8 | karamea\n",
      "City not found. Skipping...\n",
      "Processing Record 35 of Set 8 | marana\n",
      "Processing Record 36 of Set 8 | revda\n",
      "Processing Record 37 of Set 8 | samarai\n",
      "Processing Record 38 of Set 8 | hualmay\n",
      "Processing Record 39 of Set 8 | koroni\n",
      "Processing Record 40 of Set 8 | zhanaozen\n",
      "Processing Record 41 of Set 8 | rocha\n",
      "Processing Record 42 of Set 8 | kabompo\n",
      "Processing Record 43 of Set 8 | toulepleu\n",
      "City not found. Skipping...\n",
      "Processing Record 44 of Set 8 | sioux lookout\n",
      "Processing Record 45 of Set 8 | zyryanka\n",
      "Processing Record 46 of Set 8 | hailin\n",
      "Processing Record 47 of Set 8 | vila franca do campo\n",
      "Processing Record 48 of Set 8 | mount isa\n",
      "Processing Record 49 of Set 8 | peleduy\n",
      "Processing Record 50 of Set 8 | hanting\n",
      "Processing Record 1 of Set 9 | ust-nera\n",
      "Processing Record 2 of Set 9 | pizarro\n",
      "Processing Record 3 of Set 9 | westpunt\n",
      "City not found. Skipping...\n",
      "Processing Record 4 of Set 9 | homer\n",
      "Processing Record 5 of Set 9 | agapovka\n",
      "Processing Record 6 of Set 9 | magadan\n",
      "Processing Record 7 of Set 9 | paita\n",
      "Processing Record 8 of Set 9 | vakhrushev\n",
      "Processing Record 9 of Set 9 | lolua\n",
      "City not found. Skipping...\n",
      "Processing Record 10 of Set 9 | caconda\n",
      "Processing Record 11 of Set 9 | satitoa\n",
      "City not found. Skipping...\n",
      "Processing Record 12 of Set 9 | pauini\n",
      "Processing Record 13 of Set 9 | moron\n",
      "Processing Record 14 of Set 9 | boone\n",
      "Processing Record 15 of Set 9 | naranjal\n",
      "Processing Record 16 of Set 9 | novyy urengoy\n",
      "Processing Record 17 of Set 9 | warqla\n",
      "City not found. Skipping...\n",
      "Processing Record 18 of Set 9 | aflu\n",
      "City not found. Skipping...\n",
      "Processing Record 19 of Set 9 | rawannawi\n",
      "City not found. Skipping...\n",
      "Processing Record 20 of Set 9 | adrar\n",
      "Processing Record 21 of Set 9 | antofagasta\n",
      "Processing Record 22 of Set 9 | corum\n",
      "Processing Record 23 of Set 9 | adelaide\n",
      "Processing Record 24 of Set 9 | mahebourg\n",
      "Processing Record 25 of Set 9 | airai\n",
      "Processing Record 26 of Set 9 | berlevag\n",
      "Processing Record 27 of Set 9 | tual\n",
      "Processing Record 28 of Set 9 | nalut\n",
      "Processing Record 29 of Set 9 | palu\n",
      "Processing Record 30 of Set 9 | bandar-e lengeh\n",
      "Processing Record 31 of Set 9 | high prairie\n",
      "Processing Record 32 of Set 9 | wajir\n",
      "Processing Record 33 of Set 9 | saint anthony\n",
      "Processing Record 34 of Set 9 | boyabat\n",
      "Processing Record 35 of Set 9 | taltal\n",
      "Processing Record 36 of Set 9 | bintulu\n",
      "Processing Record 37 of Set 9 | vilhena\n",
      "Processing Record 38 of Set 9 | ambilobe\n",
      "Processing Record 39 of Set 9 | karpathos\n",
      "Processing Record 40 of Set 9 | nagato\n",
      "Processing Record 41 of Set 9 | agramonte\n",
      "Processing Record 42 of Set 9 | saint george\n",
      "Processing Record 43 of Set 9 | margate\n",
      "Processing Record 44 of Set 9 | ginda\n",
      "Processing Record 45 of Set 9 | dzilam gonzalez\n",
      "Processing Record 46 of Set 9 | oktyabrskiy\n",
      "Processing Record 47 of Set 9 | naze\n",
      "Processing Record 48 of Set 9 | lata\n",
      "Processing Record 49 of Set 9 | palmerston\n",
      "Processing Record 50 of Set 9 | marathon\n",
      "Processing Record 1 of Set 10 | puerto cortes\n",
      "City not found. Skipping...\n",
      "Processing Record 2 of Set 10 | mitzic\n",
      "Processing Record 3 of Set 10 | constitucion\n",
      "Processing Record 4 of Set 10 | goderich\n",
      "Processing Record 5 of Set 10 | barrie\n",
      "Processing Record 6 of Set 10 | bonavista\n",
      "Processing Record 7 of Set 10 | turtkul\n",
      "City not found. Skipping...\n",
      "Processing Record 8 of Set 10 | ayan\n",
      "Processing Record 9 of Set 10 | san policarpo\n",
      "Processing Record 10 of Set 10 | miandrivazo\n",
      "Processing Record 11 of Set 10 | severo-kurilsk\n",
      "Processing Record 12 of Set 10 | lashio\n",
      "Processing Record 13 of Set 10 | mustang\n",
      "Processing Record 14 of Set 10 | pangoa\n",
      "Processing Record 15 of Set 10 | sri aman\n",
      "Processing Record 16 of Set 10 | cidreira\n",
      "Processing Record 17 of Set 10 | clyde river\n",
      "Processing Record 18 of Set 10 | klamath falls\n",
      "Processing Record 19 of Set 10 | clarksdale\n",
      "Processing Record 20 of Set 10 | sur\n",
      "Processing Record 21 of Set 10 | qui nhon\n",
      "Processing Record 22 of Set 10 | half moon bay\n",
      "Processing Record 23 of Set 10 | acapulco\n",
      "Processing Record 24 of Set 10 | qasigiannguit\n",
      "Processing Record 25 of Set 10 | wawa\n",
      "Processing Record 26 of Set 10 | nizhniy tsasuchey\n",
      "Processing Record 27 of Set 10 | lompoc\n",
      "Processing Record 28 of Set 10 | bella union\n",
      "Processing Record 29 of Set 10 | tonk\n",
      "Processing Record 30 of Set 10 | abu dhabi\n",
      "Processing Record 31 of Set 10 | port hedland\n",
      "Processing Record 32 of Set 10 | horta\n",
      "Processing Record 33 of Set 10 | tsumeb\n",
      "Processing Record 34 of Set 10 | vaitape\n",
      "Processing Record 35 of Set 10 | zonguldak\n",
      "Processing Record 36 of Set 10 | axim\n",
      "Processing Record 37 of Set 10 | kuznechnoye\n",
      "Processing Record 38 of Set 10 | osoyoos\n",
      "Processing Record 39 of Set 10 | anadyr\n",
      "Processing Record 40 of Set 10 | requena\n",
      "Processing Record 41 of Set 10 | payette\n",
      "Processing Record 42 of Set 10 | kamaishi\n",
      "Processing Record 43 of Set 10 | yeppoon\n",
      "Processing Record 44 of Set 10 | onega\n",
      "Processing Record 45 of Set 10 | ushtobe\n",
      "Processing Record 46 of Set 10 | svetlyy\n",
      "Processing Record 47 of Set 10 | zhangye\n",
      "Processing Record 48 of Set 10 | kharp\n",
      "Processing Record 49 of Set 10 | mount gambier\n",
      "Processing Record 50 of Set 10 | sibu\n",
      "Processing Record 1 of Set 11 | umm jarr\n",
      "City not found. Skipping...\n",
      "Processing Record 2 of Set 11 | churapcha\n",
      "Processing Record 3 of Set 11 | san antonio\n",
      "Processing Record 4 of Set 11 | puro\n",
      "Processing Record 5 of Set 11 | hasaki\n",
      "Processing Record 6 of Set 11 | san patricio\n",
      "Processing Record 7 of Set 11 | baymak\n",
      "Processing Record 8 of Set 11 | mahajanga\n",
      "Processing Record 9 of Set 11 | mobaye\n",
      "Processing Record 10 of Set 11 | biak\n",
      "Processing Record 11 of Set 11 | marawi\n",
      "Processing Record 12 of Set 11 | sorso\n",
      "Processing Record 13 of Set 11 | haibowan\n",
      "City not found. Skipping...\n",
      "Processing Record 14 of Set 11 | chiusi\n",
      "Processing Record 15 of Set 11 | awallan\n",
      "Processing Record 16 of Set 11 | skjervoy\n",
      "Processing Record 17 of Set 11 | volchikha\n",
      "Processing Record 18 of Set 11 | lomza\n",
      "Processing Record 19 of Set 11 | pradera\n",
      "Processing Record 20 of Set 11 | jeremie\n",
      "Processing Record 21 of Set 11 | peniche\n",
      "Processing Record 22 of Set 11 | jinchang\n",
      "Processing Record 23 of Set 11 | fairbanks\n",
      "Processing Record 24 of Set 11 | gornozavodsk\n",
      "Processing Record 25 of Set 11 | domoni\n",
      "Processing Record 26 of Set 11 | yanchukan\n",
      "City not found. Skipping...\n",
      "Processing Record 27 of Set 11 | voznesenye\n",
      "Processing Record 28 of Set 11 | morant bay\n",
      "Processing Record 29 of Set 11 | portland\n",
      "Processing Record 30 of Set 11 | naryan-mar\n",
      "Processing Record 31 of Set 11 | hirara\n",
      "Processing Record 32 of Set 11 | tsaratanana\n",
      "Processing Record 33 of Set 11 | garden city\n",
      "Processing Record 34 of Set 11 | lalibela\n",
      "Processing Record 35 of Set 11 | baruun-urt\n",
      "Processing Record 36 of Set 11 | baherden\n",
      "Processing Record 37 of Set 11 | buala\n",
      "Processing Record 38 of Set 11 | ozinki\n",
      "Processing Record 39 of Set 11 | evensk\n",
      "Processing Record 40 of Set 11 | kazalinsk\n",
      "City not found. Skipping...\n",
      "Processing Record 41 of Set 11 | lumsden\n",
      "Processing Record 42 of Set 11 | richmond\n",
      "Processing Record 43 of Set 11 | timra\n",
      "Processing Record 44 of Set 11 | chornobayivka\n",
      "Processing Record 45 of Set 11 | takoradi\n",
      "Processing Record 46 of Set 11 | tezu\n",
      "Processing Record 47 of Set 11 | te anau\n",
      "Processing Record 48 of Set 11 | northam\n",
      "Processing Record 49 of Set 11 | brindisi\n",
      "Processing Record 50 of Set 11 | serra\n",
      "Processing Record 1 of Set 12 | hargeysa\n",
      "Processing Record 2 of Set 12 | fasa\n",
      "Processing Record 3 of Set 12 | kajiado\n",
      "Processing Record 4 of Set 12 | kipini\n",
      "Processing Record 5 of Set 12 | la ligua\n",
      "Processing Record 6 of Set 12 | lubango\n",
      "Processing Record 7 of Set 12 | dawson creek\n",
      "Processing Record 8 of Set 12 | kargat\n",
      "Processing Record 9 of Set 12 | waingapu\n",
      "Processing Record 10 of Set 12 | jinka\n",
      "Processing Record 11 of Set 12 | henties bay\n",
      "Processing Record 12 of Set 12 | wahran\n",
      "City not found. Skipping...\n",
      "Processing Record 13 of Set 12 | muroto\n",
      "Processing Record 14 of Set 12 | tucuman\n",
      "Processing Record 15 of Set 12 | terrace\n"
     ]
    },
    {
     "name": "stdout",
     "output_type": "stream",
     "text": [
      "Processing Record 16 of Set 12 | karaul\n",
      "City not found. Skipping...\n",
      "Processing Record 17 of Set 12 | krasnoselkup\n",
      "Processing Record 18 of Set 12 | havre-saint-pierre\n",
      "Processing Record 19 of Set 12 | griffith\n",
      "Processing Record 20 of Set 12 | pittsfield\n",
      "Processing Record 21 of Set 12 | dhidhdhoo\n",
      "Processing Record 22 of Set 12 | ortakoy\n",
      "Processing Record 23 of Set 12 | ituni\n",
      "City not found. Skipping...\n",
      "Processing Record 24 of Set 12 | veraval\n",
      "Processing Record 25 of Set 12 | manzhouli\n",
      "Processing Record 26 of Set 12 | gopalpur\n",
      "Processing Record 27 of Set 12 | reefton\n",
      "City not found. Skipping...\n",
      "Processing Record 28 of Set 12 | baykit\n",
      "Processing Record 29 of Set 12 | gaoual\n",
      "Processing Record 30 of Set 12 | jaciara\n",
      "Processing Record 31 of Set 12 | san francisco\n",
      "Processing Record 32 of Set 12 | sironj\n",
      "Processing Record 33 of Set 12 | benguela\n",
      "Processing Record 34 of Set 12 | murray bridge\n",
      "Processing Record 35 of Set 12 | tinaquillo\n",
      "Processing Record 36 of Set 12 | cap-aux-meules\n",
      "Processing Record 37 of Set 12 | kasongo\n",
      "Processing Record 38 of Set 12 | rudsar\n",
      "Processing Record 39 of Set 12 | palabuhanratu\n",
      "City not found. Skipping...\n",
      "Processing Record 40 of Set 12 | coahuayana\n",
      "Processing Record 41 of Set 12 | ossora\n",
      "Processing Record 42 of Set 12 | halalo\n",
      "City not found. Skipping...\n",
      "Processing Record 43 of Set 12 | batesville\n",
      "Processing Record 44 of Set 12 | tambura\n",
      "Processing Record 45 of Set 12 | male\n",
      "Processing Record 46 of Set 12 | mayskiy\n",
      "-----------------------------\n",
      "Data Retrieval Complete      \n",
      "-----------------------------\n"
     ]
    }
   ],
   "source": [
    "# Create an empty list to hold the weather data.\n",
    "city_data = []\n",
    "# Print the beginning of the logging.\n",
    "print(\"Beginning Data Retrieval     \")\n",
    "print(\"-----------------------------\")\n",
    "\n",
    "# Create counters.\n",
    "record_count = 1\n",
    "set_count = 1\n",
    "\n",
    "# Loop through all the cities in the list.\n",
    "for i, city in enumerate(cities):\n",
    "\n",
    "    # Group cities in sets of 50 for logging purposes.\n",
    "    if (i % 50 == 0 and i >= 50):\n",
    "        set_count += 1\n",
    "        record_count = 1\n",
    "    # Create endpoint URL with each city.\n",
    "    city_url = url + \"&q=\" + city.replace(\" \",\"+\")\n",
    "\n",
    "    # Log the URL, record, and set numbers and the city.\n",
    "    print(f\"Processing Record {record_count} of Set {set_count} | {city}\")\n",
    "    # Add 1 to the record count.\n",
    "    record_count += 1\n",
    "    \n",
    "# Run an API request for each of the cities.\n",
    "    try:\n",
    "        # Parse the JSON and retrieve data.\n",
    "        city_weather = requests.get(city_url).json()\n",
    "        # Parse out the needed data.\n",
    "        city_lat = city_weather[\"coord\"][\"lat\"]\n",
    "        city_lng = city_weather[\"coord\"][\"lon\"]\n",
    "        city_max_temp = city_weather[\"main\"][\"temp_max\"]\n",
    "        city_humidity = city_weather[\"main\"][\"humidity\"]\n",
    "        city_clouds = city_weather[\"clouds\"][\"all\"]\n",
    "        city_wind = city_weather[\"wind\"][\"speed\"]\n",
    "        city_country = city_weather[\"sys\"][\"country\"]\n",
    "        # Convert the date to ISO standard.\n",
    "        city_date = datetime.utcfromtimestamp(city_weather[\"dt\"]).strftime('%Y-%m-%d %H:%M:%S')\n",
    "        # Append the city information into city_data list.\n",
    "        city_data.append({\"City\": city.title(),\n",
    "                          \"Lat\": city_lat,\n",
    "                          \"Lng\": city_lng,\n",
    "                          \"Max Temp\": city_max_temp,\n",
    "                          \"Humidity\": city_humidity,\n",
    "                          \"Cloudiness\": city_clouds,\n",
    "                          \"Wind Speed\": city_wind,\n",
    "                          \"Country\": city_country,\n",
    "                          \"Date\": city_date})\n",
    "\n",
    "# If an error is experienced, skip the city.\n",
    "    except:\n",
    "        print(\"City not found. Skipping...\")\n",
    "        pass\n",
    "\n",
    "# Indicate that Data Loading is complete.\n",
    "print(\"-----------------------------\")\n",
    "print(\"Data Retrieval Complete      \")\n",
    "print(\"-----------------------------\")"
   ]
  },
  {
   "cell_type": "code",
   "execution_count": 25,
   "metadata": {},
   "outputs": [
    {
     "data": {
      "text/plain": [
       "546"
      ]
     },
     "execution_count": 25,
     "metadata": {},
     "output_type": "execute_result"
    }
   ],
   "source": [
    "len(city_data)"
   ]
  },
  {
   "cell_type": "code",
   "execution_count": 26,
   "metadata": {},
   "outputs": [
    {
     "data": {
      "text/html": [
       "<div>\n",
       "<style scoped>\n",
       "    .dataframe tbody tr th:only-of-type {\n",
       "        vertical-align: middle;\n",
       "    }\n",
       "\n",
       "    .dataframe tbody tr th {\n",
       "        vertical-align: top;\n",
       "    }\n",
       "\n",
       "    .dataframe thead th {\n",
       "        text-align: right;\n",
       "    }\n",
       "</style>\n",
       "<table border=\"1\" class=\"dataframe\">\n",
       "  <thead>\n",
       "    <tr style=\"text-align: right;\">\n",
       "      <th></th>\n",
       "      <th>City</th>\n",
       "      <th>Lat</th>\n",
       "      <th>Lng</th>\n",
       "      <th>Max Temp</th>\n",
       "      <th>Humidity</th>\n",
       "      <th>Cloudiness</th>\n",
       "      <th>Wind Speed</th>\n",
       "      <th>Country</th>\n",
       "      <th>Date</th>\n",
       "    </tr>\n",
       "  </thead>\n",
       "  <tbody>\n",
       "    <tr>\n",
       "      <th>0</th>\n",
       "      <td>Longfeng</td>\n",
       "      <td>46.55</td>\n",
       "      <td>125.12</td>\n",
       "      <td>62.65</td>\n",
       "      <td>68</td>\n",
       "      <td>2</td>\n",
       "      <td>8.70</td>\n",
       "      <td>CN</td>\n",
       "      <td>2020-06-17 13:38:36</td>\n",
       "    </tr>\n",
       "    <tr>\n",
       "      <th>1</th>\n",
       "      <td>Paka</td>\n",
       "      <td>4.64</td>\n",
       "      <td>103.44</td>\n",
       "      <td>78.80</td>\n",
       "      <td>94</td>\n",
       "      <td>89</td>\n",
       "      <td>3.36</td>\n",
       "      <td>MY</td>\n",
       "      <td>2020-06-17 13:38:37</td>\n",
       "    </tr>\n",
       "    <tr>\n",
       "      <th>2</th>\n",
       "      <td>Avarua</td>\n",
       "      <td>-21.21</td>\n",
       "      <td>-159.78</td>\n",
       "      <td>71.60</td>\n",
       "      <td>64</td>\n",
       "      <td>44</td>\n",
       "      <td>6.93</td>\n",
       "      <td>CK</td>\n",
       "      <td>2020-06-17 13:38:37</td>\n",
       "    </tr>\n",
       "    <tr>\n",
       "      <th>3</th>\n",
       "      <td>Albany</td>\n",
       "      <td>42.60</td>\n",
       "      <td>-73.97</td>\n",
       "      <td>69.01</td>\n",
       "      <td>59</td>\n",
       "      <td>0</td>\n",
       "      <td>2.06</td>\n",
       "      <td>US</td>\n",
       "      <td>2020-06-17 13:35:02</td>\n",
       "    </tr>\n",
       "    <tr>\n",
       "      <th>4</th>\n",
       "      <td>Ushuaia</td>\n",
       "      <td>-54.80</td>\n",
       "      <td>-68.30</td>\n",
       "      <td>39.20</td>\n",
       "      <td>88</td>\n",
       "      <td>40</td>\n",
       "      <td>17.22</td>\n",
       "      <td>AR</td>\n",
       "      <td>2020-06-17 13:38:37</td>\n",
       "    </tr>\n",
       "    <tr>\n",
       "      <th>5</th>\n",
       "      <td>Balkhash</td>\n",
       "      <td>46.84</td>\n",
       "      <td>74.98</td>\n",
       "      <td>65.93</td>\n",
       "      <td>62</td>\n",
       "      <td>61</td>\n",
       "      <td>21.88</td>\n",
       "      <td>KZ</td>\n",
       "      <td>2020-06-17 13:36:21</td>\n",
       "    </tr>\n",
       "    <tr>\n",
       "      <th>6</th>\n",
       "      <td>Kalmunai</td>\n",
       "      <td>7.42</td>\n",
       "      <td>81.82</td>\n",
       "      <td>86.79</td>\n",
       "      <td>69</td>\n",
       "      <td>66</td>\n",
       "      <td>5.79</td>\n",
       "      <td>LK</td>\n",
       "      <td>2020-06-17 13:38:38</td>\n",
       "    </tr>\n",
       "    <tr>\n",
       "      <th>7</th>\n",
       "      <td>Cikarang</td>\n",
       "      <td>-6.26</td>\n",
       "      <td>107.15</td>\n",
       "      <td>86.00</td>\n",
       "      <td>66</td>\n",
       "      <td>40</td>\n",
       "      <td>11.41</td>\n",
       "      <td>ID</td>\n",
       "      <td>2020-06-17 13:38:38</td>\n",
       "    </tr>\n",
       "    <tr>\n",
       "      <th>8</th>\n",
       "      <td>Guerrero Negro</td>\n",
       "      <td>27.98</td>\n",
       "      <td>-114.06</td>\n",
       "      <td>63.34</td>\n",
       "      <td>83</td>\n",
       "      <td>84</td>\n",
       "      <td>11.77</td>\n",
       "      <td>MX</td>\n",
       "      <td>2020-06-17 13:35:25</td>\n",
       "    </tr>\n",
       "    <tr>\n",
       "      <th>9</th>\n",
       "      <td>Isla Aguada</td>\n",
       "      <td>18.78</td>\n",
       "      <td>-91.47</td>\n",
       "      <td>80.60</td>\n",
       "      <td>83</td>\n",
       "      <td>75</td>\n",
       "      <td>6.93</td>\n",
       "      <td>MX</td>\n",
       "      <td>2020-06-17 13:38:38</td>\n",
       "    </tr>\n",
       "  </tbody>\n",
       "</table>\n",
       "</div>"
      ],
      "text/plain": [
       "             City    Lat     Lng  Max Temp  Humidity  Cloudiness  Wind Speed  \\\n",
       "0        Longfeng  46.55  125.12     62.65        68           2        8.70   \n",
       "1            Paka   4.64  103.44     78.80        94          89        3.36   \n",
       "2          Avarua -21.21 -159.78     71.60        64          44        6.93   \n",
       "3          Albany  42.60  -73.97     69.01        59           0        2.06   \n",
       "4         Ushuaia -54.80  -68.30     39.20        88          40       17.22   \n",
       "5        Balkhash  46.84   74.98     65.93        62          61       21.88   \n",
       "6        Kalmunai   7.42   81.82     86.79        69          66        5.79   \n",
       "7        Cikarang  -6.26  107.15     86.00        66          40       11.41   \n",
       "8  Guerrero Negro  27.98 -114.06     63.34        83          84       11.77   \n",
       "9     Isla Aguada  18.78  -91.47     80.60        83          75        6.93   \n",
       "\n",
       "  Country                 Date  \n",
       "0      CN  2020-06-17 13:38:36  \n",
       "1      MY  2020-06-17 13:38:37  \n",
       "2      CK  2020-06-17 13:38:37  \n",
       "3      US  2020-06-17 13:35:02  \n",
       "4      AR  2020-06-17 13:38:37  \n",
       "5      KZ  2020-06-17 13:36:21  \n",
       "6      LK  2020-06-17 13:38:38  \n",
       "7      ID  2020-06-17 13:38:38  \n",
       "8      MX  2020-06-17 13:35:25  \n",
       "9      MX  2020-06-17 13:38:38  "
      ]
     },
     "execution_count": 26,
     "metadata": {},
     "output_type": "execute_result"
    }
   ],
   "source": [
    "# Convert the array of dictionaries to a Pandas DataFrame.\n",
    "city_data_df = pd.DataFrame(city_data)\n",
    "city_data_df.head(10)"
   ]
  },
  {
   "cell_type": "code",
   "execution_count": 27,
   "metadata": {},
   "outputs": [
    {
     "data": {
      "text/html": [
       "<div>\n",
       "<style scoped>\n",
       "    .dataframe tbody tr th:only-of-type {\n",
       "        vertical-align: middle;\n",
       "    }\n",
       "\n",
       "    .dataframe tbody tr th {\n",
       "        vertical-align: top;\n",
       "    }\n",
       "\n",
       "    .dataframe thead th {\n",
       "        text-align: right;\n",
       "    }\n",
       "</style>\n",
       "<table border=\"1\" class=\"dataframe\">\n",
       "  <thead>\n",
       "    <tr style=\"text-align: right;\">\n",
       "      <th></th>\n",
       "      <th>City</th>\n",
       "      <th>Country</th>\n",
       "      <th>Date</th>\n",
       "      <th>Lat</th>\n",
       "      <th>Lng</th>\n",
       "      <th>Max Temp</th>\n",
       "      <th>Humidity</th>\n",
       "      <th>Cloudiness</th>\n",
       "      <th>Wind Speed</th>\n",
       "    </tr>\n",
       "  </thead>\n",
       "  <tbody>\n",
       "    <tr>\n",
       "      <th>0</th>\n",
       "      <td>Longfeng</td>\n",
       "      <td>CN</td>\n",
       "      <td>2020-06-17 13:38:36</td>\n",
       "      <td>46.55</td>\n",
       "      <td>125.12</td>\n",
       "      <td>62.65</td>\n",
       "      <td>68</td>\n",
       "      <td>2</td>\n",
       "      <td>8.70</td>\n",
       "    </tr>\n",
       "    <tr>\n",
       "      <th>1</th>\n",
       "      <td>Paka</td>\n",
       "      <td>MY</td>\n",
       "      <td>2020-06-17 13:38:37</td>\n",
       "      <td>4.64</td>\n",
       "      <td>103.44</td>\n",
       "      <td>78.80</td>\n",
       "      <td>94</td>\n",
       "      <td>89</td>\n",
       "      <td>3.36</td>\n",
       "    </tr>\n",
       "    <tr>\n",
       "      <th>2</th>\n",
       "      <td>Avarua</td>\n",
       "      <td>CK</td>\n",
       "      <td>2020-06-17 13:38:37</td>\n",
       "      <td>-21.21</td>\n",
       "      <td>-159.78</td>\n",
       "      <td>71.60</td>\n",
       "      <td>64</td>\n",
       "      <td>44</td>\n",
       "      <td>6.93</td>\n",
       "    </tr>\n",
       "    <tr>\n",
       "      <th>3</th>\n",
       "      <td>Albany</td>\n",
       "      <td>US</td>\n",
       "      <td>2020-06-17 13:35:02</td>\n",
       "      <td>42.60</td>\n",
       "      <td>-73.97</td>\n",
       "      <td>69.01</td>\n",
       "      <td>59</td>\n",
       "      <td>0</td>\n",
       "      <td>2.06</td>\n",
       "    </tr>\n",
       "    <tr>\n",
       "      <th>4</th>\n",
       "      <td>Ushuaia</td>\n",
       "      <td>AR</td>\n",
       "      <td>2020-06-17 13:38:37</td>\n",
       "      <td>-54.80</td>\n",
       "      <td>-68.30</td>\n",
       "      <td>39.20</td>\n",
       "      <td>88</td>\n",
       "      <td>40</td>\n",
       "      <td>17.22</td>\n",
       "    </tr>\n",
       "    <tr>\n",
       "      <th>5</th>\n",
       "      <td>Balkhash</td>\n",
       "      <td>KZ</td>\n",
       "      <td>2020-06-17 13:36:21</td>\n",
       "      <td>46.84</td>\n",
       "      <td>74.98</td>\n",
       "      <td>65.93</td>\n",
       "      <td>62</td>\n",
       "      <td>61</td>\n",
       "      <td>21.88</td>\n",
       "    </tr>\n",
       "    <tr>\n",
       "      <th>6</th>\n",
       "      <td>Kalmunai</td>\n",
       "      <td>LK</td>\n",
       "      <td>2020-06-17 13:38:38</td>\n",
       "      <td>7.42</td>\n",
       "      <td>81.82</td>\n",
       "      <td>86.79</td>\n",
       "      <td>69</td>\n",
       "      <td>66</td>\n",
       "      <td>5.79</td>\n",
       "    </tr>\n",
       "    <tr>\n",
       "      <th>7</th>\n",
       "      <td>Cikarang</td>\n",
       "      <td>ID</td>\n",
       "      <td>2020-06-17 13:38:38</td>\n",
       "      <td>-6.26</td>\n",
       "      <td>107.15</td>\n",
       "      <td>86.00</td>\n",
       "      <td>66</td>\n",
       "      <td>40</td>\n",
       "      <td>11.41</td>\n",
       "    </tr>\n",
       "    <tr>\n",
       "      <th>8</th>\n",
       "      <td>Guerrero Negro</td>\n",
       "      <td>MX</td>\n",
       "      <td>2020-06-17 13:35:25</td>\n",
       "      <td>27.98</td>\n",
       "      <td>-114.06</td>\n",
       "      <td>63.34</td>\n",
       "      <td>83</td>\n",
       "      <td>84</td>\n",
       "      <td>11.77</td>\n",
       "    </tr>\n",
       "    <tr>\n",
       "      <th>9</th>\n",
       "      <td>Isla Aguada</td>\n",
       "      <td>MX</td>\n",
       "      <td>2020-06-17 13:38:38</td>\n",
       "      <td>18.78</td>\n",
       "      <td>-91.47</td>\n",
       "      <td>80.60</td>\n",
       "      <td>83</td>\n",
       "      <td>75</td>\n",
       "      <td>6.93</td>\n",
       "    </tr>\n",
       "  </tbody>\n",
       "</table>\n",
       "</div>"
      ],
      "text/plain": [
       "             City Country                 Date    Lat     Lng  Max Temp  \\\n",
       "0        Longfeng      CN  2020-06-17 13:38:36  46.55  125.12     62.65   \n",
       "1            Paka      MY  2020-06-17 13:38:37   4.64  103.44     78.80   \n",
       "2          Avarua      CK  2020-06-17 13:38:37 -21.21 -159.78     71.60   \n",
       "3          Albany      US  2020-06-17 13:35:02  42.60  -73.97     69.01   \n",
       "4         Ushuaia      AR  2020-06-17 13:38:37 -54.80  -68.30     39.20   \n",
       "5        Balkhash      KZ  2020-06-17 13:36:21  46.84   74.98     65.93   \n",
       "6        Kalmunai      LK  2020-06-17 13:38:38   7.42   81.82     86.79   \n",
       "7        Cikarang      ID  2020-06-17 13:38:38  -6.26  107.15     86.00   \n",
       "8  Guerrero Negro      MX  2020-06-17 13:35:25  27.98 -114.06     63.34   \n",
       "9     Isla Aguada      MX  2020-06-17 13:38:38  18.78  -91.47     80.60   \n",
       "\n",
       "   Humidity  Cloudiness  Wind Speed  \n",
       "0        68           2        8.70  \n",
       "1        94          89        3.36  \n",
       "2        64          44        6.93  \n",
       "3        59           0        2.06  \n",
       "4        88          40       17.22  \n",
       "5        62          61       21.88  \n",
       "6        69          66        5.79  \n",
       "7        66          40       11.41  \n",
       "8        83          84       11.77  \n",
       "9        83          75        6.93  "
      ]
     },
     "execution_count": 27,
     "metadata": {},
     "output_type": "execute_result"
    }
   ],
   "source": [
    "new_column_order = [\"City\", \"Country\", \"Date\", \"Lat\", \"Lng\", \"Max Temp\", \"Humidity\", \"Cloudiness\", \"Wind Speed\"]\n",
    "new_city_data_df = city_data_df[new_column_order]\n",
    "new_city_data_df.head(10)"
   ]
  },
  {
   "cell_type": "code",
   "execution_count": 28,
   "metadata": {},
   "outputs": [
    {
     "data": {
      "text/plain": [
       "City          546\n",
       "Country       546\n",
       "Date          546\n",
       "Lat           546\n",
       "Lng           546\n",
       "Max Temp      546\n",
       "Humidity      546\n",
       "Cloudiness    546\n",
       "Wind Speed    546\n",
       "dtype: int64"
      ]
     },
     "execution_count": 28,
     "metadata": {},
     "output_type": "execute_result"
    }
   ],
   "source": [
    "new_city_data_df.count()"
   ]
  },
  {
   "cell_type": "code",
   "execution_count": 29,
   "metadata": {},
   "outputs": [],
   "source": [
    "# Create the output file (CSV).\n",
    "output_data_file = \"weather_data/cities.csv\"\n",
    "\n",
    "# Export the City_Data into a CSV.\n",
    "new_city_data_df.to_csv(output_data_file, index_label = \"City_ID\")"
   ]
  },
  {
   "cell_type": "code",
   "execution_count": 30,
   "metadata": {},
   "outputs": [],
   "source": [
    "# Extract relevant fields from the DataFrame for plotting.\n",
    "lats = new_city_data_df[\"Lat\"]\n",
    "max_temps = new_city_data_df[\"Max Temp\"]\n",
    "humidity = new_city_data_df[\"Humidity\"]\n",
    "cloudiness = new_city_data_df[\"Cloudiness\"]\n",
    "wind_speed = new_city_data_df[\"Wind Speed\"]"
   ]
  },
  {
   "cell_type": "code",
   "execution_count": 31,
   "metadata": {},
   "outputs": [],
   "source": [
    "# Import the time module.\n",
    "import time"
   ]
  },
  {
   "cell_type": "code",
   "execution_count": 32,
   "metadata": {},
   "outputs": [],
   "source": [
    "# # Get today's date in seconds.\n",
    "# today = time.time()\n",
    "# today"
   ]
  },
  {
   "cell_type": "code",
   "execution_count": 33,
   "metadata": {},
   "outputs": [],
   "source": [
    "# today = time.strftime(\"%x\")\n",
    "# today"
   ]
  },
  {
   "cell_type": "code",
   "execution_count": 34,
   "metadata": {},
   "outputs": [],
   "source": [
    "# Extract relevant fields from the DataFrame for plotting.\n",
    "lats = city_data_df[\"Lat\"]\n",
    "max_temps = city_data_df[\"Max Temp\"]\n",
    "humidity = city_data_df[\"Humidity\"]\n",
    "cloudiness = city_data_df[\"Cloudiness\"]\n",
    "wind_speed = city_data_df[\"Wind Speed\"]"
   ]
  },
  {
   "cell_type": "code",
   "execution_count": 35,
   "metadata": {},
   "outputs": [
    {
     "data": {
      "image/png": "[encoded data removed]",
      "text/plain": [
       "<Figure size 432x288 with 1 Axes>"
      ]
     },
     "metadata": {
      "needs_background": "light"
     },
     "output_type": "display_data"
    }
   ],
   "source": [
    "# Build the scatter plot for latitude vs. max temperature.\n",
    "plt.scatter(lats,\n",
    "            max_temps,\n",
    "            edgecolor=\"black\", linewidths=1, marker=\"o\",\n",
    "            alpha=0.8, label=\"Cities\")\n",
    "\n",
    "# Incorporate the other graph properties.\n",
    "plt.title(f\"City Latitude vs. Max Temperature \"+ time.strftime(\"%x\"))\n",
    "plt.ylabel(\"Max Temperature (F)\")\n",
    "plt.xlabel(\"Latitude\")\n",
    "plt.grid(True)\n",
    "\n",
    "# Save the figure.\n",
    "plt.savefig(\"weather_data/Fig1.png\")\n",
    "\n",
    "# Show plot.\n",
    "plt.show()"
   ]
  },
  {
   "cell_type": "code",
   "execution_count": 36,
   "metadata": {},
   "outputs": [
    {
     "data": {
      "image/png": "[encoded data removed]",
      "text/plain": [
       "<Figure size 432x288 with 1 Axes>"
      ]
     },
     "metadata": {
      "needs_background": "light"
     },
     "output_type": "display_data"
    }
   ],
   "source": [
    "# Build the scatter plots for latitude vs. humidity.\n",
    "plt.scatter(lats,\n",
    "            humidity,\n",
    "            edgecolor=\"black\", linewidths=1, marker=\"o\",\n",
    "            alpha=0.8, label=\"Cities\")\n",
    "\n",
    "# Incorporate the other graph properties.\n",
    "plt.title(f\"City Latitude vs. Humidity \"+ time.strftime(\"%x\"))\n",
    "plt.ylabel(\"Humidity (%)\")\n",
    "plt.xlabel(\"Latitude\")\n",
    "plt.grid(True)\n",
    "\n",
    "# Save the figure.\n",
    "plt.savefig(\"weather_data/Fig2.png\")\n",
    "\n",
    "# Show plot.\n",
    "plt.show()"
   ]
  },
  {
   "cell_type": "code",
   "execution_count": 37,
   "metadata": {},
   "outputs": [
    {
     "data": {
      "image/png": "[encoded data removed]",
      "text/plain": [
       "<Figure size 432x288 with 1 Axes>"
      ]
     },
     "metadata": {
      "needs_background": "light"
     },
     "output_type": "display_data"
    }
   ],
   "source": [
    "# Build the scatter plots for latitude vs. cloudiness.\n",
    "plt.scatter(lats,\n",
    "           cloudiness,\n",
    "           edgecolor=\"black\", linewidths=1, marker=\"o\",\n",
    "           alpha=0.8, label=\"Cities\")\n",
    "\n",
    "# Incorporate the other graph properties.\n",
    "plt.title(f\"City Latitude vs. Cloudiness (%) \"+ time.strftime(\"%x\"))\n",
    "plt.ylabel(\"Cloudiness (%)\")\n",
    "plt.xlabel(\"Latitude\")\n",
    "plt.grid(True)\n",
    "\n",
    "# Save the figure.\n",
    "plt.savefig(\"weather_data/Fig3.png\")\n",
    "\n",
    "# Show plot.\n",
    "plt.show()"
   ]
  },
  {
   "cell_type": "code",
   "execution_count": 38,
   "metadata": {},
   "outputs": [
    {
     "data": {
      "image/png": "[encoded data removed]",
      "text/plain": [
       "<Figure size 432x288 with 1 Axes>"
      ]
     },
     "metadata": {
      "needs_background": "light"
     },
     "output_type": "display_data"
    }
   ],
   "source": [
    "# Build the scatter plots for latitude vs. wind speed.\n",
    "plt.scatter(lats,\n",
    "            wind_speed,\n",
    "            edgecolor=\"black\", linewidths=1, marker=\"o\",\n",
    "            alpha=0.8, label=\"Cities\")\n",
    "\n",
    "# Incorporate the other graph properties.\n",
    "plt.title(f\"City Latitude vs. Wind Speed \"+ time.strftime(\"%x\"))\n",
    "plt.ylabel(\"Wind Speed (mph)\")\n",
    "plt.xlabel(\"Latitude\")\n",
    "plt.grid(True)\n",
    "\n",
    "# Save the figure.\n",
    "plt.savefig(\"weather_data/Fig4.png\")\n",
    "\n",
    "# Show plot.\n",
    "plt.show()"
   ]
  },
  {
   "cell_type": "code",
   "execution_count": 40,
   "metadata": {},
   "outputs": [],
   "source": [
    "# Create a function to create perform linear regression on the weather data\n",
    "# and plot a regression line and the equation with the data.\n",
    "def plot_linear_regression(x_values, y_values, title, y_label, text_coordinates):\n",
    "    \n",
    "    # Run regression on hemisphere weather data.\n",
    "    (slope, intercept, r_value, p_value, std_err) = linregress(x_values, y_values)\n",
    "    \n",
    "    # Calculate the regression line \"y values\" from the slope and intercept.\n",
    "    regress_values = x_values * slope + intercept\n",
    "    \n",
    "    # Get the equation of the line.\n",
    "    line_eq = \"y = \" + str(round(slope,2)) + \"x + \" + str(round(intercept,2))\n",
    "    \n",
    "    # Create a scatter plot and plot the regression line.\n",
    "    plt.scatter(x_values, y_values)\n",
    "    plt.plot(x_values, regress_values, \"r\")\n",
    "    \n",
    "    # Annotate the text for the line equation.\n",
    "    plt.annotate(line_eq, text_coordinates, fontsize=15, color=\"red\")\n",
    "    plt.xlabel('Latitude')\n",
    "    plt.ylabel(y_label)\n",
    "    plt.show()"
   ]
  },
  {
   "cell_type": "code",
   "execution_count": 41,
   "metadata": {},
   "outputs": [],
   "source": [
    "# Create Northern and Southern Hemisphere DataFrames.\n",
    "northern_hemi_df = city_data_df.loc[(city_data_df[\"Lat\"] >= 0)]\n",
    "southern_hemi_df = city_data_df.loc[(city_data_df[\"Lat\"] < 0)]"
   ]
  },
  {
   "cell_type": "code",
   "execution_count": 42,
   "metadata": {},
   "outputs": [
    {
     "data": {
      "text/html": [
       "<div>\n",
       "<style scoped>\n",
       "    .dataframe tbody tr th:only-of-type {\n",
       "        vertical-align: middle;\n",
       "    }\n",
       "\n",
       "    .dataframe tbody tr th {\n",
       "        vertical-align: top;\n",
       "    }\n",
       "\n",
       "    .dataframe thead th {\n",
       "        text-align: right;\n",
       "    }\n",
       "</style>\n",
       "<table border=\"1\" class=\"dataframe\">\n",
       "  <thead>\n",
       "    <tr style=\"text-align: right;\">\n",
       "      <th></th>\n",
       "      <th>City</th>\n",
       "      <th>Lat</th>\n",
       "      <th>Lng</th>\n",
       "      <th>Max Temp</th>\n",
       "      <th>Humidity</th>\n",
       "      <th>Cloudiness</th>\n",
       "      <th>Wind Speed</th>\n",
       "      <th>Country</th>\n",
       "      <th>Date</th>\n",
       "    </tr>\n",
       "  </thead>\n",
       "  <tbody>\n",
       "    <tr>\n",
       "      <th>0</th>\n",
       "      <td>Longfeng</td>\n",
       "      <td>46.55</td>\n",
       "      <td>125.12</td>\n",
       "      <td>62.65</td>\n",
       "      <td>68</td>\n",
       "      <td>2</td>\n",
       "      <td>8.70</td>\n",
       "      <td>CN</td>\n",
       "      <td>2020-06-17 13:38:36</td>\n",
       "    </tr>\n",
       "    <tr>\n",
       "      <th>1</th>\n",
       "      <td>Paka</td>\n",
       "      <td>4.64</td>\n",
       "      <td>103.44</td>\n",
       "      <td>78.80</td>\n",
       "      <td>94</td>\n",
       "      <td>89</td>\n",
       "      <td>3.36</td>\n",
       "      <td>MY</td>\n",
       "      <td>2020-06-17 13:38:37</td>\n",
       "    </tr>\n",
       "    <tr>\n",
       "      <th>3</th>\n",
       "      <td>Albany</td>\n",
       "      <td>42.60</td>\n",
       "      <td>-73.97</td>\n",
       "      <td>69.01</td>\n",
       "      <td>59</td>\n",
       "      <td>0</td>\n",
       "      <td>2.06</td>\n",
       "      <td>US</td>\n",
       "      <td>2020-06-17 13:35:02</td>\n",
       "    </tr>\n",
       "    <tr>\n",
       "      <th>5</th>\n",
       "      <td>Balkhash</td>\n",
       "      <td>46.84</td>\n",
       "      <td>74.98</td>\n",
       "      <td>65.93</td>\n",
       "      <td>62</td>\n",
       "      <td>61</td>\n",
       "      <td>21.88</td>\n",
       "      <td>KZ</td>\n",
       "      <td>2020-06-17 13:36:21</td>\n",
       "    </tr>\n",
       "    <tr>\n",
       "      <th>6</th>\n",
       "      <td>Kalmunai</td>\n",
       "      <td>7.42</td>\n",
       "      <td>81.82</td>\n",
       "      <td>86.79</td>\n",
       "      <td>69</td>\n",
       "      <td>66</td>\n",
       "      <td>5.79</td>\n",
       "      <td>LK</td>\n",
       "      <td>2020-06-17 13:38:38</td>\n",
       "    </tr>\n",
       "    <tr>\n",
       "      <th>...</th>\n",
       "      <td>...</td>\n",
       "      <td>...</td>\n",
       "      <td>...</td>\n",
       "      <td>...</td>\n",
       "      <td>...</td>\n",
       "      <td>...</td>\n",
       "      <td>...</td>\n",
       "      <td>...</td>\n",
       "      <td>...</td>\n",
       "    </tr>\n",
       "    <tr>\n",
       "      <th>541</th>\n",
       "      <td>Ossora</td>\n",
       "      <td>59.24</td>\n",
       "      <td>163.07</td>\n",
       "      <td>51.13</td>\n",
       "      <td>90</td>\n",
       "      <td>100</td>\n",
       "      <td>4.36</td>\n",
       "      <td>RU</td>\n",
       "      <td>2020-06-17 13:40:25</td>\n",
       "    </tr>\n",
       "    <tr>\n",
       "      <th>542</th>\n",
       "      <td>Batesville</td>\n",
       "      <td>35.77</td>\n",
       "      <td>-91.64</td>\n",
       "      <td>73.99</td>\n",
       "      <td>69</td>\n",
       "      <td>0</td>\n",
       "      <td>3.71</td>\n",
       "      <td>US</td>\n",
       "      <td>2020-06-17 13:40:26</td>\n",
       "    </tr>\n",
       "    <tr>\n",
       "      <th>543</th>\n",
       "      <td>Tambura</td>\n",
       "      <td>5.60</td>\n",
       "      <td>27.47</td>\n",
       "      <td>79.30</td>\n",
       "      <td>78</td>\n",
       "      <td>95</td>\n",
       "      <td>5.66</td>\n",
       "      <td>SS</td>\n",
       "      <td>2020-06-17 13:40:26</td>\n",
       "    </tr>\n",
       "    <tr>\n",
       "      <th>544</th>\n",
       "      <td>Male</td>\n",
       "      <td>4.17</td>\n",
       "      <td>73.51</td>\n",
       "      <td>86.00</td>\n",
       "      <td>74</td>\n",
       "      <td>75</td>\n",
       "      <td>13.87</td>\n",
       "      <td>MV</td>\n",
       "      <td>2020-06-17 13:36:28</td>\n",
       "    </tr>\n",
       "    <tr>\n",
       "      <th>545</th>\n",
       "      <td>Mayskiy</td>\n",
       "      <td>47.69</td>\n",
       "      <td>40.10</td>\n",
       "      <td>80.60</td>\n",
       "      <td>51</td>\n",
       "      <td>40</td>\n",
       "      <td>6.71</td>\n",
       "      <td>RU</td>\n",
       "      <td>2020-06-17 13:40:26</td>\n",
       "    </tr>\n",
       "  </tbody>\n",
       "</table>\n",
       "<p>387 rows × 9 columns</p>\n",
       "</div>"
      ],
      "text/plain": [
       "           City    Lat     Lng  Max Temp  Humidity  Cloudiness  Wind Speed  \\\n",
       "0      Longfeng  46.55  125.12     62.65        68           2        8.70   \n",
       "1          Paka   4.64  103.44     78.80        94          89        3.36   \n",
       "3        Albany  42.60  -73.97     69.01        59           0        2.06   \n",
       "5      Balkhash  46.84   74.98     65.93        62          61       21.88   \n",
       "6      Kalmunai   7.42   81.82     86.79        69          66        5.79   \n",
       "..          ...    ...     ...       ...       ...         ...         ...   \n",
       "541      Ossora  59.24  163.07     51.13        90         100        4.36   \n",
       "542  Batesville  35.77  -91.64     73.99        69           0        3.71   \n",
       "543     Tambura   5.60   27.47     79.30        78          95        5.66   \n",
       "544        Male   4.17   73.51     86.00        74          75       13.87   \n",
       "545     Mayskiy  47.69   40.10     80.60        51          40        6.71   \n",
       "\n",
       "    Country                 Date  \n",
       "0        CN  2020-06-17 13:38:36  \n",
       "1        MY  2020-06-17 13:38:37  \n",
       "3        US  2020-06-17 13:35:02  \n",
       "5        KZ  2020-06-17 13:36:21  \n",
       "6        LK  2020-06-17 13:38:38  \n",
       "..      ...                  ...  \n",
       "541      RU  2020-06-17 13:40:25  \n",
       "542      US  2020-06-17 13:40:26  \n",
       "543      SS  2020-06-17 13:40:26  \n",
       "544      MV  2020-06-17 13:36:28  \n",
       "545      RU  2020-06-17 13:40:26  \n",
       "\n",
       "[387 rows x 9 columns]"
      ]
     },
     "execution_count": 42,
     "metadata": {},
     "output_type": "execute_result"
    }
   ],
   "source": [
    "northern_hemi_df"
   ]
  },
  {
   "cell_type": "code",
   "execution_count": 54,
   "metadata": {},
   "outputs": [
    {
     "data": {
      "image/png": "[encoded data removed]",
      "text/plain": [
       "<Figure size 432x288 with 1 Axes>"
      ]
     },
     "metadata": {
      "needs_background": "light"
     },
     "output_type": "display_data"
    }
   ],
   "source": [
    "# Linear regression on the Northern Hemisphere\n",
    "x_values = northern_hemi_df[\"Lat\"]\n",
    "y_values = northern_hemi_df[\"Max Temp\"]\n",
    "\n",
    "# Call the function.\n",
    "plot_linear_regression(x_values, y_values, 'Linear Regression on the Northern Hemisphere \\n for Maximum Temperature', 'Max Temp',(10,40))"
   ]
  },
  {
   "cell_type": "code",
   "execution_count": 53,
   "metadata": {},
   "outputs": [
    {
     "data": {
      "image/png": "[encoded data removed]",
      "text/plain": [
       "<Figure size 432x288 with 1 Axes>"
      ]
     },
     "metadata": {
      "needs_background": "light"
     },
     "output_type": "display_data"
    }
   ],
   "source": [
    "# Linear regression on the Southern Hemisphere\n",
    "x_values = southern_hemi_df[\"Lat\"]\n",
    "y_values = southern_hemi_df[\"Max Temp\"]\n",
    "# Call the function.\n",
    "plot_linear_regression(x_values, y_values,\n",
    "                       \"Linear Regression on the Southern Hemisphere \\n for Maximum Temperature\", \"Max Temp\",(-50,90))"
   ]
  },
  {
   "cell_type": "code",
   "execution_count": 64,
   "metadata": {},
   "outputs": [
    {
     "data": {
      "image/png": "[encoded data removed]",
      "text/plain": [
       "<Figure size 432x288 with 1 Axes>"
      ]
     },
     "metadata": {
      "needs_background": "light"
     },
     "output_type": "display_data"
    }
   ],
   "source": [
    "# Linear regression on the Northern Hemisphere\n",
    "x_values = northern_hemi_df[\"Lat\"]\n",
    "y_values = northern_hemi_df[\"Humidity\"]\n",
    "\n",
    "# Call the function.\n",
    "plot_linear_regression(x_values, y_values, 'Linear Regression on the Northern Hemisphere \\n for % Humidity', '% Humidity', (40, 10))"
   ]
  },
  {
   "cell_type": "code",
   "execution_count": 65,
   "metadata": {},
   "outputs": [
    {
     "data": {
      "image/png": "[encoded data removed]",
      "text/plain": [
       "<Figure size 432x288 with 1 Axes>"
      ]
     },
     "metadata": {
      "needs_background": "light"
     },
     "output_type": "display_data"
    }
   ],
   "source": [
    "# Linear regression on the Southern Hemisphere\n",
    "x_values = southern_hemi_df[\"Lat\"]\n",
    "y_values = southern_hemi_df[\"Humidity\"]\n",
    "\n",
    "# Call the function.\n",
    "plot_linear_regression(x_values, y_values,\n",
    "                       'Linear Regression on the Southern Hemisphere \\n for % Humidity', '% Humidity',(-50,15))"
   ]
  },
  {
   "cell_type": "code",
   "execution_count": 74,
   "metadata": {},
   "outputs": [
    {
     "data": {
      "image/png": "[encoded data removed]",
      "text/plain": [
       "<Figure size 432x288 with 1 Axes>"
      ]
     },
     "metadata": {
      "needs_background": "light"
     },
     "output_type": "display_data"
    }
   ],
   "source": [
    "# Linear regression on the Northern Hemisphere\n",
    "x_values = northern_hemi_df[\"Lat\"]\n",
    "y_values = northern_hemi_df[\"Cloudiness\"]\n",
    "\n",
    "# Call the function.\n",
    "plot_linear_regression(x_values, y_values,\n",
    "                       'Linear Regression on the Northern Hemisphere \\n for % Cloudiness', '% Cloudiness',(80,60))"
   ]
  },
  {
   "cell_type": "code",
   "execution_count": 73,
   "metadata": {},
   "outputs": [
    {
     "data": {
      "image/png": "[encoded data removed]",
      "text/plain": [
       "<Figure size 432x288 with 1 Axes>"
      ]
     },
     "metadata": {
      "needs_background": "light"
     },
     "output_type": "display_data"
    }
   ],
   "source": [
    "# Linear regression on the Southern Hemisphere\n",
    "x_values = southern_hemi_df[\"Lat\"]\n",
    "y_values = southern_hemi_df[\"Cloudiness\"]\n",
    "\n",
    "# Call the function.\n",
    "plot_linear_regression(x_values, y_values,\n",
    "                       'Linear Regression on the Southern Hemisphere \\n for % Cloudiness', '% Cloudiness',(-50,60))"
   ]
  },
  {
   "cell_type": "code",
   "execution_count": 75,
   "metadata": {},
   "outputs": [
    {
     "data": {
      "image/png": "[encoded data removed]",
      "text/plain": [
       "<Figure size 432x288 with 1 Axes>"
      ]
     },
     "metadata": {
      "needs_background": "light"
     },
     "output_type": "display_data"
    }
   ],
   "source": [
    "# Linear regression on the Northern Hemisphere\n",
    "x_values = northern_hemi_df[\"Lat\"]\n",
    "y_values = northern_hemi_df[\"Wind Speed\"]\n",
    "\n",
    "# Call the function.\n",
    "plot_linear_regression(x_values, y_values,\n",
    "                       'Linear Regression on the Northern Hemisphere \\nfor Wind Speed', 'Wind Speed',(40,35))"
   ]
  },
  {
   "cell_type": "code",
   "execution_count": 76,
   "metadata": {},
   "outputs": [
    {
     "data": {
      "image/png": "[encoded data removed]",
      "text/plain": [
       "<Figure size 432x288 with 1 Axes>"
      ]
     },
     "metadata": {
      "needs_background": "light"
     },
     "output_type": "display_data"
    }
   ],
   "source": [
    "# Linear regression on the Southern Hemisphere\n",
    "x_values = southern_hemi_df[\"Lat\"]\n",
    "y_values = southern_hemi_df[\"Wind Speed\"]\n",
    "# Call the function.\n",
    "plot_linear_regression(x_values, y_values,\n",
    "                       'Linear Regression on the Southern Hemisphere \\nfor Wind Speed', 'Wind Speed',(-50,35))"
   ]
  }
 ],
 "metadata": {
  "kernelspec": {
   "display_name": "PythonData",
   "language": "python",
   "name": "pythondata"
  },
  "language_info": {
   "codemirror_mode": {
    "name": "ipython",
    "version": 3
   },
   "file_extension": ".py",
   "mimetype": "text/x-python",
   "name": "python",
   "nbconvert_exporter": "python",
   "pygments_lexer": "ipython3",
   "version": "3.7.6"
  }
 },
 "nbformat": 4,
 "nbformat_minor": 4
}
