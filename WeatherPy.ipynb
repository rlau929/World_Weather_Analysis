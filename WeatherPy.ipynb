{
 "cells": [
  {
   "cell_type": "code",
   "execution_count": 12,
   "metadata": {},
   "outputs": [],
   "source": [
    "# Import the dependencies.\n",
    "import pandas as pd\n",
    "import matplotlib.pyplot as plt\n",
    "import numpy as np\n",
    "\n",
    "# Use the citipy module to determine city based on latitude and longitude.\n",
    "from citipy import citipy\n",
    "\n",
    "# Import the datetime module from the datetime library.\n",
    "from datetime import datetime\n",
    "\n",
    "# import API key\n",
    "import requests\n",
    "from config import weather_api_key"
   ]
  },
  {
   "cell_type": "code",
   "execution_count": 13,
   "metadata": {},
   "outputs": [
    {
     "name": "stdout",
     "output_type": "stream",
     "text": [
      "https://samples.openweathermap.org/data/2.5/weather?q=London,uk&appid=439d4b804bc8187953eb36d2a8c26a02905b32babdb8b30c96f3b85b5e463ca8\n"
     ]
    }
   ],
   "source": [
    "# Starting URL for Weather Map API Call.\n",
    "url = \"https://samples.openweathermap.org/data/2.5/weather?q=London,uk&appid=439d4b804bc8187953eb36d2a8c26a02\" + weather_api_key\n",
    "print(url)"
   ]
  },
  {
   "cell_type": "code",
   "execution_count": 14,
   "metadata": {},
   "outputs": [
    {
     "name": "stdout",
     "output_type": "stream",
     "text": [
      "https://samples.openweathermap.org/data/2.5/weather?q=London,uk&appid=439d4b804bc8187953eb36d2a8c26a02905b32babdb8b30c96f3b85b5e463ca8&q=Boston\n"
     ]
    }
   ],
   "source": [
    "# Create an endpoint URL for a city.\n",
    "city_url = url + \"&q=\" + \"Boston\"\n",
    "print(city_url)"
   ]
  },
  {
   "cell_type": "code",
   "execution_count": 15,
   "metadata": {},
   "outputs": [
    {
     "data": {
      "text/plain": [
       "<zip at 0x2a459ec9b88>"
      ]
     },
     "execution_count": 15,
     "metadata": {},
     "output_type": "execute_result"
    }
   ],
   "source": [
    "# Create a set of random latitude and longitude combinations.\n",
    "lats = np.random.uniform(low = -90.000, high = 90.000, size = 1500)\n",
    "lngs = np.random.uniform(low = -180.000, high = 180.000, size = 1500)\n",
    "lat_lngs = zip(lats, lngs)\n",
    "lat_lngs"
   ]
  },
  {
   "cell_type": "code",
   "execution_count": 16,
   "metadata": {},
   "outputs": [],
   "source": [
    "# Add the latitudes and longitudes to a list.\n",
    "coordinates = list(lat_lngs)"
   ]
  },
  {
   "cell_type": "code",
   "execution_count": 17,
   "metadata": {},
   "outputs": [
    {
     "data": {
      "text/plain": [
       "612"
      ]
     },
     "execution_count": 17,
     "metadata": {},
     "output_type": "execute_result"
    }
   ],
   "source": [
    "# Create a list for holding the cities.\n",
    "cities = []\n",
    "# Identify the nearest city for each latitude and longitude combination.\n",
    "for coordinate in coordinates:\n",
    "    city = citipy.nearest_city(coordinate[0], coordinate[1]).city_name\n",
    "    \n",
    "    # If the city is unique, then we will add it to the cities list.\n",
    "    if city not in cities:\n",
    "        cities.append(city)\n",
    "# Print the city count to confirm sufficient count.\n",
    "len(cities)"
   ]
  },
  {
   "cell_type": "code",
   "execution_count": 18,
   "metadata": {},
   "outputs": [
    {
     "data": {
      "text/plain": [
       "<Response [200]>"
      ]
     },
     "execution_count": 18,
     "metadata": {},
     "output_type": "execute_result"
    }
   ],
   "source": [
    "# Make a 'Get' request for the city weather.\n",
    "city_weather = requests.get(city_url)\n",
    "city_weather"
   ]
  },
  {
   "cell_type": "code",
   "execution_count": 19,
   "metadata": {},
   "outputs": [
    {
     "data": {
      "text/plain": [
       "200"
      ]
     },
     "execution_count": 19,
     "metadata": {},
     "output_type": "execute_result"
    }
   ],
   "source": [
    "city_weather.status_code"
   ]
  },
  {
   "cell_type": "code",
   "execution_count": 20,
   "metadata": {},
   "outputs": [
    {
     "data": {
      "text/plain": [
       "<Response [200]>"
      ]
     },
     "execution_count": 20,
     "metadata": {},
     "output_type": "execute_result"
    }
   ],
   "source": [
    "# Create an endpoint URL for a city.\n",
    "city_url = url + \"&q=\" + \"Boston\"\n",
    "city_weather = requests.get(city_url)\n",
    "city_weather"
   ]
  },
  {
   "cell_type": "code",
   "execution_count": 21,
   "metadata": {},
   "outputs": [
    {
     "data": {
      "text/plain": [
       "'{\"coord\":{\"lon\":-0.13,\"lat\":51.51},\"weather\":[{\"id\":300,\"main\":\"Drizzle\",\"description\":\"light intensity drizzle\",\"icon\":\"09d\"}],\"base\":\"stations\",\"main\":{\"temp\":280.32,\"pressure\":1012,\"humidity\":81,\"temp_min\":279.15,\"temp_max\":281.15},\"visibility\":10000,\"wind\":{\"speed\":4.1,\"deg\":80},\"clouds\":{\"all\":90},\"dt\":1485789600,\"sys\":{\"type\":1,\"id\":5091,\"message\":0.0103,\"country\":\"GB\",\"sunrise\":1485762037,\"sunset\":1485794875},\"id\":2643743,\"name\":\"London\",\"cod\":200}'"
      ]
     },
     "execution_count": 21,
     "metadata": {},
     "output_type": "execute_result"
    }
   ],
   "source": [
    "# Get the text of the 'Get' request.\n",
    "city_weather.text"
   ]
  },
  {
   "cell_type": "code",
   "execution_count": 22,
   "metadata": {},
   "outputs": [
    {
     "data": {
      "text/plain": [
       "{'coord': {'lon': -0.13, 'lat': 51.51},\n",
       " 'weather': [{'id': 300,\n",
       "   'main': 'Drizzle',\n",
       "   'description': 'light intensity drizzle',\n",
       "   'icon': '09d'}],\n",
       " 'base': 'stations',\n",
       " 'main': {'temp': 280.32,\n",
       "  'pressure': 1012,\n",
       "  'humidity': 81,\n",
       "  'temp_min': 279.15,\n",
       "  'temp_max': 281.15},\n",
       " 'visibility': 10000,\n",
       " 'wind': {'speed': 4.1, 'deg': 80},\n",
       " 'clouds': {'all': 90},\n",
       " 'dt': 1485789600,\n",
       " 'sys': {'type': 1,\n",
       "  'id': 5091,\n",
       "  'message': 0.0103,\n",
       "  'country': 'GB',\n",
       "  'sunrise': 1485762037,\n",
       "  'sunset': 1485794875},\n",
       " 'id': 2643743,\n",
       " 'name': 'London',\n",
       " 'cod': 200}"
      ]
     },
     "execution_count": 22,
     "metadata": {},
     "output_type": "execute_result"
    }
   ],
   "source": [
    "# Get the JSON text of the 'Get' request.\n",
    "city_weather.json()"
   ]
  },
  {
   "cell_type": "code",
   "execution_count": 23,
   "metadata": {},
   "outputs": [
    {
     "name": "stdout",
     "output_type": "stream",
     "text": [
      "City Weather found.\n"
     ]
    }
   ],
   "source": [
    "# Create an endpoint URL for a city.\n",
    "city_url = url + \"&q=\" + \"Boston\"\n",
    "city_weather = requests.get(city_url)\n",
    "if city_weather.status_code == 200:\n",
    "    print(f\"City Weather found.\")\n",
    "else:\n",
    "    print(f\"City weather not found.\")"
   ]
  },
  {
   "cell_type": "code",
   "execution_count": 24,
   "metadata": {},
   "outputs": [
    {
     "name": "stdout",
     "output_type": "stream",
     "text": [
      "City Weather found.\n"
     ]
    }
   ],
   "source": [
    "# Create an endpoint URL for a city.\n",
    "city_url = url + \"&q=\" + \"Boston\"\n",
    "city_weather = requests.get(city_url)\n",
    "if city_weather.json():\n",
    "    print(f\"City Weather found.\")\n",
    "else:\n",
    "    print(f\"City weather not found.\")"
   ]
  },
  {
   "cell_type": "code",
   "execution_count": 25,
   "metadata": {},
   "outputs": [
    {
     "name": "stdout",
     "output_type": "stream",
     "text": [
      "https://samples.openweathermap.org/data/2.5/weather?q=London,uk&appid=439d4b804bc8187953eb36d2a8c26a02905b32babdb8b30c96f3b85b5e463ca8&q=Boston\n"
     ]
    }
   ],
   "source": [
    "print(city_url)"
   ]
  },
  {
   "cell_type": "code",
   "execution_count": 26,
   "metadata": {},
   "outputs": [
    {
     "data": {
      "text/plain": [
       "{'coord': {'lon': -0.13, 'lat': 51.51},\n",
       " 'weather': [{'id': 300,\n",
       "   'main': 'Drizzle',\n",
       "   'description': 'light intensity drizzle',\n",
       "   'icon': '09d'}],\n",
       " 'base': 'stations',\n",
       " 'main': {'temp': 280.32,\n",
       "  'pressure': 1012,\n",
       "  'humidity': 81,\n",
       "  'temp_min': 279.15,\n",
       "  'temp_max': 281.15},\n",
       " 'visibility': 10000,\n",
       " 'wind': {'speed': 4.1, 'deg': 80},\n",
       " 'clouds': {'all': 90},\n",
       " 'dt': 1485789600,\n",
       " 'sys': {'type': 1,\n",
       "  'id': 5091,\n",
       "  'message': 0.0103,\n",
       "  'country': 'GB',\n",
       "  'sunrise': 1485762037,\n",
       "  'sunset': 1485794875},\n",
       " 'id': 2643743,\n",
       " 'name': 'London',\n",
       " 'cod': 200}"
      ]
     },
     "execution_count": 26,
     "metadata": {},
     "output_type": "execute_result"
    }
   ],
   "source": [
    "# Create an endpoint URL for a city.\n",
    "city_url = url + \"&q=\" + \"Boston\"\n",
    "city_weather = requests.get(city_url)\n",
    "city_weather.json()"
   ]
  },
  {
   "cell_type": "code",
   "execution_count": 27,
   "metadata": {},
   "outputs": [
    {
     "data": {
      "text/plain": [
       "{'type': 1,\n",
       " 'id': 5091,\n",
       " 'message': 0.0103,\n",
       " 'country': 'GB',\n",
       " 'sunrise': 1485762037,\n",
       " 'sunset': 1485794875}"
      ]
     },
     "execution_count": 27,
     "metadata": {},
     "output_type": "execute_result"
    }
   ],
   "source": [
    "# Get the JSON data.\n",
    "boston_data = city_weather.json()\n",
    "boston_data[\"sys\"]"
   ]
  },
  {
   "cell_type": "code",
   "execution_count": 28,
   "metadata": {},
   "outputs": [
    {
     "data": {
      "text/plain": [
       "'GB'"
      ]
     },
     "execution_count": 28,
     "metadata": {},
     "output_type": "execute_result"
    }
   ],
   "source": [
    "boston_data[\"sys\"][\"country\"]"
   ]
  },
  {
   "cell_type": "code",
   "execution_count": 29,
   "metadata": {},
   "outputs": [
    {
     "data": {
      "text/plain": [
       "1485789600"
      ]
     },
     "execution_count": 29,
     "metadata": {},
     "output_type": "execute_result"
    }
   ],
   "source": [
    "boston_data[\"dt\"]"
   ]
  },
  {
   "cell_type": "code",
   "execution_count": 30,
   "metadata": {},
   "outputs": [
    {
     "data": {
      "text/plain": [
       "51.51"
      ]
     },
     "execution_count": 30,
     "metadata": {},
     "output_type": "execute_result"
    }
   ],
   "source": [
    "boston_data[\"coord\"][\"lat\"]"
   ]
  },
  {
   "cell_type": "code",
   "execution_count": 31,
   "metadata": {},
   "outputs": [
    {
     "data": {
      "text/plain": [
       "281.15"
      ]
     },
     "execution_count": 31,
     "metadata": {},
     "output_type": "execute_result"
    }
   ],
   "source": [
    "boston_data[\"main\"][\"temp_max\"]"
   ]
  },
  {
   "cell_type": "code",
   "execution_count": 32,
   "metadata": {},
   "outputs": [
    {
     "name": "stdout",
     "output_type": "stream",
     "text": [
      "51.51 -0.13 281.15 81 90 4.1\n"
     ]
    }
   ],
   "source": [
    "lat = boston_data[\"coord\"][\"lat\"]\n",
    "lng = boston_data[\"coord\"][\"lon\"]\n",
    "max_temp = boston_data[\"main\"][\"temp_max\"]\n",
    "humidity = boston_data[\"main\"][\"humidity\"]\n",
    "clouds = boston_data[\"clouds\"][\"all\"]\n",
    "wind = boston_data[\"wind\"][\"speed\"]\n",
    "print(lat, lng, max_temp, humidity, clouds, wind)"
   ]
  },
  {
   "cell_type": "code",
   "execution_count": 33,
   "metadata": {},
   "outputs": [
    {
     "data": {
      "text/plain": [
       "datetime.datetime(2017, 1, 30, 15, 20)"
      ]
     },
     "execution_count": 33,
     "metadata": {},
     "output_type": "execute_result"
    }
   ],
   "source": [
    "# Import the datetime module from the datetime library.\n",
    "from datetime import datetime\n",
    "\n",
    "# Get the date from the JSON file.\n",
    "date = boston_data[\"dt\"]\n",
    "\n",
    "# Convert the UTC date to a date format with year, month, day, hours, minutes, and seconds.\n",
    "datetime.utcfromtimestamp(date)"
   ]
  },
  {
   "cell_type": "code",
   "execution_count": 34,
   "metadata": {},
   "outputs": [
    {
     "data": {
      "text/plain": [
       "'2017-01-30 15:20:00'"
      ]
     },
     "execution_count": 34,
     "metadata": {},
     "output_type": "execute_result"
    }
   ],
   "source": [
    "# Import the datetime module from the datetime library.\n",
    "from datetime import datetime\n",
    "\n",
    "# Get the date from the JSON file.\n",
    "date = boston_data[\"dt\"]\n",
    "\n",
    "# Convert the UTC date to a date format with year, month, day, hours, minutes, and seconds.\n",
    "datetime.utcfromtimestamp(date).strftime('%Y-%m-%d %H:%M:%S')"
   ]
  },
  {
   "cell_type": "code",
   "execution_count": 43,
   "metadata": {
    "scrolled": true
   },
   "outputs": [
    {
     "name": "stdout",
     "output_type": "stream",
     "text": [
      "Beginning Data Retrieval     \n",
      "-----------------------------\n",
      "Processing Record 1 of Set 1 | mataura\n",
      "Processing Record 2 of Set 1 | punta arenas\n",
      "Processing Record 3 of Set 1 | bagdarin\n",
      "Processing Record 4 of Set 1 | maceio\n",
      "Processing Record 5 of Set 1 | mount gambier\n",
      "Processing Record 6 of Set 1 | qaanaaq\n",
      "Processing Record 7 of Set 1 | khatanga\n",
      "Processing Record 8 of Set 1 | pimentel\n",
      "Processing Record 9 of Set 1 | yumen\n",
      "Processing Record 10 of Set 1 | amderma\n",
      "Processing Record 11 of Set 1 | rikitea\n",
      "Processing Record 12 of Set 1 | katsuura\n",
      "Processing Record 13 of Set 1 | chongwe\n",
      "Processing Record 14 of Set 1 | faanui\n",
      "Processing Record 15 of Set 1 | vaitupu\n",
      "Processing Record 16 of Set 1 | tasiilaq\n",
      "Processing Record 17 of Set 1 | adre\n",
      "Processing Record 18 of Set 1 | ostrovnoy\n",
      "Processing Record 19 of Set 1 | abbeville\n",
      "Processing Record 20 of Set 1 | busselton\n",
      "Processing Record 21 of Set 1 | lucapa\n",
      "Processing Record 22 of Set 1 | hyeres\n",
      "Processing Record 23 of Set 1 | merrill\n",
      "Processing Record 24 of Set 1 | albany\n",
      "Processing Record 25 of Set 1 | kamaishi\n",
      "Processing Record 26 of Set 1 | batesville\n",
      "Processing Record 27 of Set 1 | hobart\n",
      "Processing Record 28 of Set 1 | port alfred\n",
      "Processing Record 29 of Set 1 | barrow\n",
      "Processing Record 30 of Set 1 | victoria\n",
      "Processing Record 31 of Set 1 | touros\n",
      "Processing Record 32 of Set 1 | cap-aux-meules\n",
      "Processing Record 33 of Set 1 | ambon\n",
      "Processing Record 34 of Set 1 | constancia\n",
      "Processing Record 35 of Set 1 | barinas\n",
      "Processing Record 36 of Set 1 | georgetown\n",
      "Processing Record 37 of Set 1 | airai\n",
      "Processing Record 38 of Set 1 | taolanaro\n",
      "Processing Record 39 of Set 1 | santiago del estero\n",
      "Processing Record 40 of Set 1 | vaini\n",
      "Processing Record 41 of Set 1 | souillac\n",
      "Processing Record 42 of Set 1 | malia\n",
      "Processing Record 43 of Set 1 | ushuaia\n",
      "Processing Record 44 of Set 1 | saskylakh\n",
      "Processing Record 45 of Set 1 | port macquarie\n",
      "Processing Record 46 of Set 1 | bredasdorp\n",
      "Processing Record 47 of Set 1 | muroto\n",
      "Processing Record 48 of Set 1 | jamestown\n",
      "Processing Record 49 of Set 1 | puerto ayora\n",
      "Processing Record 50 of Set 1 | sibenik\n",
      "Processing Record 1 of Set 2 | talcahuano\n",
      "Processing Record 2 of Set 2 | kalemie\n",
      "Processing Record 3 of Set 2 | thunder bay\n",
      "Processing Record 4 of Set 2 | torbay\n",
      "Processing Record 5 of Set 2 | chuy\n",
      "Processing Record 6 of Set 2 | hilo\n",
      "Processing Record 7 of Set 2 | takanabe\n",
      "Processing Record 8 of Set 2 | berlevag\n",
      "Processing Record 9 of Set 2 | chimoio\n",
      "Processing Record 10 of Set 2 | mvangue\n",
      "Processing Record 11 of Set 2 | cap malheureux\n",
      "Processing Record 12 of Set 2 | esperance\n",
      "Processing Record 13 of Set 2 | umzimvubu\n",
      "Processing Record 14 of Set 2 | pisco\n",
      "Processing Record 15 of Set 2 | hovd\n",
      "Processing Record 16 of Set 2 | mantua\n",
      "Processing Record 17 of Set 2 | san cristobal\n",
      "Processing Record 18 of Set 2 | illoqqortoormiut\n",
      "Processing Record 19 of Set 2 | arraial do cabo\n",
      "Processing Record 20 of Set 2 | bibiani\n",
      "Processing Record 21 of Set 2 | suba\n",
      "Processing Record 22 of Set 2 | barranca\n",
      "Processing Record 23 of Set 2 | bandarbeyla\n",
      "Processing Record 24 of Set 2 | aklavik\n",
      "Processing Record 25 of Set 2 | atuona\n",
      "Processing Record 26 of Set 2 | murgab\n",
      "Processing Record 27 of Set 2 | san patricio\n",
      "Processing Record 28 of Set 2 | koslan\n",
      "Processing Record 29 of Set 2 | inza\n",
      "Processing Record 30 of Set 2 | saint-philippe\n",
      "Processing Record 31 of Set 2 | hermanus\n",
      "Processing Record 32 of Set 2 | geraldton\n",
      "Processing Record 33 of Set 2 | comodoro rivadavia\n",
      "Processing Record 34 of Set 2 | yangambi\n",
      "Processing Record 35 of Set 2 | port elizabeth\n",
      "Processing Record 36 of Set 2 | tura\n",
      "Processing Record 37 of Set 2 | thompson\n",
      "Processing Record 38 of Set 2 | lompoc\n",
      "Processing Record 39 of Set 2 | atar\n",
      "Processing Record 40 of Set 2 | harper\n",
      "Processing Record 41 of Set 2 | petropavlovsk-kamchatskiy\n",
      "Processing Record 42 of Set 2 | butaritari\n",
      "Processing Record 43 of Set 2 | asau\n",
      "Processing Record 44 of Set 2 | new norfolk\n",
      "Processing Record 45 of Set 2 | tsihombe\n",
      "Processing Record 46 of Set 2 | le port\n",
      "Processing Record 47 of Set 2 | husavik\n",
      "Processing Record 48 of Set 2 | yurino\n",
      "Processing Record 49 of Set 2 | salinas\n",
      "Processing Record 50 of Set 2 | beringovskiy\n",
      "Processing Record 1 of Set 3 | susangerd\n",
      "Processing Record 2 of Set 3 | salinopolis\n",
      "Processing Record 3 of Set 3 | walvis bay\n",
      "Processing Record 4 of Set 3 | bilibino\n",
      "Processing Record 5 of Set 3 | lexington\n",
      "Processing Record 6 of Set 3 | mayumba\n",
      "Processing Record 7 of Set 3 | matara\n",
      "Processing Record 8 of Set 3 | bluff\n",
      "Processing Record 9 of Set 3 | half moon bay\n",
      "Processing Record 10 of Set 3 | avarua\n",
      "Processing Record 11 of Set 3 | nishihara\n",
      "Processing Record 12 of Set 3 | mahebourg\n",
      "Processing Record 13 of Set 3 | muros\n",
      "Processing Record 14 of Set 3 | rawannawi\n",
      "Processing Record 15 of Set 3 | hithadhoo\n",
      "Processing Record 16 of Set 3 | vardo\n",
      "Processing Record 17 of Set 3 | sitka\n",
      "Processing Record 18 of Set 3 | hodac\n",
      "Processing Record 19 of Set 3 | utiroa\n",
      "Processing Record 20 of Set 3 | lorengau\n",
      "Processing Record 21 of Set 3 | coquimbo\n",
      "Processing Record 22 of Set 3 | asasa\n",
      "Processing Record 23 of Set 3 | road town\n",
      "Processing Record 24 of Set 3 | okhotsk\n",
      "Processing Record 25 of Set 3 | upernavik\n",
      "Processing Record 26 of Set 3 | whitehorse\n",
      "Processing Record 27 of Set 3 | samarai\n",
      "Processing Record 28 of Set 3 | santa rosa\n",
      "Processing Record 29 of Set 3 | hastings\n",
      "Processing Record 30 of Set 3 | chokurdakh\n",
      "Processing Record 31 of Set 3 | batagay\n",
      "Processing Record 32 of Set 3 | kazalinsk\n",
      "Processing Record 33 of Set 3 | bethel\n",
      "Processing Record 34 of Set 3 | port blair\n",
      "Processing Record 35 of Set 3 | lasem\n",
      "Processing Record 36 of Set 3 | sao joao da barra\n",
      "Processing Record 37 of Set 3 | grand gaube\n",
      "Processing Record 38 of Set 3 | rudbar\n",
      "Processing Record 39 of Set 3 | vila franca do campo\n",
      "Processing Record 40 of Set 3 | tiksi\n",
      "Processing Record 41 of Set 3 | teahupoo\n",
      "Processing Record 42 of Set 3 | itoman\n",
      "Processing Record 43 of Set 3 | saint-augustin\n",
      "Processing Record 44 of Set 3 | tumannyy\n",
      "Processing Record 45 of Set 3 | pizarro\n",
      "Processing Record 46 of Set 3 | barsovo\n",
      "Processing Record 47 of Set 3 | manggar\n",
      "Processing Record 48 of Set 3 | kiama\n",
      "Processing Record 49 of Set 3 | atambua\n",
      "Processing Record 50 of Set 3 | kruisfontein\n",
      "Processing Record 1 of Set 4 | sinjah\n",
      "Processing Record 2 of Set 4 | nynashamn\n",
      "Processing Record 3 of Set 4 | ponta do sol\n",
      "Processing Record 4 of Set 4 | carnarvon\n",
      "Processing Record 5 of Set 4 | doume\n",
      "Processing Record 6 of Set 4 | castro\n",
      "Processing Record 7 of Set 4 | chifeng\n",
      "Processing Record 8 of Set 4 | mar del plata\n",
      "Processing Record 9 of Set 4 | roald\n",
      "Processing Record 10 of Set 4 | bambous virieux\n",
      "Processing Record 11 of Set 4 | matagami\n",
      "Processing Record 12 of Set 4 | leningradskiy\n",
      "Processing Record 13 of Set 4 | smithers\n",
      "Processing Record 14 of Set 4 | labutta\n",
      "Processing Record 15 of Set 4 | havelock\n",
      "Processing Record 16 of Set 4 | novyy urengoy\n",
      "Processing Record 17 of Set 4 | qui nhon\n",
      "Processing Record 18 of Set 4 | provideniya\n",
      "Processing Record 19 of Set 4 | alice springs\n",
      "Processing Record 20 of Set 4 | kodiak\n",
      "Processing Record 21 of Set 4 | marsa matruh\n",
      "Processing Record 22 of Set 4 | gore\n",
      "Processing Record 23 of Set 4 | santa engracia\n",
      "Processing Record 24 of Set 4 | pevek\n",
      "Processing Record 25 of Set 4 | tochio\n",
      "Processing Record 26 of Set 4 | yellowknife\n",
      "Processing Record 27 of Set 4 | lebu\n",
      "Processing Record 28 of Set 4 | inta\n",
      "Processing Record 29 of Set 4 | salto\n",
      "Processing Record 30 of Set 4 | gigmoto\n",
      "Processing Record 31 of Set 4 | kaitangata\n",
      "Processing Record 32 of Set 4 | issia\n",
      "Processing Record 33 of Set 4 | lumsden\n",
      "Processing Record 34 of Set 4 | saleaula\n",
      "Processing Record 35 of Set 4 | cidreira\n",
      "Processing Record 36 of Set 4 | uskedal\n",
      "Processing Record 37 of Set 4 | opuwo\n",
      "Processing Record 38 of Set 4 | cape town\n",
      "Processing Record 39 of Set 4 | sassandra\n",
      "Processing Record 40 of Set 4 | klaksvik\n",
      "Processing Record 41 of Set 4 | cabo san lucas\n",
      "Processing Record 42 of Set 4 | tucuma\n",
      "Processing Record 43 of Set 4 | butembo\n",
      "Processing Record 44 of Set 4 | bengkulu\n",
      "Processing Record 45 of Set 4 | ikungi\n",
      "Processing Record 46 of Set 4 | kawalu\n",
      "Processing Record 47 of Set 4 | wanning\n",
      "Processing Record 48 of Set 4 | deputatskiy\n"
     ]
    },
    {
     "name": "stdout",
     "output_type": "stream",
     "text": [
      "Processing Record 49 of Set 4 | korla\n",
      "Processing Record 50 of Set 4 | chapais\n",
      "Processing Record 1 of Set 5 | estelle\n",
      "Processing Record 2 of Set 5 | laiyang\n",
      "Processing Record 3 of Set 5 | kavaratti\n",
      "Processing Record 4 of Set 5 | tuktoyaktuk\n",
      "Processing Record 5 of Set 5 | hernani\n",
      "Processing Record 6 of Set 5 | batagay-alyta\n",
      "Processing Record 7 of Set 5 | marzuq\n",
      "Processing Record 8 of Set 5 | dudinka\n",
      "Processing Record 9 of Set 5 | kieta\n",
      "Processing Record 10 of Set 5 | channel-port aux basques\n",
      "Processing Record 11 of Set 5 | beinamar\n",
      "Processing Record 12 of Set 5 | codrington\n",
      "Processing Record 13 of Set 5 | verkhnyaya inta\n",
      "Processing Record 14 of Set 5 | duz\n",
      "Processing Record 15 of Set 5 | awbari\n",
      "Processing Record 16 of Set 5 | nueve de julio\n",
      "Processing Record 17 of Set 5 | zachagansk\n",
      "Processing Record 18 of Set 5 | caravelas\n",
      "Processing Record 19 of Set 5 | barentsburg\n",
      "Processing Record 20 of Set 5 | barstow\n",
      "Processing Record 21 of Set 5 | kapaa\n",
      "Processing Record 22 of Set 5 | sinkat\n",
      "Processing Record 23 of Set 5 | mezen\n",
      "Processing Record 24 of Set 5 | tandil\n",
      "Processing Record 25 of Set 5 | mvuma\n",
      "Processing Record 26 of Set 5 | chicama\n",
      "Processing Record 27 of Set 5 | palmer\n",
      "Processing Record 28 of Set 5 | strezhevoy\n",
      "Processing Record 29 of Set 5 | ngukurr\n",
      "Processing Record 30 of Set 5 | tobetsu\n",
      "Processing Record 31 of Set 5 | lasa\n",
      "Processing Record 32 of Set 5 | nanortalik\n",
      "Processing Record 33 of Set 5 | beian\n",
      "Processing Record 34 of Set 5 | black forest\n",
      "Processing Record 35 of Set 5 | ballina\n",
      "Processing Record 36 of Set 5 | sonoita\n",
      "Processing Record 37 of Set 5 | vitimskiy\n",
      "Processing Record 38 of Set 5 | bur gabo\n",
      "Processing Record 39 of Set 5 | maraba\n",
      "Processing Record 40 of Set 5 | port hardy\n",
      "Processing Record 41 of Set 5 | aksarka\n",
      "Processing Record 42 of Set 5 | banda aceh\n",
      "Processing Record 43 of Set 5 | kaseda\n",
      "Processing Record 44 of Set 5 | puerto baquerizo moreno\n",
      "Processing Record 45 of Set 5 | fairbanks\n",
      "Processing Record 46 of Set 5 | east london\n",
      "Processing Record 47 of Set 5 | severo-kurilsk\n",
      "Processing Record 48 of Set 5 | ilulissat\n",
      "Processing Record 49 of Set 5 | fatezh\n",
      "Processing Record 50 of Set 5 | fort nelson\n",
      "Processing Record 1 of Set 6 | barcelona\n",
      "Processing Record 2 of Set 6 | hihifo\n",
      "Processing Record 3 of Set 6 | grindavik\n",
      "Processing Record 4 of Set 6 | dolores\n",
      "Processing Record 5 of Set 6 | mamallapuram\n",
      "Processing Record 6 of Set 6 | narsaq\n",
      "Processing Record 7 of Set 6 | camana\n",
      "Processing Record 8 of Set 6 | pitimbu\n",
      "Processing Record 9 of Set 6 | hay river\n",
      "Processing Record 10 of Set 6 | dikson\n",
      "Processing Record 11 of Set 6 | tateyama\n",
      "Processing Record 12 of Set 6 | javanrud\n",
      "Processing Record 13 of Set 6 | hasaki\n",
      "Processing Record 14 of Set 6 | cockburn town\n",
      "Processing Record 15 of Set 6 | nizhneyansk\n",
      "Processing Record 16 of Set 6 | iqaluit\n",
      "Processing Record 17 of Set 6 | vila velha\n",
      "Processing Record 18 of Set 6 | kamenskoye\n",
      "Processing Record 19 of Set 6 | ribeira grande\n",
      "Processing Record 20 of Set 6 | tahta\n",
      "Processing Record 21 of Set 6 | naze\n",
      "Processing Record 22 of Set 6 | raisinghnagar\n",
      "Processing Record 23 of Set 6 | meulaboh\n",
      "Processing Record 24 of Set 6 | vincennes\n",
      "Processing Record 25 of Set 6 | maningrida\n",
      "Processing Record 26 of Set 6 | paoua\n",
      "Processing Record 27 of Set 6 | kavieng\n",
      "Processing Record 28 of Set 6 | pangnirtung\n",
      "Processing Record 29 of Set 6 | tabas\n",
      "Processing Record 30 of Set 6 | dauriya\n",
      "Processing Record 31 of Set 6 | torbat-e jam\n",
      "Processing Record 32 of Set 6 | eureka\n",
      "Processing Record 33 of Set 6 | nikolskoye\n",
      "Processing Record 34 of Set 6 | vostok\n",
      "Processing Record 35 of Set 6 | manitouwadge\n",
      "Processing Record 36 of Set 6 | vao\n",
      "Processing Record 37 of Set 6 | bugiri\n",
      "Processing Record 38 of Set 6 | biak\n",
      "Processing Record 39 of Set 6 | general pico\n",
      "Processing Record 40 of Set 6 | san policarpo\n",
      "Processing Record 41 of Set 6 | san cosme y damian\n",
      "Processing Record 42 of Set 6 | bonito\n",
      "Processing Record 43 of Set 6 | sulangan\n",
      "Processing Record 44 of Set 6 | marcona\n",
      "Processing Record 45 of Set 6 | taoudenni\n",
      "Processing Record 46 of Set 6 | chima\n",
      "Processing Record 47 of Set 6 | luderitz\n",
      "Processing Record 48 of Set 6 | puerto escondido\n",
      "Processing Record 49 of Set 6 | la asuncion\n",
      "Processing Record 50 of Set 6 | yar-sale\n",
      "Processing Record 1 of Set 7 | shellbrook\n",
      "Processing Record 2 of Set 7 | talara\n",
      "Processing Record 3 of Set 7 | ahipara\n",
      "Processing Record 4 of Set 7 | bayanday\n",
      "Processing Record 5 of Set 7 | sorland\n",
      "Processing Record 6 of Set 7 | tautira\n",
      "Processing Record 7 of Set 7 | ende\n",
      "Processing Record 8 of Set 7 | henties bay\n",
      "Processing Record 9 of Set 7 | sobolevo\n",
      "Processing Record 10 of Set 7 | khovu-aksy\n",
      "Processing Record 11 of Set 7 | longyearbyen\n",
      "Processing Record 12 of Set 7 | yueyang\n",
      "Processing Record 13 of Set 7 | moussoro\n",
      "Processing Record 14 of Set 7 | port hedland\n",
      "Processing Record 15 of Set 7 | nhulunbuy\n",
      "Processing Record 16 of Set 7 | kahului\n",
      "Processing Record 17 of Set 7 | haines junction\n",
      "Processing Record 18 of Set 7 | te anau\n",
      "Processing Record 19 of Set 7 | marquette\n",
      "Processing Record 20 of Set 7 | belushya guba\n",
      "Processing Record 21 of Set 7 | mersing\n",
      "Processing Record 22 of Set 7 | spearfish\n",
      "Processing Record 23 of Set 7 | shagonar\n",
      "Processing Record 24 of Set 7 | micheweni\n",
      "Processing Record 25 of Set 7 | galle\n",
      "Processing Record 26 of Set 7 | kundiawa\n",
      "Processing Record 27 of Set 7 | gambela\n",
      "Processing Record 28 of Set 7 | warri\n",
      "Processing Record 29 of Set 7 | fomboni\n",
      "Processing Record 30 of Set 7 | broome\n",
      "Processing Record 31 of Set 7 | phangnga\n",
      "Processing Record 32 of Set 7 | puerto del rosario\n",
      "Processing Record 33 of Set 7 | leu\n",
      "Processing Record 34 of Set 7 | prince rupert\n",
      "Processing Record 35 of Set 7 | tuatapere\n",
      "Processing Record 36 of Set 7 | baykit\n",
      "Processing Record 37 of Set 7 | silvassa\n",
      "Processing Record 38 of Set 7 | bilma\n",
      "Processing Record 39 of Set 7 | saldanha\n",
      "Processing Record 40 of Set 7 | portland\n",
      "Processing Record 41 of Set 7 | marawi\n",
      "Processing Record 42 of Set 7 | copiapo\n",
      "Processing Record 43 of Set 7 | ewa beach\n",
      "Processing Record 44 of Set 7 | manokwari\n",
      "Processing Record 45 of Set 7 | bianzhuang\n",
      "Processing Record 46 of Set 7 | padang\n",
      "Processing Record 47 of Set 7 | tazovskiy\n",
      "Processing Record 48 of Set 7 | casimiro de abreu\n",
      "Processing Record 49 of Set 7 | rawson\n",
      "Processing Record 50 of Set 7 | torrington\n",
      "Processing Record 1 of Set 8 | lagoa\n",
      "Processing Record 2 of Set 8 | hualmay\n",
      "Processing Record 3 of Set 8 | tsabong\n",
      "Processing Record 4 of Set 8 | harker heights\n",
      "Processing Record 5 of Set 8 | acapulco\n",
      "Processing Record 6 of Set 8 | lolua\n",
      "Processing Record 7 of Set 8 | palu\n",
      "Processing Record 8 of Set 8 | shuyskoye\n",
      "Processing Record 9 of Set 8 | chagda\n",
      "Processing Record 10 of Set 8 | qazax\n",
      "Processing Record 11 of Set 8 | mys shmidta\n",
      "Processing Record 12 of Set 8 | maghama\n",
      "Processing Record 13 of Set 8 | sibiti\n",
      "Processing Record 14 of Set 8 | nautla\n",
      "Processing Record 15 of Set 8 | loikaw\n",
      "Processing Record 16 of Set 8 | severomorsk\n",
      "Processing Record 17 of Set 8 | palabuhanratu\n",
      "Processing Record 18 of Set 8 | bintulu\n",
      "Processing Record 19 of Set 8 | gumusyaka\n",
      "Processing Record 20 of Set 8 | attawapiskat\n",
      "Processing Record 21 of Set 8 | aromashevo\n",
      "Processing Record 22 of Set 8 | opportunity\n",
      "Processing Record 23 of Set 8 | itaituba\n",
      "Processing Record 24 of Set 8 | the pas\n",
      "Processing Record 25 of Set 8 | havre\n",
      "Processing Record 26 of Set 8 | kemijarvi\n",
      "Processing Record 27 of Set 8 | moranbah\n",
      "Processing Record 28 of Set 8 | trussville\n",
      "Processing Record 29 of Set 8 | arroio grande\n",
      "Processing Record 30 of Set 8 | havre-saint-pierre\n",
      "Processing Record 31 of Set 8 | saryg-sep\n",
      "Processing Record 32 of Set 8 | krasnoselkup\n",
      "Processing Record 33 of Set 8 | tambo\n",
      "Processing Record 34 of Set 8 | araouane\n",
      "Processing Record 35 of Set 8 | gorno-chuyskiy\n",
      "Processing Record 36 of Set 8 | sibu\n",
      "Processing Record 37 of Set 8 | kirakira\n",
      "Processing Record 38 of Set 8 | sola\n",
      "Processing Record 39 of Set 8 | sur\n",
      "Processing Record 40 of Set 8 | morant bay\n",
      "Processing Record 41 of Set 8 | kijang\n",
      "Processing Record 42 of Set 8 | dongsheng\n",
      "Processing Record 43 of Set 8 | isangel\n",
      "Processing Record 44 of Set 8 | namibe\n",
      "Processing Record 45 of Set 8 | dingle\n",
      "Processing Record 46 of Set 8 | nushki\n",
      "Processing Record 47 of Set 8 | yerbogachen\n"
     ]
    },
    {
     "name": "stdout",
     "output_type": "stream",
     "text": [
      "Processing Record 48 of Set 8 | altamont\n",
      "Processing Record 49 of Set 8 | jalingo\n",
      "Processing Record 50 of Set 8 | novikovo\n",
      "Processing Record 1 of Set 9 | loa janan\n",
      "Processing Record 2 of Set 9 | nemuro\n",
      "Processing Record 3 of Set 9 | misratah\n",
      "Processing Record 4 of Set 9 | margate\n",
      "Processing Record 5 of Set 9 | panjab\n",
      "Processing Record 6 of Set 9 | blonduos\n",
      "Processing Record 7 of Set 9 | yangjiang\n",
      "Processing Record 8 of Set 9 | ishigaki\n",
      "Processing Record 9 of Set 9 | balud\n",
      "Processing Record 10 of Set 9 | flagstaff\n",
      "Processing Record 11 of Set 9 | bereda\n",
      "Processing Record 12 of Set 9 | santa cruz\n",
      "Processing Record 13 of Set 9 | dwarka\n",
      "Processing Record 14 of Set 9 | sabha\n",
      "Processing Record 15 of Set 9 | ijaki\n",
      "Processing Record 16 of Set 9 | san quintin\n",
      "Processing Record 17 of Set 9 | norman wells\n",
      "Processing Record 18 of Set 9 | athabasca\n",
      "Processing Record 19 of Set 9 | adrar\n",
      "Processing Record 20 of Set 9 | arman\n",
      "Processing Record 21 of Set 9 | abay\n",
      "Processing Record 22 of Set 9 | tsaratanana\n",
      "Processing Record 23 of Set 9 | ust-kuyga\n",
      "Processing Record 24 of Set 9 | poya\n",
      "Processing Record 25 of Set 9 | betul\n",
      "Processing Record 26 of Set 9 | cherskiy\n",
      "Processing Record 27 of Set 9 | sandy bay\n",
      "Processing Record 28 of Set 9 | lakeland\n",
      "Processing Record 29 of Set 9 | sechura\n",
      "Processing Record 30 of Set 9 | guerrero negro\n",
      "Processing Record 31 of Set 9 | andenes\n",
      "Processing Record 32 of Set 9 | jacareacanga\n",
      "Processing Record 33 of Set 9 | shkotovo-26\n",
      "Processing Record 34 of Set 9 | mayo\n",
      "Processing Record 35 of Set 9 | riyadh\n",
      "Processing Record 36 of Set 9 | havoysund\n",
      "Processing Record 37 of Set 9 | tshikapa\n",
      "Processing Record 38 of Set 9 | lavrentiya\n",
      "Processing Record 39 of Set 9 | caucaia\n",
      "Processing Record 40 of Set 9 | trinidad\n",
      "Processing Record 41 of Set 9 | springdale\n",
      "Processing Record 42 of Set 9 | belmonte\n",
      "Processing Record 43 of Set 9 | hofn\n",
      "Processing Record 44 of Set 9 | sataua\n",
      "Processing Record 45 of Set 9 | ondjiva\n",
      "Processing Record 46 of Set 9 | ust-ishim\n",
      "Processing Record 47 of Set 9 | formiga\n",
      "Processing Record 48 of Set 9 | annau\n",
      "Processing Record 49 of Set 9 | matamoros\n",
      "Processing Record 50 of Set 9 | gharghoda\n",
      "Processing Record 1 of Set 10 | komsomolskiy\n",
      "Processing Record 2 of Set 10 | kotido\n",
      "Processing Record 3 of Set 10 | hobyo\n",
      "Processing Record 4 of Set 10 | falun\n",
      "Processing Record 5 of Set 10 | luanda\n",
      "Processing Record 6 of Set 10 | quelimane\n",
      "Processing Record 7 of Set 10 | liwale\n",
      "Processing Record 8 of Set 10 | semey\n",
      "Processing Record 9 of Set 10 | olenegorsk\n",
      "Processing Record 10 of Set 10 | sao lourenco do sul\n",
      "Processing Record 11 of Set 10 | umm lajj\n",
      "Processing Record 12 of Set 10 | tahoua\n",
      "Processing Record 13 of Set 10 | uthal\n",
      "Processing Record 14 of Set 10 | choctaw\n",
      "Processing Record 15 of Set 10 | kaa-khem\n",
      "Processing Record 16 of Set 10 | buqayq\n",
      "Processing Record 17 of Set 10 | kaili\n",
      "Processing Record 18 of Set 10 | saint george\n",
      "Processing Record 19 of Set 10 | sentyabrskiy\n",
      "Processing Record 20 of Set 10 | honiara\n",
      "Processing Record 21 of Set 10 | muli\n",
      "Processing Record 22 of Set 10 | grand river south east\n",
      "Processing Record 23 of Set 10 | sal rei\n",
      "Processing Record 24 of Set 10 | santa maria\n",
      "Processing Record 25 of Set 10 | honningsvag\n",
      "Processing Record 26 of Set 10 | seymchan\n",
      "Processing Record 27 of Set 10 | baracoa\n",
      "Processing Record 28 of Set 10 | goderich\n",
      "Processing Record 29 of Set 10 | urdzhar\n",
      "Processing Record 30 of Set 10 | seoul\n",
      "Processing Record 31 of Set 10 | svetlaya\n",
      "Processing Record 32 of Set 10 | tshane\n",
      "Processing Record 33 of Set 10 | antofagasta\n",
      "Processing Record 34 of Set 10 | aktau\n",
      "Processing Record 35 of Set 10 | zyryanka\n",
      "Processing Record 36 of Set 10 | weihe\n",
      "Processing Record 37 of Set 10 | thai binh\n",
      "Processing Record 38 of Set 10 | america dourada\n",
      "Processing Record 39 of Set 10 | zabaykalsk\n",
      "Processing Record 40 of Set 10 | kaduqli\n",
      "Processing Record 41 of Set 10 | metro\n",
      "Processing Record 42 of Set 10 | sept-iles\n",
      "Processing Record 43 of Set 10 | angoche\n",
      "Processing Record 44 of Set 10 | yaroslavskiy\n",
      "Processing Record 45 of Set 10 | hami\n",
      "Processing Record 46 of Set 10 | isabela\n",
      "Processing Record 47 of Set 10 | turayf\n",
      "Processing Record 48 of Set 10 | el balyana\n",
      "Processing Record 49 of Set 10 | namatanai\n",
      "Processing Record 50 of Set 10 | huarmey\n",
      "Processing Record 1 of Set 11 | huruta\n",
      "Processing Record 2 of Set 11 | christchurch\n",
      "Processing Record 3 of Set 11 | namikupa\n",
      "Processing Record 4 of Set 11 | montegranaro\n",
      "Processing Record 5 of Set 11 | okha\n",
      "Processing Record 6 of Set 11 | constitucion\n",
      "Processing Record 7 of Set 11 | bowen\n",
      "Processing Record 8 of Set 11 | amuntai\n",
      "Processing Record 9 of Set 11 | angoram\n",
      "Processing Record 10 of Set 11 | newport\n",
      "Processing Record 11 of Set 11 | southbridge\n",
      "Processing Record 12 of Set 11 | kenora\n",
      "Processing Record 13 of Set 11 | cayenne\n",
      "Processing Record 14 of Set 11 | nara\n",
      "Processing Record 15 of Set 11 | linchuan\n",
      "Processing Record 16 of Set 11 | kuche\n",
      "Processing Record 17 of Set 11 | zhigansk\n",
      "Processing Record 18 of Set 11 | celestun\n",
      "Processing Record 19 of Set 11 | karwar\n",
      "Processing Record 20 of Set 11 | wismar\n",
      "Processing Record 21 of Set 11 | lanzhou\n",
      "Processing Record 22 of Set 11 | ambodifototra\n",
      "Processing Record 23 of Set 11 | san rafael\n",
      "Processing Record 24 of Set 11 | birjand\n",
      "Processing Record 25 of Set 11 | visby\n",
      "Processing Record 26 of Set 11 | satitoa\n",
      "Processing Record 27 of Set 11 | beloha\n",
      "Processing Record 28 of Set 11 | baker city\n",
      "Processing Record 29 of Set 11 | barbar\n",
      "Processing Record 30 of Set 11 | ksenyevka\n",
      "Processing Record 31 of Set 11 | sao filipe\n",
      "Processing Record 32 of Set 11 | minab\n",
      "Processing Record 33 of Set 11 | tiznit\n",
      "Processing Record 34 of Set 11 | vallenar\n",
      "Processing Record 35 of Set 11 | viedma\n",
      "Processing Record 36 of Set 11 | kumano\n",
      "Processing Record 37 of Set 11 | durusu\n",
      "Processing Record 38 of Set 11 | reefton\n",
      "Processing Record 39 of Set 11 | vyazemskiy\n",
      "Processing Record 40 of Set 11 | kununurra\n",
      "Processing Record 41 of Set 11 | yerofey pavlovich\n",
      "Processing Record 42 of Set 11 | kloulklubed\n",
      "Processing Record 43 of Set 11 | linqu\n",
      "Processing Record 44 of Set 11 | axim\n",
      "Processing Record 45 of Set 11 | aksu\n",
      "Processing Record 46 of Set 11 | saquena\n",
      "Processing Record 47 of Set 11 | lavumisa\n",
      "Processing Record 48 of Set 11 | faya\n",
      "Processing Record 49 of Set 11 | djambala\n",
      "Processing Record 50 of Set 11 | harboore\n",
      "Processing Record 1 of Set 12 | kachug\n",
      "Processing Record 2 of Set 12 | san ramon\n",
      "Processing Record 3 of Set 12 | gat\n",
      "Processing Record 4 of Set 12 | ayagoz\n",
      "Processing Record 5 of Set 12 | rexburg\n",
      "Processing Record 6 of Set 12 | mecca\n",
      "Processing Record 7 of Set 12 | brae\n",
      "Processing Record 8 of Set 12 | osa\n",
      "Processing Record 9 of Set 12 | elbistan\n",
      "Processing Record 10 of Set 12 | camabatela\n",
      "Processing Record 11 of Set 12 | bahar\n",
      "Processing Record 12 of Set 12 | lumphat\n",
      "Processing Record 13 of Set 12 | spanish town\n",
      "Processing Record 14 of Set 12 | gizo\n",
      "Processing Record 15 of Set 12 | sterling\n",
      "Processing Record 16 of Set 12 | ketchenery\n",
      "Processing Record 17 of Set 12 | tamiahua\n",
      "Processing Record 18 of Set 12 | ixtapa\n",
      "Processing Record 19 of Set 12 | werota\n",
      "Processing Record 20 of Set 12 | porto tolle\n",
      "Processing Record 21 of Set 12 | santa cruz de la palma\n",
      "Processing Record 22 of Set 12 | diego de almagro\n",
      "Processing Record 23 of Set 12 | kismayo\n",
      "Processing Record 24 of Set 12 | buenavista\n",
      "Processing Record 25 of Set 12 | villa carlos paz\n",
      "Processing Record 26 of Set 12 | sirajganj\n",
      "Processing Record 27 of Set 12 | pafos\n",
      "Processing Record 28 of Set 12 | longonjo\n",
      "Processing Record 29 of Set 12 | kutum\n",
      "Processing Record 30 of Set 12 | wahran\n",
      "Processing Record 31 of Set 12 | fortuna\n",
      "Processing Record 32 of Set 12 | calabozo\n",
      "Processing Record 33 of Set 12 | haian\n",
      "Processing Record 34 of Set 12 | firovo\n",
      "Processing Record 35 of Set 12 | taltal\n",
      "Processing Record 36 of Set 12 | ust-kut\n",
      "Processing Record 37 of Set 12 | gunzenhausen\n",
      "Processing Record 38 of Set 12 | sosua\n",
      "Processing Record 39 of Set 12 | ambahta\n",
      "Processing Record 40 of Set 12 | kedougou\n",
      "Processing Record 41 of Set 12 | orlik\n",
      "Processing Record 42 of Set 12 | natal\n",
      "Processing Record 43 of Set 12 | ketchikan\n",
      "Processing Record 44 of Set 12 | la roche-sur-yon\n",
      "Processing Record 45 of Set 12 | kuliyapitiya\n"
     ]
    },
    {
     "name": "stdout",
     "output_type": "stream",
     "text": [
      "Processing Record 46 of Set 12 | iwaki\n",
      "Processing Record 47 of Set 12 | damaturu\n",
      "Processing Record 48 of Set 12 | ponta delgada\n",
      "Processing Record 49 of Set 12 | karpogory\n",
      "Processing Record 50 of Set 12 | mercedes\n",
      "Processing Record 1 of Set 13 | lubbock\n",
      "Processing Record 2 of Set 13 | mastic beach\n",
      "Processing Record 3 of Set 13 | conceicao do araguaia\n",
      "Processing Record 4 of Set 13 | manassas\n",
      "Processing Record 5 of Set 13 | peniche\n",
      "Processing Record 6 of Set 13 | juba\n",
      "Processing Record 7 of Set 13 | roma\n",
      "Processing Record 8 of Set 13 | aden\n",
      "Processing Record 9 of Set 13 | zhigalovo\n",
      "Processing Record 10 of Set 13 | qaqortoq\n",
      "Processing Record 11 of Set 13 | michigan city\n",
      "Processing Record 12 of Set 13 | snasa\n",
      "-----------------------------\n",
      "Data Retrieval Complete      \n",
      "-----------------------------\n"
     ]
    }
   ],
   "source": [
    "# Create an empty list to hold the weather data.\n",
    "city_data = []\n",
    "\n",
    "# Print the beginning of the logging.\n",
    "print(\"Beginning Data Retrieval     \")\n",
    "print(\"-----------------------------\")\n",
    "\n",
    "# Create counters.\n",
    "record_count = 1\n",
    "set_count = 1\n",
    "\n",
    "# Loop through all the cities in the list.\n",
    "for i, city in enumerate(cities):\n",
    "\n",
    "    # Group cities in sets of 50 for logging purposes.\n",
    "    if (i % 50 == 0 and i >= 50):\n",
    "        set_count += 1\n",
    "        record_count = 1\n",
    "    # Create endpoint URL with each city.\n",
    "    city_url = f'{url}&q={city.replace(\" \", \"+\")}'\n",
    "\n",
    "    # Log the URL, record, and set numbers and the city.\n",
    "    print(f\"Processing Record {record_count} of Set {set_count} | {city}\")\n",
    "    \n",
    "    # Add 1 to the record count.\n",
    "    record_count += 1\n",
    "    \n",
    "# Run an API request for each of the cities.\n",
    "    try:\n",
    "        # Parse the JSON and retrieve data.\n",
    "        city_weather = requests.get(city_url).json()\n",
    "        # Parse out the needed data.\n",
    "        city_lat = city_weather[\"coord\"][\"lat\"]\n",
    "        city_lng = city_weather[\"coord\"][\"lon\"]\n",
    "        city_max_temp = city_weather[\"main\"][\"temp_max\"]\n",
    "        city_humidity = city_weather[\"main\"][\"humidity\"]\n",
    "        city_clouds = city_weather[\"clouds\"][\"all\"]\n",
    "        city_wind = city_weather[\"wind\"][\"speed\"]\n",
    "        city_country = city_weather[\"sys\"][\"country\"]\n",
    "        # Convert the date to ISO standard.\n",
    "        city_date = datetime.utcfromtimestamp(city_weather[\"dt\"]).strftime('%Y-%m-%d %H:%M:%S')\n",
    "        # Append the city information into city_data list.\n",
    "        city_data.append({\"City\": city.title(),\n",
    "                          \"Lat\": city_lat,\n",
    "                          \"Lng\": city_lng,\n",
    "                          \"Max Temp\": city_max_temp,\n",
    "                          \"Humidity\": city_humidity,\n",
    "                          \"Cloudiness\": city_clouds,\n",
    "                          \"Wind Speed\": city_wind,\n",
    "                          \"Country\": city_country,\n",
    "                          \"Date\": city_date})\n",
    "\n",
    "# If an error is experienced, skip the city.\n",
    "    except:\n",
    "        print(\"City not found. Skipping...\")\n",
    "        pass\n",
    "\n",
    "# Indicate that Data Loading is complete.\n",
    "print(\"-----------------------------\")\n",
    "print(\"Data Retrieval Complete      \")\n",
    "print(\"-----------------------------\")"
   ]
  },
  {
   "cell_type": "code",
   "execution_count": null,
   "metadata": {},
   "outputs": [],
   "source": [
    "len(city_data)"
   ]
  },
  {
   "cell_type": "code",
   "execution_count": null,
   "metadata": {},
   "outputs": [],
   "source": [
    "# Convert the array of dictionaries to a Pandas DataFrame.\n",
    "city_data_df = pd.DataFrame(city_data)\n",
    "city_data_df.head(10)"
   ]
  },
  {
   "cell_type": "code",
   "execution_count": null,
   "metadata": {},
   "outputs": [],
   "source": [
    "new_column_order = [\"City\", \"Country\", \"Date\", \"Lat\", \"Lng\", \"Max Temp\", \"Humidity\", \"Cloudiness\", \"Wind Speed\"]\n",
    "city_data_df = city_data_df[new_column_order]"
   ]
  },
  {
   "cell_type": "code",
   "execution_count": null,
   "metadata": {},
   "outputs": [],
   "source": [
    "# Create the output file (CSV).\n",
    "output_data_file = \"weather_data/cities.csv\"\n",
    "\n",
    "# Export the City_Data into a CSV.\n",
    "city_data_df.to_csv(output_data_file, index_label = \"City_ID\")"
   ]
  }
 ],
 "metadata": {
  "kernelspec": {
   "display_name": "PythonData",
   "language": "python",
   "name": "pythondata"
  },
  "language_info": {
   "codemirror_mode": {
    "name": "ipython",
    "version": 3
   },
   "file_extension": ".py",
   "mimetype": "text/x-python",
   "name": "python",
   "nbconvert_exporter": "python",
   "pygments_lexer": "ipython3",
   "version": "3.7.6"
  }
 },
 "nbformat": 4,
 "nbformat_minor": 4
}
