{
 "cells": [
  {
   "cell_type": "code",
   "execution_count": 1,
   "metadata": {},
   "outputs": [],
   "source": [
    "# Import the dependencies.\n",
    "import pandas as pd\n",
    "import matplotlib.pyplot as plt\n",
    "import numpy as np\n",
    "\n",
    "import requests\n",
    "from datetime import datetime\n",
    "\n",
    "from config import weather_api_key\n",
    "\n",
    "# Use the citipy module to determine city based on latitude and longitude.\n",
    "from citipy import citipy\n",
    "\n",
    "# Import linear regression from the SciPy stats module.\n",
    "from scipy.stats import linregress\n",
    "\n",
    "import gmaps\n",
    "\n",
    "# Import the API key.\n",
    "from config import g_key"
   ]
  },
  {
   "cell_type": "code",
   "execution_count": 2,
   "metadata": {},
   "outputs": [
    {
     "name": "stdout",
     "output_type": "stream",
     "text": [
      "http://api.openweathermap.org/data/2.5/weather?units=Imperial&APPID=905b32babdb8b30c96f3b85b5e463ca8\n"
     ]
    }
   ],
   "source": [
    "# Starting URL for Weather Map API Call.\n",
    "url = \"http://api.openweathermap.org/data/2.5/weather?units=Imperial&APPID=\" + weather_api_key\n",
    "print(url)"
   ]
  },
  {
   "cell_type": "code",
   "execution_count": 3,
   "metadata": {},
   "outputs": [
    {
     "name": "stdout",
     "output_type": "stream",
     "text": [
      "http://api.openweathermap.org/data/2.5/weather?units=Imperial&APPID=905b32babdb8b30c96f3b85b5e463ca8&q=Boston\n"
     ]
    }
   ],
   "source": [
    "# Create an endpoint URL for a city.\n",
    "city_url = url + \"&q=\" + \"Boston\"\n",
    "print(city_url)"
   ]
  },
  {
   "cell_type": "code",
   "execution_count": 4,
   "metadata": {},
   "outputs": [
    {
     "data": {
      "text/plain": [
       "<zip at 0x14371476b48>"
      ]
     },
     "execution_count": 4,
     "metadata": {},
     "output_type": "execute_result"
    }
   ],
   "source": [
    "# Create a set of random latitude and longitude combinations.\n",
    "lats = np.random.uniform(low = -90.000, high = 90.000, size = 1500)\n",
    "lngs = np.random.uniform(low = -180.000, high = 180.000, size = 1500)\n",
    "lat_lngs = zip(lats, lngs)\n",
    "lat_lngs"
   ]
  },
  {
   "cell_type": "code",
   "execution_count": 5,
   "metadata": {},
   "outputs": [],
   "source": [
    "# Add the latitudes and longitudes to a list.\n",
    "coordinates = list(lat_lngs)"
   ]
  },
  {
   "cell_type": "code",
   "execution_count": 6,
   "metadata": {},
   "outputs": [
    {
     "data": {
      "text/plain": [
       "613"
      ]
     },
     "execution_count": 6,
     "metadata": {},
     "output_type": "execute_result"
    }
   ],
   "source": [
    "# Create a list for holding the cities.\n",
    "cities = []\n",
    "# Identify the nearest city for each latitude and longitude combination.\n",
    "for coordinate in coordinates:\n",
    "    city = citipy.nearest_city(coordinate[0], coordinate[1]).city_name\n",
    "    \n",
    "    # If the city is unique, then we will add it to the cities list.\n",
    "    if city not in cities:\n",
    "        cities.append(city)\n",
    "# Print the city count to confirm sufficient count.\n",
    "len(cities)"
   ]
  },
  {
   "cell_type": "code",
   "execution_count": 7,
   "metadata": {},
   "outputs": [
    {
     "data": {
      "text/plain": [
       "<Response [200]>"
      ]
     },
     "execution_count": 7,
     "metadata": {},
     "output_type": "execute_result"
    }
   ],
   "source": [
    "# Make a 'Get' request for the city weather.\n",
    "city_weather = requests.get(city_url)\n",
    "city_weather"
   ]
  },
  {
   "cell_type": "code",
   "execution_count": 8,
   "metadata": {},
   "outputs": [
    {
     "data": {
      "text/plain": [
       "200"
      ]
     },
     "execution_count": 8,
     "metadata": {},
     "output_type": "execute_result"
    }
   ],
   "source": [
    "city_weather.status_code"
   ]
  },
  {
   "cell_type": "code",
   "execution_count": 9,
   "metadata": {},
   "outputs": [
    {
     "data": {
      "text/plain": [
       "<Response [200]>"
      ]
     },
     "execution_count": 9,
     "metadata": {},
     "output_type": "execute_result"
    }
   ],
   "source": [
    "# Create an endpoint URL for a city.\n",
    "city_url = url + \"&q=\" + \"Boston\"\n",
    "city_weather = requests.get(city_url)\n",
    "city_weather"
   ]
  },
  {
   "cell_type": "code",
   "execution_count": 10,
   "metadata": {},
   "outputs": [
    {
     "data": {
      "text/plain": [
       "'{\"coord\":{\"lon\":-71.06,\"lat\":42.36},\"weather\":[{\"id\":800,\"main\":\"Clear\",\"description\":\"clear sky\",\"icon\":\"01n\"}],\"base\":\"stations\",\"main\":{\"temp\":67.96,\"feels_like\":62.64,\"temp_min\":64,\"temp_max\":71.01,\"pressure\":1023,\"humidity\":60},\"wind\":{\"speed\":11.41,\"deg\":180},\"clouds\":{\"all\":9},\"dt\":1592444436,\"sys\":{\"type\":1,\"id\":4967,\"country\":\"US\",\"sunrise\":1592384819,\"sunset\":1592439816},\"timezone\":-14400,\"id\":4930956,\"name\":\"Boston\",\"cod\":200}'"
      ]
     },
     "execution_count": 10,
     "metadata": {},
     "output_type": "execute_result"
    }
   ],
   "source": [
    "# Get the text of the 'Get' request.\n",
    "city_weather.text"
   ]
  },
  {
   "cell_type": "code",
   "execution_count": 11,
   "metadata": {},
   "outputs": [
    {
     "data": {
      "text/plain": [
       "{'coord': {'lon': -71.06, 'lat': 42.36},\n",
       " 'weather': [{'id': 800,\n",
       "   'main': 'Clear',\n",
       "   'description': 'clear sky',\n",
       "   'icon': '01n'}],\n",
       " 'base': 'stations',\n",
       " 'main': {'temp': 67.96,\n",
       "  'feels_like': 62.64,\n",
       "  'temp_min': 64,\n",
       "  'temp_max': 71.01,\n",
       "  'pressure': 1023,\n",
       "  'humidity': 60},\n",
       " 'wind': {'speed': 11.41, 'deg': 180},\n",
       " 'clouds': {'all': 9},\n",
       " 'dt': 1592444436,\n",
       " 'sys': {'type': 1,\n",
       "  'id': 4967,\n",
       "  'country': 'US',\n",
       "  'sunrise': 1592384819,\n",
       "  'sunset': 1592439816},\n",
       " 'timezone': -14400,\n",
       " 'id': 4930956,\n",
       " 'name': 'Boston',\n",
       " 'cod': 200}"
      ]
     },
     "execution_count": 11,
     "metadata": {},
     "output_type": "execute_result"
    }
   ],
   "source": [
    "# Get the JSON text of the 'Get' request.\n",
    "city_weather.json()"
   ]
  },
  {
   "cell_type": "code",
   "execution_count": 12,
   "metadata": {},
   "outputs": [
    {
     "name": "stdout",
     "output_type": "stream",
     "text": [
      "City Weather found.\n"
     ]
    }
   ],
   "source": [
    "# Create an endpoint URL for a city.\n",
    "city_url = url + \"&q=\" + \"Boston\"\n",
    "city_weather = requests.get(city_url)\n",
    "if city_weather.status_code == 200:\n",
    "    print(f\"City Weather found.\")\n",
    "else:\n",
    "    print(f\"City weather not found.\")"
   ]
  },
  {
   "cell_type": "code",
   "execution_count": 13,
   "metadata": {},
   "outputs": [
    {
     "name": "stdout",
     "output_type": "stream",
     "text": [
      "City Weather found.\n"
     ]
    }
   ],
   "source": [
    "# Create an endpoint URL for a city.\n",
    "city_url = url + \"&q=\" + \"Boston\"\n",
    "city_weather = requests.get(city_url)\n",
    "if city_weather.json():\n",
    "    print(f\"City Weather found.\")\n",
    "else:\n",
    "    print(f\"City weather not found.\")"
   ]
  },
  {
   "cell_type": "code",
   "execution_count": 14,
   "metadata": {},
   "outputs": [
    {
     "name": "stdout",
     "output_type": "stream",
     "text": [
      "http://api.openweathermap.org/data/2.5/weather?units=Imperial&APPID=905b32babdb8b30c96f3b85b5e463ca8&q=Boston\n"
     ]
    }
   ],
   "source": [
    "print(city_url)"
   ]
  },
  {
   "cell_type": "code",
   "execution_count": 15,
   "metadata": {},
   "outputs": [
    {
     "data": {
      "text/plain": [
       "{'coord': {'lon': -71.06, 'lat': 42.36},\n",
       " 'weather': [{'id': 800,\n",
       "   'main': 'Clear',\n",
       "   'description': 'clear sky',\n",
       "   'icon': '01n'}],\n",
       " 'base': 'stations',\n",
       " 'main': {'temp': 67.96,\n",
       "  'feels_like': 62.64,\n",
       "  'temp_min': 64,\n",
       "  'temp_max': 71.01,\n",
       "  'pressure': 1023,\n",
       "  'humidity': 60},\n",
       " 'wind': {'speed': 11.41, 'deg': 180},\n",
       " 'clouds': {'all': 9},\n",
       " 'dt': 1592444436,\n",
       " 'sys': {'type': 1,\n",
       "  'id': 4967,\n",
       "  'country': 'US',\n",
       "  'sunrise': 1592384819,\n",
       "  'sunset': 1592439816},\n",
       " 'timezone': -14400,\n",
       " 'id': 4930956,\n",
       " 'name': 'Boston',\n",
       " 'cod': 200}"
      ]
     },
     "execution_count": 15,
     "metadata": {},
     "output_type": "execute_result"
    }
   ],
   "source": [
    "# Create an endpoint URL for a city.\n",
    "city_url = url + \"&q=\" + \"Boston\"\n",
    "city_weather = requests.get(city_url)\n",
    "city_weather.json()"
   ]
  },
  {
   "cell_type": "code",
   "execution_count": 16,
   "metadata": {},
   "outputs": [
    {
     "data": {
      "text/plain": [
       "{'type': 1,\n",
       " 'id': 4967,\n",
       " 'country': 'US',\n",
       " 'sunrise': 1592384819,\n",
       " 'sunset': 1592439816}"
      ]
     },
     "execution_count": 16,
     "metadata": {},
     "output_type": "execute_result"
    }
   ],
   "source": [
    "# Get the JSON data.\n",
    "boston_data = city_weather.json()\n",
    "boston_data[\"sys\"]"
   ]
  },
  {
   "cell_type": "code",
   "execution_count": 17,
   "metadata": {},
   "outputs": [
    {
     "data": {
      "text/plain": [
       "'US'"
      ]
     },
     "execution_count": 17,
     "metadata": {},
     "output_type": "execute_result"
    }
   ],
   "source": [
    "boston_data[\"sys\"][\"country\"]"
   ]
  },
  {
   "cell_type": "code",
   "execution_count": 18,
   "metadata": {},
   "outputs": [
    {
     "data": {
      "text/plain": [
       "1592444436"
      ]
     },
     "execution_count": 18,
     "metadata": {},
     "output_type": "execute_result"
    }
   ],
   "source": [
    "boston_data[\"dt\"]"
   ]
  },
  {
   "cell_type": "code",
   "execution_count": 19,
   "metadata": {},
   "outputs": [
    {
     "data": {
      "text/plain": [
       "42.36"
      ]
     },
     "execution_count": 19,
     "metadata": {},
     "output_type": "execute_result"
    }
   ],
   "source": [
    "boston_data[\"coord\"][\"lat\"]"
   ]
  },
  {
   "cell_type": "code",
   "execution_count": 20,
   "metadata": {},
   "outputs": [
    {
     "data": {
      "text/plain": [
       "71.01"
      ]
     },
     "execution_count": 20,
     "metadata": {},
     "output_type": "execute_result"
    }
   ],
   "source": [
    "boston_data[\"main\"][\"temp_max\"]"
   ]
  },
  {
   "cell_type": "code",
   "execution_count": 21,
   "metadata": {},
   "outputs": [
    {
     "name": "stdout",
     "output_type": "stream",
     "text": [
      "42.36 -71.06 71.01 60 9 11.41\n"
     ]
    }
   ],
   "source": [
    "lat = boston_data[\"coord\"][\"lat\"]\n",
    "lng = boston_data[\"coord\"][\"lon\"]\n",
    "max_temp = boston_data[\"main\"][\"temp_max\"]\n",
    "humidity = boston_data[\"main\"][\"humidity\"]\n",
    "clouds = boston_data[\"clouds\"][\"all\"]\n",
    "wind = boston_data[\"wind\"][\"speed\"]\n",
    "print(lat, lng, max_temp, humidity, clouds, wind)"
   ]
  },
  {
   "cell_type": "code",
   "execution_count": 22,
   "metadata": {},
   "outputs": [
    {
     "data": {
      "text/plain": [
       "datetime.datetime(2020, 6, 18, 1, 40, 36)"
      ]
     },
     "execution_count": 22,
     "metadata": {},
     "output_type": "execute_result"
    }
   ],
   "source": [
    "# Import the datetime module from the datetime library.\n",
    "from datetime import datetime\n",
    "\n",
    "# Get the date from the JSON file.\n",
    "date = boston_data[\"dt\"]\n",
    "\n",
    "# Convert the UTC date to a date format with year, month, day, hours, minutes, and seconds.\n",
    "datetime.utcfromtimestamp(date)"
   ]
  },
  {
   "cell_type": "code",
   "execution_count": 23,
   "metadata": {},
   "outputs": [],
   "source": [
    "# Import the datetime module from the datetime library.\n",
    "from datetime import datetime"
   ]
  },
  {
   "cell_type": "code",
   "execution_count": 24,
   "metadata": {
    "scrolled": true
   },
   "outputs": [
    {
     "name": "stdout",
     "output_type": "stream",
     "text": [
      "Beginning Data Retrieval     \n",
      "-----------------------------\n",
      "Processing Record 1 of Set 1 | hermanus\n",
      "Processing Record 2 of Set 1 | san patricio\n",
      "Processing Record 3 of Set 1 | saldanha\n",
      "Processing Record 4 of Set 1 | hasaki\n",
      "Processing Record 5 of Set 1 | rikitea\n",
      "Processing Record 6 of Set 1 | arraial do cabo\n",
      "Processing Record 7 of Set 1 | illoqqortoormiut\n",
      "City not found. Skipping...\n",
      "Processing Record 8 of Set 1 | vaini\n",
      "Processing Record 9 of Set 1 | palu\n",
      "Processing Record 10 of Set 1 | scottsburgh\n",
      "City not found. Skipping...\n",
      "Processing Record 11 of Set 1 | meulaboh\n",
      "Processing Record 12 of Set 1 | thompson\n",
      "Processing Record 13 of Set 1 | laguna\n",
      "Processing Record 14 of Set 1 | ushuaia\n",
      "Processing Record 15 of Set 1 | new norfolk\n",
      "Processing Record 16 of Set 1 | camaguey\n",
      "Processing Record 17 of Set 1 | mahebourg\n",
      "Processing Record 18 of Set 1 | butaritari\n",
      "Processing Record 19 of Set 1 | tsihombe\n",
      "City not found. Skipping...\n",
      "Processing Record 20 of Set 1 | hithadhoo\n",
      "Processing Record 21 of Set 1 | port elizabeth\n",
      "Processing Record 22 of Set 1 | abalak\n",
      "Processing Record 23 of Set 1 | qaanaaq\n",
      "Processing Record 24 of Set 1 | ilulissat\n",
      "Processing Record 25 of Set 1 | saint george\n",
      "Processing Record 26 of Set 1 | kodiak\n",
      "Processing Record 27 of Set 1 | bluff\n",
      "Processing Record 28 of Set 1 | ostrovnoy\n",
      "Processing Record 29 of Set 1 | ribeira grande\n",
      "Processing Record 30 of Set 1 | jamestown\n",
      "Processing Record 31 of Set 1 | halalo\n",
      "City not found. Skipping...\n",
      "Processing Record 32 of Set 1 | faanui\n",
      "Processing Record 33 of Set 1 | albany\n",
      "Processing Record 34 of Set 1 | airai\n",
      "Processing Record 35 of Set 1 | port-gentil\n",
      "Processing Record 36 of Set 1 | port alfred\n",
      "Processing Record 37 of Set 1 | hakkari\n",
      "Processing Record 38 of Set 1 | avarua\n",
      "Processing Record 39 of Set 1 | comodoro rivadavia\n",
      "Processing Record 40 of Set 1 | portland\n",
      "Processing Record 41 of Set 1 | kavieng\n",
      "Processing Record 42 of Set 1 | atuona\n",
      "Processing Record 43 of Set 1 | barcelos\n",
      "Processing Record 44 of Set 1 | sechura\n",
      "Processing Record 45 of Set 1 | qaqortoq\n",
      "Processing Record 46 of Set 1 | urengoy\n",
      "Processing Record 47 of Set 1 | saskylakh\n",
      "Processing Record 48 of Set 1 | puerto ayora\n",
      "Processing Record 49 of Set 1 | mataura\n",
      "Processing Record 50 of Set 1 | mys shmidta\n",
      "City not found. Skipping...\n",
      "Processing Record 1 of Set 2 | coihaique\n",
      "Processing Record 2 of Set 2 | tuktoyaktuk\n",
      "Processing Record 3 of Set 2 | east london\n",
      "Processing Record 4 of Set 2 | codrington\n",
      "Processing Record 5 of Set 2 | flin flon\n",
      "Processing Record 6 of Set 2 | portree\n",
      "Processing Record 7 of Set 2 | vardo\n",
      "Processing Record 8 of Set 2 | bolungarvik\n",
      "City not found. Skipping...\n",
      "Processing Record 9 of Set 2 | murgab\n",
      "Processing Record 10 of Set 2 | saint-pierre\n",
      "Processing Record 11 of Set 2 | marcona\n",
      "City not found. Skipping...\n",
      "Processing Record 12 of Set 2 | nome\n",
      "Processing Record 13 of Set 2 | taltal\n",
      "Processing Record 14 of Set 2 | ahuimanu\n",
      "Processing Record 15 of Set 2 | biltine\n",
      "Processing Record 16 of Set 2 | bida\n",
      "Processing Record 17 of Set 2 | cape town\n",
      "Processing Record 18 of Set 2 | sangar\n",
      "Processing Record 19 of Set 2 | nagato\n",
      "Processing Record 20 of Set 2 | busselton\n",
      "Processing Record 21 of Set 2 | inhambane\n",
      "Processing Record 22 of Set 2 | punta arenas\n",
      "Processing Record 23 of Set 2 | ranfurly\n",
      "Processing Record 24 of Set 2 | klaebu\n",
      "Processing Record 25 of Set 2 | petrovskoye\n",
      "Processing Record 26 of Set 2 | nara\n",
      "Processing Record 27 of Set 2 | hualmay\n",
      "Processing Record 28 of Set 2 | chuy\n",
      "Processing Record 29 of Set 2 | takestan\n",
      "Processing Record 30 of Set 2 | yar-sale\n",
      "Processing Record 31 of Set 2 | necochea\n",
      "Processing Record 32 of Set 2 | kirakira\n",
      "Processing Record 33 of Set 2 | bobo dioulasso\n",
      "Processing Record 34 of Set 2 | westport\n",
      "Processing Record 35 of Set 2 | novikovo\n",
      "Processing Record 36 of Set 2 | upernavik\n",
      "Processing Record 37 of Set 2 | oriximina\n",
      "Processing Record 38 of Set 2 | bredasdorp\n",
      "Processing Record 39 of Set 2 | kusk\n",
      "City not found. Skipping...\n",
      "Processing Record 40 of Set 2 | mount vernon\n",
      "Processing Record 41 of Set 2 | ewa beach\n",
      "Processing Record 42 of Set 2 | nabinagar\n",
      "Processing Record 43 of Set 2 | taolanaro\n",
      "City not found. Skipping...\n",
      "Processing Record 44 of Set 2 | el balyana\n",
      "City not found. Skipping...\n",
      "Processing Record 45 of Set 2 | lebu\n",
      "Processing Record 46 of Set 2 | suruc\n",
      "Processing Record 47 of Set 2 | naroda\n",
      "Processing Record 48 of Set 2 | umzimvubu\n",
      "City not found. Skipping...\n",
      "Processing Record 49 of Set 2 | kelowna\n",
      "Processing Record 50 of Set 2 | bonthe\n",
      "Processing Record 1 of Set 3 | waddan\n",
      "Processing Record 2 of Set 3 | kindu\n",
      "Processing Record 3 of Set 3 | chokurdakh\n",
      "Processing Record 4 of Set 3 | mantua\n",
      "Processing Record 5 of Set 3 | klamath falls\n",
      "Processing Record 6 of Set 3 | rockport\n",
      "Processing Record 7 of Set 3 | carnarvon\n",
      "Processing Record 8 of Set 3 | kruisfontein\n",
      "Processing Record 9 of Set 3 | cherskiy\n",
      "Processing Record 10 of Set 3 | dingle\n",
      "Processing Record 11 of Set 3 | nikolskoye\n",
      "Processing Record 12 of Set 3 | tasiilaq\n",
      "Processing Record 13 of Set 3 | vila velha\n",
      "Processing Record 14 of Set 3 | esperance\n",
      "Processing Record 15 of Set 3 | sitka\n",
      "Processing Record 16 of Set 3 | bambous virieux\n",
      "Processing Record 17 of Set 3 | vaitupu\n",
      "City not found. Skipping...\n",
      "Processing Record 18 of Set 3 | amderma\n",
      "City not found. Skipping...\n",
      "Processing Record 19 of Set 3 | umm lajj\n",
      "Processing Record 20 of Set 3 | coquimbo\n",
      "Processing Record 21 of Set 3 | tromso\n",
      "Processing Record 22 of Set 3 | narsaq\n",
      "Processing Record 23 of Set 3 | dekar\n",
      "Processing Record 24 of Set 3 | ngukurr\n",
      "City not found. Skipping...\n",
      "Processing Record 25 of Set 3 | saint-louis\n",
      "Processing Record 26 of Set 3 | ipora\n",
      "Processing Record 27 of Set 3 | talnakh\n",
      "Processing Record 28 of Set 3 | turbat\n",
      "Processing Record 29 of Set 3 | odienne\n",
      "Processing Record 30 of Set 3 | sao joao da barra\n",
      "Processing Record 31 of Set 3 | angoche\n",
      "Processing Record 32 of Set 3 | kamenka\n",
      "Processing Record 33 of Set 3 | dubai\n",
      "Processing Record 34 of Set 3 | oyama\n",
      "Processing Record 35 of Set 3 | pustoshka\n",
      "Processing Record 36 of Set 3 | norman wells\n",
      "Processing Record 37 of Set 3 | manono\n",
      "Processing Record 38 of Set 3 | hilo\n",
      "Processing Record 39 of Set 3 | mundra\n",
      "Processing Record 40 of Set 3 | saleaula\n",
      "City not found. Skipping...\n",
      "Processing Record 41 of Set 3 | nantucket\n",
      "Processing Record 42 of Set 3 | dikson\n",
      "Processing Record 43 of Set 3 | la tuque\n",
      "Processing Record 44 of Set 3 | yarovoye\n",
      "Processing Record 45 of Set 3 | evensk\n",
      "Processing Record 46 of Set 3 | ugoofaaru\n",
      "Processing Record 47 of Set 3 | qui nhon\n",
      "Processing Record 48 of Set 3 | kapaa\n",
      "Processing Record 49 of Set 3 | bathsheba\n",
      "Processing Record 50 of Set 3 | kabanjahe\n",
      "Processing Record 1 of Set 4 | barentsburg\n",
      "City not found. Skipping...\n",
      "Processing Record 2 of Set 4 | los llanos de aridane\n",
      "Processing Record 3 of Set 4 | bengkulu\n",
      "Processing Record 4 of Set 4 | klaksvik\n",
      "Processing Record 5 of Set 4 | leningradskiy\n",
      "Processing Record 6 of Set 4 | rio gallegos\n",
      "Processing Record 7 of Set 4 | castro\n",
      "Processing Record 8 of Set 4 | mahaicony\n",
      "City not found. Skipping...\n",
      "Processing Record 9 of Set 4 | barrow\n",
      "Processing Record 10 of Set 4 | yellowknife\n",
      "Processing Record 11 of Set 4 | novhorodka\n",
      "Processing Record 12 of Set 4 | port lincoln\n",
      "Processing Record 13 of Set 4 | rangpur\n",
      "Processing Record 14 of Set 4 | port blair\n",
      "Processing Record 15 of Set 4 | naryan-mar\n",
      "Processing Record 16 of Set 4 | morden\n",
      "Processing Record 17 of Set 4 | bilibino\n",
      "Processing Record 18 of Set 4 | pag\n",
      "Processing Record 19 of Set 4 | mar del plata\n",
      "Processing Record 20 of Set 4 | henties bay\n",
      "Processing Record 21 of Set 4 | deputatskiy\n",
      "Processing Record 22 of Set 4 | karratha\n",
      "Processing Record 23 of Set 4 | provideniya\n",
      "Processing Record 24 of Set 4 | bonavista\n",
      "Processing Record 25 of Set 4 | sungaipenuh\n",
      "Processing Record 26 of Set 4 | sao filipe\n",
      "Processing Record 27 of Set 4 | sukumo\n",
      "Processing Record 28 of Set 4 | kudahuvadhoo\n",
      "Processing Record 29 of Set 4 | yagodnoye\n",
      "Processing Record 30 of Set 4 | florianopolis\n",
      "Processing Record 31 of Set 4 | hobart\n",
      "Processing Record 32 of Set 4 | singaparna\n",
      "Processing Record 33 of Set 4 | mount gambier\n",
      "Processing Record 34 of Set 4 | pauini\n",
      "Processing Record 35 of Set 4 | parrita\n",
      "Processing Record 36 of Set 4 | trincomalee\n",
      "Processing Record 37 of Set 4 | pangai\n"
     ]
    },
    {
     "name": "stdout",
     "output_type": "stream",
     "text": [
      "Processing Record 38 of Set 4 | puerto pinasco\n",
      "City not found. Skipping...\n",
      "Processing Record 39 of Set 4 | abha\n",
      "Processing Record 40 of Set 4 | olafsvik\n",
      "Processing Record 41 of Set 4 | bilma\n",
      "Processing Record 42 of Set 4 | lavrentiya\n",
      "Processing Record 43 of Set 4 | gorontalo\n",
      "Processing Record 44 of Set 4 | belushya guba\n",
      "City not found. Skipping...\n",
      "Processing Record 45 of Set 4 | saint anthony\n",
      "Processing Record 46 of Set 4 | svetlyy\n",
      "Processing Record 47 of Set 4 | zarate\n",
      "Processing Record 48 of Set 4 | grand river south east\n",
      "City not found. Skipping...\n",
      "Processing Record 49 of Set 4 | saint-philippe\n",
      "Processing Record 50 of Set 4 | bethanien\n",
      "Processing Record 1 of Set 5 | petropavlovsk-kamchatskiy\n",
      "Processing Record 2 of Set 5 | richmond\n",
      "Processing Record 3 of Set 5 | pangnirtung\n",
      "Processing Record 4 of Set 5 | touros\n",
      "Processing Record 5 of Set 5 | debre tabor\n",
      "Processing Record 6 of Set 5 | fuling\n",
      "Processing Record 7 of Set 5 | fort nelson\n",
      "Processing Record 8 of Set 5 | loa janan\n",
      "Processing Record 9 of Set 5 | ulladulla\n",
      "Processing Record 10 of Set 5 | cabo san lucas\n",
      "Processing Record 11 of Set 5 | oga\n",
      "Processing Record 12 of Set 5 | melong\n",
      "Processing Record 13 of Set 5 | bandarbeyla\n",
      "Processing Record 14 of Set 5 | garowe\n",
      "Processing Record 15 of Set 5 | samusu\n",
      "City not found. Skipping...\n",
      "Processing Record 16 of Set 5 | padang\n",
      "Processing Record 17 of Set 5 | dudinka\n",
      "Processing Record 18 of Set 5 | torbay\n",
      "Processing Record 19 of Set 5 | georgetown\n",
      "Processing Record 20 of Set 5 | axos\n",
      "Processing Record 21 of Set 5 | hambantota\n",
      "Processing Record 22 of Set 5 | sinkat\n",
      "City not found. Skipping...\n",
      "Processing Record 23 of Set 5 | khatanga\n",
      "Processing Record 24 of Set 5 | victoria\n",
      "Processing Record 25 of Set 5 | naze\n",
      "Processing Record 26 of Set 5 | guanhaes\n",
      "Processing Record 27 of Set 5 | lisakovsk\n",
      "Processing Record 28 of Set 5 | azacualpa\n",
      "Processing Record 29 of Set 5 | dubbo\n",
      "Processing Record 30 of Set 5 | constitucion\n",
      "Processing Record 31 of Set 5 | nizhneyansk\n",
      "City not found. Skipping...\n",
      "Processing Record 32 of Set 5 | taos\n",
      "Processing Record 33 of Set 5 | hamilton\n",
      "Processing Record 34 of Set 5 | melfi\n",
      "Processing Record 35 of Set 5 | santa fe\n",
      "Processing Record 36 of Set 5 | port keats\n",
      "Processing Record 37 of Set 5 | bayangol\n",
      "Processing Record 38 of Set 5 | eureka\n",
      "Processing Record 39 of Set 5 | buchanan\n",
      "Processing Record 40 of Set 5 | anadyr\n",
      "Processing Record 41 of Set 5 | kibre mengist\n",
      "Processing Record 42 of Set 5 | nanortalik\n",
      "Processing Record 43 of Set 5 | batagay-alyta\n",
      "Processing Record 44 of Set 5 | haines junction\n",
      "Processing Record 45 of Set 5 | tuatapere\n",
      "Processing Record 46 of Set 5 | sri aman\n",
      "Processing Record 47 of Set 5 | nyurba\n",
      "Processing Record 48 of Set 5 | rabo de peixe\n",
      "Processing Record 49 of Set 5 | russell\n",
      "Processing Record 50 of Set 5 | lagoa\n",
      "Processing Record 1 of Set 6 | quatre cocos\n",
      "Processing Record 2 of Set 6 | harper\n",
      "Processing Record 3 of Set 6 | thayetmyo\n",
      "Processing Record 4 of Set 6 | tashigang\n",
      "Processing Record 5 of Set 6 | severo-kurilsk\n",
      "Processing Record 6 of Set 6 | primo tapia\n",
      "Processing Record 7 of Set 6 | ondjiva\n",
      "Processing Record 8 of Set 6 | chitral\n",
      "Processing Record 9 of Set 6 | palasa\n",
      "Processing Record 10 of Set 6 | tucumcari\n",
      "Processing Record 11 of Set 6 | doka\n",
      "Processing Record 12 of Set 6 | longyearbyen\n",
      "Processing Record 13 of Set 6 | kasulu\n",
      "Processing Record 14 of Set 6 | alofi\n",
      "Processing Record 15 of Set 6 | paamiut\n",
      "Processing Record 16 of Set 6 | oistins\n",
      "Processing Record 17 of Set 6 | attawapiskat\n",
      "City not found. Skipping...\n",
      "Processing Record 18 of Set 6 | tazovskiy\n",
      "Processing Record 19 of Set 6 | lorengau\n",
      "Processing Record 20 of Set 6 | mitsamiouli\n",
      "Processing Record 21 of Set 6 | kulim\n",
      "Processing Record 22 of Set 6 | buncrana\n",
      "Processing Record 23 of Set 6 | san angelo\n",
      "Processing Record 24 of Set 6 | werda\n",
      "Processing Record 25 of Set 6 | college\n",
      "Processing Record 26 of Set 6 | bella union\n",
      "Processing Record 27 of Set 6 | great falls\n",
      "Processing Record 28 of Set 6 | marienburg\n",
      "Processing Record 29 of Set 6 | vila franca do campo\n",
      "Processing Record 30 of Set 6 | mercedes\n",
      "Processing Record 31 of Set 6 | iskateley\n",
      "Processing Record 32 of Set 6 | te anau\n",
      "Processing Record 33 of Set 6 | souillac\n",
      "Processing Record 34 of Set 6 | nata\n",
      "Processing Record 35 of Set 6 | metu\n",
      "Processing Record 36 of Set 6 | dong xoai\n",
      "Processing Record 37 of Set 6 | chicama\n",
      "Processing Record 38 of Set 6 | tres arroyos\n",
      "Processing Record 39 of Set 6 | patiya\n",
      "Processing Record 40 of Set 6 | mazagao\n",
      "Processing Record 41 of Set 6 | jalu\n",
      "Processing Record 42 of Set 6 | gamba\n",
      "Processing Record 43 of Set 6 | vanavara\n",
      "Processing Record 44 of Set 6 | kargopol\n",
      "Processing Record 45 of Set 6 | tual\n",
      "Processing Record 46 of Set 6 | clyde river\n",
      "Processing Record 47 of Set 6 | dauphin\n",
      "Processing Record 48 of Set 6 | sorland\n",
      "Processing Record 49 of Set 6 | ixtapa\n",
      "Processing Record 50 of Set 6 | havelock\n",
      "Processing Record 1 of Set 7 | strezhevoy\n",
      "Processing Record 2 of Set 7 | baita de sub codru\n",
      "Processing Record 3 of Set 7 | fortuna\n",
      "Processing Record 4 of Set 7 | olinda\n",
      "Processing Record 5 of Set 7 | akot\n",
      "Processing Record 6 of Set 7 | port moresby\n",
      "Processing Record 7 of Set 7 | posse\n",
      "Processing Record 8 of Set 7 | severnoye\n",
      "Processing Record 9 of Set 7 | sentyabrskiy\n",
      "City not found. Skipping...\n",
      "Processing Record 10 of Set 7 | axim\n",
      "Processing Record 11 of Set 7 | palabuhanratu\n",
      "City not found. Skipping...\n",
      "Processing Record 12 of Set 7 | tessalit\n",
      "Processing Record 13 of Set 7 | napasar\n",
      "Processing Record 14 of Set 7 | amelia\n",
      "Processing Record 15 of Set 7 | preston\n",
      "Processing Record 16 of Set 7 | bukavu\n",
      "Processing Record 17 of Set 7 | yaqui\n",
      "Processing Record 18 of Set 7 | yiyang\n",
      "Processing Record 19 of Set 7 | kungurtug\n",
      "Processing Record 20 of Set 7 | liverpool\n",
      "Processing Record 21 of Set 7 | bukama\n",
      "Processing Record 22 of Set 7 | bloemfontein\n",
      "Processing Record 23 of Set 7 | tarnogskiy gorodok\n",
      "Processing Record 24 of Set 7 | shimoda\n",
      "Processing Record 25 of Set 7 | severodvinsk\n",
      "Processing Record 26 of Set 7 | ponta do sol\n",
      "Processing Record 27 of Set 7 | nabire\n",
      "Processing Record 28 of Set 7 | lompoc\n",
      "Processing Record 29 of Set 7 | bairiki\n",
      "Processing Record 30 of Set 7 | sao joao do paraiso\n",
      "Processing Record 31 of Set 7 | halifax\n",
      "Processing Record 32 of Set 7 | bethel\n",
      "Processing Record 33 of Set 7 | belaya gora\n",
      "Processing Record 34 of Set 7 | aiani\n",
      "Processing Record 35 of Set 7 | marawi\n",
      "Processing Record 36 of Set 7 | banda aceh\n",
      "Processing Record 37 of Set 7 | ancud\n",
      "Processing Record 38 of Set 7 | rawson\n",
      "Processing Record 39 of Set 7 | skibbereen\n",
      "Processing Record 40 of Set 7 | nizhniy odes\n",
      "Processing Record 41 of Set 7 | cam ranh\n",
      "Processing Record 42 of Set 7 | rumonge\n",
      "Processing Record 43 of Set 7 | wanning\n",
      "Processing Record 44 of Set 7 | manaure\n",
      "Processing Record 45 of Set 7 | mount isa\n",
      "Processing Record 46 of Set 7 | orlik\n",
      "Processing Record 47 of Set 7 | porto murtinho\n",
      "Processing Record 48 of Set 7 | ust-tsilma\n",
      "Processing Record 49 of Set 7 | batesville\n",
      "Processing Record 50 of Set 7 | port macquarie\n",
      "Processing Record 1 of Set 8 | karpathos\n",
      "Processing Record 2 of Set 8 | kirksville\n",
      "Processing Record 3 of Set 8 | luba\n",
      "Processing Record 4 of Set 8 | namatanai\n",
      "Processing Record 5 of Set 8 | mundwa\n",
      "Processing Record 6 of Set 8 | atar\n",
      "Processing Record 7 of Set 8 | erdenet\n",
      "Processing Record 8 of Set 8 | asau\n",
      "Processing Record 9 of Set 8 | katsuura\n",
      "Processing Record 10 of Set 8 | taitung\n",
      "Processing Record 11 of Set 8 | glenwood springs\n",
      "Processing Record 12 of Set 8 | polyarnyy\n",
      "Processing Record 13 of Set 8 | pacific grove\n",
      "Processing Record 14 of Set 8 | nanakuli\n",
      "Processing Record 15 of Set 8 | pevek\n",
      "Processing Record 16 of Set 8 | mandan\n",
      "Processing Record 17 of Set 8 | eenhana\n",
      "Processing Record 18 of Set 8 | orcopampa\n",
      "Processing Record 19 of Set 8 | omsukchan\n",
      "Processing Record 20 of Set 8 | we\n",
      "City not found. Skipping...\n",
      "Processing Record 21 of Set 8 | enugu\n",
      "Processing Record 22 of Set 8 | coahuayana\n",
      "Processing Record 23 of Set 8 | eregli\n",
      "Processing Record 24 of Set 8 | bismarck\n",
      "Processing Record 25 of Set 8 | tucurui\n",
      "Processing Record 26 of Set 8 | acapulco\n",
      "Processing Record 27 of Set 8 | tulcingo\n",
      "City not found. Skipping...\n",
      "Processing Record 28 of Set 8 | mecca\n",
      "Processing Record 29 of Set 8 | san quintin\n",
      "Processing Record 30 of Set 8 | christchurch\n"
     ]
    },
    {
     "name": "stdout",
     "output_type": "stream",
     "text": [
      "Processing Record 31 of Set 8 | bogovarovo\n",
      "Processing Record 32 of Set 8 | smithers\n",
      "Processing Record 33 of Set 8 | egvekinot\n",
      "Processing Record 34 of Set 8 | vostok\n",
      "Processing Record 35 of Set 8 | zyryanka\n",
      "Processing Record 36 of Set 8 | gayny\n",
      "Processing Record 37 of Set 8 | sur\n",
      "Processing Record 38 of Set 8 | upata\n",
      "Processing Record 39 of Set 8 | fochville\n",
      "Processing Record 40 of Set 8 | kaeo\n",
      "Processing Record 41 of Set 8 | geraldton\n",
      "Processing Record 42 of Set 8 | beringovskiy\n",
      "Processing Record 43 of Set 8 | panubigan\n",
      "Processing Record 44 of Set 8 | hassan\n",
      "Processing Record 45 of Set 8 | taksimo\n",
      "Processing Record 46 of Set 8 | muisne\n",
      "Processing Record 47 of Set 8 | san cristobal\n",
      "Processing Record 48 of Set 8 | guider\n",
      "Processing Record 49 of Set 8 | tiznit\n",
      "Processing Record 50 of Set 8 | guerrero negro\n",
      "Processing Record 1 of Set 9 | muroto\n",
      "Processing Record 2 of Set 9 | mokolo\n",
      "Processing Record 3 of Set 9 | kosh-agach\n",
      "Processing Record 4 of Set 9 | vao\n",
      "Processing Record 5 of Set 9 | mountain home\n",
      "Processing Record 6 of Set 9 | mezen\n",
      "Processing Record 7 of Set 9 | jibuti\n",
      "Processing Record 8 of Set 9 | norsup\n",
      "Processing Record 9 of Set 9 | kalmunai\n",
      "Processing Record 10 of Set 9 | komsomolskiy\n",
      "Processing Record 11 of Set 9 | cidreira\n",
      "Processing Record 12 of Set 9 | sao felix do xingu\n",
      "Processing Record 13 of Set 9 | jiddah\n",
      "City not found. Skipping...\n",
      "Processing Record 14 of Set 9 | lethem\n",
      "Processing Record 15 of Set 9 | shingu\n",
      "Processing Record 16 of Set 9 | ketchikan\n",
      "Processing Record 17 of Set 9 | lahaina\n",
      "Processing Record 18 of Set 9 | novomyshastovskaya\n",
      "Processing Record 19 of Set 9 | fairbanks\n",
      "Processing Record 20 of Set 9 | moree\n",
      "Processing Record 21 of Set 9 | nishiwaki\n",
      "Processing Record 22 of Set 9 | ajdabiya\n",
      "Processing Record 23 of Set 9 | rungata\n",
      "City not found. Skipping...\n",
      "Processing Record 24 of Set 9 | walvis bay\n",
      "Processing Record 25 of Set 9 | ahwa\n",
      "Processing Record 26 of Set 9 | boende\n",
      "Processing Record 27 of Set 9 | iralaya\n",
      "Processing Record 28 of Set 9 | luderitz\n",
      "Processing Record 29 of Set 9 | moussoro\n",
      "Processing Record 30 of Set 9 | labuhan\n",
      "Processing Record 31 of Set 9 | waipawa\n",
      "Processing Record 32 of Set 9 | yumen\n",
      "Processing Record 33 of Set 9 | south valley\n",
      "Processing Record 34 of Set 9 | mahajanga\n",
      "Processing Record 35 of Set 9 | waingapu\n",
      "Processing Record 36 of Set 9 | pio ix\n",
      "Processing Record 37 of Set 9 | coulihaut\n",
      "City not found. Skipping...\n",
      "Processing Record 38 of Set 9 | nishihara\n",
      "Processing Record 39 of Set 9 | bambanglipuro\n",
      "Processing Record 40 of Set 9 | utiroa\n",
      "City not found. Skipping...\n",
      "Processing Record 41 of Set 9 | kirkwall\n",
      "Processing Record 42 of Set 9 | xichang\n",
      "Processing Record 43 of Set 9 | belmonte\n",
      "Processing Record 44 of Set 9 | ternate\n",
      "Processing Record 45 of Set 9 | khanpur\n",
      "Processing Record 46 of Set 9 | pokhara\n",
      "Processing Record 47 of Set 9 | toora-khem\n",
      "Processing Record 48 of Set 9 | port hardy\n",
      "Processing Record 49 of Set 9 | karasjok\n",
      "Processing Record 50 of Set 9 | antalaha\n",
      "Processing Record 1 of Set 10 | alice springs\n",
      "Processing Record 2 of Set 10 | shaoxing\n",
      "Processing Record 3 of Set 10 | gisborne\n",
      "Processing Record 4 of Set 10 | tura\n",
      "Processing Record 5 of Set 10 | farias brito\n",
      "Processing Record 6 of Set 10 | kahului\n",
      "Processing Record 7 of Set 10 | inverness\n",
      "Processing Record 8 of Set 10 | ercis\n",
      "Processing Record 9 of Set 10 | malwan\n",
      "City not found. Skipping...\n",
      "Processing Record 10 of Set 10 | arman\n",
      "Processing Record 11 of Set 10 | agua branca\n",
      "Processing Record 12 of Set 10 | la rioja\n",
      "Processing Record 13 of Set 10 | superior\n",
      "Processing Record 14 of Set 10 | geresk\n",
      "City not found. Skipping...\n",
      "Processing Record 15 of Set 10 | haibowan\n",
      "City not found. Skipping...\n",
      "Processing Record 16 of Set 10 | baiyin\n",
      "Processing Record 17 of Set 10 | ilmajoki\n",
      "Processing Record 18 of Set 10 | lubango\n",
      "Processing Record 19 of Set 10 | san pedro jocopilas\n",
      "Processing Record 20 of Set 10 | sovetskiy\n",
      "Processing Record 21 of Set 10 | fiumicino\n",
      "Processing Record 22 of Set 10 | makakilo city\n",
      "Processing Record 23 of Set 10 | cochrane\n",
      "Processing Record 24 of Set 10 | nemuro\n",
      "Processing Record 25 of Set 10 | aklavik\n",
      "Processing Record 26 of Set 10 | plouzane\n",
      "Processing Record 27 of Set 10 | progreso\n",
      "Processing Record 28 of Set 10 | yining\n",
      "Processing Record 29 of Set 10 | dengzhou\n",
      "Processing Record 30 of Set 10 | bellary\n",
      "Processing Record 31 of Set 10 | lata\n",
      "Processing Record 32 of Set 10 | rundu\n",
      "Processing Record 33 of Set 10 | kangalassy\n",
      "Processing Record 34 of Set 10 | faya\n",
      "Processing Record 35 of Set 10 | matagami\n",
      "Processing Record 36 of Set 10 | togur\n",
      "Processing Record 37 of Set 10 | laiagam\n",
      "City not found. Skipping...\n",
      "Processing Record 38 of Set 10 | mutare\n",
      "Processing Record 39 of Set 10 | palencia\n",
      "Processing Record 40 of Set 10 | udachnyy\n",
      "Processing Record 41 of Set 10 | ilhabela\n",
      "Processing Record 42 of Set 10 | mahibadhoo\n",
      "Processing Record 43 of Set 10 | bogale\n",
      "Processing Record 44 of Set 10 | kandi\n",
      "Processing Record 45 of Set 10 | guangyuan\n",
      "Processing Record 46 of Set 10 | tigil\n",
      "Processing Record 47 of Set 10 | wonthaggi\n",
      "Processing Record 48 of Set 10 | najran\n",
      "Processing Record 49 of Set 10 | potam\n",
      "Processing Record 50 of Set 10 | corinto\n",
      "Processing Record 1 of Set 11 | yabrud\n",
      "Processing Record 2 of Set 11 | praia\n",
      "Processing Record 3 of Set 11 | palmer\n",
      "Processing Record 4 of Set 11 | lamu\n",
      "Processing Record 5 of Set 11 | santa cruz\n",
      "Processing Record 6 of Set 11 | jackson\n",
      "Processing Record 7 of Set 11 | smoky lake\n",
      "Processing Record 8 of Set 11 | hobyo\n",
      "Processing Record 9 of Set 11 | pangkalanbuun\n",
      "Processing Record 10 of Set 11 | balkanabat\n",
      "Processing Record 11 of Set 11 | ust-uda\n",
      "Processing Record 12 of Set 11 | agva\n",
      "City not found. Skipping...\n",
      "Processing Record 13 of Set 11 | winnemucca\n",
      "Processing Record 14 of Set 11 | vestmannaeyjar\n",
      "Processing Record 15 of Set 11 | reconquista\n",
      "Processing Record 16 of Set 11 | carlagan\n",
      "Processing Record 17 of Set 11 | billings\n",
      "Processing Record 18 of Set 11 | tingrela\n",
      "City not found. Skipping...\n",
      "Processing Record 19 of Set 11 | okato\n",
      "Processing Record 20 of Set 11 | temaraia\n",
      "City not found. Skipping...\n",
      "Processing Record 21 of Set 11 | achinsk\n",
      "Processing Record 22 of Set 11 | florencia\n",
      "Processing Record 23 of Set 11 | sosnovo-ozerskoye\n",
      "Processing Record 24 of Set 11 | harrisonville\n",
      "Processing Record 25 of Set 11 | bara\n",
      "Processing Record 26 of Set 11 | ormara\n",
      "Processing Record 27 of Set 11 | sinnamary\n",
      "Processing Record 28 of Set 11 | estrela\n",
      "Processing Record 29 of Set 11 | lima\n",
      "Processing Record 30 of Set 11 | grand valley\n",
      "Processing Record 31 of Set 11 | inirida\n",
      "Processing Record 32 of Set 11 | caravelas\n",
      "Processing Record 33 of Set 11 | port hedland\n",
      "Processing Record 34 of Set 11 | lalibela\n",
      "Processing Record 35 of Set 11 | dhidhdhoo\n",
      "Processing Record 36 of Set 11 | kaitangata\n",
      "Processing Record 37 of Set 11 | mehamn\n",
      "Processing Record 38 of Set 11 | tres passos\n",
      "Processing Record 39 of Set 11 | blagoyevo\n",
      "Processing Record 40 of Set 11 | kasongo-lunda\n",
      "Processing Record 41 of Set 11 | petrivka\n",
      "Processing Record 42 of Set 11 | semporna\n",
      "Processing Record 43 of Set 11 | port-cartier\n",
      "Processing Record 44 of Set 11 | takoradi\n",
      "Processing Record 45 of Set 11 | boa viagem\n",
      "Processing Record 46 of Set 11 | biak\n",
      "Processing Record 47 of Set 11 | dong hoi\n",
      "Processing Record 48 of Set 11 | lesnyye polyany\n",
      "Processing Record 49 of Set 11 | oksfjord\n",
      "Processing Record 50 of Set 11 | dunedin\n",
      "Processing Record 1 of Set 12 | gravatai\n",
      "Processing Record 2 of Set 12 | goundam\n",
      "Processing Record 3 of Set 12 | kahna nau\n",
      "Processing Record 4 of Set 12 | ust-nera\n",
      "Processing Record 5 of Set 12 | saint-georges\n",
      "Processing Record 6 of Set 12 | kilimatinde\n",
      "Processing Record 7 of Set 12 | cheyenne\n",
      "Processing Record 8 of Set 12 | hyeres\n",
      "Processing Record 9 of Set 12 | panaba\n",
      "Processing Record 10 of Set 12 | nivala\n",
      "Processing Record 11 of Set 12 | freeport\n",
      "Processing Record 12 of Set 12 | valley city\n",
      "Processing Record 13 of Set 12 | solano\n",
      "Processing Record 14 of Set 12 | maningrida\n",
      "Processing Record 15 of Set 12 | kollegal\n",
      "Processing Record 16 of Set 12 | kailua\n",
      "Processing Record 17 of Set 12 | businga\n",
      "Processing Record 18 of Set 12 | sahuaripa\n",
      "Processing Record 19 of Set 12 | polson\n",
      "Processing Record 20 of Set 12 | rapu-rapu\n",
      "Processing Record 21 of Set 12 | semarang\n"
     ]
    },
    {
     "name": "stdout",
     "output_type": "stream",
     "text": [
      "Processing Record 22 of Set 12 | salekhard\n",
      "Processing Record 23 of Set 12 | qitaihe\n",
      "Processing Record 24 of Set 12 | ermua\n",
      "Processing Record 25 of Set 12 | casablanca\n",
      "Processing Record 26 of Set 12 | dimbokro\n",
      "Processing Record 27 of Set 12 | kovur\n",
      "Processing Record 28 of Set 12 | tiksi\n",
      "Processing Record 29 of Set 12 | tawkar\n",
      "City not found. Skipping...\n",
      "Processing Record 30 of Set 12 | san policarpo\n",
      "Processing Record 31 of Set 12 | san lorenzo\n",
      "Processing Record 32 of Set 12 | marakkanam\n",
      "Processing Record 33 of Set 12 | huarmey\n",
      "Processing Record 34 of Set 12 | severomorsk\n",
      "Processing Record 35 of Set 12 | birao\n",
      "Processing Record 36 of Set 12 | krasnoselkup\n",
      "Processing Record 37 of Set 12 | catamarca\n",
      "Processing Record 38 of Set 12 | chapais\n",
      "Processing Record 39 of Set 12 | sumbawa\n",
      "City not found. Skipping...\n",
      "Processing Record 40 of Set 12 | ucluelet\n",
      "Processing Record 41 of Set 12 | knysna\n",
      "Processing Record 42 of Set 12 | karaul\n",
      "City not found. Skipping...\n",
      "Processing Record 43 of Set 12 | tautira\n",
      "Processing Record 44 of Set 12 | ayan\n",
      "Processing Record 45 of Set 12 | wattegama\n",
      "Processing Record 46 of Set 12 | kovdor\n",
      "Processing Record 47 of Set 12 | bac lieu\n",
      "Processing Record 48 of Set 12 | ahipara\n",
      "Processing Record 49 of Set 12 | vestmanna\n",
      "Processing Record 50 of Set 12 | rong kwang\n",
      "Processing Record 1 of Set 13 | chapleau\n",
      "Processing Record 2 of Set 13 | san jose\n",
      "Processing Record 3 of Set 13 | conceicao do araguaia\n",
      "Processing Record 4 of Set 13 | kaniama\n",
      "Processing Record 5 of Set 13 | santa rosa\n",
      "Processing Record 6 of Set 13 | vangaindrano\n",
      "Processing Record 7 of Set 13 | poum\n",
      "Processing Record 8 of Set 13 | sillod\n",
      "Processing Record 9 of Set 13 | kaseda\n",
      "Processing Record 10 of Set 13 | maltahohe\n",
      "Processing Record 11 of Set 13 | salalah\n",
      "Processing Record 12 of Set 13 | skjervoy\n",
      "Processing Record 13 of Set 13 | parkes\n",
      "-----------------------------\n",
      "Data Retrieval Complete      \n",
      "-----------------------------\n"
     ]
    }
   ],
   "source": [
    "# Create an empty list to hold the weather data.\n",
    "city_data = []\n",
    "# Print the beginning of the logging.\n",
    "print(\"Beginning Data Retrieval     \")\n",
    "print(\"-----------------------------\")\n",
    "\n",
    "# Create counters.\n",
    "record_count = 1\n",
    "set_count = 1\n",
    "\n",
    "# Loop through all the cities in the list.\n",
    "for i, city in enumerate(cities):\n",
    "\n",
    "    # Group cities in sets of 50 for logging purposes.\n",
    "    if (i % 50 == 0 and i >= 50):\n",
    "        set_count += 1\n",
    "        record_count = 1\n",
    "    # Create endpoint URL with each city.\n",
    "    city_url = url + \"&q=\" + city.replace(\" \",\"+\")\n",
    "\n",
    "    # Log the URL, record, and set numbers and the city.\n",
    "    print(f\"Processing Record {record_count} of Set {set_count} | {city}\")\n",
    "    # Add 1 to the record count.\n",
    "    record_count += 1\n",
    "    \n",
    "# Run an API request for each of the cities.\n",
    "    try:\n",
    "        # Parse the JSON and retrieve data.\n",
    "        city_weather = requests.get(city_url).json()\n",
    "        # Parse out the needed data.\n",
    "        city_lat = city_weather[\"coord\"][\"lat\"]\n",
    "        city_lng = city_weather[\"coord\"][\"lon\"]\n",
    "        city_max_temp = city_weather[\"main\"][\"temp_max\"]\n",
    "        city_humidity = city_weather[\"main\"][\"humidity\"]\n",
    "        city_clouds = city_weather[\"clouds\"][\"all\"]\n",
    "        city_wind = city_weather[\"wind\"][\"speed\"]\n",
    "        city_country = city_weather[\"sys\"][\"country\"]\n",
    "        # Convert the date to ISO standard.\n",
    "        city_date = datetime.utcfromtimestamp(city_weather[\"dt\"]).strftime('%Y-%m-%d %H:%M:%S')\n",
    "        # Append the city information into city_data list.\n",
    "        city_data.append({\"City\": city.title(),\n",
    "                          \"Lat\": city_lat,\n",
    "                          \"Lng\": city_lng,\n",
    "                          \"Max Temp\": city_max_temp,\n",
    "                          \"Humidity\": city_humidity,\n",
    "                          \"Cloudiness\": city_clouds,\n",
    "                          \"Wind Speed\": city_wind,\n",
    "                          \"Country\": city_country,\n",
    "                          \"Date\": city_date})\n",
    "\n",
    "# If an error is experienced, skip the city.\n",
    "    except:\n",
    "        print(\"City not found. Skipping...\")\n",
    "        pass\n",
    "\n",
    "# Indicate that Data Loading is complete.\n",
    "print(\"-----------------------------\")\n",
    "print(\"Data Retrieval Complete      \")\n",
    "print(\"-----------------------------\")"
   ]
  },
  {
   "cell_type": "code",
   "execution_count": 25,
   "metadata": {},
   "outputs": [
    {
     "data": {
      "text/plain": [
       "571"
      ]
     },
     "execution_count": 25,
     "metadata": {},
     "output_type": "execute_result"
    }
   ],
   "source": [
    "len(city_data)"
   ]
  },
  {
   "cell_type": "code",
   "execution_count": 26,
   "metadata": {},
   "outputs": [
    {
     "data": {
      "text/html": [
       "<div>\n",
       "<style scoped>\n",
       "    .dataframe tbody tr th:only-of-type {\n",
       "        vertical-align: middle;\n",
       "    }\n",
       "\n",
       "    .dataframe tbody tr th {\n",
       "        vertical-align: top;\n",
       "    }\n",
       "\n",
       "    .dataframe thead th {\n",
       "        text-align: right;\n",
       "    }\n",
       "</style>\n",
       "<table border=\"1\" class=\"dataframe\">\n",
       "  <thead>\n",
       "    <tr style=\"text-align: right;\">\n",
       "      <th></th>\n",
       "      <th>City</th>\n",
       "      <th>Lat</th>\n",
       "      <th>Lng</th>\n",
       "      <th>Max Temp</th>\n",
       "      <th>Humidity</th>\n",
       "      <th>Cloudiness</th>\n",
       "      <th>Wind Speed</th>\n",
       "      <th>Country</th>\n",
       "      <th>Date</th>\n",
       "    </tr>\n",
       "  </thead>\n",
       "  <tbody>\n",
       "    <tr>\n",
       "      <th>0</th>\n",
       "      <td>Hermanus</td>\n",
       "      <td>-34.42</td>\n",
       "      <td>19.23</td>\n",
       "      <td>48.99</td>\n",
       "      <td>83</td>\n",
       "      <td>0</td>\n",
       "      <td>1.01</td>\n",
       "      <td>ZA</td>\n",
       "      <td>2020-06-18 01:44:57</td>\n",
       "    </tr>\n",
       "    <tr>\n",
       "      <th>1</th>\n",
       "      <td>San Patricio</td>\n",
       "      <td>19.22</td>\n",
       "      <td>-104.70</td>\n",
       "      <td>80.60</td>\n",
       "      <td>78</td>\n",
       "      <td>40</td>\n",
       "      <td>11.41</td>\n",
       "      <td>MX</td>\n",
       "      <td>2020-06-18 01:44:57</td>\n",
       "    </tr>\n",
       "    <tr>\n",
       "      <th>2</th>\n",
       "      <td>Saldanha</td>\n",
       "      <td>-33.01</td>\n",
       "      <td>17.94</td>\n",
       "      <td>46.40</td>\n",
       "      <td>70</td>\n",
       "      <td>0</td>\n",
       "      <td>3.36</td>\n",
       "      <td>ZA</td>\n",
       "      <td>2020-06-18 01:44:58</td>\n",
       "    </tr>\n",
       "    <tr>\n",
       "      <th>3</th>\n",
       "      <td>Hasaki</td>\n",
       "      <td>35.73</td>\n",
       "      <td>140.83</td>\n",
       "      <td>75.99</td>\n",
       "      <td>78</td>\n",
       "      <td>75</td>\n",
       "      <td>3.36</td>\n",
       "      <td>JP</td>\n",
       "      <td>2020-06-18 01:42:09</td>\n",
       "    </tr>\n",
       "    <tr>\n",
       "      <th>4</th>\n",
       "      <td>Rikitea</td>\n",
       "      <td>-23.12</td>\n",
       "      <td>-134.97</td>\n",
       "      <td>75.61</td>\n",
       "      <td>81</td>\n",
       "      <td>100</td>\n",
       "      <td>16.35</td>\n",
       "      <td>PF</td>\n",
       "      <td>2020-06-18 01:41:51</td>\n",
       "    </tr>\n",
       "    <tr>\n",
       "      <th>5</th>\n",
       "      <td>Arraial Do Cabo</td>\n",
       "      <td>-22.97</td>\n",
       "      <td>-42.03</td>\n",
       "      <td>64.40</td>\n",
       "      <td>93</td>\n",
       "      <td>40</td>\n",
       "      <td>4.70</td>\n",
       "      <td>BR</td>\n",
       "      <td>2020-06-18 01:44:58</td>\n",
       "    </tr>\n",
       "    <tr>\n",
       "      <th>6</th>\n",
       "      <td>Vaini</td>\n",
       "      <td>-21.20</td>\n",
       "      <td>-175.20</td>\n",
       "      <td>75.20</td>\n",
       "      <td>73</td>\n",
       "      <td>40</td>\n",
       "      <td>12.75</td>\n",
       "      <td>TO</td>\n",
       "      <td>2020-06-18 01:44:58</td>\n",
       "    </tr>\n",
       "    <tr>\n",
       "      <th>7</th>\n",
       "      <td>Palu</td>\n",
       "      <td>-0.89</td>\n",
       "      <td>119.87</td>\n",
       "      <td>87.03</td>\n",
       "      <td>61</td>\n",
       "      <td>100</td>\n",
       "      <td>1.30</td>\n",
       "      <td>ID</td>\n",
       "      <td>2020-06-18 01:44:59</td>\n",
       "    </tr>\n",
       "    <tr>\n",
       "      <th>8</th>\n",
       "      <td>Meulaboh</td>\n",
       "      <td>4.14</td>\n",
       "      <td>96.13</td>\n",
       "      <td>82.80</td>\n",
       "      <td>65</td>\n",
       "      <td>90</td>\n",
       "      <td>2.66</td>\n",
       "      <td>ID</td>\n",
       "      <td>2020-06-18 01:44:59</td>\n",
       "    </tr>\n",
       "    <tr>\n",
       "      <th>9</th>\n",
       "      <td>Thompson</td>\n",
       "      <td>55.74</td>\n",
       "      <td>-97.86</td>\n",
       "      <td>41.00</td>\n",
       "      <td>93</td>\n",
       "      <td>90</td>\n",
       "      <td>18.34</td>\n",
       "      <td>CA</td>\n",
       "      <td>2020-06-18 01:44:59</td>\n",
       "    </tr>\n",
       "  </tbody>\n",
       "</table>\n",
       "</div>"
      ],
      "text/plain": [
       "              City    Lat     Lng  Max Temp  Humidity  Cloudiness  Wind Speed  \\\n",
       "0         Hermanus -34.42   19.23     48.99        83           0        1.01   \n",
       "1     San Patricio  19.22 -104.70     80.60        78          40       11.41   \n",
       "2         Saldanha -33.01   17.94     46.40        70           0        3.36   \n",
       "3           Hasaki  35.73  140.83     75.99        78          75        3.36   \n",
       "4          Rikitea -23.12 -134.97     75.61        81         100       16.35   \n",
       "5  Arraial Do Cabo -22.97  -42.03     64.40        93          40        4.70   \n",
       "6            Vaini -21.20 -175.20     75.20        73          40       12.75   \n",
       "7             Palu  -0.89  119.87     87.03        61         100        1.30   \n",
       "8         Meulaboh   4.14   96.13     82.80        65          90        2.66   \n",
       "9         Thompson  55.74  -97.86     41.00        93          90       18.34   \n",
       "\n",
       "  Country                 Date  \n",
       "0      ZA  2020-06-18 01:44:57  \n",
       "1      MX  2020-06-18 01:44:57  \n",
       "2      ZA  2020-06-18 01:44:58  \n",
       "3      JP  2020-06-18 01:42:09  \n",
       "4      PF  2020-06-18 01:41:51  \n",
       "5      BR  2020-06-18 01:44:58  \n",
       "6      TO  2020-06-18 01:44:58  \n",
       "7      ID  2020-06-18 01:44:59  \n",
       "8      ID  2020-06-18 01:44:59  \n",
       "9      CA  2020-06-18 01:44:59  "
      ]
     },
     "execution_count": 26,
     "metadata": {},
     "output_type": "execute_result"
    }
   ],
   "source": [
    "# Convert the array of dictionaries to a Pandas DataFrame.\n",
    "city_data_df = pd.DataFrame(city_data)\n",
    "city_data_df.head(10)"
   ]
  },
  {
   "cell_type": "code",
   "execution_count": 27,
   "metadata": {},
   "outputs": [
    {
     "data": {
      "text/html": [
       "<div>\n",
       "<style scoped>\n",
       "    .dataframe tbody tr th:only-of-type {\n",
       "        vertical-align: middle;\n",
       "    }\n",
       "\n",
       "    .dataframe tbody tr th {\n",
       "        vertical-align: top;\n",
       "    }\n",
       "\n",
       "    .dataframe thead th {\n",
       "        text-align: right;\n",
       "    }\n",
       "</style>\n",
       "<table border=\"1\" class=\"dataframe\">\n",
       "  <thead>\n",
       "    <tr style=\"text-align: right;\">\n",
       "      <th></th>\n",
       "      <th>City</th>\n",
       "      <th>Country</th>\n",
       "      <th>Date</th>\n",
       "      <th>Lat</th>\n",
       "      <th>Lng</th>\n",
       "      <th>Max Temp</th>\n",
       "      <th>Humidity</th>\n",
       "      <th>Cloudiness</th>\n",
       "      <th>Wind Speed</th>\n",
       "    </tr>\n",
       "  </thead>\n",
       "  <tbody>\n",
       "    <tr>\n",
       "      <th>0</th>\n",
       "      <td>Hermanus</td>\n",
       "      <td>ZA</td>\n",
       "      <td>2020-06-18 01:44:57</td>\n",
       "      <td>-34.42</td>\n",
       "      <td>19.23</td>\n",
       "      <td>48.99</td>\n",
       "      <td>83</td>\n",
       "      <td>0</td>\n",
       "      <td>1.01</td>\n",
       "    </tr>\n",
       "    <tr>\n",
       "      <th>1</th>\n",
       "      <td>San Patricio</td>\n",
       "      <td>MX</td>\n",
       "      <td>2020-06-18 01:44:57</td>\n",
       "      <td>19.22</td>\n",
       "      <td>-104.70</td>\n",
       "      <td>80.60</td>\n",
       "      <td>78</td>\n",
       "      <td>40</td>\n",
       "      <td>11.41</td>\n",
       "    </tr>\n",
       "    <tr>\n",
       "      <th>2</th>\n",
       "      <td>Saldanha</td>\n",
       "      <td>ZA</td>\n",
       "      <td>2020-06-18 01:44:58</td>\n",
       "      <td>-33.01</td>\n",
       "      <td>17.94</td>\n",
       "      <td>46.40</td>\n",
       "      <td>70</td>\n",
       "      <td>0</td>\n",
       "      <td>3.36</td>\n",
       "    </tr>\n",
       "    <tr>\n",
       "      <th>3</th>\n",
       "      <td>Hasaki</td>\n",
       "      <td>JP</td>\n",
       "      <td>2020-06-18 01:42:09</td>\n",
       "      <td>35.73</td>\n",
       "      <td>140.83</td>\n",
       "      <td>75.99</td>\n",
       "      <td>78</td>\n",
       "      <td>75</td>\n",
       "      <td>3.36</td>\n",
       "    </tr>\n",
       "    <tr>\n",
       "      <th>4</th>\n",
       "      <td>Rikitea</td>\n",
       "      <td>PF</td>\n",
       "      <td>2020-06-18 01:41:51</td>\n",
       "      <td>-23.12</td>\n",
       "      <td>-134.97</td>\n",
       "      <td>75.61</td>\n",
       "      <td>81</td>\n",
       "      <td>100</td>\n",
       "      <td>16.35</td>\n",
       "    </tr>\n",
       "    <tr>\n",
       "      <th>5</th>\n",
       "      <td>Arraial Do Cabo</td>\n",
       "      <td>BR</td>\n",
       "      <td>2020-06-18 01:44:58</td>\n",
       "      <td>-22.97</td>\n",
       "      <td>-42.03</td>\n",
       "      <td>64.40</td>\n",
       "      <td>93</td>\n",
       "      <td>40</td>\n",
       "      <td>4.70</td>\n",
       "    </tr>\n",
       "    <tr>\n",
       "      <th>6</th>\n",
       "      <td>Vaini</td>\n",
       "      <td>TO</td>\n",
       "      <td>2020-06-18 01:44:58</td>\n",
       "      <td>-21.20</td>\n",
       "      <td>-175.20</td>\n",
       "      <td>75.20</td>\n",
       "      <td>73</td>\n",
       "      <td>40</td>\n",
       "      <td>12.75</td>\n",
       "    </tr>\n",
       "    <tr>\n",
       "      <th>7</th>\n",
       "      <td>Palu</td>\n",
       "      <td>ID</td>\n",
       "      <td>2020-06-18 01:44:59</td>\n",
       "      <td>-0.89</td>\n",
       "      <td>119.87</td>\n",
       "      <td>87.03</td>\n",
       "      <td>61</td>\n",
       "      <td>100</td>\n",
       "      <td>1.30</td>\n",
       "    </tr>\n",
       "    <tr>\n",
       "      <th>8</th>\n",
       "      <td>Meulaboh</td>\n",
       "      <td>ID</td>\n",
       "      <td>2020-06-18 01:44:59</td>\n",
       "      <td>4.14</td>\n",
       "      <td>96.13</td>\n",
       "      <td>82.80</td>\n",
       "      <td>65</td>\n",
       "      <td>90</td>\n",
       "      <td>2.66</td>\n",
       "    </tr>\n",
       "    <tr>\n",
       "      <th>9</th>\n",
       "      <td>Thompson</td>\n",
       "      <td>CA</td>\n",
       "      <td>2020-06-18 01:44:59</td>\n",
       "      <td>55.74</td>\n",
       "      <td>-97.86</td>\n",
       "      <td>41.00</td>\n",
       "      <td>93</td>\n",
       "      <td>90</td>\n",
       "      <td>18.34</td>\n",
       "    </tr>\n",
       "  </tbody>\n",
       "</table>\n",
       "</div>"
      ],
      "text/plain": [
       "              City Country                 Date    Lat     Lng  Max Temp  \\\n",
       "0         Hermanus      ZA  2020-06-18 01:44:57 -34.42   19.23     48.99   \n",
       "1     San Patricio      MX  2020-06-18 01:44:57  19.22 -104.70     80.60   \n",
       "2         Saldanha      ZA  2020-06-18 01:44:58 -33.01   17.94     46.40   \n",
       "3           Hasaki      JP  2020-06-18 01:42:09  35.73  140.83     75.99   \n",
       "4          Rikitea      PF  2020-06-18 01:41:51 -23.12 -134.97     75.61   \n",
       "5  Arraial Do Cabo      BR  2020-06-18 01:44:58 -22.97  -42.03     64.40   \n",
       "6            Vaini      TO  2020-06-18 01:44:58 -21.20 -175.20     75.20   \n",
       "7             Palu      ID  2020-06-18 01:44:59  -0.89  119.87     87.03   \n",
       "8         Meulaboh      ID  2020-06-18 01:44:59   4.14   96.13     82.80   \n",
       "9         Thompson      CA  2020-06-18 01:44:59  55.74  -97.86     41.00   \n",
       "\n",
       "   Humidity  Cloudiness  Wind Speed  \n",
       "0        83           0        1.01  \n",
       "1        78          40       11.41  \n",
       "2        70           0        3.36  \n",
       "3        78          75        3.36  \n",
       "4        81         100       16.35  \n",
       "5        93          40        4.70  \n",
       "6        73          40       12.75  \n",
       "7        61         100        1.30  \n",
       "8        65          90        2.66  \n",
       "9        93          90       18.34  "
      ]
     },
     "execution_count": 27,
     "metadata": {},
     "output_type": "execute_result"
    }
   ],
   "source": [
    "new_column_order = [\"City\", \"Country\", \"Date\", \"Lat\", \"Lng\", \"Max Temp\", \"Humidity\", \"Cloudiness\", \"Wind Speed\"]\n",
    "new_city_data_df = city_data_df[new_column_order]\n",
    "new_city_data_df.head(10)"
   ]
  },
  {
   "cell_type": "code",
   "execution_count": 28,
   "metadata": {},
   "outputs": [
    {
     "data": {
      "text/plain": [
       "City          571\n",
       "Country       571\n",
       "Date          571\n",
       "Lat           571\n",
       "Lng           571\n",
       "Max Temp      571\n",
       "Humidity      571\n",
       "Cloudiness    571\n",
       "Wind Speed    571\n",
       "dtype: int64"
      ]
     },
     "execution_count": 28,
     "metadata": {},
     "output_type": "execute_result"
    }
   ],
   "source": [
    "new_city_data_df.count()"
   ]
  },
  {
   "cell_type": "code",
   "execution_count": 29,
   "metadata": {},
   "outputs": [],
   "source": [
    "# Create the output file (CSV).\n",
    "output_data_file = \"weather_data/cities.csv\"\n",
    "\n",
    "# Export the City_Data into a CSV.\n",
    "new_city_data_df.to_csv(output_data_file, index_label = \"City_ID\")"
   ]
  },
  {
   "cell_type": "code",
   "execution_count": 30,
   "metadata": {},
   "outputs": [],
   "source": [
    "# Extract relevant fields from the DataFrame for plotting.\n",
    "lats = new_city_data_df[\"Lat\"]\n",
    "max_temps = new_city_data_df[\"Max Temp\"]\n",
    "humidity = new_city_data_df[\"Humidity\"]\n",
    "cloudiness = new_city_data_df[\"Cloudiness\"]\n",
    "wind_speed = new_city_data_df[\"Wind Speed\"]"
   ]
  },
  {
   "cell_type": "code",
   "execution_count": 31,
   "metadata": {},
   "outputs": [],
   "source": [
    "# Import the time module.\n",
    "import time"
   ]
  },
  {
   "cell_type": "code",
   "execution_count": 32,
   "metadata": {},
   "outputs": [],
   "source": [
    "# # Get today's date in seconds.\n",
    "# today = time.time()\n",
    "# today"
   ]
  },
  {
   "cell_type": "code",
   "execution_count": 33,
   "metadata": {},
   "outputs": [],
   "source": [
    "# today = time.strftime(\"%x\")\n",
    "# today"
   ]
  },
  {
   "cell_type": "code",
   "execution_count": 34,
   "metadata": {},
   "outputs": [],
   "source": [
    "# Extract relevant fields from the DataFrame for plotting.\n",
    "lats = city_data_df[\"Lat\"]\n",
    "max_temps = city_data_df[\"Max Temp\"]\n",
    "humidity = city_data_df[\"Humidity\"]\n",
    "cloudiness = city_data_df[\"Cloudiness\"]\n",
    "wind_speed = city_data_df[\"Wind Speed\"]"
   ]
  },
  {
   "cell_type": "code",
   "execution_count": 35,
   "metadata": {},
   "outputs": [
    {
     "data": {
      "image/png": "[encoded data removed]",
      "text/plain": [
       "<Figure size 432x288 with 1 Axes>"
      ]
     },
     "metadata": {
      "needs_background": "light"
     },
     "output_type": "display_data"
    }
   ],
   "source": [
    "# Build the scatter plot for latitude vs. max temperature.\n",
    "plt.scatter(lats,\n",
    "            max_temps,\n",
    "            edgecolor=\"black\", linewidths=1, marker=\"o\",\n",
    "            alpha=0.8, label=\"Cities\")\n",
    "\n",
    "# Incorporate the other graph properties.\n",
    "plt.title(f\"City Latitude vs. Max Temperature \"+ time.strftime(\"%x\"))\n",
    "plt.ylabel(\"Max Temperature (F)\")\n",
    "plt.xlabel(\"Latitude\")\n",
    "plt.grid(True)\n",
    "\n",
    "# Save the figure.\n",
    "plt.savefig(\"weather_data/Fig1.png\")\n",
    "\n",
    "# Show plot.\n",
    "plt.show()"
   ]
  },
  {
   "cell_type": "code",
   "execution_count": 36,
   "metadata": {},
   "outputs": [
    {
     "data": {
      "image/png": "[encoded data removed]",
      "text/plain": [
       "<Figure size 432x288 with 1 Axes>"
      ]
     },
     "metadata": {
      "needs_background": "light"
     },
     "output_type": "display_data"
    }
   ],
   "source": [
    "# Build the scatter plots for latitude vs. humidity.\n",
    "plt.scatter(lats,\n",
    "            humidity,\n",
    "            edgecolor=\"black\", linewidths=1, marker=\"o\",\n",
    "            alpha=0.8, label=\"Cities\")\n",
    "\n",
    "# Incorporate the other graph properties.\n",
    "plt.title(f\"City Latitude vs. Humidity \"+ time.strftime(\"%x\"))\n",
    "plt.ylabel(\"Humidity (%)\")\n",
    "plt.xlabel(\"Latitude\")\n",
    "plt.grid(True)\n",
    "\n",
    "# Save the figure.\n",
    "plt.savefig(\"weather_data/Fig2.png\")\n",
    "\n",
    "# Show plot.\n",
    "plt.show()"
   ]
  },
  {
   "cell_type": "code",
   "execution_count": 37,
   "metadata": {},
   "outputs": [
    {
     "data": {
      "image/png": "[encoded data removed]",
      "text/plain": [
       "<Figure size 432x288 with 1 Axes>"
      ]
     },
     "metadata": {
      "needs_background": "light"
     },
     "output_type": "display_data"
    }
   ],
   "source": [
    "# Build the scatter plots for latitude vs. cloudiness.\n",
    "plt.scatter(lats,\n",
    "           cloudiness,\n",
    "           edgecolor=\"black\", linewidths=1, marker=\"o\",\n",
    "           alpha=0.8, label=\"Cities\")\n",
    "\n",
    "# Incorporate the other graph properties.\n",
    "plt.title(f\"City Latitude vs. Cloudiness (%) \"+ time.strftime(\"%x\"))\n",
    "plt.ylabel(\"Cloudiness (%)\")\n",
    "plt.xlabel(\"Latitude\")\n",
    "plt.grid(True)\n",
    "\n",
    "# Save the figure.\n",
    "plt.savefig(\"weather_data/Fig3.png\")\n",
    "\n",
    "# Show plot.\n",
    "plt.show()"
   ]
  },
  {
   "cell_type": "code",
   "execution_count": 38,
   "metadata": {},
   "outputs": [
    {
     "data": {
      "image/png": "[encoded data removed]",
      "text/plain": [
       "<Figure size 432x288 with 1 Axes>"
      ]
     },
     "metadata": {
      "needs_background": "light"
     },
     "output_type": "display_data"
    }
   ],
   "source": [
    "# Build the scatter plots for latitude vs. wind speed.\n",
    "plt.scatter(lats,\n",
    "            wind_speed,\n",
    "            edgecolor=\"black\", linewidths=1, marker=\"o\",\n",
    "            alpha=0.8, label=\"Cities\")\n",
    "\n",
    "# Incorporate the other graph properties.\n",
    "plt.title(f\"City Latitude vs. Wind Speed \"+ time.strftime(\"%x\"))\n",
    "plt.ylabel(\"Wind Speed (mph)\")\n",
    "plt.xlabel(\"Latitude\")\n",
    "plt.grid(True)\n",
    "\n",
    "# Save the figure.\n",
    "plt.savefig(\"weather_data/Fig4.png\")\n",
    "\n",
    "# Show plot.\n",
    "plt.show()"
   ]
  },
  {
   "cell_type": "code",
   "execution_count": 39,
   "metadata": {},
   "outputs": [],
   "source": [
    "# Create a function to create perform linear regression on the weather data\n",
    "# and plot a regression line and the equation with the data.\n",
    "def plot_linear_regression(x_values, y_values, title, y_label, text_coordinates):\n",
    "    \n",
    "    # Run regression on hemisphere weather data.\n",
    "    (slope, intercept, r_value, p_value, std_err) = linregress(x_values, y_values)\n",
    "    \n",
    "    # Calculate the regression line \"y values\" from the slope and intercept.\n",
    "    regress_values = x_values * slope + intercept\n",
    "    \n",
    "    # Get the equation of the line.\n",
    "    line_eq = \"y = \" + str(round(slope,2)) + \"x + \" + str(round(intercept,2))\n",
    "    \n",
    "    # Create a scatter plot and plot the regression line.\n",
    "    plt.scatter(x_values, y_values)\n",
    "    plt.plot(x_values, regress_values, \"r\")\n",
    "    \n",
    "    # Annotate the text for the line equation.\n",
    "    plt.annotate(line_eq, text_coordinates, fontsize=15, color=\"red\")\n",
    "    plt.title(title)\n",
    "    plt.xlabel('Latitude')\n",
    "    plt.ylabel(y_label)\n",
    "    plt.show()"
   ]
  },
  {
   "cell_type": "code",
   "execution_count": 40,
   "metadata": {},
   "outputs": [],
   "source": [
    "# Create Northern and Southern Hemisphere DataFrames.\n",
    "northern_hemi_df = city_data_df.loc[(city_data_df[\"Lat\"] >= 0)]\n",
    "southern_hemi_df = city_data_df.loc[(city_data_df[\"Lat\"] < 0)]"
   ]
  },
  {
   "cell_type": "code",
   "execution_count": 41,
   "metadata": {},
   "outputs": [
    {
     "data": {
      "text/html": [
       "<div>\n",
       "<style scoped>\n",
       "    .dataframe tbody tr th:only-of-type {\n",
       "        vertical-align: middle;\n",
       "    }\n",
       "\n",
       "    .dataframe tbody tr th {\n",
       "        vertical-align: top;\n",
       "    }\n",
       "\n",
       "    .dataframe thead th {\n",
       "        text-align: right;\n",
       "    }\n",
       "</style>\n",
       "<table border=\"1\" class=\"dataframe\">\n",
       "  <thead>\n",
       "    <tr style=\"text-align: right;\">\n",
       "      <th></th>\n",
       "      <th>City</th>\n",
       "      <th>Lat</th>\n",
       "      <th>Lng</th>\n",
       "      <th>Max Temp</th>\n",
       "      <th>Humidity</th>\n",
       "      <th>Cloudiness</th>\n",
       "      <th>Wind Speed</th>\n",
       "      <th>Country</th>\n",
       "      <th>Date</th>\n",
       "    </tr>\n",
       "  </thead>\n",
       "  <tbody>\n",
       "    <tr>\n",
       "      <th>1</th>\n",
       "      <td>San Patricio</td>\n",
       "      <td>19.22</td>\n",
       "      <td>-104.70</td>\n",
       "      <td>80.60</td>\n",
       "      <td>78</td>\n",
       "      <td>40</td>\n",
       "      <td>11.41</td>\n",
       "      <td>MX</td>\n",
       "      <td>2020-06-18 01:44:57</td>\n",
       "    </tr>\n",
       "    <tr>\n",
       "      <th>3</th>\n",
       "      <td>Hasaki</td>\n",
       "      <td>35.73</td>\n",
       "      <td>140.83</td>\n",
       "      <td>75.99</td>\n",
       "      <td>78</td>\n",
       "      <td>75</td>\n",
       "      <td>3.36</td>\n",
       "      <td>JP</td>\n",
       "      <td>2020-06-18 01:42:09</td>\n",
       "    </tr>\n",
       "    <tr>\n",
       "      <th>8</th>\n",
       "      <td>Meulaboh</td>\n",
       "      <td>4.14</td>\n",
       "      <td>96.13</td>\n",
       "      <td>82.80</td>\n",
       "      <td>65</td>\n",
       "      <td>90</td>\n",
       "      <td>2.66</td>\n",
       "      <td>ID</td>\n",
       "      <td>2020-06-18 01:44:59</td>\n",
       "    </tr>\n",
       "    <tr>\n",
       "      <th>9</th>\n",
       "      <td>Thompson</td>\n",
       "      <td>55.74</td>\n",
       "      <td>-97.86</td>\n",
       "      <td>41.00</td>\n",
       "      <td>93</td>\n",
       "      <td>90</td>\n",
       "      <td>18.34</td>\n",
       "      <td>CA</td>\n",
       "      <td>2020-06-18 01:44:59</td>\n",
       "    </tr>\n",
       "    <tr>\n",
       "      <th>10</th>\n",
       "      <td>Laguna</td>\n",
       "      <td>38.42</td>\n",
       "      <td>-121.42</td>\n",
       "      <td>89.60</td>\n",
       "      <td>15</td>\n",
       "      <td>1</td>\n",
       "      <td>13.87</td>\n",
       "      <td>US</td>\n",
       "      <td>2020-06-18 01:44:59</td>\n",
       "    </tr>\n",
       "    <tr>\n",
       "      <th>...</th>\n",
       "      <td>...</td>\n",
       "      <td>...</td>\n",
       "      <td>...</td>\n",
       "      <td>...</td>\n",
       "      <td>...</td>\n",
       "      <td>...</td>\n",
       "      <td>...</td>\n",
       "      <td>...</td>\n",
       "      <td>...</td>\n",
       "    </tr>\n",
       "    <tr>\n",
       "      <th>562</th>\n",
       "      <td>Santa Rosa</td>\n",
       "      <td>14.31</td>\n",
       "      <td>121.11</td>\n",
       "      <td>91.00</td>\n",
       "      <td>55</td>\n",
       "      <td>20</td>\n",
       "      <td>2.24</td>\n",
       "      <td>PH</td>\n",
       "      <td>2020-06-18 01:46:47</td>\n",
       "    </tr>\n",
       "    <tr>\n",
       "      <th>565</th>\n",
       "      <td>Sillod</td>\n",
       "      <td>20.30</td>\n",
       "      <td>75.65</td>\n",
       "      <td>75.20</td>\n",
       "      <td>88</td>\n",
       "      <td>40</td>\n",
       "      <td>3.36</td>\n",
       "      <td>IN</td>\n",
       "      <td>2020-06-18 01:46:47</td>\n",
       "    </tr>\n",
       "    <tr>\n",
       "      <th>566</th>\n",
       "      <td>Kaseda</td>\n",
       "      <td>31.42</td>\n",
       "      <td>130.32</td>\n",
       "      <td>78.80</td>\n",
       "      <td>88</td>\n",
       "      <td>75</td>\n",
       "      <td>12.75</td>\n",
       "      <td>JP</td>\n",
       "      <td>2020-06-18 01:46:48</td>\n",
       "    </tr>\n",
       "    <tr>\n",
       "      <th>568</th>\n",
       "      <td>Salalah</td>\n",
       "      <td>17.02</td>\n",
       "      <td>54.09</td>\n",
       "      <td>84.20</td>\n",
       "      <td>89</td>\n",
       "      <td>75</td>\n",
       "      <td>3.36</td>\n",
       "      <td>OM</td>\n",
       "      <td>2020-06-18 01:46:48</td>\n",
       "    </tr>\n",
       "    <tr>\n",
       "      <th>569</th>\n",
       "      <td>Skjervoy</td>\n",
       "      <td>70.03</td>\n",
       "      <td>20.97</td>\n",
       "      <td>47.98</td>\n",
       "      <td>77</td>\n",
       "      <td>2</td>\n",
       "      <td>3.29</td>\n",
       "      <td>NO</td>\n",
       "      <td>2020-06-18 01:46:48</td>\n",
       "    </tr>\n",
       "  </tbody>\n",
       "</table>\n",
       "<p>398 rows × 9 columns</p>\n",
       "</div>"
      ],
      "text/plain": [
       "             City    Lat     Lng  Max Temp  Humidity  Cloudiness  Wind Speed  \\\n",
       "1    San Patricio  19.22 -104.70     80.60        78          40       11.41   \n",
       "3          Hasaki  35.73  140.83     75.99        78          75        3.36   \n",
       "8        Meulaboh   4.14   96.13     82.80        65          90        2.66   \n",
       "9        Thompson  55.74  -97.86     41.00        93          90       18.34   \n",
       "10         Laguna  38.42 -121.42     89.60        15           1       13.87   \n",
       "..            ...    ...     ...       ...       ...         ...         ...   \n",
       "562    Santa Rosa  14.31  121.11     91.00        55          20        2.24   \n",
       "565        Sillod  20.30   75.65     75.20        88          40        3.36   \n",
       "566        Kaseda  31.42  130.32     78.80        88          75       12.75   \n",
       "568       Salalah  17.02   54.09     84.20        89          75        3.36   \n",
       "569      Skjervoy  70.03   20.97     47.98        77           2        3.29   \n",
       "\n",
       "    Country                 Date  \n",
       "1        MX  2020-06-18 01:44:57  \n",
       "3        JP  2020-06-18 01:42:09  \n",
       "8        ID  2020-06-18 01:44:59  \n",
       "9        CA  2020-06-18 01:44:59  \n",
       "10       US  2020-06-18 01:44:59  \n",
       "..      ...                  ...  \n",
       "562      PH  2020-06-18 01:46:47  \n",
       "565      IN  2020-06-18 01:46:47  \n",
       "566      JP  2020-06-18 01:46:48  \n",
       "568      OM  2020-06-18 01:46:48  \n",
       "569      NO  2020-06-18 01:46:48  \n",
       "\n",
       "[398 rows x 9 columns]"
      ]
     },
     "execution_count": 41,
     "metadata": {},
     "output_type": "execute_result"
    }
   ],
   "source": [
    "northern_hemi_df"
   ]
  },
  {
   "cell_type": "code",
   "execution_count": 67,
   "metadata": {},
   "outputs": [
    {
     "data": {
      "image/png": "[encoded data removed]",
      "text/plain": [
       "<Figure size 432x288 with 1 Axes>"
      ]
     },
     "metadata": {
      "needs_background": "light"
     },
     "output_type": "display_data"
    }
   ],
   "source": [
    "# Linear regression on the Northern Hemisphere\n",
    "x_values = northern_hemi_df[\"Lat\"]\n",
    "y_values = northern_hemi_df[\"Max Temp\"]\n",
    "\n",
    "# Call the function.\n",
    "plot_linear_regression(x_values, y_values, 'Linear Regression on the Northern Hemisphere \\n for Maximum Temperature', 'Max Temp',(10,35))"
   ]
  },
  {
   "cell_type": "code",
   "execution_count": 66,
   "metadata": {},
   "outputs": [
    {
     "data": {
      "image/png": "[encoded data removed]",
      "text/plain": [
       "<Figure size 432x288 with 1 Axes>"
      ]
     },
     "metadata": {
      "needs_background": "light"
     },
     "output_type": "display_data"
    }
   ],
   "source": [
    "# Linear regression on the Southern Hemisphere\n",
    "x_values = southern_hemi_df[\"Lat\"]\n",
    "y_values = southern_hemi_df[\"Max Temp\"]\n",
    "# Call the function.\n",
    "plot_linear_regression(x_values, y_values,\n",
    "                       \"Linear Regression on the Southern Hemisphere \\n for Maximum Temperature\", \"Max Temp\",(-50,80))"
   ]
  },
  {
   "cell_type": "code",
   "execution_count": 44,
   "metadata": {},
   "outputs": [
    {
     "data": {
      "image/png": "[encoded data removed]",
      "text/plain": [
       "<Figure size 432x288 with 1 Axes>"
      ]
     },
     "metadata": {
      "needs_background": "light"
     },
     "output_type": "display_data"
    }
   ],
   "source": [
    "# Linear regression on the Northern Hemisphere\n",
    "x_values = northern_hemi_df[\"Lat\"]\n",
    "y_values = northern_hemi_df[\"Humidity\"]\n",
    "\n",
    "# Call the function.\n",
    "plot_linear_regression(x_values, y_values, 'Linear Regression on the Northern Hemisphere \\n for % Humidity', '% Humidity', (40, 10))"
   ]
  },
  {
   "cell_type": "code",
   "execution_count": 45,
   "metadata": {},
   "outputs": [
    {
     "data": {
      "image/png": "[encoded data removed]",
      "text/plain": [
       "<Figure size 432x288 with 1 Axes>"
      ]
     },
     "metadata": {
      "needs_background": "light"
     },
     "output_type": "display_data"
    }
   ],
   "source": [
    "# Linear regression on the Southern Hemisphere\n",
    "x_values = southern_hemi_df[\"Lat\"]\n",
    "y_values = southern_hemi_df[\"Humidity\"]\n",
    "\n",
    "# Call the function.\n",
    "plot_linear_regression(x_values, y_values,\n",
    "                       'Linear Regression on the Southern Hemisphere \\n for % Humidity', '% Humidity',(-50,15))"
   ]
  },
  {
   "cell_type": "code",
   "execution_count": 46,
   "metadata": {},
   "outputs": [
    {
     "data": {
      "image/png": "[encoded data removed]",
      "text/plain": [
       "<Figure size 432x288 with 1 Axes>"
      ]
     },
     "metadata": {
      "needs_background": "light"
     },
     "output_type": "display_data"
    }
   ],
   "source": [
    "# Linear regression on the Northern Hemisphere\n",
    "x_values = northern_hemi_df[\"Lat\"]\n",
    "y_values = northern_hemi_df[\"Cloudiness\"]\n",
    "\n",
    "# Call the function.\n",
    "plot_linear_regression(x_values, y_values,\n",
    "                       'Linear Regression on the Northern Hemisphere \\n for % Cloudiness', '% Cloudiness',(80,60))"
   ]
  },
  {
   "cell_type": "code",
   "execution_count": 47,
   "metadata": {},
   "outputs": [
    {
     "data": {
      "image/png": "[encoded data removed]",
      "text/plain": [
       "<Figure size 432x288 with 1 Axes>"
      ]
     },
     "metadata": {
      "needs_background": "light"
     },
     "output_type": "display_data"
    }
   ],
   "source": [
    "# Linear regression on the Southern Hemisphere\n",
    "x_values = southern_hemi_df[\"Lat\"]\n",
    "y_values = southern_hemi_df[\"Cloudiness\"]\n",
    "\n",
    "# Call the function.\n",
    "plot_linear_regression(x_values, y_values,\n",
    "                       'Linear Regression on the Southern Hemisphere \\n for % Cloudiness', '% Cloudiness',(-50,60))"
   ]
  },
  {
   "cell_type": "code",
   "execution_count": 48,
   "metadata": {},
   "outputs": [
    {
     "data": {
      "image/png": "[encoded data removed]",
      "text/plain": [
       "<Figure size 432x288 with 1 Axes>"
      ]
     },
     "metadata": {
      "needs_background": "light"
     },
     "output_type": "display_data"
    }
   ],
   "source": [
    "# Linear regression on the Northern Hemisphere\n",
    "x_values = northern_hemi_df[\"Lat\"]\n",
    "y_values = northern_hemi_df[\"Wind Speed\"]\n",
    "\n",
    "# Call the function.\n",
    "plot_linear_regression(x_values, y_values,\n",
    "                       'Linear Regression on the Northern Hemisphere \\nfor Wind Speed', 'Wind Speed',(40,35))"
   ]
  },
  {
   "cell_type": "code",
   "execution_count": 49,
   "metadata": {},
   "outputs": [
    {
     "data": {
      "image/png": "[encoded data removed]",
      "text/plain": [
       "<Figure size 432x288 with 1 Axes>"
      ]
     },
     "metadata": {
      "needs_background": "light"
     },
     "output_type": "display_data"
    }
   ],
   "source": [
    "# Linear regression on the Southern Hemisphere\n",
    "x_values = southern_hemi_df[\"Lat\"]\n",
    "y_values = southern_hemi_df[\"Wind Speed\"]\n",
    "# Call the function.\n",
    "plot_linear_regression(x_values, y_values,\n",
    "                       'Linear Regression on the Southern Hemisphere \\nfor Wind Speed', 'Wind Speed',(-50,25))"
   ]
  },
  {
   "cell_type": "code",
   "execution_count": 50,
   "metadata": {
    "scrolled": true
   },
   "outputs": [],
   "source": [
    "# Configure gmaps to use your Google API key.\n",
    "gmaps.configure(api_key=g_key)"
   ]
  },
  {
   "cell_type": "code",
   "execution_count": 51,
   "metadata": {},
   "outputs": [
    {
     "data": {
      "application/vnd.jupyter.widget-view+json": {
       "model_id": "280618d8bdc443ed864121e061f948c9",
       "version_major": 2,
       "version_minor": 0
      },
      "text/plain": [
       "Figure(layout=FigureLayout(height='420px'))"
      ]
     },
     "metadata": {},
     "output_type": "display_data"
    }
   ],
   "source": [
    "# Heatmap of temperature\n",
    "# Get the latitude and longitude.\n",
    "locations = city_data_df[[\"Lat\", \"Lng\"]]\n",
    "# Get the maximum temperature.\n",
    "max_temp = city_data_df[\"Max Temp\"]\n",
    "temps = []\n",
    "for temp in max_temp:\n",
    "    temps.append(max(temp, 0))\n",
    "# Assign the figure variable.\n",
    "fig = gmaps.figure()\n",
    "# Assign the heatmap variable.\n",
    "heat_layer = gmaps.heatmap_layer(locations, weights=max_temp)\n",
    "# Add the heatmap layer.\n",
    "fig.add_layer(heat_layer)\n",
    "\n",
    "# Call the figure to plot the data.\n",
    "fig"
   ]
  },
  {
   "cell_type": "markdown",
   "metadata": {},
   "source": [
    "# Changing max_temp to temps"
   ]
  },
  {
   "cell_type": "code",
   "execution_count": 52,
   "metadata": {
    "scrolled": true
   },
   "outputs": [
    {
     "data": {
      "application/vnd.jupyter.widget-view+json": {
       "model_id": "ce2c78eee7dd44ffa1f27994d737d658",
       "version_major": 2,
       "version_minor": 0
      },
      "text/plain": [
       "Figure(layout=FigureLayout(height='420px'))"
      ]
     },
     "metadata": {},
     "output_type": "display_data"
    }
   ],
   "source": [
    "# Heatmap of temperature\n",
    "# Get the latitude and longitude.\n",
    "locations = city_data_df[[\"Lat\", \"Lng\"]]\n",
    "# Get the maximum temperature.\n",
    "max_temp = city_data_df[\"Max Temp\"]\n",
    "temps = []\n",
    "for temp in max_temp:\n",
    "    temps.append(max(temp, 0))\n",
    "# Assign the figure variable.\n",
    "fig = gmaps.figure(center=(30.0, 31.0), zoom_level=1.5)\n",
    "# Assign the heatmap variable. Changing weights from max_temp to temps\n",
    "heat_layer = gmaps.heatmap_layer(locations, weights=temps)\n",
    "# Add the heatmap layer.\n",
    "fig.add_layer(heat_layer)\n",
    "\n",
    "# Call the figure to plot the data.\n",
    "fig"
   ]
  },
  {
   "cell_type": "markdown",
   "metadata": {},
   "source": [
    "# Changing heat layer"
   ]
  },
  {
   "cell_type": "code",
   "execution_count": 53,
   "metadata": {},
   "outputs": [
    {
     "data": {
      "application/vnd.jupyter.widget-view+json": {
       "model_id": "83288e8a67c44cff9ccb351e6e40b52c",
       "version_major": 2,
       "version_minor": 0
      },
      "text/plain": [
       "Figure(layout=FigureLayout(height='420px'))"
      ]
     },
     "metadata": {},
     "output_type": "display_data"
    }
   ],
   "source": [
    "# Heatmap of temperature\n",
    "# Get the latitude and longitude.\n",
    "locations = city_data_df[[\"Lat\", \"Lng\"]]\n",
    "# Get the maximum temperature.\n",
    "max_temp = city_data_df[\"Max Temp\"]\n",
    "temps = []\n",
    "for temp in max_temp:\n",
    "    temps.append(max(temp, 0))\n",
    "# Assign the figure variable.\n",
    "fig = gmaps.figure(center=(30.0, 31.0), zoom_level=1.5)\n",
    "# Assign the heatmap variable. Changing weights from max_temp to temps\n",
    "heat_layer = gmaps.heatmap_layer(locations, weights=temps, dissipating=False, max_intensity=300, point_radius=4)\n",
    "# Add the heatmap layer.\n",
    "fig.add_layer(heat_layer)\n",
    "\n",
    "# Call the figure to plot the data.\n",
    "fig"
   ]
  },
  {
   "cell_type": "code",
   "execution_count": 54,
   "metadata": {},
   "outputs": [
    {
     "data": {
      "application/vnd.jupyter.widget-view+json": {
       "model_id": "b41e9332e4f64968a9f4bc1757d6f9fc",
       "version_major": 2,
       "version_minor": 0
      },
      "text/plain": [
       "Figure(layout=FigureLayout(height='420px'))"
      ]
     },
     "metadata": {},
     "output_type": "display_data"
    }
   ],
   "source": [
    "# Heatmap of percent humidity\n",
    "locations = city_data_df[[\"Lat\", \"Lng\"]]\n",
    "humidity = city_data_df[\"Humidity\"]\n",
    "fig = gmaps.figure(center=(30.0, 31.0), zoom_level=1.5)\n",
    "heat_layer = gmaps.heatmap_layer(locations, weights=humidity, dissipating=False, max_intensity=300, point_radius=4)\n",
    "\n",
    "fig.add_layer(heat_layer)\n",
    "\n",
    "# Call the figure to plot the data.\n",
    "fig"
   ]
  },
  {
   "cell_type": "code",
   "execution_count": 55,
   "metadata": {},
   "outputs": [
    {
     "data": {
      "application/vnd.jupyter.widget-view+json": {
       "model_id": "bd14b1ccadf0499484e184546adf9ae8",
       "version_major": 2,
       "version_minor": 0
      },
      "text/plain": [
       "Figure(layout=FigureLayout(height='420px'))"
      ]
     },
     "metadata": {},
     "output_type": "display_data"
    }
   ],
   "source": [
    "# Heatmap of percent cloudiness\n",
    "locations = city_data_df[[\"Lat\", \"Lng\"]]\n",
    "clouds = city_data_df[\"Cloudiness\"]\n",
    "fig = gmaps.figure(center=(30.0, 31.0), zoom_level=1.5)\n",
    "heat_layer = gmaps.heatmap_layer(locations, weights=clouds, dissipating=False, max_intensity=300, point_radius=4)\n",
    "\n",
    "fig.add_layer(heat_layer)\n",
    "\n",
    "# Call the figure to plot the data.\n",
    "fig"
   ]
  },
  {
   "cell_type": "code",
   "execution_count": 56,
   "metadata": {},
   "outputs": [
    {
     "data": {
      "application/vnd.jupyter.widget-view+json": {
       "model_id": "59052b382c0c4286ab2f1f94f3a5fb28",
       "version_major": 2,
       "version_minor": 0
      },
      "text/plain": [
       "Figure(layout=FigureLayout(height='420px'))"
      ]
     },
     "metadata": {},
     "output_type": "display_data"
    }
   ],
   "source": [
    "# Heatmap of percent wind speed\n",
    "locations = city_data_df[[\"Lat\", \"Lng\"]]\n",
    "wind = city_data_df[\"Wind Speed\"]\n",
    "fig = gmaps.figure(center=(30.0, 31.0), zoom_level=1.5)\n",
    "heat_layer = gmaps.heatmap_layer(locations, weights=wind, dissipating=False, max_intensity=300, point_radius=4)\n",
    "\n",
    "fig.add_layer(heat_layer)\n",
    "\n",
    "# Call the figure to plot the data.\n",
    "fig"
   ]
  },
  {
   "cell_type": "code",
   "execution_count": 57,
   "metadata": {},
   "outputs": [
    {
     "name": "stdout",
     "output_type": "stream",
     "text": [
      "What is the minimum temperature you would like for your trip? 75\n",
      "What is the maximum temperature you would like for your trip? 90\n"
     ]
    }
   ],
   "source": [
    "# Ask the customer to add a minimum and maximum temperature value.\n",
    "min_temp = float(input(\"What is the minimum temperature you would like for your trip? \"))\n",
    "max_temp = float(input(\"What is the maximum temperature you would like for your trip? \"))"
   ]
  },
  {
   "cell_type": "code",
   "execution_count": 58,
   "metadata": {
    "scrolled": true
   },
   "outputs": [
    {
     "data": {
      "text/html": [
       "<div>\n",
       "<style scoped>\n",
       "    .dataframe tbody tr th:only-of-type {\n",
       "        vertical-align: middle;\n",
       "    }\n",
       "\n",
       "    .dataframe tbody tr th {\n",
       "        vertical-align: top;\n",
       "    }\n",
       "\n",
       "    .dataframe thead th {\n",
       "        text-align: right;\n",
       "    }\n",
       "</style>\n",
       "<table border=\"1\" class=\"dataframe\">\n",
       "  <thead>\n",
       "    <tr style=\"text-align: right;\">\n",
       "      <th></th>\n",
       "      <th>City</th>\n",
       "      <th>Lat</th>\n",
       "      <th>Lng</th>\n",
       "      <th>Max Temp</th>\n",
       "      <th>Humidity</th>\n",
       "      <th>Cloudiness</th>\n",
       "      <th>Wind Speed</th>\n",
       "      <th>Country</th>\n",
       "      <th>Date</th>\n",
       "    </tr>\n",
       "  </thead>\n",
       "  <tbody>\n",
       "    <tr>\n",
       "      <th>1</th>\n",
       "      <td>San Patricio</td>\n",
       "      <td>19.22</td>\n",
       "      <td>-104.70</td>\n",
       "      <td>80.60</td>\n",
       "      <td>78</td>\n",
       "      <td>40</td>\n",
       "      <td>11.41</td>\n",
       "      <td>MX</td>\n",
       "      <td>2020-06-18 01:44:57</td>\n",
       "    </tr>\n",
       "    <tr>\n",
       "      <th>3</th>\n",
       "      <td>Hasaki</td>\n",
       "      <td>35.73</td>\n",
       "      <td>140.83</td>\n",
       "      <td>75.99</td>\n",
       "      <td>78</td>\n",
       "      <td>75</td>\n",
       "      <td>3.36</td>\n",
       "      <td>JP</td>\n",
       "      <td>2020-06-18 01:42:09</td>\n",
       "    </tr>\n",
       "    <tr>\n",
       "      <th>4</th>\n",
       "      <td>Rikitea</td>\n",
       "      <td>-23.12</td>\n",
       "      <td>-134.97</td>\n",
       "      <td>75.61</td>\n",
       "      <td>81</td>\n",
       "      <td>100</td>\n",
       "      <td>16.35</td>\n",
       "      <td>PF</td>\n",
       "      <td>2020-06-18 01:41:51</td>\n",
       "    </tr>\n",
       "    <tr>\n",
       "      <th>6</th>\n",
       "      <td>Vaini</td>\n",
       "      <td>-21.20</td>\n",
       "      <td>-175.20</td>\n",
       "      <td>75.20</td>\n",
       "      <td>73</td>\n",
       "      <td>40</td>\n",
       "      <td>12.75</td>\n",
       "      <td>TO</td>\n",
       "      <td>2020-06-18 01:44:58</td>\n",
       "    </tr>\n",
       "    <tr>\n",
       "      <th>7</th>\n",
       "      <td>Palu</td>\n",
       "      <td>-0.89</td>\n",
       "      <td>119.87</td>\n",
       "      <td>87.03</td>\n",
       "      <td>61</td>\n",
       "      <td>100</td>\n",
       "      <td>1.30</td>\n",
       "      <td>ID</td>\n",
       "      <td>2020-06-18 01:44:59</td>\n",
       "    </tr>\n",
       "    <tr>\n",
       "      <th>8</th>\n",
       "      <td>Meulaboh</td>\n",
       "      <td>4.14</td>\n",
       "      <td>96.13</td>\n",
       "      <td>82.80</td>\n",
       "      <td>65</td>\n",
       "      <td>90</td>\n",
       "      <td>2.66</td>\n",
       "      <td>ID</td>\n",
       "      <td>2020-06-18 01:44:59</td>\n",
       "    </tr>\n",
       "    <tr>\n",
       "      <th>10</th>\n",
       "      <td>Laguna</td>\n",
       "      <td>38.42</td>\n",
       "      <td>-121.42</td>\n",
       "      <td>89.60</td>\n",
       "      <td>15</td>\n",
       "      <td>1</td>\n",
       "      <td>13.87</td>\n",
       "      <td>US</td>\n",
       "      <td>2020-06-18 01:44:59</td>\n",
       "    </tr>\n",
       "    <tr>\n",
       "      <th>15</th>\n",
       "      <td>Butaritari</td>\n",
       "      <td>3.07</td>\n",
       "      <td>172.79</td>\n",
       "      <td>82.94</td>\n",
       "      <td>72</td>\n",
       "      <td>62</td>\n",
       "      <td>11.05</td>\n",
       "      <td>KI</td>\n",
       "      <td>2020-06-18 01:45:00</td>\n",
       "    </tr>\n",
       "    <tr>\n",
       "      <th>16</th>\n",
       "      <td>Hithadhoo</td>\n",
       "      <td>-0.60</td>\n",
       "      <td>73.08</td>\n",
       "      <td>84.11</td>\n",
       "      <td>74</td>\n",
       "      <td>0</td>\n",
       "      <td>7.61</td>\n",
       "      <td>MV</td>\n",
       "      <td>2020-06-18 01:41:55</td>\n",
       "    </tr>\n",
       "    <tr>\n",
       "      <th>21</th>\n",
       "      <td>Saint George</td>\n",
       "      <td>37.10</td>\n",
       "      <td>-113.58</td>\n",
       "      <td>89.60</td>\n",
       "      <td>14</td>\n",
       "      <td>1</td>\n",
       "      <td>12.75</td>\n",
       "      <td>US</td>\n",
       "      <td>2020-06-18 01:43:18</td>\n",
       "    </tr>\n",
       "  </tbody>\n",
       "</table>\n",
       "</div>"
      ],
      "text/plain": [
       "            City    Lat     Lng  Max Temp  Humidity  Cloudiness  Wind Speed  \\\n",
       "1   San Patricio  19.22 -104.70     80.60        78          40       11.41   \n",
       "3         Hasaki  35.73  140.83     75.99        78          75        3.36   \n",
       "4        Rikitea -23.12 -134.97     75.61        81         100       16.35   \n",
       "6          Vaini -21.20 -175.20     75.20        73          40       12.75   \n",
       "7           Palu  -0.89  119.87     87.03        61         100        1.30   \n",
       "8       Meulaboh   4.14   96.13     82.80        65          90        2.66   \n",
       "10        Laguna  38.42 -121.42     89.60        15           1       13.87   \n",
       "15    Butaritari   3.07  172.79     82.94        72          62       11.05   \n",
       "16     Hithadhoo  -0.60   73.08     84.11        74           0        7.61   \n",
       "21  Saint George  37.10 -113.58     89.60        14           1       12.75   \n",
       "\n",
       "   Country                 Date  \n",
       "1       MX  2020-06-18 01:44:57  \n",
       "3       JP  2020-06-18 01:42:09  \n",
       "4       PF  2020-06-18 01:41:51  \n",
       "6       TO  2020-06-18 01:44:58  \n",
       "7       ID  2020-06-18 01:44:59  \n",
       "8       ID  2020-06-18 01:44:59  \n",
       "10      US  2020-06-18 01:44:59  \n",
       "15      KI  2020-06-18 01:45:00  \n",
       "16      MV  2020-06-18 01:41:55  \n",
       "21      US  2020-06-18 01:43:18  "
      ]
     },
     "execution_count": 58,
     "metadata": {},
     "output_type": "execute_result"
    }
   ],
   "source": [
    "# Filter the dataset to find the cities that fit the criteria.\n",
    "preferred_cities_df = city_data_df.loc[(city_data_df[\"Max Temp\"] <= max_temp) &\\\n",
    "                                      (city_data_df[\"Max Temp\"] >= min_temp)]\n",
    "preferred_cities_df.head(10)"
   ]
  },
  {
   "cell_type": "code",
   "execution_count": 59,
   "metadata": {},
   "outputs": [
    {
     "data": {
      "text/plain": [
       "City          0\n",
       "Lat           0\n",
       "Lng           0\n",
       "Max Temp      0\n",
       "Humidity      0\n",
       "Cloudiness    0\n",
       "Wind Speed    0\n",
       "Country       0\n",
       "Date          0\n",
       "dtype: int64"
      ]
     },
     "execution_count": 59,
     "metadata": {},
     "output_type": "execute_result"
    }
   ],
   "source": [
    "# determine if the DataFrame has any null values for any of the rows\n",
    "preferred_cities_df.isnull().sum()"
   ]
  },
  {
   "cell_type": "code",
   "execution_count": 60,
   "metadata": {},
   "outputs": [
    {
     "data": {
      "text/html": [
       "<div>\n",
       "<style scoped>\n",
       "    .dataframe tbody tr th:only-of-type {\n",
       "        vertical-align: middle;\n",
       "    }\n",
       "\n",
       "    .dataframe tbody tr th {\n",
       "        vertical-align: top;\n",
       "    }\n",
       "\n",
       "    .dataframe thead th {\n",
       "        text-align: right;\n",
       "    }\n",
       "</style>\n",
       "<table border=\"1\" class=\"dataframe\">\n",
       "  <thead>\n",
       "    <tr style=\"text-align: right;\">\n",
       "      <th></th>\n",
       "      <th>City</th>\n",
       "      <th>Country</th>\n",
       "      <th>Max Temp</th>\n",
       "      <th>Lat</th>\n",
       "      <th>Lng</th>\n",
       "      <th>Hotel Name</th>\n",
       "    </tr>\n",
       "  </thead>\n",
       "  <tbody>\n",
       "    <tr>\n",
       "      <th>1</th>\n",
       "      <td>San Patricio</td>\n",
       "      <td>MX</td>\n",
       "      <td>80.60</td>\n",
       "      <td>19.22</td>\n",
       "      <td>-104.70</td>\n",
       "      <td></td>\n",
       "    </tr>\n",
       "    <tr>\n",
       "      <th>3</th>\n",
       "      <td>Hasaki</td>\n",
       "      <td>JP</td>\n",
       "      <td>75.99</td>\n",
       "      <td>35.73</td>\n",
       "      <td>140.83</td>\n",
       "      <td></td>\n",
       "    </tr>\n",
       "    <tr>\n",
       "      <th>4</th>\n",
       "      <td>Rikitea</td>\n",
       "      <td>PF</td>\n",
       "      <td>75.61</td>\n",
       "      <td>-23.12</td>\n",
       "      <td>-134.97</td>\n",
       "      <td></td>\n",
       "    </tr>\n",
       "    <tr>\n",
       "      <th>6</th>\n",
       "      <td>Vaini</td>\n",
       "      <td>TO</td>\n",
       "      <td>75.20</td>\n",
       "      <td>-21.20</td>\n",
       "      <td>-175.20</td>\n",
       "      <td></td>\n",
       "    </tr>\n",
       "    <tr>\n",
       "      <th>7</th>\n",
       "      <td>Palu</td>\n",
       "      <td>ID</td>\n",
       "      <td>87.03</td>\n",
       "      <td>-0.89</td>\n",
       "      <td>119.87</td>\n",
       "      <td></td>\n",
       "    </tr>\n",
       "    <tr>\n",
       "      <th>8</th>\n",
       "      <td>Meulaboh</td>\n",
       "      <td>ID</td>\n",
       "      <td>82.80</td>\n",
       "      <td>4.14</td>\n",
       "      <td>96.13</td>\n",
       "      <td></td>\n",
       "    </tr>\n",
       "    <tr>\n",
       "      <th>10</th>\n",
       "      <td>Laguna</td>\n",
       "      <td>US</td>\n",
       "      <td>89.60</td>\n",
       "      <td>38.42</td>\n",
       "      <td>-121.42</td>\n",
       "      <td></td>\n",
       "    </tr>\n",
       "    <tr>\n",
       "      <th>15</th>\n",
       "      <td>Butaritari</td>\n",
       "      <td>KI</td>\n",
       "      <td>82.94</td>\n",
       "      <td>3.07</td>\n",
       "      <td>172.79</td>\n",
       "      <td></td>\n",
       "    </tr>\n",
       "    <tr>\n",
       "      <th>16</th>\n",
       "      <td>Hithadhoo</td>\n",
       "      <td>MV</td>\n",
       "      <td>84.11</td>\n",
       "      <td>-0.60</td>\n",
       "      <td>73.08</td>\n",
       "      <td></td>\n",
       "    </tr>\n",
       "    <tr>\n",
       "      <th>21</th>\n",
       "      <td>Saint George</td>\n",
       "      <td>US</td>\n",
       "      <td>89.60</td>\n",
       "      <td>37.10</td>\n",
       "      <td>-113.58</td>\n",
       "      <td></td>\n",
       "    </tr>\n",
       "  </tbody>\n",
       "</table>\n",
       "</div>"
      ],
      "text/plain": [
       "            City Country  Max Temp    Lat     Lng Hotel Name\n",
       "1   San Patricio      MX     80.60  19.22 -104.70           \n",
       "3         Hasaki      JP     75.99  35.73  140.83           \n",
       "4        Rikitea      PF     75.61 -23.12 -134.97           \n",
       "6          Vaini      TO     75.20 -21.20 -175.20           \n",
       "7           Palu      ID     87.03  -0.89  119.87           \n",
       "8       Meulaboh      ID     82.80   4.14   96.13           \n",
       "10        Laguna      US     89.60  38.42 -121.42           \n",
       "15    Butaritari      KI     82.94   3.07  172.79           \n",
       "16     Hithadhoo      MV     84.11  -0.60   73.08           \n",
       "21  Saint George      US     89.60  37.10 -113.58           "
      ]
     },
     "execution_count": 60,
     "metadata": {},
     "output_type": "execute_result"
    }
   ],
   "source": [
    "# Create DataFrame called hotel_df to store hotel names along with city, country, max temp, and coordinates.\n",
    "hotel_df = preferred_cities_df[[\"City\", \"Country\", \"Max Temp\", \"Lat\", \"Lng\"]].copy()\n",
    "hotel_df[\"Hotel Name\"] = \"\"\n",
    "hotel_df.head(10)"
   ]
  },
  {
   "cell_type": "code",
   "execution_count": 61,
   "metadata": {},
   "outputs": [
    {
     "name": "stdout",
     "output_type": "stream",
     "text": [
      "Hotel not found... skipping.\n",
      "Hotel not found... skipping.\n",
      "Hotel not found... skipping.\n",
      "Hotel not found... skipping.\n",
      "Hotel not found... skipping.\n",
      "Hotel not found... skipping.\n",
      "Hotel not found... skipping.\n",
      "Hotel not found... skipping.\n",
      "Hotel not found... skipping.\n",
      "Hotel not found... skipping.\n",
      "Hotel not found... skipping.\n"
     ]
    }
   ],
   "source": [
    "# Set parameters to search for a hotel.\n",
    "params = {\n",
    "    \"radius\": 5000,\n",
    "    \"type\": \"lodging\",\n",
    "    \"key\": g_key\n",
    "}\n",
    "\n",
    "# Iterate through the DataFrame.\n",
    "for index, row in hotel_df.iterrows():\n",
    "    # Get the latitude and longitude.\n",
    "    lat = row[\"Lat\"]\n",
    "    lng = row[\"Lng\"]\n",
    "    \n",
    "    # Add the latitude and longitude to location key for the params dictionary.\n",
    "    params[\"location\"] = f\"{lat},{lng}\"\n",
    "    \n",
    "    # Use the search term: \"lodging\" and our latitude and longitude.\n",
    "    base_url = \"https://maps.googleapis.com/maps/api/place/nearbysearch/json\"\n",
    "    \n",
    "    # Make request and get the JSON data from the search.\n",
    "    hotels = requests.get(base_url, params=params).json()\n",
    "    \n",
    "    # Grab the first hotel from the results and store the name.\n",
    "    try:\n",
    "        hotel_df.loc[index, \"Hotel Name\"] = hotels[\"results\"][0][\"name\"]\n",
    "    except (IndexError):\n",
    "        print(\"Hotel not found... skipping.\")"
   ]
  },
  {
   "cell_type": "code",
   "execution_count": 62,
   "metadata": {},
   "outputs": [
    {
     "data": {
      "text/html": [
       "<div>\n",
       "<style scoped>\n",
       "    .dataframe tbody tr th:only-of-type {\n",
       "        vertical-align: middle;\n",
       "    }\n",
       "\n",
       "    .dataframe tbody tr th {\n",
       "        vertical-align: top;\n",
       "    }\n",
       "\n",
       "    .dataframe thead th {\n",
       "        text-align: right;\n",
       "    }\n",
       "</style>\n",
       "<table border=\"1\" class=\"dataframe\">\n",
       "  <thead>\n",
       "    <tr style=\"text-align: right;\">\n",
       "      <th></th>\n",
       "      <th>City</th>\n",
       "      <th>Country</th>\n",
       "      <th>Max Temp</th>\n",
       "      <th>Lat</th>\n",
       "      <th>Lng</th>\n",
       "      <th>Hotel Name</th>\n",
       "    </tr>\n",
       "  </thead>\n",
       "  <tbody>\n",
       "    <tr>\n",
       "      <th>1</th>\n",
       "      <td>San Patricio</td>\n",
       "      <td>MX</td>\n",
       "      <td>80.60</td>\n",
       "      <td>19.22</td>\n",
       "      <td>-104.70</td>\n",
       "      <td>Hotel Cabo Blanco</td>\n",
       "    </tr>\n",
       "    <tr>\n",
       "      <th>3</th>\n",
       "      <td>Hasaki</td>\n",
       "      <td>JP</td>\n",
       "      <td>75.99</td>\n",
       "      <td>35.73</td>\n",
       "      <td>140.83</td>\n",
       "      <td>Inubosaki Kanko Hotel</td>\n",
       "    </tr>\n",
       "    <tr>\n",
       "      <th>4</th>\n",
       "      <td>Rikitea</td>\n",
       "      <td>PF</td>\n",
       "      <td>75.61</td>\n",
       "      <td>-23.12</td>\n",
       "      <td>-134.97</td>\n",
       "      <td>Pension Maro'i</td>\n",
       "    </tr>\n",
       "    <tr>\n",
       "      <th>6</th>\n",
       "      <td>Vaini</td>\n",
       "      <td>TO</td>\n",
       "      <td>75.20</td>\n",
       "      <td>-21.20</td>\n",
       "      <td>-175.20</td>\n",
       "      <td>Keleti Beach Resort</td>\n",
       "    </tr>\n",
       "    <tr>\n",
       "      <th>7</th>\n",
       "      <td>Palu</td>\n",
       "      <td>ID</td>\n",
       "      <td>87.03</td>\n",
       "      <td>-0.89</td>\n",
       "      <td>119.87</td>\n",
       "      <td>Hotel Santika Palu</td>\n",
       "    </tr>\n",
       "    <tr>\n",
       "      <th>...</th>\n",
       "      <td>...</td>\n",
       "      <td>...</td>\n",
       "      <td>...</td>\n",
       "      <td>...</td>\n",
       "      <td>...</td>\n",
       "      <td>...</td>\n",
       "    </tr>\n",
       "    <tr>\n",
       "      <th>560</th>\n",
       "      <td>Conceicao Do Araguaia</td>\n",
       "      <td>BR</td>\n",
       "      <td>78.37</td>\n",
       "      <td>-8.26</td>\n",
       "      <td>-49.26</td>\n",
       "      <td>Tarumã Tropical Hotel</td>\n",
       "    </tr>\n",
       "    <tr>\n",
       "      <th>564</th>\n",
       "      <td>Poum</td>\n",
       "      <td>NC</td>\n",
       "      <td>75.13</td>\n",
       "      <td>-20.23</td>\n",
       "      <td>164.02</td>\n",
       "      <td>Gîte kajeon</td>\n",
       "    </tr>\n",
       "    <tr>\n",
       "      <th>565</th>\n",
       "      <td>Sillod</td>\n",
       "      <td>IN</td>\n",
       "      <td>75.20</td>\n",
       "      <td>20.30</td>\n",
       "      <td>75.65</td>\n",
       "      <td>पवन</td>\n",
       "    </tr>\n",
       "    <tr>\n",
       "      <th>566</th>\n",
       "      <td>Kaseda</td>\n",
       "      <td>JP</td>\n",
       "      <td>78.80</td>\n",
       "      <td>31.42</td>\n",
       "      <td>130.32</td>\n",
       "      <td>Sun Stay Kaseda</td>\n",
       "    </tr>\n",
       "    <tr>\n",
       "      <th>568</th>\n",
       "      <td>Salalah</td>\n",
       "      <td>OM</td>\n",
       "      <td>84.20</td>\n",
       "      <td>17.02</td>\n",
       "      <td>54.09</td>\n",
       "      <td>HAMDAN PLAZA HOTEL</td>\n",
       "    </tr>\n",
       "  </tbody>\n",
       "</table>\n",
       "<p>195 rows × 6 columns</p>\n",
       "</div>"
      ],
      "text/plain": [
       "                      City Country  Max Temp    Lat     Lng  \\\n",
       "1             San Patricio      MX     80.60  19.22 -104.70   \n",
       "3                   Hasaki      JP     75.99  35.73  140.83   \n",
       "4                  Rikitea      PF     75.61 -23.12 -134.97   \n",
       "6                    Vaini      TO     75.20 -21.20 -175.20   \n",
       "7                     Palu      ID     87.03  -0.89  119.87   \n",
       "..                     ...     ...       ...    ...     ...   \n",
       "560  Conceicao Do Araguaia      BR     78.37  -8.26  -49.26   \n",
       "564                   Poum      NC     75.13 -20.23  164.02   \n",
       "565                 Sillod      IN     75.20  20.30   75.65   \n",
       "566                 Kaseda      JP     78.80  31.42  130.32   \n",
       "568                Salalah      OM     84.20  17.02   54.09   \n",
       "\n",
       "                Hotel Name  \n",
       "1        Hotel Cabo Blanco  \n",
       "3    Inubosaki Kanko Hotel  \n",
       "4           Pension Maro'i  \n",
       "6      Keleti Beach Resort  \n",
       "7       Hotel Santika Palu  \n",
       "..                     ...  \n",
       "560  Tarumã Tropical Hotel  \n",
       "564            Gîte kajeon  \n",
       "565                    पवन  \n",
       "566        Sun Stay Kaseda  \n",
       "568     HAMDAN PLAZA HOTEL  \n",
       "\n",
       "[195 rows x 6 columns]"
      ]
     },
     "execution_count": 62,
     "metadata": {},
     "output_type": "execute_result"
    }
   ],
   "source": [
    "hotel_df"
   ]
  },
  {
   "cell_type": "code",
   "execution_count": 63,
   "metadata": {
    "scrolled": true
   },
   "outputs": [
    {
     "data": {
      "application/vnd.jupyter.widget-view+json": {
       "model_id": "09db4d6c374c44b690e56b21ec479b5d",
       "version_major": 2,
       "version_minor": 0
      },
      "text/plain": [
       "Figure(layout=FigureLayout(height='420px'))"
      ]
     },
     "metadata": {},
     "output_type": "display_data"
    }
   ],
   "source": [
    "# Add a heatmap of temperature for the vacation spots.\n",
    "locations = hotel_df[[\"Lat\", \"Lng\"]]\n",
    "max_temp = hotel_df[\"Max Temp\"]\n",
    "fig = gmaps.figure(center=(30.0,31.0), zoom_level=1.5)\n",
    "heat_layer = gmaps.heatmap_layer(locations, weights=max_temp, dissipating=False,\n",
    "                                max_intensity=300, point_radius=4)\n",
    "fig.add_layer(heat_layer)\n",
    "\n",
    "# Call the figure to plot the data.\n",
    "fig"
   ]
  },
  {
   "cell_type": "code",
   "execution_count": 64,
   "metadata": {},
   "outputs": [
    {
     "data": {
      "application/vnd.jupyter.widget-view+json": {
       "model_id": "477dea8fcecb4f29ae2aab1e34a83252",
       "version_major": 2,
       "version_minor": 0
      },
      "text/plain": [
       "Figure(layout=FigureLayout(height='420px'))"
      ]
     },
     "metadata": {},
     "output_type": "display_data"
    }
   ],
   "source": [
    "# Add a heatmap of temperature for the vacation spots. Adding marker_layer\n",
    "locations = hotel_df[[\"Lat\", \"Lng\"]]\n",
    "max_temp = hotel_df[\"Max Temp\"]\n",
    "fig = gmaps.figure(center=(30.0,31.0), zoom_level=1.5)\n",
    "heat_layer = gmaps.heatmap_layer(locations, weights=max_temp, dissipating=False,\n",
    "                                max_intensity=300, point_radius=4)\n",
    "marker_layer = gmaps.marker_layer(locations)\n",
    "fig.add_layer(heat_layer)\n",
    "fig.add_layer(marker_layer)\n",
    "\n",
    "# Call the figure to plot the data.\n",
    "fig"
   ]
  },
  {
   "cell_type": "code",
   "execution_count": 65,
   "metadata": {
    "scrolled": true
   },
   "outputs": [
    {
     "data": {
      "application/vnd.jupyter.widget-view+json": {
       "model_id": "24304d508cab4221afe21a6540de994e",
       "version_major": 2,
       "version_minor": 0
      },
      "text/plain": [
       "Figure(layout=FigureLayout(height='420px'))"
      ]
     },
     "metadata": {},
     "output_type": "display_data"
    }
   ],
   "source": [
    "info_box_template = \"\"\"\n",
    "<dl>\n",
    "<dt>Hotel Name</dt><dd>{Hotel Name}</dd>\n",
    "<dt>City</dt><dd>{City}</dd>\n",
    "<dt>Country</dt><dd>{Country}</dd>\n",
    "<dt>Max Temp</dt><dd>{Max Temp} °F</dd>\n",
    "</dl>\n",
    "\"\"\"\n",
    "\n",
    "# Store the DataFrame Row.\n",
    "hotel_info = [info_box_template.format(**row) for index, row in hotel_df.iterrows()]\n",
    "\n",
    "# Add a heatmap of temperature for the vacation spots and a pop-up marker for each city.\n",
    "locations = hotel_df[[\"Lat\", \"Lng\"]]\n",
    "max_temp = hotel_df[\"Max Temp\"]\n",
    "fig = gmaps.figure(center=(30.0, 31.0), zoom_level=1.5)\n",
    "heat_layer = gmaps.heatmap_layer(locations, weights=max_temp,dissipating=False,\n",
    "             max_intensity=300, point_radius=4)\n",
    "marker_layer = gmaps.marker_layer(locations, info_box_content=hotel_info)\n",
    "fig.add_layer(heat_layer)\n",
    "fig.add_layer(marker_layer)\n",
    "\n",
    "# Call the figure to plot the data.\n",
    "fig"
   ]
  }
 ],
 "metadata": {
  "kernelspec": {
   "display_name": "PythonData",
   "language": "python",
   "name": "pythondata"
  },
  "language_info": {
   "codemirror_mode": {
    "name": "ipython",
    "version": 3
   },
   "file_extension": ".py",
   "mimetype": "text/x-python",
   "name": "python",
   "nbconvert_exporter": "python",
   "pygments_lexer": "ipython3",
   "version": "3.7.6"
  }
 },
 "nbformat": 4,
 "nbformat_minor": 4
}
