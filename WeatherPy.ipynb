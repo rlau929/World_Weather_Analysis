{
 "cells": [
  {
   "cell_type": "code",
   "execution_count": 1,
   "metadata": {},
   "outputs": [],
   "source": [
    "# Import the dependencies.\n",
    "import pandas as pd\n",
    "import matplotlib.pyplot as plt\n",
    "import numpy as np\n",
    "\n",
    "import requests\n",
    "from datetime import datetime\n",
    "\n",
    "from config import weather_api_key\n",
    "\n",
    "# Use the citipy module to determine city based on latitude and longitude.\n",
    "from citipy import citipy"
   ]
  },
  {
   "cell_type": "code",
   "execution_count": 2,
   "metadata": {},
   "outputs": [
    {
     "name": "stdout",
     "output_type": "stream",
     "text": [
      "http://api.openweathermap.org/data/2.5/weather?units=Imperial&APPID=905b32babdb8b30c96f3b85b5e463ca8\n"
     ]
    }
   ],
   "source": [
    "# Starting URL for Weather Map API Call.\n",
    "url = \"http://api.openweathermap.org/data/2.5/weather?units=Imperial&APPID=\" + weather_api_key\n",
    "print(url)"
   ]
  },
  {
   "cell_type": "code",
   "execution_count": 3,
   "metadata": {},
   "outputs": [
    {
     "name": "stdout",
     "output_type": "stream",
     "text": [
      "http://api.openweathermap.org/data/2.5/weather?units=Imperial&APPID=905b32babdb8b30c96f3b85b5e463ca8&q=Boston\n"
     ]
    }
   ],
   "source": [
    "# Create an endpoint URL for a city.\n",
    "city_url = url + \"&q=\" + \"Boston\"\n",
    "print(city_url)"
   ]
  },
  {
   "cell_type": "code",
   "execution_count": 4,
   "metadata": {},
   "outputs": [
    {
     "data": {
      "text/plain": [
       "<zip at 0x1a679e89a48>"
      ]
     },
     "execution_count": 4,
     "metadata": {},
     "output_type": "execute_result"
    }
   ],
   "source": [
    "# Create a set of random latitude and longitude combinations.\n",
    "lats = np.random.uniform(low = -90.000, high = 90.000, size = 1500)\n",
    "lngs = np.random.uniform(low = -180.000, high = 180.000, size = 1500)\n",
    "lat_lngs = zip(lats, lngs)\n",
    "lat_lngs"
   ]
  },
  {
   "cell_type": "code",
   "execution_count": 5,
   "metadata": {},
   "outputs": [],
   "source": [
    "# Add the latitudes and longitudes to a list.\n",
    "coordinates = list(lat_lngs)"
   ]
  },
  {
   "cell_type": "code",
   "execution_count": 6,
   "metadata": {},
   "outputs": [
    {
     "data": {
      "text/plain": [
       "622"
      ]
     },
     "execution_count": 6,
     "metadata": {},
     "output_type": "execute_result"
    }
   ],
   "source": [
    "# Create a list for holding the cities.\n",
    "cities = []\n",
    "# Identify the nearest city for each latitude and longitude combination.\n",
    "for coordinate in coordinates:\n",
    "    city = citipy.nearest_city(coordinate[0], coordinate[1]).city_name\n",
    "    \n",
    "    # If the city is unique, then we will add it to the cities list.\n",
    "    if city not in cities:\n",
    "        cities.append(city)\n",
    "# Print the city count to confirm sufficient count.\n",
    "len(cities)"
   ]
  },
  {
   "cell_type": "code",
   "execution_count": 7,
   "metadata": {},
   "outputs": [
    {
     "data": {
      "text/plain": [
       "<Response [200]>"
      ]
     },
     "execution_count": 7,
     "metadata": {},
     "output_type": "execute_result"
    }
   ],
   "source": [
    "# Make a 'Get' request for the city weather.\n",
    "city_weather = requests.get(city_url)\n",
    "city_weather"
   ]
  },
  {
   "cell_type": "code",
   "execution_count": 8,
   "metadata": {},
   "outputs": [
    {
     "data": {
      "text/plain": [
       "200"
      ]
     },
     "execution_count": 8,
     "metadata": {},
     "output_type": "execute_result"
    }
   ],
   "source": [
    "city_weather.status_code"
   ]
  },
  {
   "cell_type": "code",
   "execution_count": 9,
   "metadata": {},
   "outputs": [
    {
     "data": {
      "text/plain": [
       "<Response [200]>"
      ]
     },
     "execution_count": 9,
     "metadata": {},
     "output_type": "execute_result"
    }
   ],
   "source": [
    "# Create an endpoint URL for a city.\n",
    "city_url = url + \"&q=\" + \"Boston\"\n",
    "city_weather = requests.get(city_url)\n",
    "city_weather"
   ]
  },
  {
   "cell_type": "code",
   "execution_count": 10,
   "metadata": {},
   "outputs": [
    {
     "data": {
      "text/plain": [
       "'{\"coord\":{\"lon\":-71.06,\"lat\":42.36},\"weather\":[{\"id\":802,\"main\":\"Clouds\",\"description\":\"scattered clouds\",\"icon\":\"03d\"}],\"base\":\"stations\",\"main\":{\"temp\":72.5,\"feels_like\":65.55,\"temp_min\":69.01,\"temp_max\":75.99,\"pressure\":1029,\"humidity\":46},\"visibility\":16093,\"wind\":{\"speed\":12.75,\"deg\":110},\"clouds\":{\"all\":40},\"dt\":1592341831,\"sys\":{\"type\":1,\"id\":3486,\"country\":\"US\",\"sunrise\":1592298415,\"sunset\":1592353396},\"timezone\":-14400,\"id\":4930956,\"name\":\"Boston\",\"cod\":200}'"
      ]
     },
     "execution_count": 10,
     "metadata": {},
     "output_type": "execute_result"
    }
   ],
   "source": [
    "# Get the text of the 'Get' request.\n",
    "city_weather.text"
   ]
  },
  {
   "cell_type": "code",
   "execution_count": 11,
   "metadata": {},
   "outputs": [
    {
     "data": {
      "text/plain": [
       "{'coord': {'lon': -71.06, 'lat': 42.36},\n",
       " 'weather': [{'id': 802,\n",
       "   'main': 'Clouds',\n",
       "   'description': 'scattered clouds',\n",
       "   'icon': '03d'}],\n",
       " 'base': 'stations',\n",
       " 'main': {'temp': 72.5,\n",
       "  'feels_like': 65.55,\n",
       "  'temp_min': 69.01,\n",
       "  'temp_max': 75.99,\n",
       "  'pressure': 1029,\n",
       "  'humidity': 46},\n",
       " 'visibility': 16093,\n",
       " 'wind': {'speed': 12.75, 'deg': 110},\n",
       " 'clouds': {'all': 40},\n",
       " 'dt': 1592341831,\n",
       " 'sys': {'type': 1,\n",
       "  'id': 3486,\n",
       "  'country': 'US',\n",
       "  'sunrise': 1592298415,\n",
       "  'sunset': 1592353396},\n",
       " 'timezone': -14400,\n",
       " 'id': 4930956,\n",
       " 'name': 'Boston',\n",
       " 'cod': 200}"
      ]
     },
     "execution_count": 11,
     "metadata": {},
     "output_type": "execute_result"
    }
   ],
   "source": [
    "# Get the JSON text of the 'Get' request.\n",
    "city_weather.json()"
   ]
  },
  {
   "cell_type": "code",
   "execution_count": 12,
   "metadata": {},
   "outputs": [
    {
     "name": "stdout",
     "output_type": "stream",
     "text": [
      "City Weather found.\n"
     ]
    }
   ],
   "source": [
    "# Create an endpoint URL for a city.\n",
    "city_url = url + \"&q=\" + \"Boston\"\n",
    "city_weather = requests.get(city_url)\n",
    "if city_weather.status_code == 200:\n",
    "    print(f\"City Weather found.\")\n",
    "else:\n",
    "    print(f\"City weather not found.\")"
   ]
  },
  {
   "cell_type": "code",
   "execution_count": 13,
   "metadata": {},
   "outputs": [
    {
     "name": "stdout",
     "output_type": "stream",
     "text": [
      "City Weather found.\n"
     ]
    }
   ],
   "source": [
    "# Create an endpoint URL for a city.\n",
    "city_url = url + \"&q=\" + \"Boston\"\n",
    "city_weather = requests.get(city_url)\n",
    "if city_weather.json():\n",
    "    print(f\"City Weather found.\")\n",
    "else:\n",
    "    print(f\"City weather not found.\")"
   ]
  },
  {
   "cell_type": "code",
   "execution_count": 14,
   "metadata": {},
   "outputs": [
    {
     "name": "stdout",
     "output_type": "stream",
     "text": [
      "http://api.openweathermap.org/data/2.5/weather?units=Imperial&APPID=905b32babdb8b30c96f3b85b5e463ca8&q=Boston\n"
     ]
    }
   ],
   "source": [
    "print(city_url)"
   ]
  },
  {
   "cell_type": "code",
   "execution_count": 15,
   "metadata": {},
   "outputs": [
    {
     "data": {
      "text/plain": [
       "{'coord': {'lon': -71.06, 'lat': 42.36},\n",
       " 'weather': [{'id': 802,\n",
       "   'main': 'Clouds',\n",
       "   'description': 'scattered clouds',\n",
       "   'icon': '03d'}],\n",
       " 'base': 'stations',\n",
       " 'main': {'temp': 72.5,\n",
       "  'feels_like': 65.55,\n",
       "  'temp_min': 69.01,\n",
       "  'temp_max': 75.99,\n",
       "  'pressure': 1029,\n",
       "  'humidity': 46},\n",
       " 'visibility': 16093,\n",
       " 'wind': {'speed': 12.75, 'deg': 110},\n",
       " 'clouds': {'all': 40},\n",
       " 'dt': 1592341831,\n",
       " 'sys': {'type': 1,\n",
       "  'id': 3486,\n",
       "  'country': 'US',\n",
       "  'sunrise': 1592298415,\n",
       "  'sunset': 1592353396},\n",
       " 'timezone': -14400,\n",
       " 'id': 4930956,\n",
       " 'name': 'Boston',\n",
       " 'cod': 200}"
      ]
     },
     "execution_count": 15,
     "metadata": {},
     "output_type": "execute_result"
    }
   ],
   "source": [
    "# Create an endpoint URL for a city.\n",
    "city_url = url + \"&q=\" + \"Boston\"\n",
    "city_weather = requests.get(city_url)\n",
    "city_weather.json()"
   ]
  },
  {
   "cell_type": "code",
   "execution_count": 16,
   "metadata": {},
   "outputs": [
    {
     "data": {
      "text/plain": [
       "{'type': 1,\n",
       " 'id': 3486,\n",
       " 'country': 'US',\n",
       " 'sunrise': 1592298415,\n",
       " 'sunset': 1592353396}"
      ]
     },
     "execution_count": 16,
     "metadata": {},
     "output_type": "execute_result"
    }
   ],
   "source": [
    "# Get the JSON data.\n",
    "boston_data = city_weather.json()\n",
    "boston_data[\"sys\"]"
   ]
  },
  {
   "cell_type": "code",
   "execution_count": 17,
   "metadata": {},
   "outputs": [
    {
     "data": {
      "text/plain": [
       "'US'"
      ]
     },
     "execution_count": 17,
     "metadata": {},
     "output_type": "execute_result"
    }
   ],
   "source": [
    "boston_data[\"sys\"][\"country\"]"
   ]
  },
  {
   "cell_type": "code",
   "execution_count": 18,
   "metadata": {},
   "outputs": [
    {
     "data": {
      "text/plain": [
       "1592341831"
      ]
     },
     "execution_count": 18,
     "metadata": {},
     "output_type": "execute_result"
    }
   ],
   "source": [
    "boston_data[\"dt\"]"
   ]
  },
  {
   "cell_type": "code",
   "execution_count": 19,
   "metadata": {},
   "outputs": [
    {
     "data": {
      "text/plain": [
       "42.36"
      ]
     },
     "execution_count": 19,
     "metadata": {},
     "output_type": "execute_result"
    }
   ],
   "source": [
    "boston_data[\"coord\"][\"lat\"]"
   ]
  },
  {
   "cell_type": "code",
   "execution_count": 20,
   "metadata": {},
   "outputs": [
    {
     "data": {
      "text/plain": [
       "75.99"
      ]
     },
     "execution_count": 20,
     "metadata": {},
     "output_type": "execute_result"
    }
   ],
   "source": [
    "boston_data[\"main\"][\"temp_max\"]"
   ]
  },
  {
   "cell_type": "code",
   "execution_count": 21,
   "metadata": {},
   "outputs": [
    {
     "name": "stdout",
     "output_type": "stream",
     "text": [
      "42.36 -71.06 75.99 46 40 12.75\n"
     ]
    }
   ],
   "source": [
    "lat = boston_data[\"coord\"][\"lat\"]\n",
    "lng = boston_data[\"coord\"][\"lon\"]\n",
    "max_temp = boston_data[\"main\"][\"temp_max\"]\n",
    "humidity = boston_data[\"main\"][\"humidity\"]\n",
    "clouds = boston_data[\"clouds\"][\"all\"]\n",
    "wind = boston_data[\"wind\"][\"speed\"]\n",
    "print(lat, lng, max_temp, humidity, clouds, wind)"
   ]
  },
  {
   "cell_type": "code",
   "execution_count": 22,
   "metadata": {},
   "outputs": [
    {
     "data": {
      "text/plain": [
       "datetime.datetime(2020, 6, 16, 21, 10, 31)"
      ]
     },
     "execution_count": 22,
     "metadata": {},
     "output_type": "execute_result"
    }
   ],
   "source": [
    "# Import the datetime module from the datetime library.\n",
    "from datetime import datetime\n",
    "\n",
    "# Get the date from the JSON file.\n",
    "date = boston_data[\"dt\"]\n",
    "\n",
    "# Convert the UTC date to a date format with year, month, day, hours, minutes, and seconds.\n",
    "datetime.utcfromtimestamp(date)"
   ]
  },
  {
   "cell_type": "code",
   "execution_count": 23,
   "metadata": {},
   "outputs": [],
   "source": [
    "# Import the datetime module from the datetime library.\n",
    "from datetime import datetime"
   ]
  },
  {
   "cell_type": "code",
   "execution_count": 24,
   "metadata": {
    "scrolled": true
   },
   "outputs": [
    {
     "name": "stdout",
     "output_type": "stream",
     "text": [
      "Beginning Data Retrieval     \n",
      "-----------------------------\n",
      "Processing Record 1 of Set 1 | chokurdakh\n",
      "Processing Record 2 of Set 1 | northam\n",
      "Processing Record 3 of Set 1 | tuktoyaktuk\n",
      "Processing Record 4 of Set 1 | bluff\n",
      "Processing Record 5 of Set 1 | dikson\n",
      "Processing Record 6 of Set 1 | along\n",
      "Processing Record 7 of Set 1 | ushuaia\n",
      "Processing Record 8 of Set 1 | clarence town\n",
      "Processing Record 9 of Set 1 | acajutla\n",
      "Processing Record 10 of Set 1 | east london\n",
      "Processing Record 11 of Set 1 | hermanus\n",
      "Processing Record 12 of Set 1 | chapleau\n",
      "Processing Record 13 of Set 1 | saint-philippe\n",
      "Processing Record 14 of Set 1 | sinkat\n",
      "City not found. Skipping...\n",
      "Processing Record 15 of Set 1 | cape town\n",
      "Processing Record 16 of Set 1 | avarua\n",
      "Processing Record 17 of Set 1 | evensk\n",
      "Processing Record 18 of Set 1 | college\n",
      "Processing Record 19 of Set 1 | yellowknife\n",
      "Processing Record 20 of Set 1 | nargana\n",
      "Processing Record 21 of Set 1 | geraldton\n",
      "Processing Record 22 of Set 1 | taolanaro\n",
      "City not found. Skipping...\n",
      "Processing Record 23 of Set 1 | kieta\n",
      "Processing Record 24 of Set 1 | dabrowa tarnowska\n",
      "Processing Record 25 of Set 1 | salinopolis\n",
      "Processing Record 26 of Set 1 | sao filipe\n",
      "Processing Record 27 of Set 1 | rikitea\n",
      "Processing Record 28 of Set 1 | tuscaloosa\n",
      "Processing Record 29 of Set 1 | pangnirtung\n",
      "Processing Record 30 of Set 1 | jieshi\n",
      "Processing Record 31 of Set 1 | castro\n",
      "Processing Record 32 of Set 1 | new norfolk\n",
      "Processing Record 33 of Set 1 | kapaa\n",
      "Processing Record 34 of Set 1 | havre-saint-pierre\n",
      "Processing Record 35 of Set 1 | namibe\n",
      "Processing Record 36 of Set 1 | korla\n",
      "Processing Record 37 of Set 1 | punta arenas\n",
      "Processing Record 38 of Set 1 | sistranda\n",
      "Processing Record 39 of Set 1 | hailar\n",
      "Processing Record 40 of Set 1 | te anau\n",
      "Processing Record 41 of Set 1 | hilo\n",
      "Processing Record 42 of Set 1 | itarema\n",
      "Processing Record 43 of Set 1 | presque isle\n",
      "Processing Record 44 of Set 1 | ahipara\n",
      "Processing Record 45 of Set 1 | zhuhai\n",
      "Processing Record 46 of Set 1 | one hundred mile house\n",
      "City not found. Skipping...\n",
      "Processing Record 47 of Set 1 | zeya\n",
      "Processing Record 48 of Set 1 | tautira\n",
      "Processing Record 49 of Set 1 | paita\n",
      "Processing Record 50 of Set 1 | san antonio\n",
      "Processing Record 1 of Set 2 | kudahuvadhoo\n",
      "Processing Record 2 of Set 2 | saint george\n",
      "Processing Record 3 of Set 2 | havelock\n",
      "Processing Record 4 of Set 2 | airai\n",
      "Processing Record 5 of Set 2 | carnarvon\n",
      "Processing Record 6 of Set 2 | vukovar\n",
      "Processing Record 7 of Set 2 | fortuna\n",
      "Processing Record 8 of Set 2 | ilulissat\n",
      "Processing Record 9 of Set 2 | taltal\n",
      "Processing Record 10 of Set 2 | atuona\n",
      "Processing Record 11 of Set 2 | hobart\n",
      "Processing Record 12 of Set 2 | upernavik\n",
      "Processing Record 13 of Set 2 | vardo\n",
      "Processing Record 14 of Set 2 | cherskiy\n",
      "Processing Record 15 of Set 2 | ruatoria\n",
      "City not found. Skipping...\n",
      "Processing Record 16 of Set 2 | albany\n",
      "Processing Record 17 of Set 2 | puerto ayora\n",
      "Processing Record 18 of Set 2 | ocampo\n",
      "Processing Record 19 of Set 2 | georgetown\n",
      "Processing Record 20 of Set 2 | tezu\n",
      "Processing Record 21 of Set 2 | kahului\n",
      "Processing Record 22 of Set 2 | rawson\n",
      "Processing Record 23 of Set 2 | araouane\n",
      "Processing Record 24 of Set 2 | viedma\n",
      "Processing Record 25 of Set 2 | mataura\n",
      "Processing Record 26 of Set 2 | ouesso\n",
      "Processing Record 27 of Set 2 | richards bay\n",
      "Processing Record 28 of Set 2 | pemba\n",
      "Processing Record 29 of Set 2 | kaitangata\n",
      "Processing Record 30 of Set 2 | severo-kurilsk\n",
      "Processing Record 31 of Set 2 | vaini\n",
      "Processing Record 32 of Set 2 | san patricio\n",
      "Processing Record 33 of Set 2 | ponta do sol\n",
      "Processing Record 34 of Set 2 | changji\n",
      "Processing Record 35 of Set 2 | katsuura\n",
      "Processing Record 36 of Set 2 | qaanaaq\n",
      "Processing Record 37 of Set 2 | sibolga\n",
      "Processing Record 38 of Set 2 | el bagre\n",
      "Processing Record 39 of Set 2 | arraial do cabo\n",
      "Processing Record 40 of Set 2 | ola\n",
      "Processing Record 41 of Set 2 | nizhneyansk\n",
      "City not found. Skipping...\n",
      "Processing Record 42 of Set 2 | lebu\n",
      "Processing Record 43 of Set 2 | bossembele\n",
      "City not found. Skipping...\n",
      "Processing Record 44 of Set 2 | davila\n",
      "Processing Record 45 of Set 2 | port alfred\n",
      "Processing Record 46 of Set 2 | provideniya\n",
      "Processing Record 47 of Set 2 | bengkulu\n",
      "Processing Record 48 of Set 2 | cobourg\n",
      "Processing Record 49 of Set 2 | port blair\n",
      "Processing Record 50 of Set 2 | vila velha\n",
      "Processing Record 1 of Set 3 | mayumba\n",
      "Processing Record 2 of Set 3 | olafsvik\n",
      "Processing Record 3 of Set 3 | busselton\n",
      "Processing Record 4 of Set 3 | boa vista\n",
      "Processing Record 5 of Set 3 | barrow\n",
      "Processing Record 6 of Set 3 | tiksi\n",
      "Processing Record 7 of Set 3 | alofi\n",
      "Processing Record 8 of Set 3 | leningradskiy\n",
      "Processing Record 9 of Set 3 | wajima\n",
      "Processing Record 10 of Set 3 | russell\n",
      "Processing Record 11 of Set 3 | ribeira grande\n",
      "Processing Record 12 of Set 3 | saskylakh\n",
      "Processing Record 13 of Set 3 | shibetsu\n",
      "Processing Record 14 of Set 3 | kavieng\n",
      "Processing Record 15 of Set 3 | yulara\n",
      "Processing Record 16 of Set 3 | esperance\n",
      "Processing Record 17 of Set 3 | amahai\n",
      "Processing Record 18 of Set 3 | butaritari\n",
      "Processing Record 19 of Set 3 | sur\n",
      "Processing Record 20 of Set 3 | port elizabeth\n",
      "Processing Record 21 of Set 3 | volodarka\n",
      "Processing Record 22 of Set 3 | khatanga\n",
      "Processing Record 23 of Set 3 | chimore\n",
      "Processing Record 24 of Set 3 | mehamn\n",
      "Processing Record 25 of Set 3 | coihaique\n",
      "Processing Record 26 of Set 3 | kloulklubed\n",
      "Processing Record 27 of Set 3 | cabo san lucas\n",
      "Processing Record 28 of Set 3 | alyangula\n",
      "Processing Record 29 of Set 3 | la libertad\n",
      "Processing Record 30 of Set 3 | faanui\n",
      "Processing Record 31 of Set 3 | santa fe\n",
      "Processing Record 32 of Set 3 | fairbanks\n",
      "Processing Record 33 of Set 3 | hofn\n",
      "Processing Record 34 of Set 3 | jamestown\n",
      "Processing Record 35 of Set 3 | ahvaz\n",
      "Processing Record 36 of Set 3 | lulea\n",
      "Processing Record 37 of Set 3 | cidreira\n",
      "Processing Record 38 of Set 3 | burica\n",
      "City not found. Skipping...\n",
      "Processing Record 39 of Set 3 | bredasdorp\n",
      "Processing Record 40 of Set 3 | hithadhoo\n",
      "Processing Record 41 of Set 3 | bolgar\n",
      "Processing Record 42 of Set 3 | sentyabrskiy\n",
      "City not found. Skipping...\n",
      "Processing Record 43 of Set 3 | guerrero negro\n",
      "Processing Record 44 of Set 3 | huaibei\n",
      "Processing Record 45 of Set 3 | ikryanoye\n",
      "Processing Record 46 of Set 3 | bima\n",
      "Processing Record 47 of Set 3 | luanda\n",
      "Processing Record 48 of Set 3 | pangoa\n",
      "Processing Record 49 of Set 3 | norman wells\n",
      "Processing Record 50 of Set 3 | saint anthony\n",
      "Processing Record 1 of Set 4 | kutum\n",
      "Processing Record 2 of Set 4 | bambous virieux\n",
      "Processing Record 3 of Set 4 | hambantota\n",
      "Processing Record 4 of Set 4 | vanavara\n",
      "Processing Record 5 of Set 4 | luderitz\n",
      "Processing Record 6 of Set 4 | saleaula\n",
      "City not found. Skipping...\n",
      "Processing Record 7 of Set 4 | agirish\n",
      "Processing Record 8 of Set 4 | nanortalik\n",
      "Processing Record 9 of Set 4 | illoqqortoormiut\n",
      "City not found. Skipping...\n",
      "Processing Record 10 of Set 4 | wanaka\n",
      "Processing Record 11 of Set 4 | kurumkan\n",
      "Processing Record 12 of Set 4 | belushya guba\n",
      "City not found. Skipping...\n",
      "Processing Record 13 of Set 4 | constitucion\n",
      "Processing Record 14 of Set 4 | dawson creek\n",
      "Processing Record 15 of Set 4 | aquin\n",
      "Processing Record 16 of Set 4 | golkoy\n",
      "Processing Record 17 of Set 4 | saint-joseph\n",
      "Processing Record 18 of Set 4 | sekovici\n",
      "Processing Record 19 of Set 4 | sibiti\n",
      "Processing Record 20 of Set 4 | caravelas\n",
      "Processing Record 21 of Set 4 | tucuman\n",
      "Processing Record 22 of Set 4 | puerto escondido\n",
      "Processing Record 23 of Set 4 | langarud\n",
      "Processing Record 24 of Set 4 | kuche\n",
      "City not found. Skipping...\n",
      "Processing Record 25 of Set 4 | dobric\n",
      "Processing Record 26 of Set 4 | belaya gora\n",
      "Processing Record 27 of Set 4 | leshukonskoye\n",
      "Processing Record 28 of Set 4 | okhotsk\n",
      "Processing Record 29 of Set 4 | paveh\n",
      "Processing Record 30 of Set 4 | ranong\n",
      "Processing Record 31 of Set 4 | nikolskoye\n",
      "Processing Record 32 of Set 4 | havoysund\n",
      "Processing Record 33 of Set 4 | umm durman\n",
      "City not found. Skipping...\n",
      "Processing Record 34 of Set 4 | huittinen\n",
      "Processing Record 35 of Set 4 | kumphawapi\n",
      "Processing Record 36 of Set 4 | bathsheba\n",
      "Processing Record 37 of Set 4 | sioux lookout\n",
      "Processing Record 38 of Set 4 | hervey bay\n",
      "Processing Record 39 of Set 4 | hami\n"
     ]
    },
    {
     "name": "stdout",
     "output_type": "stream",
     "text": [
      "Processing Record 40 of Set 4 | buala\n",
      "Processing Record 41 of Set 4 | port lincoln\n",
      "Processing Record 42 of Set 4 | ucar\n",
      "Processing Record 43 of Set 4 | lodja\n",
      "Processing Record 44 of Set 4 | touros\n",
      "Processing Record 45 of Set 4 | haines junction\n",
      "Processing Record 46 of Set 4 | sao jose da coroa grande\n",
      "Processing Record 47 of Set 4 | inisa\n",
      "Processing Record 48 of Set 4 | jining\n",
      "Processing Record 49 of Set 4 | manzil tamim\n",
      "City not found. Skipping...\n",
      "Processing Record 50 of Set 4 | ostrovnoy\n",
      "Processing Record 1 of Set 5 | narsaq\n",
      "Processing Record 2 of Set 5 | pop\n",
      "Processing Record 3 of Set 5 | ngunguru\n",
      "Processing Record 4 of Set 5 | saint-augustin\n",
      "Processing Record 5 of Set 5 | grand river south east\n",
      "City not found. Skipping...\n",
      "Processing Record 6 of Set 5 | denpasar\n",
      "Processing Record 7 of Set 5 | qui nhon\n",
      "Processing Record 8 of Set 5 | jasper\n",
      "Processing Record 9 of Set 5 | san matias\n",
      "Processing Record 10 of Set 5 | eyl\n",
      "Processing Record 11 of Set 5 | broken hill\n",
      "Processing Record 12 of Set 5 | adrar\n",
      "Processing Record 13 of Set 5 | victoria\n",
      "Processing Record 14 of Set 5 | nalut\n",
      "Processing Record 15 of Set 5 | komsomolets\n",
      "Processing Record 16 of Set 5 | kefalos\n",
      "Processing Record 17 of Set 5 | attawapiskat\n",
      "City not found. Skipping...\n",
      "Processing Record 18 of Set 5 | mahibadhoo\n",
      "Processing Record 19 of Set 5 | bilibino\n",
      "Processing Record 20 of Set 5 | ha giang\n",
      "Processing Record 21 of Set 5 | hamilton\n",
      "Processing Record 22 of Set 5 | barentsburg\n",
      "City not found. Skipping...\n",
      "Processing Record 23 of Set 5 | doha\n",
      "Processing Record 24 of Set 5 | abu samrah\n",
      "Processing Record 25 of Set 5 | chuy\n",
      "Processing Record 26 of Set 5 | timizart\n",
      "Processing Record 27 of Set 5 | sao sebastiao\n",
      "Processing Record 28 of Set 5 | bull savanna\n",
      "Processing Record 29 of Set 5 | pontes e lacerda\n",
      "Processing Record 30 of Set 5 | borogontsy\n",
      "Processing Record 31 of Set 5 | iqaluit\n",
      "Processing Record 32 of Set 5 | merritt island\n",
      "Processing Record 33 of Set 5 | santa barbara\n",
      "Processing Record 34 of Set 5 | ulladulla\n",
      "Processing Record 35 of Set 5 | gustrow\n",
      "Processing Record 36 of Set 5 | kodiak\n",
      "Processing Record 37 of Set 5 | hovd\n",
      "Processing Record 38 of Set 5 | sao geraldo do araguaia\n",
      "Processing Record 39 of Set 5 | dengzhou\n",
      "Processing Record 40 of Set 5 | umzimvubu\n",
      "City not found. Skipping...\n",
      "Processing Record 41 of Set 5 | la plata\n",
      "Processing Record 42 of Set 5 | rocha\n",
      "Processing Record 43 of Set 5 | humberto de campos\n",
      "Processing Record 44 of Set 5 | berlevag\n",
      "Processing Record 45 of Set 5 | bandarbeyla\n",
      "Processing Record 46 of Set 5 | kodinsk\n",
      "Processing Record 47 of Set 5 | reitz\n",
      "Processing Record 48 of Set 5 | soure\n",
      "Processing Record 49 of Set 5 | sinnamary\n",
      "Processing Record 50 of Set 5 | kropotkin\n",
      "Processing Record 1 of Set 6 | mecca\n",
      "Processing Record 2 of Set 6 | north bend\n",
      "Processing Record 3 of Set 6 | bethel\n",
      "Processing Record 4 of Set 6 | rungata\n",
      "City not found. Skipping...\n",
      "Processing Record 5 of Set 6 | pochutla\n",
      "Processing Record 6 of Set 6 | ust-kuyga\n",
      "Processing Record 7 of Set 6 | vao\n",
      "Processing Record 8 of Set 6 | kuryk\n",
      "Processing Record 9 of Set 6 | hostotipaquillo\n",
      "Processing Record 10 of Set 6 | arlit\n",
      "Processing Record 11 of Set 6 | flinders\n",
      "Processing Record 12 of Set 6 | yanan\n",
      "City not found. Skipping...\n",
      "Processing Record 13 of Set 6 | brae\n",
      "Processing Record 14 of Set 6 | kijang\n",
      "Processing Record 15 of Set 6 | nivala\n",
      "Processing Record 16 of Set 6 | mount gambier\n",
      "Processing Record 17 of Set 6 | tasiilaq\n",
      "Processing Record 18 of Set 6 | walvis bay\n",
      "Processing Record 19 of Set 6 | el pueblito\n",
      "Processing Record 20 of Set 6 | rantepao\n",
      "Processing Record 21 of Set 6 | lucapa\n",
      "Processing Record 22 of Set 6 | chengde\n",
      "Processing Record 23 of Set 6 | ochamchira\n",
      "Processing Record 24 of Set 6 | roma\n",
      "Processing Record 25 of Set 6 | atherton\n",
      "Processing Record 26 of Set 6 | bubaque\n",
      "Processing Record 27 of Set 6 | estelle\n",
      "Processing Record 28 of Set 6 | omsukchan\n",
      "Processing Record 29 of Set 6 | avera\n",
      "Processing Record 30 of Set 6 | santa lucia\n",
      "Processing Record 31 of Set 6 | raahe\n",
      "Processing Record 32 of Set 6 | mahebourg\n",
      "Processing Record 33 of Set 6 | tuatapere\n",
      "Processing Record 34 of Set 6 | pojuca\n",
      "Processing Record 35 of Set 6 | cockburn town\n",
      "Processing Record 36 of Set 6 | taoudenni\n",
      "Processing Record 37 of Set 6 | karamea\n",
      "City not found. Skipping...\n",
      "Processing Record 38 of Set 6 | canmore\n",
      "Processing Record 39 of Set 6 | la ciotat\n",
      "Processing Record 40 of Set 6 | bustamante\n",
      "Processing Record 41 of Set 6 | torbay\n",
      "Processing Record 42 of Set 6 | kupang\n",
      "Processing Record 43 of Set 6 | pucara\n",
      "Processing Record 44 of Set 6 | arcata\n",
      "Processing Record 45 of Set 6 | bosaso\n",
      "Processing Record 46 of Set 6 | atbasar\n",
      "Processing Record 47 of Set 6 | caxito\n",
      "Processing Record 48 of Set 6 | muros\n",
      "Processing Record 49 of Set 6 | coahuayana\n",
      "Processing Record 50 of Set 6 | gboko\n",
      "Processing Record 1 of Set 7 | iberia\n",
      "Processing Record 2 of Set 7 | voh\n",
      "Processing Record 3 of Set 7 | mandalgovi\n",
      "Processing Record 4 of Set 7 | tabiauea\n",
      "City not found. Skipping...\n",
      "Processing Record 5 of Set 7 | hauterive\n",
      "Processing Record 6 of Set 7 | atar\n",
      "Processing Record 7 of Set 7 | sitka\n",
      "Processing Record 8 of Set 7 | camacha\n",
      "Processing Record 9 of Set 7 | santa marta\n",
      "Processing Record 10 of Set 7 | amderma\n",
      "City not found. Skipping...\n",
      "Processing Record 11 of Set 7 | dongning\n",
      "Processing Record 12 of Set 7 | samarai\n",
      "Processing Record 13 of Set 7 | salalah\n",
      "Processing Record 14 of Set 7 | kapasan\n",
      "Processing Record 15 of Set 7 | nacogdoches\n",
      "Processing Record 16 of Set 7 | cayenne\n",
      "Processing Record 17 of Set 7 | sao joao da barra\n",
      "Processing Record 18 of Set 7 | carbondale\n",
      "Processing Record 19 of Set 7 | kruisfontein\n",
      "Processing Record 20 of Set 7 | lubango\n",
      "Processing Record 21 of Set 7 | durango\n",
      "Processing Record 22 of Set 7 | vicente guerrero\n",
      "Processing Record 23 of Set 7 | aguada de pasajeros\n",
      "Processing Record 24 of Set 7 | maracaibo\n",
      "Processing Record 25 of Set 7 | khislavichi\n",
      "Processing Record 26 of Set 7 | isangel\n",
      "Processing Record 27 of Set 7 | marawi\n",
      "Processing Record 28 of Set 7 | erlenbach\n",
      "Processing Record 29 of Set 7 | primorskiy\n",
      "Processing Record 30 of Set 7 | nuuk\n",
      "Processing Record 31 of Set 7 | sun city west\n",
      "Processing Record 32 of Set 7 | isetskoye\n",
      "Processing Record 33 of Set 7 | katherine\n",
      "Processing Record 34 of Set 7 | nhulunbuy\n",
      "Processing Record 35 of Set 7 | dingle\n",
      "Processing Record 36 of Set 7 | meyungs\n",
      "City not found. Skipping...\n",
      "Processing Record 37 of Set 7 | camana\n",
      "Processing Record 38 of Set 7 | bur gabo\n",
      "City not found. Skipping...\n",
      "Processing Record 39 of Set 7 | ledyard\n",
      "Processing Record 40 of Set 7 | sept-iles\n",
      "Processing Record 41 of Set 7 | santa rosa\n",
      "Processing Record 42 of Set 7 | waipawa\n",
      "Processing Record 43 of Set 7 | xiongshi\n",
      "City not found. Skipping...\n",
      "Processing Record 44 of Set 7 | mporokoso\n",
      "Processing Record 45 of Set 7 | sechura\n",
      "Processing Record 46 of Set 7 | kavaratti\n",
      "Processing Record 47 of Set 7 | honggang\n",
      "Processing Record 48 of Set 7 | ciudad bolivar\n",
      "Processing Record 49 of Set 7 | sault sainte marie\n",
      "Processing Record 50 of Set 7 | tongliao\n",
      "Processing Record 1 of Set 8 | warqla\n",
      "City not found. Skipping...\n",
      "Processing Record 2 of Set 8 | kemijarvi\n",
      "Processing Record 3 of Set 8 | kot samaba\n",
      "Processing Record 4 of Set 8 | pevek\n",
      "Processing Record 5 of Set 8 | turukhansk\n",
      "Processing Record 6 of Set 8 | pimentel\n",
      "Processing Record 7 of Set 8 | chadiza\n",
      "Processing Record 8 of Set 8 | thompson\n",
      "Processing Record 9 of Set 8 | saldanha\n",
      "Processing Record 10 of Set 8 | samatau\n",
      "City not found. Skipping...\n",
      "Processing Record 11 of Set 8 | bundaberg\n",
      "Processing Record 12 of Set 8 | mar del plata\n",
      "Processing Record 13 of Set 8 | leh\n",
      "Processing Record 14 of Set 8 | longyearbyen\n",
      "Processing Record 15 of Set 8 | otane\n",
      "Processing Record 16 of Set 8 | labutta\n",
      "City not found. Skipping...\n",
      "Processing Record 17 of Set 8 | bukan\n",
      "Processing Record 18 of Set 8 | jalalabad\n",
      "Processing Record 19 of Set 8 | mwene-ditu\n",
      "Processing Record 20 of Set 8 | salinas\n",
      "Processing Record 21 of Set 8 | burnie\n",
      "Processing Record 22 of Set 8 | eskasem\n",
      "City not found. Skipping...\n",
      "Processing Record 23 of Set 8 | roros\n",
      "Processing Record 24 of Set 8 | mackay\n",
      "Processing Record 25 of Set 8 | la maddalena\n",
      "Processing Record 26 of Set 8 | nouadhibou\n",
      "Processing Record 27 of Set 8 | balikpapan\n"
     ]
    },
    {
     "name": "stdout",
     "output_type": "stream",
     "text": [
      "Processing Record 28 of Set 8 | kabalo\n",
      "Processing Record 29 of Set 8 | tiznit\n",
      "Processing Record 30 of Set 8 | praia da vitoria\n",
      "Processing Record 31 of Set 8 | ahuimanu\n",
      "Processing Record 32 of Set 8 | madimba\n",
      "Processing Record 33 of Set 8 | waycross\n",
      "Processing Record 34 of Set 8 | waitati\n",
      "Processing Record 35 of Set 8 | arica\n",
      "Processing Record 36 of Set 8 | maracaju\n",
      "Processing Record 37 of Set 8 | yinchuan\n",
      "Processing Record 38 of Set 8 | semily\n",
      "Processing Record 39 of Set 8 | yeppoon\n",
      "Processing Record 40 of Set 8 | alice springs\n",
      "Processing Record 41 of Set 8 | nemuro\n",
      "Processing Record 42 of Set 8 | husavik\n",
      "Processing Record 43 of Set 8 | poya\n",
      "Processing Record 44 of Set 8 | san cristobal\n",
      "Processing Record 45 of Set 8 | iranshahr\n",
      "Processing Record 46 of Set 8 | fort abbas\n",
      "Processing Record 47 of Set 8 | san policarpo\n",
      "Processing Record 48 of Set 8 | khash\n",
      "Processing Record 49 of Set 8 | bouna\n",
      "Processing Record 50 of Set 8 | timaru\n",
      "Processing Record 1 of Set 9 | bam\n",
      "Processing Record 2 of Set 9 | winnemucca\n",
      "Processing Record 3 of Set 9 | tangshan\n",
      "Processing Record 4 of Set 9 | westport\n",
      "Processing Record 5 of Set 9 | henties bay\n",
      "Processing Record 6 of Set 9 | los cedrales\n",
      "Processing Record 7 of Set 9 | komsomolskiy\n",
      "Processing Record 8 of Set 9 | pisco\n",
      "Processing Record 9 of Set 9 | porgera\n",
      "Processing Record 10 of Set 9 | grand-santi\n",
      "Processing Record 11 of Set 9 | talnakh\n",
      "Processing Record 12 of Set 9 | koulikoro\n",
      "Processing Record 13 of Set 9 | marsh harbour\n",
      "Processing Record 14 of Set 9 | fort saint john\n",
      "City not found. Skipping...\n",
      "Processing Record 15 of Set 9 | suhut\n",
      "Processing Record 16 of Set 9 | lorengau\n",
      "Processing Record 17 of Set 9 | rawannawi\n",
      "City not found. Skipping...\n",
      "Processing Record 18 of Set 9 | peterhead\n",
      "Processing Record 19 of Set 9 | ajdabiya\n",
      "Processing Record 20 of Set 9 | gallup\n",
      "Processing Record 21 of Set 9 | port hardy\n",
      "Processing Record 22 of Set 9 | riachao das neves\n",
      "Processing Record 23 of Set 9 | bereda\n",
      "Processing Record 24 of Set 9 | calatayud\n",
      "Processing Record 25 of Set 9 | loubomo\n",
      "Processing Record 26 of Set 9 | shingu\n",
      "Processing Record 27 of Set 9 | zambezi\n",
      "Processing Record 28 of Set 9 | mahajanga\n",
      "Processing Record 29 of Set 9 | paucartambo\n",
      "City not found. Skipping...\n",
      "Processing Record 30 of Set 9 | stantsiya gorchakovo\n",
      "City not found. Skipping...\n",
      "Processing Record 31 of Set 9 | biak\n",
      "Processing Record 32 of Set 9 | canto do buriti\n",
      "Processing Record 33 of Set 9 | letnyaya stavka\n",
      "Processing Record 34 of Set 9 | souillac\n",
      "Processing Record 35 of Set 9 | poum\n",
      "Processing Record 36 of Set 9 | pontian kecil\n",
      "Processing Record 37 of Set 9 | astana\n",
      "Processing Record 38 of Set 9 | axim\n",
      "Processing Record 39 of Set 9 | vaitupu\n",
      "City not found. Skipping...\n",
      "Processing Record 40 of Set 9 | mezen\n",
      "Processing Record 41 of Set 9 | san rafael\n",
      "Processing Record 42 of Set 9 | douentza\n",
      "Processing Record 43 of Set 9 | hualmay\n",
      "Processing Record 44 of Set 9 | viesca\n",
      "Processing Record 45 of Set 9 | yar-sale\n",
      "Processing Record 46 of Set 9 | grand forks\n",
      "Processing Record 47 of Set 9 | tocopilla\n",
      "Processing Record 48 of Set 9 | augusto correa\n",
      "Processing Record 49 of Set 9 | bjornevatn\n",
      "Processing Record 50 of Set 9 | port hedland\n",
      "Processing Record 1 of Set 10 | pangai\n",
      "Processing Record 2 of Set 10 | marcona\n",
      "City not found. Skipping...\n",
      "Processing Record 3 of Set 10 | ugoofaaru\n",
      "Processing Record 4 of Set 10 | soltsy\n",
      "Processing Record 5 of Set 10 | ituporanga\n",
      "Processing Record 6 of Set 10 | labuan\n",
      "Processing Record 7 of Set 10 | ancud\n",
      "Processing Record 8 of Set 10 | tumannyy\n",
      "City not found. Skipping...\n",
      "Processing Record 9 of Set 10 | puerto ayacucho\n",
      "Processing Record 10 of Set 10 | ambilobe\n",
      "Processing Record 11 of Set 10 | egvekinot\n",
      "Processing Record 12 of Set 10 | villa rica\n",
      "Processing Record 13 of Set 10 | koflach\n",
      "Processing Record 14 of Set 10 | kuusamo\n",
      "Processing Record 15 of Set 10 | namanga\n",
      "Processing Record 16 of Set 10 | damietta\n",
      "Processing Record 17 of Set 10 | khandbari\n",
      "Processing Record 18 of Set 10 | chara\n",
      "Processing Record 19 of Set 10 | luang prabang\n",
      "Processing Record 20 of Set 10 | mosjoen\n",
      "Processing Record 21 of Set 10 | yerbogachen\n",
      "Processing Record 22 of Set 10 | ponta delgada\n",
      "Processing Record 23 of Set 10 | lompoc\n",
      "Processing Record 24 of Set 10 | big spring\n",
      "Processing Record 25 of Set 10 | boyuibe\n",
      "Processing Record 26 of Set 10 | paamiut\n",
      "Processing Record 27 of Set 10 | vetralla\n",
      "Processing Record 28 of Set 10 | queimadas\n",
      "Processing Record 29 of Set 10 | buena vista\n",
      "Processing Record 30 of Set 10 | dumas\n",
      "Processing Record 31 of Set 10 | sompeta\n",
      "Processing Record 32 of Set 10 | miandrivazo\n",
      "Processing Record 33 of Set 10 | oeiras do para\n",
      "Processing Record 34 of Set 10 | herzogenbuchsee\n",
      "Processing Record 35 of Set 10 | nizhniy ingash\n",
      "Processing Record 36 of Set 10 | kiruna\n",
      "Processing Record 37 of Set 10 | delta del tigre\n",
      "Processing Record 38 of Set 10 | wuda\n",
      "Processing Record 39 of Set 10 | shu\n",
      "Processing Record 40 of Set 10 | laguna\n",
      "Processing Record 41 of Set 10 | inhambane\n",
      "Processing Record 42 of Set 10 | surt\n",
      "Processing Record 43 of Set 10 | teguldet\n",
      "Processing Record 44 of Set 10 | tabas\n",
      "Processing Record 45 of Set 10 | goderich\n",
      "Processing Record 46 of Set 10 | sindor\n",
      "Processing Record 47 of Set 10 | balkhash\n",
      "Processing Record 48 of Set 10 | ciras\n",
      "City not found. Skipping...\n",
      "Processing Record 49 of Set 10 | wittenheim\n",
      "Processing Record 50 of Set 10 | aksarayskiy\n",
      "Processing Record 1 of Set 11 | hastings\n",
      "Processing Record 2 of Set 11 | lagoa\n",
      "Processing Record 3 of Set 11 | katete\n",
      "Processing Record 4 of Set 11 | opelousas\n",
      "Processing Record 5 of Set 11 | dicamay\n",
      "Processing Record 6 of Set 11 | suratgarh\n",
      "Processing Record 7 of Set 11 | eureka\n",
      "Processing Record 8 of Set 11 | phan thiet\n",
      "Processing Record 9 of Set 11 | huilong\n",
      "Processing Record 10 of Set 11 | pingliang\n",
      "Processing Record 11 of Set 11 | weligama\n",
      "Processing Record 12 of Set 11 | codrington\n",
      "Processing Record 13 of Set 11 | manokwari\n",
      "Processing Record 14 of Set 11 | sobolevo\n",
      "Processing Record 15 of Set 11 | deputatskiy\n",
      "Processing Record 16 of Set 11 | palmer\n",
      "Processing Record 17 of Set 11 | asau\n",
      "Processing Record 18 of Set 11 | sakakah\n",
      "Processing Record 19 of Set 11 | vuktyl\n",
      "Processing Record 20 of Set 11 | vernon\n",
      "Processing Record 21 of Set 11 | yantongshan\n",
      "Processing Record 22 of Set 11 | thunder bay\n",
      "Processing Record 23 of Set 11 | pacific grove\n",
      "Processing Record 24 of Set 11 | palabuhanratu\n",
      "City not found. Skipping...\n",
      "Processing Record 25 of Set 11 | pringsewu\n",
      "Processing Record 26 of Set 11 | miro khan\n",
      "Processing Record 27 of Set 11 | puerto carreno\n",
      "Processing Record 28 of Set 11 | hanzhong\n",
      "Processing Record 29 of Set 11 | asfi\n",
      "Processing Record 30 of Set 11 | nantucket\n",
      "Processing Record 31 of Set 11 | seoul\n",
      "Processing Record 32 of Set 11 | boda\n",
      "Processing Record 33 of Set 11 | benito juarez\n",
      "Processing Record 34 of Set 11 | ponnani\n",
      "Processing Record 35 of Set 11 | minuri\n",
      "Processing Record 36 of Set 11 | margate\n",
      "Processing Record 37 of Set 11 | kanakapura\n",
      "Processing Record 38 of Set 11 | tsihombe\n",
      "City not found. Skipping...\n",
      "Processing Record 39 of Set 11 | kargapolye\n",
      "City not found. Skipping...\n",
      "Processing Record 40 of Set 11 | iralaya\n",
      "Processing Record 41 of Set 11 | el alto\n",
      "Processing Record 42 of Set 11 | cognac\n",
      "Processing Record 43 of Set 11 | meulaboh\n",
      "Processing Record 44 of Set 11 | sambava\n",
      "Processing Record 45 of Set 11 | kalaleh\n",
      "Processing Record 46 of Set 11 | aksum\n",
      "Processing Record 47 of Set 11 | karratha\n",
      "Processing Record 48 of Set 11 | clyde river\n",
      "Processing Record 49 of Set 11 | sorland\n",
      "Processing Record 50 of Set 11 | inirida\n",
      "Processing Record 1 of Set 12 | centralia\n",
      "Processing Record 2 of Set 12 | ayan\n",
      "Processing Record 3 of Set 12 | lake havasu city\n",
      "Processing Record 4 of Set 12 | moyale\n",
      "Processing Record 5 of Set 12 | namatanai\n",
      "Processing Record 6 of Set 12 | karasuyama\n",
      "Processing Record 7 of Set 12 | marsabit\n",
      "Processing Record 8 of Set 12 | carutapera\n",
      "Processing Record 9 of Set 12 | petatlan\n",
      "Processing Record 10 of Set 12 | makinsk\n",
      "Processing Record 11 of Set 12 | half moon bay\n",
      "Processing Record 12 of Set 12 | mana\n",
      "Processing Record 13 of Set 12 | cansancao\n",
      "Processing Record 14 of Set 12 | hobyo\n",
      "Processing Record 15 of Set 12 | ankazobe\n",
      "Processing Record 16 of Set 12 | padang\n"
     ]
    },
    {
     "name": "stdout",
     "output_type": "stream",
     "text": [
      "Processing Record 17 of Set 12 | temaraia\n",
      "City not found. Skipping...\n",
      "Processing Record 18 of Set 12 | cumaribo\n",
      "City not found. Skipping...\n",
      "Processing Record 19 of Set 12 | garowe\n",
      "Processing Record 20 of Set 12 | altay\n",
      "Processing Record 21 of Set 12 | verkhnyaya inta\n",
      "Processing Record 22 of Set 12 | schaffhausen\n",
      "Processing Record 23 of Set 12 | qingdao\n",
      "Processing Record 24 of Set 12 | le moule\n",
      "Processing Record 25 of Set 12 | klaksvik\n",
      "Processing Record 26 of Set 12 | riyadh\n",
      "Processing Record 27 of Set 12 | fruitvale\n",
      "Processing Record 28 of Set 12 | modica\n",
      "Processing Record 29 of Set 12 | wakkanai\n",
      "Processing Record 30 of Set 12 | tomatlan\n",
      "Processing Record 31 of Set 12 | turriff\n",
      "Processing Record 32 of Set 12 | waddan\n",
      "Processing Record 33 of Set 12 | acarau\n",
      "Processing Record 34 of Set 12 | felidhoo\n",
      "City not found. Skipping...\n",
      "Processing Record 35 of Set 12 | kurayoshi\n",
      "Processing Record 36 of Set 12 | altoona\n",
      "Processing Record 37 of Set 12 | naze\n",
      "Processing Record 38 of Set 12 | baoning\n",
      "Processing Record 39 of Set 12 | chukhloma\n",
      "Processing Record 40 of Set 12 | nova borova\n",
      "Processing Record 41 of Set 12 | benguela\n",
      "Processing Record 42 of Set 12 | hasaki\n",
      "Processing Record 43 of Set 12 | staraya kulatka\n",
      "Processing Record 44 of Set 12 | krasnohrad\n",
      "Processing Record 45 of Set 12 | vanderhoof\n",
      "Processing Record 46 of Set 12 | kachiry\n",
      "Processing Record 47 of Set 12 | bulgan\n",
      "Processing Record 48 of Set 12 | guia de isora\n",
      "Processing Record 49 of Set 12 | mengcheng\n",
      "Processing Record 50 of Set 12 | mildura\n",
      "Processing Record 1 of Set 13 | maloy\n",
      "Processing Record 2 of Set 13 | belyy yar\n",
      "Processing Record 3 of Set 13 | galle\n",
      "Processing Record 4 of Set 13 | ixtapa\n",
      "Processing Record 5 of Set 13 | severnyy\n",
      "Processing Record 6 of Set 13 | yumaguzino\n",
      "Processing Record 7 of Set 13 | cassilandia\n",
      "Processing Record 8 of Set 13 | san carlos\n",
      "Processing Record 9 of Set 13 | mago\n",
      "Processing Record 10 of Set 13 | kirakira\n",
      "Processing Record 11 of Set 13 | samusu\n",
      "City not found. Skipping...\n",
      "Processing Record 12 of Set 13 | cape coast\n",
      "Processing Record 13 of Set 13 | topi\n",
      "Processing Record 14 of Set 13 | wilmington\n",
      "Processing Record 15 of Set 13 | kamenskoye\n",
      "City not found. Skipping...\n",
      "Processing Record 16 of Set 13 | barao de melgaco\n",
      "Processing Record 17 of Set 13 | abu zabad\n",
      "Processing Record 18 of Set 13 | pierre\n",
      "Processing Record 19 of Set 13 | tommot\n",
      "Processing Record 20 of Set 13 | kasongo-lunda\n",
      "Processing Record 21 of Set 13 | morondava\n",
      "Processing Record 22 of Set 13 | saluzzo\n",
      "-----------------------------\n",
      "Data Retrieval Complete      \n",
      "-----------------------------\n"
     ]
    }
   ],
   "source": [
    "# Create an empty list to hold the weather data.\n",
    "city_data = []\n",
    "# Print the beginning of the logging.\n",
    "print(\"Beginning Data Retrieval     \")\n",
    "print(\"-----------------------------\")\n",
    "\n",
    "# Create counters.\n",
    "record_count = 1\n",
    "set_count = 1\n",
    "\n",
    "# Loop through all the cities in the list.\n",
    "for i, city in enumerate(cities):\n",
    "\n",
    "    # Group cities in sets of 50 for logging purposes.\n",
    "    if (i % 50 == 0 and i >= 50):\n",
    "        set_count += 1\n",
    "        record_count = 1\n",
    "    # Create endpoint URL with each city.\n",
    "    city_url = url + \"&q=\" + city.replace(\" \",\"+\")\n",
    "\n",
    "    # Log the URL, record, and set numbers and the city.\n",
    "    print(f\"Processing Record {record_count} of Set {set_count} | {city}\")\n",
    "    # Add 1 to the record count.\n",
    "    record_count += 1\n",
    "    \n",
    "# Run an API request for each of the cities.\n",
    "    try:\n",
    "        # Parse the JSON and retrieve data.\n",
    "        city_weather = requests.get(city_url).json()\n",
    "        # Parse out the needed data.\n",
    "        city_lat = city_weather[\"coord\"][\"lat\"]\n",
    "        city_lng = city_weather[\"coord\"][\"lon\"]\n",
    "        city_max_temp = city_weather[\"main\"][\"temp_max\"]\n",
    "        city_humidity = city_weather[\"main\"][\"humidity\"]\n",
    "        city_clouds = city_weather[\"clouds\"][\"all\"]\n",
    "        city_wind = city_weather[\"wind\"][\"speed\"]\n",
    "        city_country = city_weather[\"sys\"][\"country\"]\n",
    "        # Convert the date to ISO standard.\n",
    "        city_date = datetime.utcfromtimestamp(city_weather[\"dt\"]).strftime('%Y-%m-%d %H:%M:%S')\n",
    "        # Append the city information into city_data list.\n",
    "        city_data.append({\"City\": city.title(),\n",
    "                          \"Lat\": city_lat,\n",
    "                          \"Lng\": city_lng,\n",
    "                          \"Max Temp\": city_max_temp,\n",
    "                          \"Humidity\": city_humidity,\n",
    "                          \"Cloudiness\": city_clouds,\n",
    "                          \"Wind Speed\": city_wind,\n",
    "                          \"Country\": city_country,\n",
    "                          \"Date\": city_date})\n",
    "\n",
    "# If an error is experienced, skip the city.\n",
    "    except:\n",
    "        print(\"City not found. Skipping...\")\n",
    "        pass\n",
    "\n",
    "# Indicate that Data Loading is complete.\n",
    "print(\"-----------------------------\")\n",
    "print(\"Data Retrieval Complete      \")\n",
    "print(\"-----------------------------\")"
   ]
  },
  {
   "cell_type": "code",
   "execution_count": 25,
   "metadata": {},
   "outputs": [
    {
     "data": {
      "text/plain": [
       "576"
      ]
     },
     "execution_count": 25,
     "metadata": {},
     "output_type": "execute_result"
    }
   ],
   "source": [
    "len(city_data)"
   ]
  },
  {
   "cell_type": "code",
   "execution_count": 26,
   "metadata": {},
   "outputs": [
    {
     "data": {
      "text/html": [
       "<div>\n",
       "<style scoped>\n",
       "    .dataframe tbody tr th:only-of-type {\n",
       "        vertical-align: middle;\n",
       "    }\n",
       "\n",
       "    .dataframe tbody tr th {\n",
       "        vertical-align: top;\n",
       "    }\n",
       "\n",
       "    .dataframe thead th {\n",
       "        text-align: right;\n",
       "    }\n",
       "</style>\n",
       "<table border=\"1\" class=\"dataframe\">\n",
       "  <thead>\n",
       "    <tr style=\"text-align: right;\">\n",
       "      <th></th>\n",
       "      <th>City</th>\n",
       "      <th>Lat</th>\n",
       "      <th>Lng</th>\n",
       "      <th>Max Temp</th>\n",
       "      <th>Humidity</th>\n",
       "      <th>Cloudiness</th>\n",
       "      <th>Wind Speed</th>\n",
       "      <th>Country</th>\n",
       "      <th>Date</th>\n",
       "    </tr>\n",
       "  </thead>\n",
       "  <tbody>\n",
       "    <tr>\n",
       "      <th>0</th>\n",
       "      <td>Chokurdakh</td>\n",
       "      <td>70.63</td>\n",
       "      <td>147.92</td>\n",
       "      <td>80.04</td>\n",
       "      <td>27</td>\n",
       "      <td>46</td>\n",
       "      <td>8.68</td>\n",
       "      <td>RU</td>\n",
       "      <td>2020-06-16 21:12:50</td>\n",
       "    </tr>\n",
       "    <tr>\n",
       "      <th>1</th>\n",
       "      <td>Northam</td>\n",
       "      <td>51.03</td>\n",
       "      <td>-4.22</td>\n",
       "      <td>57.00</td>\n",
       "      <td>93</td>\n",
       "      <td>85</td>\n",
       "      <td>3.00</td>\n",
       "      <td>GB</td>\n",
       "      <td>2020-06-16 21:15:02</td>\n",
       "    </tr>\n",
       "    <tr>\n",
       "      <th>2</th>\n",
       "      <td>Tuktoyaktuk</td>\n",
       "      <td>69.45</td>\n",
       "      <td>-133.04</td>\n",
       "      <td>60.80</td>\n",
       "      <td>59</td>\n",
       "      <td>75</td>\n",
       "      <td>14.99</td>\n",
       "      <td>CA</td>\n",
       "      <td>2020-06-16 21:12:52</td>\n",
       "    </tr>\n",
       "    <tr>\n",
       "      <th>3</th>\n",
       "      <td>Bluff</td>\n",
       "      <td>-46.60</td>\n",
       "      <td>168.33</td>\n",
       "      <td>54.27</td>\n",
       "      <td>75</td>\n",
       "      <td>62</td>\n",
       "      <td>13.24</td>\n",
       "      <td>NZ</td>\n",
       "      <td>2020-06-16 21:12:55</td>\n",
       "    </tr>\n",
       "    <tr>\n",
       "      <th>4</th>\n",
       "      <td>Dikson</td>\n",
       "      <td>73.51</td>\n",
       "      <td>80.55</td>\n",
       "      <td>32.29</td>\n",
       "      <td>94</td>\n",
       "      <td>100</td>\n",
       "      <td>13.60</td>\n",
       "      <td>RU</td>\n",
       "      <td>2020-06-16 21:14:23</td>\n",
       "    </tr>\n",
       "    <tr>\n",
       "      <th>5</th>\n",
       "      <td>Along</td>\n",
       "      <td>28.17</td>\n",
       "      <td>94.77</td>\n",
       "      <td>73.44</td>\n",
       "      <td>90</td>\n",
       "      <td>77</td>\n",
       "      <td>0.54</td>\n",
       "      <td>IN</td>\n",
       "      <td>2020-06-16 21:21:28</td>\n",
       "    </tr>\n",
       "    <tr>\n",
       "      <th>6</th>\n",
       "      <td>Ushuaia</td>\n",
       "      <td>-54.80</td>\n",
       "      <td>-68.30</td>\n",
       "      <td>37.40</td>\n",
       "      <td>86</td>\n",
       "      <td>75</td>\n",
       "      <td>4.70</td>\n",
       "      <td>AR</td>\n",
       "      <td>2020-06-16 21:09:10</td>\n",
       "    </tr>\n",
       "    <tr>\n",
       "      <th>7</th>\n",
       "      <td>Clarence Town</td>\n",
       "      <td>-32.58</td>\n",
       "      <td>151.78</td>\n",
       "      <td>46.99</td>\n",
       "      <td>93</td>\n",
       "      <td>20</td>\n",
       "      <td>8.05</td>\n",
       "      <td>AU</td>\n",
       "      <td>2020-06-16 21:21:28</td>\n",
       "    </tr>\n",
       "    <tr>\n",
       "      <th>8</th>\n",
       "      <td>Acajutla</td>\n",
       "      <td>13.59</td>\n",
       "      <td>-89.83</td>\n",
       "      <td>86.00</td>\n",
       "      <td>62</td>\n",
       "      <td>40</td>\n",
       "      <td>3.36</td>\n",
       "      <td>SV</td>\n",
       "      <td>2020-06-16 21:19:05</td>\n",
       "    </tr>\n",
       "    <tr>\n",
       "      <th>9</th>\n",
       "      <td>East London</td>\n",
       "      <td>-33.02</td>\n",
       "      <td>27.91</td>\n",
       "      <td>59.92</td>\n",
       "      <td>71</td>\n",
       "      <td>35</td>\n",
       "      <td>8.66</td>\n",
       "      <td>ZA</td>\n",
       "      <td>2020-06-16 21:13:40</td>\n",
       "    </tr>\n",
       "  </tbody>\n",
       "</table>\n",
       "</div>"
      ],
      "text/plain": [
       "            City    Lat     Lng  Max Temp  Humidity  Cloudiness  Wind Speed  \\\n",
       "0     Chokurdakh  70.63  147.92     80.04        27          46        8.68   \n",
       "1        Northam  51.03   -4.22     57.00        93          85        3.00   \n",
       "2    Tuktoyaktuk  69.45 -133.04     60.80        59          75       14.99   \n",
       "3          Bluff -46.60  168.33     54.27        75          62       13.24   \n",
       "4         Dikson  73.51   80.55     32.29        94         100       13.60   \n",
       "5          Along  28.17   94.77     73.44        90          77        0.54   \n",
       "6        Ushuaia -54.80  -68.30     37.40        86          75        4.70   \n",
       "7  Clarence Town -32.58  151.78     46.99        93          20        8.05   \n",
       "8       Acajutla  13.59  -89.83     86.00        62          40        3.36   \n",
       "9    East London -33.02   27.91     59.92        71          35        8.66   \n",
       "\n",
       "  Country                 Date  \n",
       "0      RU  2020-06-16 21:12:50  \n",
       "1      GB  2020-06-16 21:15:02  \n",
       "2      CA  2020-06-16 21:12:52  \n",
       "3      NZ  2020-06-16 21:12:55  \n",
       "4      RU  2020-06-16 21:14:23  \n",
       "5      IN  2020-06-16 21:21:28  \n",
       "6      AR  2020-06-16 21:09:10  \n",
       "7      AU  2020-06-16 21:21:28  \n",
       "8      SV  2020-06-16 21:19:05  \n",
       "9      ZA  2020-06-16 21:13:40  "
      ]
     },
     "execution_count": 26,
     "metadata": {},
     "output_type": "execute_result"
    }
   ],
   "source": [
    "# Convert the array of dictionaries to a Pandas DataFrame.\n",
    "city_data_df = pd.DataFrame(city_data)\n",
    "city_data_df.head(10)"
   ]
  },
  {
   "cell_type": "code",
   "execution_count": 27,
   "metadata": {},
   "outputs": [
    {
     "data": {
      "text/html": [
       "<div>\n",
       "<style scoped>\n",
       "    .dataframe tbody tr th:only-of-type {\n",
       "        vertical-align: middle;\n",
       "    }\n",
       "\n",
       "    .dataframe tbody tr th {\n",
       "        vertical-align: top;\n",
       "    }\n",
       "\n",
       "    .dataframe thead th {\n",
       "        text-align: right;\n",
       "    }\n",
       "</style>\n",
       "<table border=\"1\" class=\"dataframe\">\n",
       "  <thead>\n",
       "    <tr style=\"text-align: right;\">\n",
       "      <th></th>\n",
       "      <th>City</th>\n",
       "      <th>Country</th>\n",
       "      <th>Date</th>\n",
       "      <th>Lat</th>\n",
       "      <th>Lng</th>\n",
       "      <th>Max Temp</th>\n",
       "      <th>Humidity</th>\n",
       "      <th>Cloudiness</th>\n",
       "      <th>Wind Speed</th>\n",
       "    </tr>\n",
       "  </thead>\n",
       "  <tbody>\n",
       "    <tr>\n",
       "      <th>0</th>\n",
       "      <td>Chokurdakh</td>\n",
       "      <td>RU</td>\n",
       "      <td>2020-06-16 21:12:50</td>\n",
       "      <td>70.63</td>\n",
       "      <td>147.92</td>\n",
       "      <td>80.04</td>\n",
       "      <td>27</td>\n",
       "      <td>46</td>\n",
       "      <td>8.68</td>\n",
       "    </tr>\n",
       "    <tr>\n",
       "      <th>1</th>\n",
       "      <td>Northam</td>\n",
       "      <td>GB</td>\n",
       "      <td>2020-06-16 21:15:02</td>\n",
       "      <td>51.03</td>\n",
       "      <td>-4.22</td>\n",
       "      <td>57.00</td>\n",
       "      <td>93</td>\n",
       "      <td>85</td>\n",
       "      <td>3.00</td>\n",
       "    </tr>\n",
       "    <tr>\n",
       "      <th>2</th>\n",
       "      <td>Tuktoyaktuk</td>\n",
       "      <td>CA</td>\n",
       "      <td>2020-06-16 21:12:52</td>\n",
       "      <td>69.45</td>\n",
       "      <td>-133.04</td>\n",
       "      <td>60.80</td>\n",
       "      <td>59</td>\n",
       "      <td>75</td>\n",
       "      <td>14.99</td>\n",
       "    </tr>\n",
       "    <tr>\n",
       "      <th>3</th>\n",
       "      <td>Bluff</td>\n",
       "      <td>NZ</td>\n",
       "      <td>2020-06-16 21:12:55</td>\n",
       "      <td>-46.60</td>\n",
       "      <td>168.33</td>\n",
       "      <td>54.27</td>\n",
       "      <td>75</td>\n",
       "      <td>62</td>\n",
       "      <td>13.24</td>\n",
       "    </tr>\n",
       "    <tr>\n",
       "      <th>4</th>\n",
       "      <td>Dikson</td>\n",
       "      <td>RU</td>\n",
       "      <td>2020-06-16 21:14:23</td>\n",
       "      <td>73.51</td>\n",
       "      <td>80.55</td>\n",
       "      <td>32.29</td>\n",
       "      <td>94</td>\n",
       "      <td>100</td>\n",
       "      <td>13.60</td>\n",
       "    </tr>\n",
       "    <tr>\n",
       "      <th>5</th>\n",
       "      <td>Along</td>\n",
       "      <td>IN</td>\n",
       "      <td>2020-06-16 21:21:28</td>\n",
       "      <td>28.17</td>\n",
       "      <td>94.77</td>\n",
       "      <td>73.44</td>\n",
       "      <td>90</td>\n",
       "      <td>77</td>\n",
       "      <td>0.54</td>\n",
       "    </tr>\n",
       "    <tr>\n",
       "      <th>6</th>\n",
       "      <td>Ushuaia</td>\n",
       "      <td>AR</td>\n",
       "      <td>2020-06-16 21:09:10</td>\n",
       "      <td>-54.80</td>\n",
       "      <td>-68.30</td>\n",
       "      <td>37.40</td>\n",
       "      <td>86</td>\n",
       "      <td>75</td>\n",
       "      <td>4.70</td>\n",
       "    </tr>\n",
       "    <tr>\n",
       "      <th>7</th>\n",
       "      <td>Clarence Town</td>\n",
       "      <td>AU</td>\n",
       "      <td>2020-06-16 21:21:28</td>\n",
       "      <td>-32.58</td>\n",
       "      <td>151.78</td>\n",
       "      <td>46.99</td>\n",
       "      <td>93</td>\n",
       "      <td>20</td>\n",
       "      <td>8.05</td>\n",
       "    </tr>\n",
       "    <tr>\n",
       "      <th>8</th>\n",
       "      <td>Acajutla</td>\n",
       "      <td>SV</td>\n",
       "      <td>2020-06-16 21:19:05</td>\n",
       "      <td>13.59</td>\n",
       "      <td>-89.83</td>\n",
       "      <td>86.00</td>\n",
       "      <td>62</td>\n",
       "      <td>40</td>\n",
       "      <td>3.36</td>\n",
       "    </tr>\n",
       "    <tr>\n",
       "      <th>9</th>\n",
       "      <td>East London</td>\n",
       "      <td>ZA</td>\n",
       "      <td>2020-06-16 21:13:40</td>\n",
       "      <td>-33.02</td>\n",
       "      <td>27.91</td>\n",
       "      <td>59.92</td>\n",
       "      <td>71</td>\n",
       "      <td>35</td>\n",
       "      <td>8.66</td>\n",
       "    </tr>\n",
       "  </tbody>\n",
       "</table>\n",
       "</div>"
      ],
      "text/plain": [
       "            City Country                 Date    Lat     Lng  Max Temp  \\\n",
       "0     Chokurdakh      RU  2020-06-16 21:12:50  70.63  147.92     80.04   \n",
       "1        Northam      GB  2020-06-16 21:15:02  51.03   -4.22     57.00   \n",
       "2    Tuktoyaktuk      CA  2020-06-16 21:12:52  69.45 -133.04     60.80   \n",
       "3          Bluff      NZ  2020-06-16 21:12:55 -46.60  168.33     54.27   \n",
       "4         Dikson      RU  2020-06-16 21:14:23  73.51   80.55     32.29   \n",
       "5          Along      IN  2020-06-16 21:21:28  28.17   94.77     73.44   \n",
       "6        Ushuaia      AR  2020-06-16 21:09:10 -54.80  -68.30     37.40   \n",
       "7  Clarence Town      AU  2020-06-16 21:21:28 -32.58  151.78     46.99   \n",
       "8       Acajutla      SV  2020-06-16 21:19:05  13.59  -89.83     86.00   \n",
       "9    East London      ZA  2020-06-16 21:13:40 -33.02   27.91     59.92   \n",
       "\n",
       "   Humidity  Cloudiness  Wind Speed  \n",
       "0        27          46        8.68  \n",
       "1        93          85        3.00  \n",
       "2        59          75       14.99  \n",
       "3        75          62       13.24  \n",
       "4        94         100       13.60  \n",
       "5        90          77        0.54  \n",
       "6        86          75        4.70  \n",
       "7        93          20        8.05  \n",
       "8        62          40        3.36  \n",
       "9        71          35        8.66  "
      ]
     },
     "execution_count": 27,
     "metadata": {},
     "output_type": "execute_result"
    }
   ],
   "source": [
    "new_column_order = [\"City\", \"Country\", \"Date\", \"Lat\", \"Lng\", \"Max Temp\", \"Humidity\", \"Cloudiness\", \"Wind Speed\"]\n",
    "new_city_data_df = city_data_df[new_column_order]\n",
    "new_city_data_df.head(10)"
   ]
  },
  {
   "cell_type": "code",
   "execution_count": 28,
   "metadata": {},
   "outputs": [
    {
     "data": {
      "text/plain": [
       "City          576\n",
       "Country       576\n",
       "Date          576\n",
       "Lat           576\n",
       "Lng           576\n",
       "Max Temp      576\n",
       "Humidity      576\n",
       "Cloudiness    576\n",
       "Wind Speed    576\n",
       "dtype: int64"
      ]
     },
     "execution_count": 28,
     "metadata": {},
     "output_type": "execute_result"
    }
   ],
   "source": [
    "new_city_data_df.count()"
   ]
  },
  {
   "cell_type": "code",
   "execution_count": 29,
   "metadata": {},
   "outputs": [],
   "source": [
    "# Create the output file (CSV).\n",
    "output_data_file = \"weather_data/cities.csv\"\n",
    "\n",
    "# Export the City_Data into a CSV.\n",
    "new_city_data_df.to_csv(output_data_file, index_label = \"City_ID\")"
   ]
  },
  {
   "cell_type": "code",
   "execution_count": 30,
   "metadata": {},
   "outputs": [],
   "source": [
    "# Extract relevant fields from the DataFrame for plotting.\n",
    "lats = new_city_data_df[\"Lat\"]\n",
    "max_temps = new_city_data_df[\"Max Temp\"]\n",
    "humidity = new_city_data_df[\"Humidity\"]\n",
    "cloudiness = new_city_data_df[\"Cloudiness\"]\n",
    "wind_speed = new_city_data_df[\"Wind Speed\"]"
   ]
  },
  {
   "cell_type": "code",
   "execution_count": 31,
   "metadata": {},
   "outputs": [],
   "source": [
    "# Import the time module.\n",
    "import time"
   ]
  },
  {
   "cell_type": "code",
   "execution_count": 32,
   "metadata": {},
   "outputs": [],
   "source": [
    "# # Get today's date in seconds.\n",
    "# today = time.time()\n",
    "# today"
   ]
  },
  {
   "cell_type": "code",
   "execution_count": 33,
   "metadata": {},
   "outputs": [],
   "source": [
    "# today = time.strftime(\"%x\")\n",
    "# today"
   ]
  },
  {
   "cell_type": "code",
   "execution_count": 34,
   "metadata": {},
   "outputs": [],
   "source": [
    "# Extract relevant fields from the DataFrame for plotting.\n",
    "lats = city_data_df[\"Lat\"]\n",
    "max_temps = city_data_df[\"Max Temp\"]\n",
    "humidity = city_data_df[\"Humidity\"]\n",
    "cloudiness = city_data_df[\"Cloudiness\"]\n",
    "wind_speed = city_data_df[\"Wind Speed\"]"
   ]
  },
  {
   "cell_type": "code",
   "execution_count": 35,
   "metadata": {},
   "outputs": [
    {
     "data": {
      "image/png": "[encoded data removed]",
      "text/plain": [
       "<Figure size 432x288 with 1 Axes>"
      ]
     },
     "metadata": {
      "needs_background": "light"
     },
     "output_type": "display_data"
    }
   ],
   "source": [
    "# Build the scatter plot for latitude vs. max temperature.\n",
    "plt.scatter(lats,\n",
    "            max_temps,\n",
    "            edgecolor=\"black\", linewidths=1, marker=\"o\",\n",
    "            alpha=0.8, label=\"Cities\")\n",
    "\n",
    "# Incorporate the other graph properties.\n",
    "plt.title(f\"City Latitude vs. Max Temperature \"+ time.strftime(\"%x\"))\n",
    "plt.ylabel(\"Max Temperature (F)\")\n",
    "plt.xlabel(\"Latitude\")\n",
    "plt.grid(True)\n",
    "\n",
    "# Save the figure.\n",
    "plt.savefig(\"weather_data/Fig1.png\")\n",
    "\n",
    "# Show plot.\n",
    "plt.show()"
   ]
  },
  {
   "cell_type": "code",
   "execution_count": 36,
   "metadata": {},
   "outputs": [
    {
     "data": {
      "image/png": "[encoded data removed]",
      "text/plain": [
       "<Figure size 432x288 with 1 Axes>"
      ]
     },
     "metadata": {
      "needs_background": "light"
     },
     "output_type": "display_data"
    }
   ],
   "source": [
    "# Build the scatter plots for latitude vs. humidity.\n",
    "plt.scatter(lats,\n",
    "            humidity,\n",
    "            edgecolor=\"black\", linewidths=1, marker=\"o\",\n",
    "            alpha=0.8, label=\"Cities\")\n",
    "\n",
    "# Incorporate the other graph properties.\n",
    "plt.title(f\"City Latitude vs. Humidity \"+ time.strftime(\"%x\"))\n",
    "plt.ylabel(\"Humidity (%)\")\n",
    "plt.xlabel(\"Latitude\")\n",
    "plt.grid(True)\n",
    "\n",
    "# Save the figure.\n",
    "plt.savefig(\"weather_data/Fig2.png\")\n",
    "\n",
    "# Show plot.\n",
    "plt.show()"
   ]
  },
  {
   "cell_type": "code",
   "execution_count": 37,
   "metadata": {},
   "outputs": [
    {
     "data": {
      "image/png": "[encoded data removed]",
      "text/plain": [
       "<Figure size 432x288 with 1 Axes>"
      ]
     },
     "metadata": {
      "needs_background": "light"
     },
     "output_type": "display_data"
    }
   ],
   "source": [
    "# Build the scatter plots for latitude vs. cloudiness.\n",
    "plt.scatter(lats,\n",
    "           cloudiness,\n",
    "           edgecolor=\"black\", linewidths=1, marker=\"o\",\n",
    "           alpha=0.8, label=\"Cities\")\n",
    "\n",
    "# Incorporate the other graph properties.\n",
    "plt.title(f\"City Latitude vs. Cloudiness (%) \"+ time.strftime(\"%x\"))\n",
    "plt.ylabel(\"Cloudiness (%)\")\n",
    "plt.xlabel(\"Latitude\")\n",
    "plt.grid(True)\n",
    "\n",
    "# Save the figure.\n",
    "plt.savefig(\"weather_data/Fig3.png\")\n",
    "\n",
    "# Show plot.\n",
    "plt.show()"
   ]
  },
  {
   "cell_type": "code",
   "execution_count": 38,
   "metadata": {},
   "outputs": [
    {
     "data": {
      "image/png": "[encoded data removed]",
      "text/plain": [
       "<Figure size 432x288 with 1 Axes>"
      ]
     },
     "metadata": {
      "needs_background": "light"
     },
     "output_type": "display_data"
    }
   ],
   "source": [
    "# Build the scatter plots for latitude vs. wind speed.\n",
    "plt.scatter(lats,\n",
    "            wind_speed,\n",
    "            edgecolor=\"black\", linewidths=1, marker=\"o\",\n",
    "            alpha=0.8, label=\"Cities\")\n",
    "\n",
    "# Incorporate the other graph properties.\n",
    "plt.title(f\"City Latitude vs. Wind Speed \"+ time.strftime(\"%x\"))\n",
    "plt.ylabel(\"Wind Speed (mph)\")\n",
    "plt.xlabel(\"Latitude\")\n",
    "plt.grid(True)\n",
    "\n",
    "# Save the figure.\n",
    "plt.savefig(\"weather_data/Fig4.png\")\n",
    "\n",
    "# Show plot.\n",
    "plt.show()"
   ]
  },
  {
   "cell_type": "code",
   "execution_count": null,
   "metadata": {},
   "outputs": [],
   "source": []
  }
 ],
 "metadata": {
  "kernelspec": {
   "display_name": "PythonData",
   "language": "python",
   "name": "pythondata"
  },
  "language_info": {
   "codemirror_mode": {
    "name": "ipython",
    "version": 3
   },
   "file_extension": ".py",
   "mimetype": "text/x-python",
   "name": "python",
   "nbconvert_exporter": "python",
   "pygments_lexer": "ipython3",
   "version": "3.7.6"
  }
 },
 "nbformat": 4,
 "nbformat_minor": 4
}
