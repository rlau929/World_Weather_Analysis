{
 "cells": [
  {
   "cell_type": "code",
   "execution_count": 2,
   "metadata": {},
   "outputs": [],
   "source": [
    "# Import the dependencies.\n",
    "import pandas as pd\n",
    "import matplotlib.pyplot as plt\n",
    "import numpy as np\n",
    "\n",
    "import requests\n",
    "from datetime import datetime\n",
    "\n",
    "from config import weather_api_key\n",
    "\n",
    "# Use the citipy module to determine city based on latitude and longitude.\n",
    "from citipy import citipy\n",
    "\n",
    "# Import linear regression from the SciPy stats module.\n",
    "from scipy.stats import linregress\n",
    "\n",
    "import gmaps\n",
    "\n",
    "# Import the API key.\n",
    "from config import g_key"
   ]
  },
  {
   "cell_type": "code",
   "execution_count": 3,
   "metadata": {},
   "outputs": [
    {
     "name": "stdout",
     "output_type": "stream",
     "text": [
      "http://api.openweathermap.org/data/2.5/weather?units=Imperial&APPID=905b32babdb8b30c96f3b85b5e463ca8\n"
     ]
    }
   ],
   "source": [
    "# Starting URL for Weather Map API Call.\n",
    "url = \"http://api.openweathermap.org/data/2.5/weather?units=Imperial&APPID=\" + weather_api_key\n",
    "print(url)"
   ]
  },
  {
   "cell_type": "code",
   "execution_count": 4,
   "metadata": {},
   "outputs": [
    {
     "name": "stdout",
     "output_type": "stream",
     "text": [
      "http://api.openweathermap.org/data/2.5/weather?units=Imperial&APPID=905b32babdb8b30c96f3b85b5e463ca8&q=Boston\n"
     ]
    }
   ],
   "source": [
    "# Create an endpoint URL for a city.\n",
    "city_url = url + \"&q=\" + \"Boston\"\n",
    "print(city_url)"
   ]
  },
  {
   "cell_type": "code",
   "execution_count": 5,
   "metadata": {},
   "outputs": [
    {
     "data": {
      "text/plain": [
       "<zip at 0x195ed5852c8>"
      ]
     },
     "execution_count": 5,
     "metadata": {},
     "output_type": "execute_result"
    }
   ],
   "source": [
    "# Create a set of random latitude and longitude combinations.\n",
    "lats = np.random.uniform(low = -90.000, high = 90.000, size = 1500)\n",
    "lngs = np.random.uniform(low = -180.000, high = 180.000, size = 1500)\n",
    "lat_lngs = zip(lats, lngs)\n",
    "lat_lngs"
   ]
  },
  {
   "cell_type": "code",
   "execution_count": 6,
   "metadata": {},
   "outputs": [],
   "source": [
    "# Add the latitudes and longitudes to a list.\n",
    "coordinates = list(lat_lngs)"
   ]
  },
  {
   "cell_type": "code",
   "execution_count": 7,
   "metadata": {},
   "outputs": [
    {
     "data": {
      "text/plain": [
       "613"
      ]
     },
     "execution_count": 7,
     "metadata": {},
     "output_type": "execute_result"
    }
   ],
   "source": [
    "# Create a list for holding the cities.\n",
    "cities = []\n",
    "# Identify the nearest city for each latitude and longitude combination.\n",
    "for coordinate in coordinates:\n",
    "    city = citipy.nearest_city(coordinate[0], coordinate[1]).city_name\n",
    "    \n",
    "    # If the city is unique, then we will add it to the cities list.\n",
    "    if city not in cities:\n",
    "        cities.append(city)\n",
    "# Print the city count to confirm sufficient count.\n",
    "len(cities)"
   ]
  },
  {
   "cell_type": "code",
   "execution_count": 8,
   "metadata": {},
   "outputs": [
    {
     "data": {
      "text/plain": [
       "<Response [200]>"
      ]
     },
     "execution_count": 8,
     "metadata": {},
     "output_type": "execute_result"
    }
   ],
   "source": [
    "# Make a 'Get' request for the city weather.\n",
    "city_weather = requests.get(city_url)\n",
    "city_weather"
   ]
  },
  {
   "cell_type": "code",
   "execution_count": 9,
   "metadata": {},
   "outputs": [
    {
     "data": {
      "text/plain": [
       "200"
      ]
     },
     "execution_count": 9,
     "metadata": {},
     "output_type": "execute_result"
    }
   ],
   "source": [
    "city_weather.status_code"
   ]
  },
  {
   "cell_type": "code",
   "execution_count": 10,
   "metadata": {},
   "outputs": [
    {
     "data": {
      "text/plain": [
       "<Response [200]>"
      ]
     },
     "execution_count": 10,
     "metadata": {},
     "output_type": "execute_result"
    }
   ],
   "source": [
    "# Create an endpoint URL for a city.\n",
    "city_url = url + \"&q=\" + \"Boston\"\n",
    "city_weather = requests.get(city_url)\n",
    "city_weather"
   ]
  },
  {
   "cell_type": "code",
   "execution_count": 11,
   "metadata": {},
   "outputs": [
    {
     "data": {
      "text/plain": [
       "'{\"coord\":{\"lon\":-71.06,\"lat\":42.36},\"weather\":[{\"id\":800,\"main\":\"Clear\",\"description\":\"clear sky\",\"icon\":\"01d\"}],\"base\":\"stations\",\"main\":{\"temp\":78.19,\"feels_like\":78.82,\"temp_min\":72,\"temp_max\":84,\"pressure\":1025,\"humidity\":53},\"wind\":{\"speed\":4.45,\"deg\":111},\"clouds\":{\"all\":0},\"dt\":1592417033,\"sys\":{\"type\":1,\"id\":4967,\"country\":\"US\",\"sunrise\":1592384819,\"sunset\":1592439816},\"timezone\":-14400,\"id\":4930956,\"name\":\"Boston\",\"cod\":200}'"
      ]
     },
     "execution_count": 11,
     "metadata": {},
     "output_type": "execute_result"
    }
   ],
   "source": [
    "# Get the text of the 'Get' request.\n",
    "city_weather.text"
   ]
  },
  {
   "cell_type": "code",
   "execution_count": 12,
   "metadata": {},
   "outputs": [
    {
     "data": {
      "text/plain": [
       "{'coord': {'lon': -71.06, 'lat': 42.36},\n",
       " 'weather': [{'id': 800,\n",
       "   'main': 'Clear',\n",
       "   'description': 'clear sky',\n",
       "   'icon': '01d'}],\n",
       " 'base': 'stations',\n",
       " 'main': {'temp': 78.19,\n",
       "  'feels_like': 78.82,\n",
       "  'temp_min': 72,\n",
       "  'temp_max': 84,\n",
       "  'pressure': 1025,\n",
       "  'humidity': 53},\n",
       " 'wind': {'speed': 4.45, 'deg': 111},\n",
       " 'clouds': {'all': 0},\n",
       " 'dt': 1592417033,\n",
       " 'sys': {'type': 1,\n",
       "  'id': 4967,\n",
       "  'country': 'US',\n",
       "  'sunrise': 1592384819,\n",
       "  'sunset': 1592439816},\n",
       " 'timezone': -14400,\n",
       " 'id': 4930956,\n",
       " 'name': 'Boston',\n",
       " 'cod': 200}"
      ]
     },
     "execution_count": 12,
     "metadata": {},
     "output_type": "execute_result"
    }
   ],
   "source": [
    "# Get the JSON text of the 'Get' request.\n",
    "city_weather.json()"
   ]
  },
  {
   "cell_type": "code",
   "execution_count": 13,
   "metadata": {},
   "outputs": [
    {
     "name": "stdout",
     "output_type": "stream",
     "text": [
      "City Weather found.\n"
     ]
    }
   ],
   "source": [
    "# Create an endpoint URL for a city.\n",
    "city_url = url + \"&q=\" + \"Boston\"\n",
    "city_weather = requests.get(city_url)\n",
    "if city_weather.status_code == 200:\n",
    "    print(f\"City Weather found.\")\n",
    "else:\n",
    "    print(f\"City weather not found.\")"
   ]
  },
  {
   "cell_type": "code",
   "execution_count": 14,
   "metadata": {},
   "outputs": [
    {
     "name": "stdout",
     "output_type": "stream",
     "text": [
      "City Weather found.\n"
     ]
    }
   ],
   "source": [
    "# Create an endpoint URL for a city.\n",
    "city_url = url + \"&q=\" + \"Boston\"\n",
    "city_weather = requests.get(city_url)\n",
    "if city_weather.json():\n",
    "    print(f\"City Weather found.\")\n",
    "else:\n",
    "    print(f\"City weather not found.\")"
   ]
  },
  {
   "cell_type": "code",
   "execution_count": 15,
   "metadata": {},
   "outputs": [
    {
     "name": "stdout",
     "output_type": "stream",
     "text": [
      "http://api.openweathermap.org/data/2.5/weather?units=Imperial&APPID=905b32babdb8b30c96f3b85b5e463ca8&q=Boston\n"
     ]
    }
   ],
   "source": [
    "print(city_url)"
   ]
  },
  {
   "cell_type": "code",
   "execution_count": 16,
   "metadata": {},
   "outputs": [
    {
     "data": {
      "text/plain": [
       "{'coord': {'lon': -71.06, 'lat': 42.36},\n",
       " 'weather': [{'id': 800,\n",
       "   'main': 'Clear',\n",
       "   'description': 'clear sky',\n",
       "   'icon': '01d'}],\n",
       " 'base': 'stations',\n",
       " 'main': {'temp': 78.19,\n",
       "  'feels_like': 78.82,\n",
       "  'temp_min': 72,\n",
       "  'temp_max': 84,\n",
       "  'pressure': 1025,\n",
       "  'humidity': 53},\n",
       " 'wind': {'speed': 4.45, 'deg': 111},\n",
       " 'clouds': {'all': 0},\n",
       " 'dt': 1592417033,\n",
       " 'sys': {'type': 1,\n",
       "  'id': 4967,\n",
       "  'country': 'US',\n",
       "  'sunrise': 1592384819,\n",
       "  'sunset': 1592439816},\n",
       " 'timezone': -14400,\n",
       " 'id': 4930956,\n",
       " 'name': 'Boston',\n",
       " 'cod': 200}"
      ]
     },
     "execution_count": 16,
     "metadata": {},
     "output_type": "execute_result"
    }
   ],
   "source": [
    "# Create an endpoint URL for a city.\n",
    "city_url = url + \"&q=\" + \"Boston\"\n",
    "city_weather = requests.get(city_url)\n",
    "city_weather.json()"
   ]
  },
  {
   "cell_type": "code",
   "execution_count": 17,
   "metadata": {},
   "outputs": [
    {
     "data": {
      "text/plain": [
       "{'type': 1,\n",
       " 'id': 4967,\n",
       " 'country': 'US',\n",
       " 'sunrise': 1592384819,\n",
       " 'sunset': 1592439816}"
      ]
     },
     "execution_count": 17,
     "metadata": {},
     "output_type": "execute_result"
    }
   ],
   "source": [
    "# Get the JSON data.\n",
    "boston_data = city_weather.json()\n",
    "boston_data[\"sys\"]"
   ]
  },
  {
   "cell_type": "code",
   "execution_count": 18,
   "metadata": {},
   "outputs": [
    {
     "data": {
      "text/plain": [
       "'US'"
      ]
     },
     "execution_count": 18,
     "metadata": {},
     "output_type": "execute_result"
    }
   ],
   "source": [
    "boston_data[\"sys\"][\"country\"]"
   ]
  },
  {
   "cell_type": "code",
   "execution_count": 19,
   "metadata": {},
   "outputs": [
    {
     "data": {
      "text/plain": [
       "1592417033"
      ]
     },
     "execution_count": 19,
     "metadata": {},
     "output_type": "execute_result"
    }
   ],
   "source": [
    "boston_data[\"dt\"]"
   ]
  },
  {
   "cell_type": "code",
   "execution_count": 20,
   "metadata": {},
   "outputs": [
    {
     "data": {
      "text/plain": [
       "42.36"
      ]
     },
     "execution_count": 20,
     "metadata": {},
     "output_type": "execute_result"
    }
   ],
   "source": [
    "boston_data[\"coord\"][\"lat\"]"
   ]
  },
  {
   "cell_type": "code",
   "execution_count": 21,
   "metadata": {},
   "outputs": [
    {
     "data": {
      "text/plain": [
       "84"
      ]
     },
     "execution_count": 21,
     "metadata": {},
     "output_type": "execute_result"
    }
   ],
   "source": [
    "boston_data[\"main\"][\"temp_max\"]"
   ]
  },
  {
   "cell_type": "code",
   "execution_count": 22,
   "metadata": {},
   "outputs": [
    {
     "name": "stdout",
     "output_type": "stream",
     "text": [
      "42.36 -71.06 84 53 0 4.45\n"
     ]
    }
   ],
   "source": [
    "lat = boston_data[\"coord\"][\"lat\"]\n",
    "lng = boston_data[\"coord\"][\"lon\"]\n",
    "max_temp = boston_data[\"main\"][\"temp_max\"]\n",
    "humidity = boston_data[\"main\"][\"humidity\"]\n",
    "clouds = boston_data[\"clouds\"][\"all\"]\n",
    "wind = boston_data[\"wind\"][\"speed\"]\n",
    "print(lat, lng, max_temp, humidity, clouds, wind)"
   ]
  },
  {
   "cell_type": "code",
   "execution_count": 23,
   "metadata": {},
   "outputs": [
    {
     "data": {
      "text/plain": [
       "datetime.datetime(2020, 6, 17, 18, 3, 53)"
      ]
     },
     "execution_count": 23,
     "metadata": {},
     "output_type": "execute_result"
    }
   ],
   "source": [
    "# Import the datetime module from the datetime library.\n",
    "from datetime import datetime\n",
    "\n",
    "# Get the date from the JSON file.\n",
    "date = boston_data[\"dt\"]\n",
    "\n",
    "# Convert the UTC date to a date format with year, month, day, hours, minutes, and seconds.\n",
    "datetime.utcfromtimestamp(date)"
   ]
  },
  {
   "cell_type": "code",
   "execution_count": 24,
   "metadata": {},
   "outputs": [],
   "source": [
    "# Import the datetime module from the datetime library.\n",
    "from datetime import datetime"
   ]
  },
  {
   "cell_type": "code",
   "execution_count": 25,
   "metadata": {
    "scrolled": true
   },
   "outputs": [
    {
     "name": "stdout",
     "output_type": "stream",
     "text": [
      "Beginning Data Retrieval     \n",
      "-----------------------------\n",
      "Processing Record 1 of Set 1 | rikitea\n",
      "Processing Record 2 of Set 1 | moba\n",
      "Processing Record 3 of Set 1 | axim\n",
      "Processing Record 4 of Set 1 | kodiak\n",
      "Processing Record 5 of Set 1 | abeche\n",
      "Processing Record 6 of Set 1 | carman\n",
      "Processing Record 7 of Set 1 | busselton\n",
      "Processing Record 8 of Set 1 | saint-francois\n",
      "Processing Record 9 of Set 1 | chokurdakh\n",
      "Processing Record 10 of Set 1 | puerto ayora\n",
      "Processing Record 11 of Set 1 | luderitz\n",
      "Processing Record 12 of Set 1 | thompson\n",
      "Processing Record 13 of Set 1 | kerman\n",
      "Processing Record 14 of Set 1 | atuona\n",
      "Processing Record 15 of Set 1 | pisco\n",
      "Processing Record 16 of Set 1 | veraval\n",
      "Processing Record 17 of Set 1 | tasiilaq\n",
      "Processing Record 18 of Set 1 | parfino\n",
      "Processing Record 19 of Set 1 | mar del plata\n",
      "Processing Record 20 of Set 1 | puerto colombia\n",
      "Processing Record 21 of Set 1 | kapaa\n",
      "Processing Record 22 of Set 1 | cowra\n",
      "Processing Record 23 of Set 1 | tarbert\n",
      "Processing Record 24 of Set 1 | mataura\n",
      "Processing Record 25 of Set 1 | saint george\n",
      "Processing Record 26 of Set 1 | tilichiki\n",
      "Processing Record 27 of Set 1 | vaini\n",
      "Processing Record 28 of Set 1 | airai\n",
      "Processing Record 29 of Set 1 | nizwa\n",
      "Processing Record 30 of Set 1 | iranshahr\n",
      "Processing Record 31 of Set 1 | albany\n",
      "Processing Record 32 of Set 1 | alta floresta\n",
      "Processing Record 33 of Set 1 | ushuaia\n",
      "Processing Record 34 of Set 1 | cap malheureux\n",
      "Processing Record 35 of Set 1 | hilo\n",
      "Processing Record 36 of Set 1 | barrow\n",
      "Processing Record 37 of Set 1 | deputatskiy\n",
      "Processing Record 38 of Set 1 | hamilton\n",
      "Processing Record 39 of Set 1 | kavieng\n",
      "Processing Record 40 of Set 1 | faanui\n",
      "Processing Record 41 of Set 1 | taolanaro\n",
      "City not found. Skipping...\n",
      "Processing Record 42 of Set 1 | qaanaaq\n",
      "Processing Record 43 of Set 1 | punta arenas\n",
      "Processing Record 44 of Set 1 | hobart\n",
      "Processing Record 45 of Set 1 | goderich\n",
      "Processing Record 46 of Set 1 | punta de bombon\n",
      "Processing Record 47 of Set 1 | kruisfontein\n",
      "Processing Record 48 of Set 1 | tuggurt\n",
      "City not found. Skipping...\n",
      "Processing Record 49 of Set 1 | port alfred\n",
      "Processing Record 50 of Set 1 | ahuimanu\n",
      "Processing Record 1 of Set 2 | brae\n",
      "Processing Record 2 of Set 2 | saskylakh\n",
      "Processing Record 3 of Set 2 | mahon\n",
      "Processing Record 4 of Set 2 | new norfolk\n",
      "Processing Record 5 of Set 2 | hermanus\n",
      "Processing Record 6 of Set 2 | tiksi\n",
      "Processing Record 7 of Set 2 | attawapiskat\n",
      "City not found. Skipping...\n",
      "Processing Record 8 of Set 2 | whitehorse\n",
      "Processing Record 9 of Set 2 | conakry\n",
      "Processing Record 10 of Set 2 | staunton\n",
      "Processing Record 11 of Set 2 | kizukuri\n",
      "Processing Record 12 of Set 2 | abu kamal\n",
      "Processing Record 13 of Set 2 | lebu\n",
      "Processing Record 14 of Set 2 | andros\n",
      "Processing Record 15 of Set 2 | kupang\n",
      "Processing Record 16 of Set 2 | pevek\n",
      "Processing Record 17 of Set 2 | arraial do cabo\n",
      "Processing Record 18 of Set 2 | ahipara\n",
      "Processing Record 19 of Set 2 | balkhash\n",
      "Processing Record 20 of Set 2 | butaritari\n",
      "Processing Record 21 of Set 2 | bambous virieux\n",
      "Processing Record 22 of Set 2 | vanavara\n",
      "Processing Record 23 of Set 2 | dikson\n",
      "Processing Record 24 of Set 2 | tuktoyaktuk\n",
      "Processing Record 25 of Set 2 | belushya guba\n",
      "City not found. Skipping...\n",
      "Processing Record 26 of Set 2 | sitka\n",
      "Processing Record 27 of Set 2 | kaitangata\n",
      "Processing Record 28 of Set 2 | barentsburg\n",
      "City not found. Skipping...\n",
      "Processing Record 29 of Set 2 | umzimvubu\n",
      "City not found. Skipping...\n",
      "Processing Record 30 of Set 2 | envira\n",
      "Processing Record 31 of Set 2 | mahebourg\n",
      "Processing Record 32 of Set 2 | east london\n",
      "Processing Record 33 of Set 2 | boralday\n",
      "Processing Record 34 of Set 2 | provideniya\n",
      "Processing Record 35 of Set 2 | ugoofaaru\n",
      "Processing Record 36 of Set 2 | jamestown\n",
      "Processing Record 37 of Set 2 | kampong thum\n",
      "Processing Record 38 of Set 2 | paita\n",
      "Processing Record 39 of Set 2 | nouadhibou\n",
      "Processing Record 40 of Set 2 | san patricio\n",
      "Processing Record 41 of Set 2 | puqi\n",
      "Processing Record 42 of Set 2 | illoqqortoormiut\n",
      "City not found. Skipping...\n",
      "Processing Record 43 of Set 2 | saint-philippe\n",
      "Processing Record 44 of Set 2 | saquarema\n",
      "Processing Record 45 of Set 2 | grindavik\n",
      "Processing Record 46 of Set 2 | tsihombe\n",
      "City not found. Skipping...\n",
      "Processing Record 47 of Set 2 | warkworth\n",
      "Processing Record 48 of Set 2 | iqaluit\n",
      "Processing Record 49 of Set 2 | albox\n",
      "Processing Record 50 of Set 2 | torbay\n",
      "Processing Record 1 of Set 3 | port elizabeth\n",
      "Processing Record 2 of Set 3 | san cristobal\n",
      "Processing Record 3 of Set 3 | chirongui\n",
      "Processing Record 4 of Set 3 | inirida\n",
      "Processing Record 5 of Set 3 | hithadhoo\n",
      "Processing Record 6 of Set 3 | cape town\n",
      "Processing Record 7 of Set 3 | ilulissat\n",
      "Processing Record 8 of Set 3 | radnevo\n",
      "Processing Record 9 of Set 3 | japura\n",
      "Processing Record 10 of Set 3 | manacor\n",
      "Processing Record 11 of Set 3 | kirakira\n",
      "Processing Record 12 of Set 3 | louisbourg\n",
      "City not found. Skipping...\n",
      "Processing Record 13 of Set 3 | pinsk\n",
      "Processing Record 14 of Set 3 | the valley\n",
      "Processing Record 15 of Set 3 | warwick\n",
      "Processing Record 16 of Set 3 | mys shmidta\n",
      "City not found. Skipping...\n",
      "Processing Record 17 of Set 3 | alenquer\n",
      "Processing Record 18 of Set 3 | providencia\n",
      "Processing Record 19 of Set 3 | bilibino\n",
      "Processing Record 20 of Set 3 | carnarvon\n",
      "Processing Record 21 of Set 3 | tuatapere\n",
      "Processing Record 22 of Set 3 | yulara\n",
      "Processing Record 23 of Set 3 | zyryanka\n",
      "Processing Record 24 of Set 3 | georgetown\n",
      "Processing Record 25 of Set 3 | elista\n",
      "Processing Record 26 of Set 3 | bluff\n",
      "Processing Record 27 of Set 3 | moranbah\n",
      "Processing Record 28 of Set 3 | saldanha\n",
      "Processing Record 29 of Set 3 | worthington\n",
      "Processing Record 30 of Set 3 | ewa beach\n",
      "Processing Record 31 of Set 3 | fairbanks\n",
      "Processing Record 32 of Set 3 | grand river south east\n",
      "City not found. Skipping...\n",
      "Processing Record 33 of Set 3 | saint-augustin\n",
      "Processing Record 34 of Set 3 | labrea\n",
      "Processing Record 35 of Set 3 | guaruja\n",
      "Processing Record 36 of Set 3 | meulaboh\n",
      "Processing Record 37 of Set 3 | ribeira grande\n",
      "Processing Record 38 of Set 3 | nizhneyansk\n",
      "City not found. Skipping...\n",
      "Processing Record 39 of Set 3 | wajir\n",
      "Processing Record 40 of Set 3 | henties bay\n",
      "Processing Record 41 of Set 3 | aitape\n",
      "Processing Record 42 of Set 3 | sesheke\n",
      "Processing Record 43 of Set 3 | cherskiy\n",
      "Processing Record 44 of Set 3 | camocim\n",
      "Processing Record 45 of Set 3 | labuhan\n",
      "Processing Record 46 of Set 3 | ostrovnoy\n",
      "Processing Record 47 of Set 3 | murgab\n",
      "Processing Record 48 of Set 3 | severo-kurilsk\n",
      "Processing Record 49 of Set 3 | clyde river\n",
      "Processing Record 50 of Set 3 | nanortalik\n",
      "Processing Record 1 of Set 4 | maralal\n",
      "Processing Record 2 of Set 4 | samarai\n",
      "Processing Record 3 of Set 4 | narsaq\n",
      "Processing Record 4 of Set 4 | araguacu\n",
      "Processing Record 5 of Set 4 | sataua\n",
      "City not found. Skipping...\n",
      "Processing Record 6 of Set 4 | jefferson city\n",
      "Processing Record 7 of Set 4 | port said\n",
      "Processing Record 8 of Set 4 | kushima\n",
      "Processing Record 9 of Set 4 | dillon\n",
      "Processing Record 10 of Set 4 | qandahar\n",
      "City not found. Skipping...\n",
      "Processing Record 11 of Set 4 | seoul\n",
      "Processing Record 12 of Set 4 | codrington\n",
      "Processing Record 13 of Set 4 | borba\n",
      "Processing Record 14 of Set 4 | hun\n",
      "Processing Record 15 of Set 4 | labuan\n",
      "Processing Record 16 of Set 4 | lebyazhye\n",
      "Processing Record 17 of Set 4 | gravdal\n",
      "Processing Record 18 of Set 4 | esperance\n",
      "Processing Record 19 of Set 4 | umm kaddadah\n",
      "Processing Record 20 of Set 4 | isangel\n",
      "Processing Record 21 of Set 4 | upernavik\n",
      "Processing Record 22 of Set 4 | ancud\n",
      "Processing Record 23 of Set 4 | saleaula\n",
      "City not found. Skipping...\n",
      "Processing Record 24 of Set 4 | umarkot\n",
      "Processing Record 25 of Set 4 | port lincoln\n",
      "Processing Record 26 of Set 4 | yellowknife\n",
      "Processing Record 27 of Set 4 | rockport\n",
      "Processing Record 28 of Set 4 | prainha\n",
      "Processing Record 29 of Set 4 | cidreira\n",
      "Processing Record 30 of Set 4 | otane\n",
      "Processing Record 31 of Set 4 | bethel\n",
      "Processing Record 32 of Set 4 | pangkalanbuun\n",
      "Processing Record 33 of Set 4 | orange\n",
      "Processing Record 34 of Set 4 | sorong\n",
      "Processing Record 35 of Set 4 | kayerkan\n",
      "Processing Record 36 of Set 4 | bengkulu\n",
      "Processing Record 37 of Set 4 | cabo san lucas\n"
     ]
    },
    {
     "name": "stdout",
     "output_type": "stream",
     "text": [
      "Processing Record 38 of Set 4 | ust-maya\n",
      "Processing Record 39 of Set 4 | san jose\n",
      "Processing Record 40 of Set 4 | ponta do sol\n",
      "Processing Record 41 of Set 4 | cayenne\n",
      "Processing Record 42 of Set 4 | vaitupu\n",
      "City not found. Skipping...\n",
      "Processing Record 43 of Set 4 | klaksvik\n",
      "Processing Record 44 of Set 4 | klyavlino\n",
      "Processing Record 45 of Set 4 | nikolskoye\n",
      "Processing Record 46 of Set 4 | lazaro cardenas\n",
      "Processing Record 47 of Set 4 | kimbe\n",
      "Processing Record 48 of Set 4 | batagay-alyta\n",
      "Processing Record 49 of Set 4 | pacific grove\n",
      "Processing Record 50 of Set 4 | luyang\n",
      "Processing Record 1 of Set 5 | victoria\n",
      "Processing Record 2 of Set 5 | sistranda\n",
      "Processing Record 3 of Set 5 | san carlos de bariloche\n",
      "Processing Record 4 of Set 5 | ketchikan\n",
      "Processing Record 5 of Set 5 | samusu\n",
      "City not found. Skipping...\n",
      "Processing Record 6 of Set 5 | karratha\n",
      "Processing Record 7 of Set 5 | khani\n",
      "Processing Record 8 of Set 5 | salalah\n",
      "Processing Record 9 of Set 5 | avarua\n",
      "Processing Record 10 of Set 5 | san severino marche\n",
      "Processing Record 11 of Set 5 | hobyo\n",
      "Processing Record 12 of Set 5 | falkenberg\n",
      "Processing Record 13 of Set 5 | amderma\n",
      "City not found. Skipping...\n",
      "Processing Record 14 of Set 5 | vestmannaeyjar\n",
      "Processing Record 15 of Set 5 | cananeia\n",
      "Processing Record 16 of Set 5 | ngukurr\n",
      "City not found. Skipping...\n",
      "Processing Record 17 of Set 5 | pousat\n",
      "City not found. Skipping...\n",
      "Processing Record 18 of Set 5 | vao\n",
      "Processing Record 19 of Set 5 | lebowakgomo\n",
      "Processing Record 20 of Set 5 | kulhudhuffushi\n",
      "Processing Record 21 of Set 5 | svetlaya\n",
      "Processing Record 22 of Set 5 | los llanos de aridane\n",
      "Processing Record 23 of Set 5 | talcahuano\n",
      "Processing Record 24 of Set 5 | katobu\n",
      "Processing Record 25 of Set 5 | picos\n",
      "Processing Record 26 of Set 5 | florence\n",
      "Processing Record 27 of Set 5 | oranjemund\n",
      "Processing Record 28 of Set 5 | khunti\n",
      "Processing Record 29 of Set 5 | huarmey\n",
      "Processing Record 30 of Set 5 | merauke\n",
      "Processing Record 31 of Set 5 | guhagar\n",
      "Processing Record 32 of Set 5 | voh\n",
      "Processing Record 33 of Set 5 | lavrentiya\n",
      "Processing Record 34 of Set 5 | nabire\n",
      "Processing Record 35 of Set 5 | kolpashevo\n",
      "Processing Record 36 of Set 5 | port hedland\n",
      "Processing Record 37 of Set 5 | grand gaube\n",
      "Processing Record 38 of Set 5 | mikhaylovka\n",
      "Processing Record 39 of Set 5 | rudnaya pristan\n",
      "Processing Record 40 of Set 5 | caravelas\n",
      "Processing Record 41 of Set 5 | talnakh\n",
      "Processing Record 42 of Set 5 | siuna\n",
      "Processing Record 43 of Set 5 | la palma\n",
      "Processing Record 44 of Set 5 | tezu\n",
      "Processing Record 45 of Set 5 | rincon\n",
      "Processing Record 46 of Set 5 | krasnoarmeysk\n",
      "Processing Record 47 of Set 5 | strezhevoy\n",
      "Processing Record 48 of Set 5 | bathsheba\n",
      "Processing Record 49 of Set 5 | rognan\n",
      "Processing Record 50 of Set 5 | zhangye\n",
      "Processing Record 1 of Set 6 | praia\n",
      "Processing Record 2 of Set 6 | timra\n",
      "Processing Record 3 of Set 6 | fortuna\n",
      "Processing Record 4 of Set 6 | soyaux\n",
      "Processing Record 5 of Set 6 | erzin\n",
      "Processing Record 6 of Set 6 | zhireken\n",
      "Processing Record 7 of Set 6 | moss point\n",
      "Processing Record 8 of Set 6 | khonuu\n",
      "City not found. Skipping...\n",
      "Processing Record 9 of Set 6 | shaki\n",
      "Processing Record 10 of Set 6 | faya\n",
      "Processing Record 11 of Set 6 | sentyabrskiy\n",
      "City not found. Skipping...\n",
      "Processing Record 12 of Set 6 | taoudenni\n",
      "Processing Record 13 of Set 6 | standerton\n",
      "Processing Record 14 of Set 6 | ust-kamchatsk\n",
      "City not found. Skipping...\n",
      "Processing Record 15 of Set 6 | kundiawa\n",
      "Processing Record 16 of Set 6 | coahuayana\n",
      "Processing Record 17 of Set 6 | khakhea\n",
      "Processing Record 18 of Set 6 | coquimbo\n",
      "Processing Record 19 of Set 6 | roma\n",
      "Processing Record 20 of Set 6 | varkaus\n",
      "Processing Record 21 of Set 6 | saint-joseph\n",
      "Processing Record 22 of Set 6 | kedrovyy\n",
      "Processing Record 23 of Set 6 | laguna\n",
      "Processing Record 24 of Set 6 | castro\n",
      "Processing Record 25 of Set 6 | alindao\n",
      "Processing Record 26 of Set 6 | cairns\n",
      "Processing Record 27 of Set 6 | clonakilty\n",
      "Processing Record 28 of Set 6 | quatre cocos\n",
      "Processing Record 29 of Set 6 | kutum\n",
      "Processing Record 30 of Set 6 | vanimo\n",
      "Processing Record 31 of Set 6 | burnie\n",
      "Processing Record 32 of Set 6 | erftstadt\n",
      "Processing Record 33 of Set 6 | coos bay\n",
      "Processing Record 34 of Set 6 | pyatnitskoye\n",
      "Processing Record 35 of Set 6 | longyearbyen\n",
      "Processing Record 36 of Set 6 | geraldton\n",
      "Processing Record 37 of Set 6 | manta\n",
      "Processing Record 38 of Set 6 | flinders\n",
      "Processing Record 39 of Set 6 | inta\n",
      "Processing Record 40 of Set 6 | dustlik\n",
      "Processing Record 41 of Set 6 | lalmohan\n",
      "Processing Record 42 of Set 6 | kautokeino\n",
      "Processing Record 43 of Set 6 | morondava\n",
      "Processing Record 44 of Set 6 | mangan\n",
      "Processing Record 45 of Set 6 | mount gambier\n",
      "Processing Record 46 of Set 6 | mergui\n",
      "City not found. Skipping...\n",
      "Processing Record 47 of Set 6 | aklavik\n",
      "Processing Record 48 of Set 6 | hualmay\n",
      "Processing Record 49 of Set 6 | ramygala\n",
      "Processing Record 50 of Set 6 | dunedin\n",
      "Processing Record 1 of Set 7 | riyadh\n",
      "Processing Record 2 of Set 7 | banovce\n",
      "City not found. Skipping...\n",
      "Processing Record 3 of Set 7 | panama city\n",
      "Processing Record 4 of Set 7 | coihaique\n",
      "Processing Record 5 of Set 7 | belyy yar\n",
      "Processing Record 6 of Set 7 | rapid valley\n",
      "Processing Record 7 of Set 7 | champerico\n",
      "Processing Record 8 of Set 7 | wajid\n",
      "Processing Record 9 of Set 7 | dahuk\n",
      "Processing Record 10 of Set 7 | melilla\n",
      "Processing Record 11 of Set 7 | humaita\n",
      "Processing Record 12 of Set 7 | pitimbu\n",
      "Processing Record 13 of Set 7 | beloha\n",
      "Processing Record 14 of Set 7 | kiruna\n",
      "Processing Record 15 of Set 7 | sao filipe\n",
      "Processing Record 16 of Set 7 | te anau\n",
      "Processing Record 17 of Set 7 | aryanah\n",
      "Processing Record 18 of Set 7 | eydhafushi\n",
      "Processing Record 19 of Set 7 | baikunthpur\n",
      "Processing Record 20 of Set 7 | poum\n",
      "Processing Record 21 of Set 7 | zheshart\n",
      "Processing Record 22 of Set 7 | koslan\n",
      "Processing Record 23 of Set 7 | omsukchan\n",
      "Processing Record 24 of Set 7 | mahibadhoo\n",
      "Processing Record 25 of Set 7 | umm lajj\n",
      "Processing Record 26 of Set 7 | fukue\n",
      "Processing Record 27 of Set 7 | rorvik\n",
      "Processing Record 28 of Set 7 | blonduos\n",
      "City not found. Skipping...\n",
      "Processing Record 29 of Set 7 | albion\n",
      "Processing Record 30 of Set 7 | marawi\n",
      "Processing Record 31 of Set 7 | ixtapa\n",
      "Processing Record 32 of Set 7 | yaan\n",
      "Processing Record 33 of Set 7 | luba\n",
      "Processing Record 34 of Set 7 | amahai\n",
      "Processing Record 35 of Set 7 | katsuura\n",
      "Processing Record 36 of Set 7 | lata\n",
      "Processing Record 37 of Set 7 | constitucion\n",
      "Processing Record 38 of Set 7 | danielskuil\n",
      "Processing Record 39 of Set 7 | chimoio\n",
      "Processing Record 40 of Set 7 | khatanga\n",
      "Processing Record 41 of Set 7 | komsomolskiy\n",
      "Processing Record 42 of Set 7 | ambon\n",
      "Processing Record 43 of Set 7 | qasigiannguit\n",
      "Processing Record 44 of Set 7 | tiznit\n",
      "Processing Record 45 of Set 7 | barwaha\n",
      "City not found. Skipping...\n",
      "Processing Record 46 of Set 7 | jiuquan\n",
      "Processing Record 47 of Set 7 | gat\n",
      "Processing Record 48 of Set 7 | bereda\n",
      "Processing Record 49 of Set 7 | gimbi\n",
      "Processing Record 50 of Set 7 | beni mazar\n",
      "Processing Record 1 of Set 8 | yomitan\n",
      "City not found. Skipping...\n",
      "Processing Record 2 of Set 8 | katastarion\n",
      "Processing Record 3 of Set 8 | leh\n",
      "Processing Record 4 of Set 8 | chicama\n",
      "Processing Record 5 of Set 8 | pudozh\n",
      "Processing Record 6 of Set 8 | dombarovskiy\n",
      "Processing Record 7 of Set 8 | mahina\n",
      "Processing Record 8 of Set 8 | dundee\n",
      "Processing Record 9 of Set 8 | hofn\n",
      "Processing Record 10 of Set 8 | trat\n",
      "Processing Record 11 of Set 8 | brewster\n",
      "Processing Record 12 of Set 8 | tinskoy\n",
      "Processing Record 13 of Set 8 | radom\n",
      "Processing Record 14 of Set 8 | mitla\n",
      "Processing Record 15 of Set 8 | pierre\n",
      "Processing Record 16 of Set 8 | itarema\n",
      "Processing Record 17 of Set 8 | rocha\n",
      "Processing Record 18 of Set 8 | college\n",
      "Processing Record 19 of Set 8 | biak\n",
      "Processing Record 20 of Set 8 | botou\n",
      "Processing Record 21 of Set 8 | camacha\n",
      "Processing Record 22 of Set 8 | yangambi\n",
      "Processing Record 23 of Set 8 | saint simons\n",
      "Processing Record 24 of Set 8 | innisfail\n",
      "Processing Record 25 of Set 8 | haines junction\n",
      "Processing Record 26 of Set 8 | leon\n",
      "Processing Record 27 of Set 8 | magadan\n",
      "Processing Record 28 of Set 8 | upington\n",
      "Processing Record 29 of Set 8 | rawson\n",
      "Processing Record 30 of Set 8 | bredasdorp\n"
     ]
    },
    {
     "name": "stdout",
     "output_type": "stream",
     "text": [
      "Processing Record 31 of Set 8 | takoradi\n",
      "Processing Record 32 of Set 8 | naze\n",
      "Processing Record 33 of Set 8 | sweetwater\n",
      "Processing Record 34 of Set 8 | shahr-e babak\n",
      "Processing Record 35 of Set 8 | krasne\n",
      "Processing Record 36 of Set 8 | shingu\n",
      "Processing Record 37 of Set 8 | rio gallegos\n",
      "Processing Record 38 of Set 8 | dingle\n",
      "Processing Record 39 of Set 8 | okakarara\n",
      "Processing Record 40 of Set 8 | valleyview\n",
      "Processing Record 41 of Set 8 | malakwal\n",
      "Processing Record 42 of Set 8 | jinchang\n",
      "Processing Record 43 of Set 8 | bokspits\n",
      "City not found. Skipping...\n",
      "Processing Record 44 of Set 8 | jalu\n",
      "Processing Record 45 of Set 8 | stornoway\n",
      "Processing Record 46 of Set 8 | meadow lake\n",
      "Processing Record 47 of Set 8 | mancio lima\n",
      "Processing Record 48 of Set 8 | chuy\n",
      "Processing Record 49 of Set 8 | kamaishi\n",
      "Processing Record 50 of Set 8 | kalmunai\n",
      "Processing Record 1 of Set 9 | olinda\n",
      "Processing Record 2 of Set 9 | wanlaweyn\n",
      "Processing Record 3 of Set 9 | haibowan\n",
      "City not found. Skipping...\n",
      "Processing Record 4 of Set 9 | manokwari\n",
      "Processing Record 5 of Set 9 | nikolayevsk-na-amure\n",
      "Processing Record 6 of Set 9 | bubaque\n",
      "Processing Record 7 of Set 9 | karaul\n",
      "City not found. Skipping...\n",
      "Processing Record 8 of Set 9 | vrangel\n",
      "Processing Record 9 of Set 9 | wattegama\n",
      "Processing Record 10 of Set 9 | sisimiut\n",
      "Processing Record 11 of Set 9 | marsa matruh\n",
      "Processing Record 12 of Set 9 | bitung\n",
      "Processing Record 13 of Set 9 | norman wells\n",
      "Processing Record 14 of Set 9 | tupik\n",
      "Processing Record 15 of Set 9 | kendari\n",
      "Processing Record 16 of Set 9 | griffith\n",
      "Processing Record 17 of Set 9 | viedma\n",
      "Processing Record 18 of Set 9 | korla\n",
      "Processing Record 19 of Set 9 | bay roberts\n",
      "Processing Record 20 of Set 9 | shemonaikha\n",
      "Processing Record 21 of Set 9 | santa cruz\n",
      "Processing Record 22 of Set 9 | ambilobe\n",
      "Processing Record 23 of Set 9 | aras\n",
      "Processing Record 24 of Set 9 | tumannyy\n",
      "City not found. Skipping...\n",
      "Processing Record 25 of Set 9 | chapais\n",
      "Processing Record 26 of Set 9 | liwale\n",
      "Processing Record 27 of Set 9 | portland\n",
      "Processing Record 28 of Set 9 | matay\n",
      "Processing Record 29 of Set 9 | ploemeur\n",
      "Processing Record 30 of Set 9 | lafia\n",
      "Processing Record 31 of Set 9 | paracuru\n",
      "Processing Record 32 of Set 9 | lorengau\n",
      "Processing Record 33 of Set 9 | galt\n",
      "Processing Record 34 of Set 9 | barranca\n",
      "Processing Record 35 of Set 9 | ulaanbaatar\n",
      "Processing Record 36 of Set 9 | mahajanga\n",
      "Processing Record 37 of Set 9 | savannah bight\n",
      "Processing Record 38 of Set 9 | saint-pierre\n",
      "Processing Record 39 of Set 9 | bonavista\n",
      "Processing Record 40 of Set 9 | nalut\n",
      "Processing Record 41 of Set 9 | kapit\n",
      "Processing Record 42 of Set 9 | wagar\n",
      "Processing Record 43 of Set 9 | vardo\n",
      "Processing Record 44 of Set 9 | buala\n",
      "Processing Record 45 of Set 9 | san pedro\n",
      "Processing Record 46 of Set 9 | alofi\n",
      "Processing Record 47 of Set 9 | ondorhaan\n",
      "City not found. Skipping...\n",
      "Processing Record 48 of Set 9 | hasaki\n",
      "Processing Record 49 of Set 9 | galesong\n",
      "Processing Record 50 of Set 9 | sorkjosen\n",
      "Processing Record 1 of Set 10 | waipawa\n",
      "Processing Record 2 of Set 10 | hope\n",
      "Processing Record 3 of Set 10 | northam\n",
      "Processing Record 4 of Set 10 | qujing\n",
      "Processing Record 5 of Set 10 | sturgeon falls\n",
      "Processing Record 6 of Set 10 | boone\n",
      "Processing Record 7 of Set 10 | aksu\n",
      "Processing Record 8 of Set 10 | makakilo city\n",
      "Processing Record 9 of Set 10 | morros\n",
      "Processing Record 10 of Set 10 | porto uniao\n",
      "Processing Record 11 of Set 10 | lolua\n",
      "City not found. Skipping...\n",
      "Processing Record 12 of Set 10 | bastia\n",
      "Processing Record 13 of Set 10 | huilong\n",
      "Processing Record 14 of Set 10 | pangnirtung\n",
      "Processing Record 15 of Set 10 | berlevag\n",
      "Processing Record 16 of Set 10 | oriximina\n",
      "Processing Record 17 of Set 10 | nyandoma\n",
      "Processing Record 18 of Set 10 | cockburn harbour\n",
      "City not found. Skipping...\n",
      "Processing Record 19 of Set 10 | lalomanu\n",
      "City not found. Skipping...\n",
      "Processing Record 20 of Set 10 | mehamn\n",
      "Processing Record 21 of Set 10 | leningradskiy\n",
      "Processing Record 22 of Set 10 | mouila\n",
      "Processing Record 23 of Set 10 | jieshi\n",
      "Processing Record 24 of Set 10 | glendive\n",
      "Processing Record 25 of Set 10 | aksay\n",
      "Processing Record 26 of Set 10 | narkevychi\n",
      "Processing Record 27 of Set 10 | necochea\n",
      "Processing Record 28 of Set 10 | bac lieu\n",
      "Processing Record 29 of Set 10 | llanes\n",
      "Processing Record 30 of Set 10 | inyonga\n",
      "Processing Record 31 of Set 10 | alamosa\n",
      "Processing Record 32 of Set 10 | vila franca do campo\n",
      "Processing Record 33 of Set 10 | ipora\n",
      "Processing Record 34 of Set 10 | santarem\n",
      "Processing Record 35 of Set 10 | hambantota\n",
      "Processing Record 36 of Set 10 | warrington\n",
      "Processing Record 37 of Set 10 | chodavaram\n",
      "Processing Record 38 of Set 10 | lagoa\n",
      "Processing Record 39 of Set 10 | mrirt\n",
      "City not found. Skipping...\n",
      "Processing Record 40 of Set 10 | vuktyl\n",
      "Processing Record 41 of Set 10 | inverell\n",
      "Processing Record 42 of Set 10 | malaya purga\n",
      "Processing Record 43 of Set 10 | jacareacanga\n",
      "Processing Record 44 of Set 10 | jinxiang\n",
      "Processing Record 45 of Set 10 | aripuana\n",
      "Processing Record 46 of Set 10 | dicabisagan\n",
      "Processing Record 47 of Set 10 | navapur\n",
      "City not found. Skipping...\n",
      "Processing Record 48 of Set 10 | victor harbor\n",
      "Processing Record 49 of Set 10 | baghdad\n",
      "Processing Record 50 of Set 10 | beyneu\n",
      "Processing Record 1 of Set 11 | bjornevatn\n",
      "Processing Record 2 of Set 11 | ginir\n",
      "Processing Record 3 of Set 11 | sungaipenuh\n",
      "Processing Record 4 of Set 11 | hearst\n",
      "Processing Record 5 of Set 11 | bolshaya rechka\n",
      "Processing Record 6 of Set 11 | phitsanulok\n",
      "Processing Record 7 of Set 11 | old shinyanga\n",
      "Processing Record 8 of Set 11 | izberbash\n",
      "Processing Record 9 of Set 11 | kavaratti\n",
      "Processing Record 10 of Set 11 | pangody\n",
      "Processing Record 11 of Set 11 | byron bay\n",
      "Processing Record 12 of Set 11 | ust-nera\n",
      "Processing Record 13 of Set 11 | barawe\n",
      "City not found. Skipping...\n",
      "Processing Record 14 of Set 11 | fort saint john\n",
      "City not found. Skipping...\n",
      "Processing Record 15 of Set 11 | bilma\n",
      "Processing Record 16 of Set 11 | bowen\n",
      "Processing Record 17 of Set 11 | zheleznodorozhnyy\n",
      "Processing Record 18 of Set 11 | nefteyugansk\n",
      "Processing Record 19 of Set 11 | moose factory\n",
      "Processing Record 20 of Set 11 | gairo\n",
      "Processing Record 21 of Set 11 | igarka\n",
      "Processing Record 22 of Set 11 | marzuq\n",
      "Processing Record 23 of Set 11 | udachnyy\n",
      "Processing Record 24 of Set 11 | boa vista\n",
      "Processing Record 25 of Set 11 | pinawa\n",
      "Processing Record 26 of Set 11 | lompoc\n",
      "Processing Record 27 of Set 11 | shchelkun\n",
      "Processing Record 28 of Set 11 | altamira\n",
      "Processing Record 29 of Set 11 | port hardy\n",
      "Processing Record 30 of Set 11 | burica\n",
      "City not found. Skipping...\n",
      "Processing Record 31 of Set 11 | honiara\n",
      "Processing Record 32 of Set 11 | wanning\n",
      "Processing Record 33 of Set 11 | rosarito\n",
      "Processing Record 34 of Set 11 | carutapera\n",
      "Processing Record 35 of Set 11 | corsicana\n",
      "Processing Record 36 of Set 11 | kajaani\n",
      "Processing Record 37 of Set 11 | grand-santi\n",
      "Processing Record 38 of Set 11 | sorvag\n",
      "City not found. Skipping...\n",
      "Processing Record 39 of Set 11 | mamallapuram\n",
      "Processing Record 40 of Set 11 | impfondo\n",
      "Processing Record 41 of Set 11 | berdigestyakh\n",
      "Processing Record 42 of Set 11 | orkeny\n",
      "Processing Record 43 of Set 11 | sinnamary\n",
      "Processing Record 44 of Set 11 | iralaya\n",
      "Processing Record 45 of Set 11 | buin\n",
      "Processing Record 46 of Set 11 | ostersund\n",
      "Processing Record 47 of Set 11 | walvis bay\n",
      "Processing Record 48 of Set 11 | acapulco\n",
      "Processing Record 49 of Set 11 | bolungarvik\n",
      "City not found. Skipping...\n",
      "Processing Record 50 of Set 11 | najran\n",
      "Processing Record 1 of Set 12 | beringovskiy\n",
      "Processing Record 2 of Set 12 | aykhal\n",
      "Processing Record 3 of Set 12 | powell river\n",
      "Processing Record 4 of Set 12 | zhigalovo\n",
      "Processing Record 5 of Set 12 | makat\n",
      "Processing Record 6 of Set 12 | villa vazquez\n",
      "City not found. Skipping...\n",
      "Processing Record 7 of Set 12 | national city\n",
      "Processing Record 8 of Set 12 | xingyi\n",
      "Processing Record 9 of Set 12 | banjar\n",
      "Processing Record 10 of Set 12 | tiarei\n",
      "Processing Record 11 of Set 12 | sapernoye\n",
      "Processing Record 12 of Set 12 | balabac\n",
      "Processing Record 13 of Set 12 | aiquile\n",
      "Processing Record 14 of Set 12 | nagato\n",
      "Processing Record 15 of Set 12 | san juan de uraba\n",
      "Processing Record 16 of Set 12 | mao\n",
      "Processing Record 17 of Set 12 | show low\n"
     ]
    },
    {
     "name": "stdout",
     "output_type": "stream",
     "text": [
      "Processing Record 18 of Set 12 | oranjestad\n",
      "Processing Record 19 of Set 12 | kudahuvadhoo\n",
      "Processing Record 20 of Set 12 | dewa\n",
      "Processing Record 21 of Set 12 | chowchilla\n",
      "Processing Record 22 of Set 12 | krasnoselkup\n",
      "Processing Record 23 of Set 12 | tecoanapa\n",
      "Processing Record 24 of Set 12 | rio grande\n",
      "Processing Record 25 of Set 12 | beberibe\n",
      "Processing Record 26 of Set 12 | mayumba\n",
      "Processing Record 27 of Set 12 | port blair\n",
      "Processing Record 28 of Set 12 | hervey bay\n",
      "Processing Record 29 of Set 12 | maniitsoq\n",
      "Processing Record 30 of Set 12 | souillac\n",
      "Processing Record 31 of Set 12 | nagua\n",
      "Processing Record 32 of Set 12 | raudeberg\n",
      "Processing Record 33 of Set 12 | halalo\n",
      "City not found. Skipping...\n",
      "Processing Record 34 of Set 12 | bandarbeyla\n",
      "Processing Record 35 of Set 12 | pak phanang\n",
      "Processing Record 36 of Set 12 | calvinia\n",
      "Processing Record 37 of Set 12 | tromso\n",
      "Processing Record 38 of Set 12 | harbin\n",
      "Processing Record 39 of Set 12 | dourbali\n",
      "Processing Record 40 of Set 12 | karlstad\n",
      "Processing Record 41 of Set 12 | utevka\n",
      "Processing Record 42 of Set 12 | broken hill\n",
      "Processing Record 43 of Set 12 | srednekolymsk\n",
      "Processing Record 44 of Set 12 | tarudant\n",
      "City not found. Skipping...\n",
      "Processing Record 45 of Set 12 | gorey\n",
      "Processing Record 46 of Set 12 | guisa\n",
      "Processing Record 47 of Set 12 | itamaraca\n",
      "Processing Record 48 of Set 12 | matara\n",
      "Processing Record 49 of Set 12 | loding\n",
      "Processing Record 50 of Set 12 | talalayivka\n",
      "Processing Record 1 of Set 13 | pauini\n",
      "Processing Record 2 of Set 13 | zhuozhou\n",
      "City not found. Skipping...\n",
      "Processing Record 3 of Set 13 | jeremie\n",
      "Processing Record 4 of Set 13 | marsh harbour\n",
      "Processing Record 5 of Set 13 | sehithwa\n",
      "Processing Record 6 of Set 13 | thinadhoo\n",
      "Processing Record 7 of Set 13 | roald\n",
      "Processing Record 8 of Set 13 | zhigansk\n",
      "Processing Record 9 of Set 13 | jinan\n",
      "Processing Record 10 of Set 13 | salinas\n",
      "Processing Record 11 of Set 13 | chumikan\n",
      "Processing Record 12 of Set 13 | mattru\n",
      "Processing Record 13 of Set 13 | ambulu\n",
      "-----------------------------\n",
      "Data Retrieval Complete      \n",
      "-----------------------------\n"
     ]
    }
   ],
   "source": [
    "# Create an empty list to hold the weather data.\n",
    "city_data = []\n",
    "# Print the beginning of the logging.\n",
    "print(\"Beginning Data Retrieval     \")\n",
    "print(\"-----------------------------\")\n",
    "\n",
    "# Create counters.\n",
    "record_count = 1\n",
    "set_count = 1\n",
    "\n",
    "# Loop through all the cities in the list.\n",
    "for i, city in enumerate(cities):\n",
    "\n",
    "    # Group cities in sets of 50 for logging purposes.\n",
    "    if (i % 50 == 0 and i >= 50):\n",
    "        set_count += 1\n",
    "        record_count = 1\n",
    "    # Create endpoint URL with each city.\n",
    "    city_url = url + \"&q=\" + city.replace(\" \",\"+\")\n",
    "\n",
    "    # Log the URL, record, and set numbers and the city.\n",
    "    print(f\"Processing Record {record_count} of Set {set_count} | {city}\")\n",
    "    # Add 1 to the record count.\n",
    "    record_count += 1\n",
    "    \n",
    "# Run an API request for each of the cities.\n",
    "    try:\n",
    "        # Parse the JSON and retrieve data.\n",
    "        city_weather = requests.get(city_url).json()\n",
    "        # Parse out the needed data.\n",
    "        city_lat = city_weather[\"coord\"][\"lat\"]\n",
    "        city_lng = city_weather[\"coord\"][\"lon\"]\n",
    "        city_max_temp = city_weather[\"main\"][\"temp_max\"]\n",
    "        city_humidity = city_weather[\"main\"][\"humidity\"]\n",
    "        city_clouds = city_weather[\"clouds\"][\"all\"]\n",
    "        city_wind = city_weather[\"wind\"][\"speed\"]\n",
    "        city_country = city_weather[\"sys\"][\"country\"]\n",
    "        # Convert the date to ISO standard.\n",
    "        city_date = datetime.utcfromtimestamp(city_weather[\"dt\"]).strftime('%Y-%m-%d %H:%M:%S')\n",
    "        # Append the city information into city_data list.\n",
    "        city_data.append({\"City\": city.title(),\n",
    "                          \"Lat\": city_lat,\n",
    "                          \"Lng\": city_lng,\n",
    "                          \"Max Temp\": city_max_temp,\n",
    "                          \"Humidity\": city_humidity,\n",
    "                          \"Cloudiness\": city_clouds,\n",
    "                          \"Wind Speed\": city_wind,\n",
    "                          \"Country\": city_country,\n",
    "                          \"Date\": city_date})\n",
    "\n",
    "# If an error is experienced, skip the city.\n",
    "    except:\n",
    "        print(\"City not found. Skipping...\")\n",
    "        pass\n",
    "\n",
    "# Indicate that Data Loading is complete.\n",
    "print(\"-----------------------------\")\n",
    "print(\"Data Retrieval Complete      \")\n",
    "print(\"-----------------------------\")"
   ]
  },
  {
   "cell_type": "code",
   "execution_count": 26,
   "metadata": {},
   "outputs": [
    {
     "data": {
      "text/plain": [
       "566"
      ]
     },
     "execution_count": 26,
     "metadata": {},
     "output_type": "execute_result"
    }
   ],
   "source": [
    "len(city_data)"
   ]
  },
  {
   "cell_type": "code",
   "execution_count": 27,
   "metadata": {},
   "outputs": [
    {
     "data": {
      "text/html": [
       "<div>\n",
       "<style scoped>\n",
       "    .dataframe tbody tr th:only-of-type {\n",
       "        vertical-align: middle;\n",
       "    }\n",
       "\n",
       "    .dataframe tbody tr th {\n",
       "        vertical-align: top;\n",
       "    }\n",
       "\n",
       "    .dataframe thead th {\n",
       "        text-align: right;\n",
       "    }\n",
       "</style>\n",
       "<table border=\"1\" class=\"dataframe\">\n",
       "  <thead>\n",
       "    <tr style=\"text-align: right;\">\n",
       "      <th></th>\n",
       "      <th>City</th>\n",
       "      <th>Lat</th>\n",
       "      <th>Lng</th>\n",
       "      <th>Max Temp</th>\n",
       "      <th>Humidity</th>\n",
       "      <th>Cloudiness</th>\n",
       "      <th>Wind Speed</th>\n",
       "      <th>Country</th>\n",
       "      <th>Date</th>\n",
       "    </tr>\n",
       "  </thead>\n",
       "  <tbody>\n",
       "    <tr>\n",
       "      <th>0</th>\n",
       "      <td>Rikitea</td>\n",
       "      <td>-23.12</td>\n",
       "      <td>-134.97</td>\n",
       "      <td>75.56</td>\n",
       "      <td>79</td>\n",
       "      <td>55</td>\n",
       "      <td>18.30</td>\n",
       "      <td>PF</td>\n",
       "      <td>2020-06-17 18:03:59</td>\n",
       "    </tr>\n",
       "    <tr>\n",
       "      <th>1</th>\n",
       "      <td>Moba</td>\n",
       "      <td>33.23</td>\n",
       "      <td>105.02</td>\n",
       "      <td>53.11</td>\n",
       "      <td>86</td>\n",
       "      <td>0</td>\n",
       "      <td>5.10</td>\n",
       "      <td>CN</td>\n",
       "      <td>2020-06-17 18:03:59</td>\n",
       "    </tr>\n",
       "    <tr>\n",
       "      <th>2</th>\n",
       "      <td>Axim</td>\n",
       "      <td>4.87</td>\n",
       "      <td>-2.24</td>\n",
       "      <td>78.15</td>\n",
       "      <td>85</td>\n",
       "      <td>89</td>\n",
       "      <td>12.46</td>\n",
       "      <td>GH</td>\n",
       "      <td>2020-06-17 18:03:59</td>\n",
       "    </tr>\n",
       "    <tr>\n",
       "      <th>3</th>\n",
       "      <td>Kodiak</td>\n",
       "      <td>57.79</td>\n",
       "      <td>-152.41</td>\n",
       "      <td>50.00</td>\n",
       "      <td>87</td>\n",
       "      <td>90</td>\n",
       "      <td>20.80</td>\n",
       "      <td>US</td>\n",
       "      <td>2020-06-17 18:03:59</td>\n",
       "    </tr>\n",
       "    <tr>\n",
       "      <th>4</th>\n",
       "      <td>Abeche</td>\n",
       "      <td>13.83</td>\n",
       "      <td>20.83</td>\n",
       "      <td>86.99</td>\n",
       "      <td>38</td>\n",
       "      <td>66</td>\n",
       "      <td>8.14</td>\n",
       "      <td>TD</td>\n",
       "      <td>2020-06-17 18:03:59</td>\n",
       "    </tr>\n",
       "    <tr>\n",
       "      <th>5</th>\n",
       "      <td>Carman</td>\n",
       "      <td>49.50</td>\n",
       "      <td>-98.00</td>\n",
       "      <td>88.00</td>\n",
       "      <td>51</td>\n",
       "      <td>1</td>\n",
       "      <td>12.75</td>\n",
       "      <td>CA</td>\n",
       "      <td>2020-06-17 18:04:00</td>\n",
       "    </tr>\n",
       "    <tr>\n",
       "      <th>6</th>\n",
       "      <td>Busselton</td>\n",
       "      <td>-33.65</td>\n",
       "      <td>115.33</td>\n",
       "      <td>57.00</td>\n",
       "      <td>45</td>\n",
       "      <td>45</td>\n",
       "      <td>19.64</td>\n",
       "      <td>AU</td>\n",
       "      <td>2020-06-17 18:04:00</td>\n",
       "    </tr>\n",
       "    <tr>\n",
       "      <th>7</th>\n",
       "      <td>Saint-Francois</td>\n",
       "      <td>46.42</td>\n",
       "      <td>3.91</td>\n",
       "      <td>66.20</td>\n",
       "      <td>63</td>\n",
       "      <td>54</td>\n",
       "      <td>4.70</td>\n",
       "      <td>FR</td>\n",
       "      <td>2020-06-17 17:58:28</td>\n",
       "    </tr>\n",
       "    <tr>\n",
       "      <th>8</th>\n",
       "      <td>Chokurdakh</td>\n",
       "      <td>70.63</td>\n",
       "      <td>147.92</td>\n",
       "      <td>63.43</td>\n",
       "      <td>50</td>\n",
       "      <td>27</td>\n",
       "      <td>10.11</td>\n",
       "      <td>RU</td>\n",
       "      <td>2020-06-17 18:04:00</td>\n",
       "    </tr>\n",
       "    <tr>\n",
       "      <th>9</th>\n",
       "      <td>Puerto Ayora</td>\n",
       "      <td>-0.74</td>\n",
       "      <td>-90.35</td>\n",
       "      <td>75.20</td>\n",
       "      <td>78</td>\n",
       "      <td>75</td>\n",
       "      <td>11.41</td>\n",
       "      <td>EC</td>\n",
       "      <td>2020-06-17 18:04:00</td>\n",
       "    </tr>\n",
       "  </tbody>\n",
       "</table>\n",
       "</div>"
      ],
      "text/plain": [
       "             City    Lat     Lng  Max Temp  Humidity  Cloudiness  Wind Speed  \\\n",
       "0         Rikitea -23.12 -134.97     75.56        79          55       18.30   \n",
       "1            Moba  33.23  105.02     53.11        86           0        5.10   \n",
       "2            Axim   4.87   -2.24     78.15        85          89       12.46   \n",
       "3          Kodiak  57.79 -152.41     50.00        87          90       20.80   \n",
       "4          Abeche  13.83   20.83     86.99        38          66        8.14   \n",
       "5          Carman  49.50  -98.00     88.00        51           1       12.75   \n",
       "6       Busselton -33.65  115.33     57.00        45          45       19.64   \n",
       "7  Saint-Francois  46.42    3.91     66.20        63          54        4.70   \n",
       "8      Chokurdakh  70.63  147.92     63.43        50          27       10.11   \n",
       "9    Puerto Ayora  -0.74  -90.35     75.20        78          75       11.41   \n",
       "\n",
       "  Country                 Date  \n",
       "0      PF  2020-06-17 18:03:59  \n",
       "1      CN  2020-06-17 18:03:59  \n",
       "2      GH  2020-06-17 18:03:59  \n",
       "3      US  2020-06-17 18:03:59  \n",
       "4      TD  2020-06-17 18:03:59  \n",
       "5      CA  2020-06-17 18:04:00  \n",
       "6      AU  2020-06-17 18:04:00  \n",
       "7      FR  2020-06-17 17:58:28  \n",
       "8      RU  2020-06-17 18:04:00  \n",
       "9      EC  2020-06-17 18:04:00  "
      ]
     },
     "execution_count": 27,
     "metadata": {},
     "output_type": "execute_result"
    }
   ],
   "source": [
    "# Convert the array of dictionaries to a Pandas DataFrame.\n",
    "city_data_df = pd.DataFrame(city_data)\n",
    "city_data_df.head(10)"
   ]
  },
  {
   "cell_type": "code",
   "execution_count": 28,
   "metadata": {},
   "outputs": [
    {
     "data": {
      "text/html": [
       "<div>\n",
       "<style scoped>\n",
       "    .dataframe tbody tr th:only-of-type {\n",
       "        vertical-align: middle;\n",
       "    }\n",
       "\n",
       "    .dataframe tbody tr th {\n",
       "        vertical-align: top;\n",
       "    }\n",
       "\n",
       "    .dataframe thead th {\n",
       "        text-align: right;\n",
       "    }\n",
       "</style>\n",
       "<table border=\"1\" class=\"dataframe\">\n",
       "  <thead>\n",
       "    <tr style=\"text-align: right;\">\n",
       "      <th></th>\n",
       "      <th>City</th>\n",
       "      <th>Country</th>\n",
       "      <th>Date</th>\n",
       "      <th>Lat</th>\n",
       "      <th>Lng</th>\n",
       "      <th>Max Temp</th>\n",
       "      <th>Humidity</th>\n",
       "      <th>Cloudiness</th>\n",
       "      <th>Wind Speed</th>\n",
       "    </tr>\n",
       "  </thead>\n",
       "  <tbody>\n",
       "    <tr>\n",
       "      <th>0</th>\n",
       "      <td>Rikitea</td>\n",
       "      <td>PF</td>\n",
       "      <td>2020-06-17 18:03:59</td>\n",
       "      <td>-23.12</td>\n",
       "      <td>-134.97</td>\n",
       "      <td>75.56</td>\n",
       "      <td>79</td>\n",
       "      <td>55</td>\n",
       "      <td>18.30</td>\n",
       "    </tr>\n",
       "    <tr>\n",
       "      <th>1</th>\n",
       "      <td>Moba</td>\n",
       "      <td>CN</td>\n",
       "      <td>2020-06-17 18:03:59</td>\n",
       "      <td>33.23</td>\n",
       "      <td>105.02</td>\n",
       "      <td>53.11</td>\n",
       "      <td>86</td>\n",
       "      <td>0</td>\n",
       "      <td>5.10</td>\n",
       "    </tr>\n",
       "    <tr>\n",
       "      <th>2</th>\n",
       "      <td>Axim</td>\n",
       "      <td>GH</td>\n",
       "      <td>2020-06-17 18:03:59</td>\n",
       "      <td>4.87</td>\n",
       "      <td>-2.24</td>\n",
       "      <td>78.15</td>\n",
       "      <td>85</td>\n",
       "      <td>89</td>\n",
       "      <td>12.46</td>\n",
       "    </tr>\n",
       "    <tr>\n",
       "      <th>3</th>\n",
       "      <td>Kodiak</td>\n",
       "      <td>US</td>\n",
       "      <td>2020-06-17 18:03:59</td>\n",
       "      <td>57.79</td>\n",
       "      <td>-152.41</td>\n",
       "      <td>50.00</td>\n",
       "      <td>87</td>\n",
       "      <td>90</td>\n",
       "      <td>20.80</td>\n",
       "    </tr>\n",
       "    <tr>\n",
       "      <th>4</th>\n",
       "      <td>Abeche</td>\n",
       "      <td>TD</td>\n",
       "      <td>2020-06-17 18:03:59</td>\n",
       "      <td>13.83</td>\n",
       "      <td>20.83</td>\n",
       "      <td>86.99</td>\n",
       "      <td>38</td>\n",
       "      <td>66</td>\n",
       "      <td>8.14</td>\n",
       "    </tr>\n",
       "    <tr>\n",
       "      <th>5</th>\n",
       "      <td>Carman</td>\n",
       "      <td>CA</td>\n",
       "      <td>2020-06-17 18:04:00</td>\n",
       "      <td>49.50</td>\n",
       "      <td>-98.00</td>\n",
       "      <td>88.00</td>\n",
       "      <td>51</td>\n",
       "      <td>1</td>\n",
       "      <td>12.75</td>\n",
       "    </tr>\n",
       "    <tr>\n",
       "      <th>6</th>\n",
       "      <td>Busselton</td>\n",
       "      <td>AU</td>\n",
       "      <td>2020-06-17 18:04:00</td>\n",
       "      <td>-33.65</td>\n",
       "      <td>115.33</td>\n",
       "      <td>57.00</td>\n",
       "      <td>45</td>\n",
       "      <td>45</td>\n",
       "      <td>19.64</td>\n",
       "    </tr>\n",
       "    <tr>\n",
       "      <th>7</th>\n",
       "      <td>Saint-Francois</td>\n",
       "      <td>FR</td>\n",
       "      <td>2020-06-17 17:58:28</td>\n",
       "      <td>46.42</td>\n",
       "      <td>3.91</td>\n",
       "      <td>66.20</td>\n",
       "      <td>63</td>\n",
       "      <td>54</td>\n",
       "      <td>4.70</td>\n",
       "    </tr>\n",
       "    <tr>\n",
       "      <th>8</th>\n",
       "      <td>Chokurdakh</td>\n",
       "      <td>RU</td>\n",
       "      <td>2020-06-17 18:04:00</td>\n",
       "      <td>70.63</td>\n",
       "      <td>147.92</td>\n",
       "      <td>63.43</td>\n",
       "      <td>50</td>\n",
       "      <td>27</td>\n",
       "      <td>10.11</td>\n",
       "    </tr>\n",
       "    <tr>\n",
       "      <th>9</th>\n",
       "      <td>Puerto Ayora</td>\n",
       "      <td>EC</td>\n",
       "      <td>2020-06-17 18:04:00</td>\n",
       "      <td>-0.74</td>\n",
       "      <td>-90.35</td>\n",
       "      <td>75.20</td>\n",
       "      <td>78</td>\n",
       "      <td>75</td>\n",
       "      <td>11.41</td>\n",
       "    </tr>\n",
       "  </tbody>\n",
       "</table>\n",
       "</div>"
      ],
      "text/plain": [
       "             City Country                 Date    Lat     Lng  Max Temp  \\\n",
       "0         Rikitea      PF  2020-06-17 18:03:59 -23.12 -134.97     75.56   \n",
       "1            Moba      CN  2020-06-17 18:03:59  33.23  105.02     53.11   \n",
       "2            Axim      GH  2020-06-17 18:03:59   4.87   -2.24     78.15   \n",
       "3          Kodiak      US  2020-06-17 18:03:59  57.79 -152.41     50.00   \n",
       "4          Abeche      TD  2020-06-17 18:03:59  13.83   20.83     86.99   \n",
       "5          Carman      CA  2020-06-17 18:04:00  49.50  -98.00     88.00   \n",
       "6       Busselton      AU  2020-06-17 18:04:00 -33.65  115.33     57.00   \n",
       "7  Saint-Francois      FR  2020-06-17 17:58:28  46.42    3.91     66.20   \n",
       "8      Chokurdakh      RU  2020-06-17 18:04:00  70.63  147.92     63.43   \n",
       "9    Puerto Ayora      EC  2020-06-17 18:04:00  -0.74  -90.35     75.20   \n",
       "\n",
       "   Humidity  Cloudiness  Wind Speed  \n",
       "0        79          55       18.30  \n",
       "1        86           0        5.10  \n",
       "2        85          89       12.46  \n",
       "3        87          90       20.80  \n",
       "4        38          66        8.14  \n",
       "5        51           1       12.75  \n",
       "6        45          45       19.64  \n",
       "7        63          54        4.70  \n",
       "8        50          27       10.11  \n",
       "9        78          75       11.41  "
      ]
     },
     "execution_count": 28,
     "metadata": {},
     "output_type": "execute_result"
    }
   ],
   "source": [
    "new_column_order = [\"City\", \"Country\", \"Date\", \"Lat\", \"Lng\", \"Max Temp\", \"Humidity\", \"Cloudiness\", \"Wind Speed\"]\n",
    "new_city_data_df = city_data_df[new_column_order]\n",
    "new_city_data_df.head(10)"
   ]
  },
  {
   "cell_type": "code",
   "execution_count": 29,
   "metadata": {},
   "outputs": [
    {
     "data": {
      "text/plain": [
       "City          566\n",
       "Country       566\n",
       "Date          566\n",
       "Lat           566\n",
       "Lng           566\n",
       "Max Temp      566\n",
       "Humidity      566\n",
       "Cloudiness    566\n",
       "Wind Speed    566\n",
       "dtype: int64"
      ]
     },
     "execution_count": 29,
     "metadata": {},
     "output_type": "execute_result"
    }
   ],
   "source": [
    "new_city_data_df.count()"
   ]
  },
  {
   "cell_type": "code",
   "execution_count": 30,
   "metadata": {},
   "outputs": [],
   "source": [
    "# Create the output file (CSV).\n",
    "output_data_file = \"weather_data/cities.csv\"\n",
    "\n",
    "# Export the City_Data into a CSV.\n",
    "new_city_data_df.to_csv(output_data_file, index_label = \"City_ID\")"
   ]
  },
  {
   "cell_type": "code",
   "execution_count": 31,
   "metadata": {},
   "outputs": [],
   "source": [
    "# Extract relevant fields from the DataFrame for plotting.\n",
    "lats = new_city_data_df[\"Lat\"]\n",
    "max_temps = new_city_data_df[\"Max Temp\"]\n",
    "humidity = new_city_data_df[\"Humidity\"]\n",
    "cloudiness = new_city_data_df[\"Cloudiness\"]\n",
    "wind_speed = new_city_data_df[\"Wind Speed\"]"
   ]
  },
  {
   "cell_type": "code",
   "execution_count": 32,
   "metadata": {},
   "outputs": [],
   "source": [
    "# Import the time module.\n",
    "import time"
   ]
  },
  {
   "cell_type": "code",
   "execution_count": 33,
   "metadata": {},
   "outputs": [],
   "source": [
    "# # Get today's date in seconds.\n",
    "# today = time.time()\n",
    "# today"
   ]
  },
  {
   "cell_type": "code",
   "execution_count": 34,
   "metadata": {},
   "outputs": [],
   "source": [
    "# today = time.strftime(\"%x\")\n",
    "# today"
   ]
  },
  {
   "cell_type": "code",
   "execution_count": 35,
   "metadata": {},
   "outputs": [],
   "source": [
    "# Extract relevant fields from the DataFrame for plotting.\n",
    "lats = city_data_df[\"Lat\"]\n",
    "max_temps = city_data_df[\"Max Temp\"]\n",
    "humidity = city_data_df[\"Humidity\"]\n",
    "cloudiness = city_data_df[\"Cloudiness\"]\n",
    "wind_speed = city_data_df[\"Wind Speed\"]"
   ]
  },
  {
   "cell_type": "code",
   "execution_count": 36,
   "metadata": {},
   "outputs": [
    {
     "data": {
      "image/png": "[encoded data removed]",
      "text/plain": [
       "<Figure size 432x288 with 1 Axes>"
      ]
     },
     "metadata": {
      "needs_background": "light"
     },
     "output_type": "display_data"
    }
   ],
   "source": [
    "# Build the scatter plot for latitude vs. max temperature.\n",
    "plt.scatter(lats,\n",
    "            max_temps,\n",
    "            edgecolor=\"black\", linewidths=1, marker=\"o\",\n",
    "            alpha=0.8, label=\"Cities\")\n",
    "\n",
    "# Incorporate the other graph properties.\n",
    "plt.title(f\"City Latitude vs. Max Temperature \"+ time.strftime(\"%x\"))\n",
    "plt.ylabel(\"Max Temperature (F)\")\n",
    "plt.xlabel(\"Latitude\")\n",
    "plt.grid(True)\n",
    "\n",
    "# Save the figure.\n",
    "plt.savefig(\"weather_data/Fig1.png\")\n",
    "\n",
    "# Show plot.\n",
    "plt.show()"
   ]
  },
  {
   "cell_type": "code",
   "execution_count": 37,
   "metadata": {},
   "outputs": [
    {
     "data": {
      "image/png": "[encoded data removed]",
      "text/plain": [
       "<Figure size 432x288 with 1 Axes>"
      ]
     },
     "metadata": {
      "needs_background": "light"
     },
     "output_type": "display_data"
    }
   ],
   "source": [
    "# Build the scatter plots for latitude vs. humidity.\n",
    "plt.scatter(lats,\n",
    "            humidity,\n",
    "            edgecolor=\"black\", linewidths=1, marker=\"o\",\n",
    "            alpha=0.8, label=\"Cities\")\n",
    "\n",
    "# Incorporate the other graph properties.\n",
    "plt.title(f\"City Latitude vs. Humidity \"+ time.strftime(\"%x\"))\n",
    "plt.ylabel(\"Humidity (%)\")\n",
    "plt.xlabel(\"Latitude\")\n",
    "plt.grid(True)\n",
    "\n",
    "# Save the figure.\n",
    "plt.savefig(\"weather_data/Fig2.png\")\n",
    "\n",
    "# Show plot.\n",
    "plt.show()"
   ]
  },
  {
   "cell_type": "code",
   "execution_count": 38,
   "metadata": {},
   "outputs": [
    {
     "data": {
      "image/png": "[encoded data removed]",
      "text/plain": [
       "<Figure size 432x288 with 1 Axes>"
      ]
     },
     "metadata": {
      "needs_background": "light"
     },
     "output_type": "display_data"
    }
   ],
   "source": [
    "# Build the scatter plots for latitude vs. cloudiness.\n",
    "plt.scatter(lats,\n",
    "           cloudiness,\n",
    "           edgecolor=\"black\", linewidths=1, marker=\"o\",\n",
    "           alpha=0.8, label=\"Cities\")\n",
    "\n",
    "# Incorporate the other graph properties.\n",
    "plt.title(f\"City Latitude vs. Cloudiness (%) \"+ time.strftime(\"%x\"))\n",
    "plt.ylabel(\"Cloudiness (%)\")\n",
    "plt.xlabel(\"Latitude\")\n",
    "plt.grid(True)\n",
    "\n",
    "# Save the figure.\n",
    "plt.savefig(\"weather_data/Fig3.png\")\n",
    "\n",
    "# Show plot.\n",
    "plt.show()"
   ]
  },
  {
   "cell_type": "code",
   "execution_count": 39,
   "metadata": {},
   "outputs": [
    {
     "data": {
      "image/png": "[encoded data removed]",
      "text/plain": [
       "<Figure size 432x288 with 1 Axes>"
      ]
     },
     "metadata": {
      "needs_background": "light"
     },
     "output_type": "display_data"
    }
   ],
   "source": [
    "# Build the scatter plots for latitude vs. wind speed.\n",
    "plt.scatter(lats,\n",
    "            wind_speed,\n",
    "            edgecolor=\"black\", linewidths=1, marker=\"o\",\n",
    "            alpha=0.8, label=\"Cities\")\n",
    "\n",
    "# Incorporate the other graph properties.\n",
    "plt.title(f\"City Latitude vs. Wind Speed \"+ time.strftime(\"%x\"))\n",
    "plt.ylabel(\"Wind Speed (mph)\")\n",
    "plt.xlabel(\"Latitude\")\n",
    "plt.grid(True)\n",
    "\n",
    "# Save the figure.\n",
    "plt.savefig(\"weather_data/Fig4.png\")\n",
    "\n",
    "# Show plot.\n",
    "plt.show()"
   ]
  },
  {
   "cell_type": "code",
   "execution_count": 40,
   "metadata": {},
   "outputs": [],
   "source": [
    "# Create a function to create perform linear regression on the weather data\n",
    "# and plot a regression line and the equation with the data.\n",
    "def plot_linear_regression(x_values, y_values, title, y_label, text_coordinates):\n",
    "    \n",
    "    # Run regression on hemisphere weather data.\n",
    "    (slope, intercept, r_value, p_value, std_err) = linregress(x_values, y_values)\n",
    "    \n",
    "    # Calculate the regression line \"y values\" from the slope and intercept.\n",
    "    regress_values = x_values * slope + intercept\n",
    "    \n",
    "    # Get the equation of the line.\n",
    "    line_eq = \"y = \" + str(round(slope,2)) + \"x + \" + str(round(intercept,2))\n",
    "    \n",
    "    # Create a scatter plot and plot the regression line.\n",
    "    plt.scatter(x_values, y_values)\n",
    "    plt.plot(x_values, regress_values, \"r\")\n",
    "    \n",
    "    # Annotate the text for the line equation.\n",
    "    plt.annotate(line_eq, text_coordinates, fontsize=15, color=\"red\")\n",
    "    plt.xlabel('Latitude')\n",
    "    plt.ylabel(y_label)\n",
    "    plt.show()"
   ]
  },
  {
   "cell_type": "code",
   "execution_count": 41,
   "metadata": {},
   "outputs": [],
   "source": [
    "# Create Northern and Southern Hemisphere DataFrames.\n",
    "northern_hemi_df = city_data_df.loc[(city_data_df[\"Lat\"] >= 0)]\n",
    "southern_hemi_df = city_data_df.loc[(city_data_df[\"Lat\"] < 0)]"
   ]
  },
  {
   "cell_type": "code",
   "execution_count": 42,
   "metadata": {},
   "outputs": [
    {
     "data": {
      "text/html": [
       "<div>\n",
       "<style scoped>\n",
       "    .dataframe tbody tr th:only-of-type {\n",
       "        vertical-align: middle;\n",
       "    }\n",
       "\n",
       "    .dataframe tbody tr th {\n",
       "        vertical-align: top;\n",
       "    }\n",
       "\n",
       "    .dataframe thead th {\n",
       "        text-align: right;\n",
       "    }\n",
       "</style>\n",
       "<table border=\"1\" class=\"dataframe\">\n",
       "  <thead>\n",
       "    <tr style=\"text-align: right;\">\n",
       "      <th></th>\n",
       "      <th>City</th>\n",
       "      <th>Lat</th>\n",
       "      <th>Lng</th>\n",
       "      <th>Max Temp</th>\n",
       "      <th>Humidity</th>\n",
       "      <th>Cloudiness</th>\n",
       "      <th>Wind Speed</th>\n",
       "      <th>Country</th>\n",
       "      <th>Date</th>\n",
       "    </tr>\n",
       "  </thead>\n",
       "  <tbody>\n",
       "    <tr>\n",
       "      <th>1</th>\n",
       "      <td>Moba</td>\n",
       "      <td>33.23</td>\n",
       "      <td>105.02</td>\n",
       "      <td>53.11</td>\n",
       "      <td>86</td>\n",
       "      <td>0</td>\n",
       "      <td>5.10</td>\n",
       "      <td>CN</td>\n",
       "      <td>2020-06-17 18:03:59</td>\n",
       "    </tr>\n",
       "    <tr>\n",
       "      <th>2</th>\n",
       "      <td>Axim</td>\n",
       "      <td>4.87</td>\n",
       "      <td>-2.24</td>\n",
       "      <td>78.15</td>\n",
       "      <td>85</td>\n",
       "      <td>89</td>\n",
       "      <td>12.46</td>\n",
       "      <td>GH</td>\n",
       "      <td>2020-06-17 18:03:59</td>\n",
       "    </tr>\n",
       "    <tr>\n",
       "      <th>3</th>\n",
       "      <td>Kodiak</td>\n",
       "      <td>57.79</td>\n",
       "      <td>-152.41</td>\n",
       "      <td>50.00</td>\n",
       "      <td>87</td>\n",
       "      <td>90</td>\n",
       "      <td>20.80</td>\n",
       "      <td>US</td>\n",
       "      <td>2020-06-17 18:03:59</td>\n",
       "    </tr>\n",
       "    <tr>\n",
       "      <th>4</th>\n",
       "      <td>Abeche</td>\n",
       "      <td>13.83</td>\n",
       "      <td>20.83</td>\n",
       "      <td>86.99</td>\n",
       "      <td>38</td>\n",
       "      <td>66</td>\n",
       "      <td>8.14</td>\n",
       "      <td>TD</td>\n",
       "      <td>2020-06-17 18:03:59</td>\n",
       "    </tr>\n",
       "    <tr>\n",
       "      <th>5</th>\n",
       "      <td>Carman</td>\n",
       "      <td>49.50</td>\n",
       "      <td>-98.00</td>\n",
       "      <td>88.00</td>\n",
       "      <td>51</td>\n",
       "      <td>1</td>\n",
       "      <td>12.75</td>\n",
       "      <td>CA</td>\n",
       "      <td>2020-06-17 18:04:00</td>\n",
       "    </tr>\n",
       "    <tr>\n",
       "      <th>...</th>\n",
       "      <td>...</td>\n",
       "      <td>...</td>\n",
       "      <td>...</td>\n",
       "      <td>...</td>\n",
       "      <td>...</td>\n",
       "      <td>...</td>\n",
       "      <td>...</td>\n",
       "      <td>...</td>\n",
       "      <td>...</td>\n",
       "    </tr>\n",
       "    <tr>\n",
       "      <th>560</th>\n",
       "      <td>Zhigansk</td>\n",
       "      <td>66.77</td>\n",
       "      <td>123.37</td>\n",
       "      <td>52.52</td>\n",
       "      <td>92</td>\n",
       "      <td>89</td>\n",
       "      <td>11.21</td>\n",
       "      <td>RU</td>\n",
       "      <td>2020-06-17 18:05:51</td>\n",
       "    </tr>\n",
       "    <tr>\n",
       "      <th>561</th>\n",
       "      <td>Jinan</td>\n",
       "      <td>36.67</td>\n",
       "      <td>117.00</td>\n",
       "      <td>69.01</td>\n",
       "      <td>81</td>\n",
       "      <td>100</td>\n",
       "      <td>2.82</td>\n",
       "      <td>CN</td>\n",
       "      <td>2020-06-17 18:05:51</td>\n",
       "    </tr>\n",
       "    <tr>\n",
       "      <th>562</th>\n",
       "      <td>Salinas</td>\n",
       "      <td>36.68</td>\n",
       "      <td>-121.66</td>\n",
       "      <td>75.99</td>\n",
       "      <td>40</td>\n",
       "      <td>1</td>\n",
       "      <td>4.70</td>\n",
       "      <td>US</td>\n",
       "      <td>2020-06-17 18:01:59</td>\n",
       "    </tr>\n",
       "    <tr>\n",
       "      <th>563</th>\n",
       "      <td>Chumikan</td>\n",
       "      <td>54.72</td>\n",
       "      <td>135.31</td>\n",
       "      <td>37.18</td>\n",
       "      <td>96</td>\n",
       "      <td>100</td>\n",
       "      <td>3.11</td>\n",
       "      <td>RU</td>\n",
       "      <td>2020-06-17 18:05:52</td>\n",
       "    </tr>\n",
       "    <tr>\n",
       "      <th>564</th>\n",
       "      <td>Mattru</td>\n",
       "      <td>7.62</td>\n",
       "      <td>-11.83</td>\n",
       "      <td>80.33</td>\n",
       "      <td>89</td>\n",
       "      <td>68</td>\n",
       "      <td>3.58</td>\n",
       "      <td>SL</td>\n",
       "      <td>2020-06-17 18:05:52</td>\n",
       "    </tr>\n",
       "  </tbody>\n",
       "</table>\n",
       "<p>386 rows × 9 columns</p>\n",
       "</div>"
      ],
      "text/plain": [
       "         City    Lat     Lng  Max Temp  Humidity  Cloudiness  Wind Speed  \\\n",
       "1        Moba  33.23  105.02     53.11        86           0        5.10   \n",
       "2        Axim   4.87   -2.24     78.15        85          89       12.46   \n",
       "3      Kodiak  57.79 -152.41     50.00        87          90       20.80   \n",
       "4      Abeche  13.83   20.83     86.99        38          66        8.14   \n",
       "5      Carman  49.50  -98.00     88.00        51           1       12.75   \n",
       "..        ...    ...     ...       ...       ...         ...         ...   \n",
       "560  Zhigansk  66.77  123.37     52.52        92          89       11.21   \n",
       "561     Jinan  36.67  117.00     69.01        81         100        2.82   \n",
       "562   Salinas  36.68 -121.66     75.99        40           1        4.70   \n",
       "563  Chumikan  54.72  135.31     37.18        96         100        3.11   \n",
       "564    Mattru   7.62  -11.83     80.33        89          68        3.58   \n",
       "\n",
       "    Country                 Date  \n",
       "1        CN  2020-06-17 18:03:59  \n",
       "2        GH  2020-06-17 18:03:59  \n",
       "3        US  2020-06-17 18:03:59  \n",
       "4        TD  2020-06-17 18:03:59  \n",
       "5        CA  2020-06-17 18:04:00  \n",
       "..      ...                  ...  \n",
       "560      RU  2020-06-17 18:05:51  \n",
       "561      CN  2020-06-17 18:05:51  \n",
       "562      US  2020-06-17 18:01:59  \n",
       "563      RU  2020-06-17 18:05:52  \n",
       "564      SL  2020-06-17 18:05:52  \n",
       "\n",
       "[386 rows x 9 columns]"
      ]
     },
     "execution_count": 42,
     "metadata": {},
     "output_type": "execute_result"
    }
   ],
   "source": [
    "northern_hemi_df"
   ]
  },
  {
   "cell_type": "code",
   "execution_count": 43,
   "metadata": {},
   "outputs": [
    {
     "data": {
      "image/png": "[encoded data removed]",
      "text/plain": [
       "<Figure size 432x288 with 1 Axes>"
      ]
     },
     "metadata": {
      "needs_background": "light"
     },
     "output_type": "display_data"
    }
   ],
   "source": [
    "# Linear regression on the Northern Hemisphere\n",
    "x_values = northern_hemi_df[\"Lat\"]\n",
    "y_values = northern_hemi_df[\"Max Temp\"]\n",
    "\n",
    "# Call the function.\n",
    "plot_linear_regression(x_values, y_values, 'Linear Regression on the Northern Hemisphere \\n for Maximum Temperature', 'Max Temp',(10,40))"
   ]
  },
  {
   "cell_type": "code",
   "execution_count": 44,
   "metadata": {},
   "outputs": [
    {
     "data": {
      "image/png": "[encoded data removed]",
      "text/plain": [
       "<Figure size 432x288 with 1 Axes>"
      ]
     },
     "metadata": {
      "needs_background": "light"
     },
     "output_type": "display_data"
    }
   ],
   "source": [
    "# Linear regression on the Southern Hemisphere\n",
    "x_values = southern_hemi_df[\"Lat\"]\n",
    "y_values = southern_hemi_df[\"Max Temp\"]\n",
    "# Call the function.\n",
    "plot_linear_regression(x_values, y_values,\n",
    "                       \"Linear Regression on the Southern Hemisphere \\n for Maximum Temperature\", \"Max Temp\",(-50,90))"
   ]
  },
  {
   "cell_type": "code",
   "execution_count": 45,
   "metadata": {},
   "outputs": [
    {
     "data": {
      "image/png": "[encoded data removed]",
      "text/plain": [
       "<Figure size 432x288 with 1 Axes>"
      ]
     },
     "metadata": {
      "needs_background": "light"
     },
     "output_type": "display_data"
    }
   ],
   "source": [
    "# Linear regression on the Northern Hemisphere\n",
    "x_values = northern_hemi_df[\"Lat\"]\n",
    "y_values = northern_hemi_df[\"Humidity\"]\n",
    "\n",
    "# Call the function.\n",
    "plot_linear_regression(x_values, y_values, 'Linear Regression on the Northern Hemisphere \\n for % Humidity', '% Humidity', (40, 10))"
   ]
  },
  {
   "cell_type": "code",
   "execution_count": 46,
   "metadata": {},
   "outputs": [
    {
     "data": {
      "image/png": "[encoded data removed]",
      "text/plain": [
       "<Figure size 432x288 with 1 Axes>"
      ]
     },
     "metadata": {
      "needs_background": "light"
     },
     "output_type": "display_data"
    }
   ],
   "source": [
    "# Linear regression on the Southern Hemisphere\n",
    "x_values = southern_hemi_df[\"Lat\"]\n",
    "y_values = southern_hemi_df[\"Humidity\"]\n",
    "\n",
    "# Call the function.\n",
    "plot_linear_regression(x_values, y_values,\n",
    "                       'Linear Regression on the Southern Hemisphere \\n for % Humidity', '% Humidity',(-50,15))"
   ]
  },
  {
   "cell_type": "code",
   "execution_count": 47,
   "metadata": {},
   "outputs": [
    {
     "data": {
      "image/png": "[encoded data removed]",
      "text/plain": [
       "<Figure size 432x288 with 1 Axes>"
      ]
     },
     "metadata": {
      "needs_background": "light"
     },
     "output_type": "display_data"
    }
   ],
   "source": [
    "# Linear regression on the Northern Hemisphere\n",
    "x_values = northern_hemi_df[\"Lat\"]\n",
    "y_values = northern_hemi_df[\"Cloudiness\"]\n",
    "\n",
    "# Call the function.\n",
    "plot_linear_regression(x_values, y_values,\n",
    "                       'Linear Regression on the Northern Hemisphere \\n for % Cloudiness', '% Cloudiness',(80,60))"
   ]
  },
  {
   "cell_type": "code",
   "execution_count": 48,
   "metadata": {},
   "outputs": [
    {
     "data": {
      "image/png": "[encoded data removed]",
      "text/plain": [
       "<Figure size 432x288 with 1 Axes>"
      ]
     },
     "metadata": {
      "needs_background": "light"
     },
     "output_type": "display_data"
    }
   ],
   "source": [
    "# Linear regression on the Southern Hemisphere\n",
    "x_values = southern_hemi_df[\"Lat\"]\n",
    "y_values = southern_hemi_df[\"Cloudiness\"]\n",
    "\n",
    "# Call the function.\n",
    "plot_linear_regression(x_values, y_values,\n",
    "                       'Linear Regression on the Southern Hemisphere \\n for % Cloudiness', '% Cloudiness',(-50,60))"
   ]
  },
  {
   "cell_type": "code",
   "execution_count": 49,
   "metadata": {},
   "outputs": [
    {
     "data": {
      "image/png": "[encoded data removed]",
      "text/plain": [
       "<Figure size 432x288 with 1 Axes>"
      ]
     },
     "metadata": {
      "needs_background": "light"
     },
     "output_type": "display_data"
    }
   ],
   "source": [
    "# Linear regression on the Northern Hemisphere\n",
    "x_values = northern_hemi_df[\"Lat\"]\n",
    "y_values = northern_hemi_df[\"Wind Speed\"]\n",
    "\n",
    "# Call the function.\n",
    "plot_linear_regression(x_values, y_values,\n",
    "                       'Linear Regression on the Northern Hemisphere \\nfor Wind Speed', 'Wind Speed',(40,35))"
   ]
  },
  {
   "cell_type": "code",
   "execution_count": 50,
   "metadata": {},
   "outputs": [
    {
     "data": {
      "image/png": "[encoded data removed]",
      "text/plain": [
       "<Figure size 432x288 with 1 Axes>"
      ]
     },
     "metadata": {
      "needs_background": "light"
     },
     "output_type": "display_data"
    }
   ],
   "source": [
    "# Linear regression on the Southern Hemisphere\n",
    "x_values = southern_hemi_df[\"Lat\"]\n",
    "y_values = southern_hemi_df[\"Wind Speed\"]\n",
    "# Call the function.\n",
    "plot_linear_regression(x_values, y_values,\n",
    "                       'Linear Regression on the Southern Hemisphere \\nfor Wind Speed', 'Wind Speed',(-50,25))"
   ]
  },
  {
   "cell_type": "code",
   "execution_count": 51,
   "metadata": {
    "scrolled": true
   },
   "outputs": [],
   "source": [
    "# Configure gmaps to use your Google API key.\n",
    "gmaps.configure(api_key=g_key)"
   ]
  },
  {
   "cell_type": "code",
   "execution_count": 52,
   "metadata": {},
   "outputs": [
    {
     "data": {
      "application/vnd.jupyter.widget-view+json": {
       "model_id": "5aa896e29f374a15ae8cbda9c042f480",
       "version_major": 2,
       "version_minor": 0
      },
      "text/plain": [
       "Figure(layout=FigureLayout(height='420px'))"
      ]
     },
     "metadata": {},
     "output_type": "display_data"
    }
   ],
   "source": [
    "# Heatmap of temperature\n",
    "# Get the latitude and longitude.\n",
    "locations = city_data_df[[\"Lat\", \"Lng\"]]\n",
    "# Get the maximum temperature.\n",
    "max_temp = city_data_df[\"Max Temp\"]\n",
    "temps = []\n",
    "for temp in max_temp:\n",
    "    temps.append(max(temp, 0))\n",
    "# Assign the figure variable.\n",
    "fig = gmaps.figure()\n",
    "# Assign the heatmap variable.\n",
    "heat_layer = gmaps.heatmap_layer(locations, weights=max_temp)\n",
    "# Add the heatmap layer.\n",
    "fig.add_layer(heat_layer)\n",
    "\n",
    "# Call the figure to plot the data.\n",
    "fig"
   ]
  },
  {
   "cell_type": "markdown",
   "metadata": {},
   "source": [
    "# Changing max_temp to temps"
   ]
  },
  {
   "cell_type": "code",
   "execution_count": 59,
   "metadata": {
    "scrolled": true
   },
   "outputs": [
    {
     "data": {
      "application/vnd.jupyter.widget-view+json": {
       "model_id": "1aac52f2bec24b2086a12290c1484166",
       "version_major": 2,
       "version_minor": 0
      },
      "text/plain": [
       "Figure(layout=FigureLayout(height='420px'))"
      ]
     },
     "metadata": {},
     "output_type": "display_data"
    }
   ],
   "source": [
    "# Heatmap of temperature\n",
    "# Get the latitude and longitude.\n",
    "locations = city_data_df[[\"Lat\", \"Lng\"]]\n",
    "# Get the maximum temperature.\n",
    "max_temp = city_data_df[\"Max Temp\"]\n",
    "temps = []\n",
    "for temp in max_temp:\n",
    "    temps.append(max(temp, 0))\n",
    "# Assign the figure variable.\n",
    "fig = gmaps.figure(center=(30.0, 31.0), zoom_level=1.5)\n",
    "# Assign the heatmap variable. Changing weights from max_temp to temps\n",
    "heat_layer = gmaps.heatmap_layer(locations, weights=temps)\n",
    "# Add the heatmap layer.\n",
    "fig.add_layer(heat_layer)\n",
    "\n",
    "# Call the figure to plot the data.\n",
    "fig"
   ]
  },
  {
   "cell_type": "markdown",
   "metadata": {},
   "source": [
    "# Changing heat layer"
   ]
  },
  {
   "cell_type": "code",
   "execution_count": 60,
   "metadata": {},
   "outputs": [
    {
     "data": {
      "application/vnd.jupyter.widget-view+json": {
       "model_id": "52f3a4a85abb4716a57477c4e7c8db75",
       "version_major": 2,
       "version_minor": 0
      },
      "text/plain": [
       "Figure(layout=FigureLayout(height='420px'))"
      ]
     },
     "metadata": {},
     "output_type": "display_data"
    }
   ],
   "source": [
    "# Heatmap of temperature\n",
    "# Get the latitude and longitude.\n",
    "locations = city_data_df[[\"Lat\", \"Lng\"]]\n",
    "# Get the maximum temperature.\n",
    "max_temp = city_data_df[\"Max Temp\"]\n",
    "temps = []\n",
    "for temp in max_temp:\n",
    "    temps.append(max(temp, 0))\n",
    "# Assign the figure variable.\n",
    "fig = gmaps.figure(center=(30.0, 31.0), zoom_level=1.5)\n",
    "# Assign the heatmap variable. Changing weights from max_temp to temps\n",
    "heat_layer = gmaps.heatmap_layer(locations, weights=temps, dissipating=False, max_intensity=300, point_radius=4)\n",
    "# Add the heatmap layer.\n",
    "fig.add_layer(heat_layer)\n",
    "\n",
    "# Call the figure to plot the data.\n",
    "fig"
   ]
  },
  {
   "cell_type": "code",
   "execution_count": 64,
   "metadata": {},
   "outputs": [
    {
     "data": {
      "application/vnd.jupyter.widget-view+json": {
       "model_id": "73f2116c4a874359b2967d25dee6cc4e",
       "version_major": 2,
       "version_minor": 0
      },
      "text/plain": [
       "Figure(layout=FigureLayout(height='420px'))"
      ]
     },
     "metadata": {},
     "output_type": "display_data"
    }
   ],
   "source": [
    "# Heatmap of percent humidity\n",
    "locations = city_data_df[[\"Lat\", \"Lng\"]]\n",
    "humidity = city_data_df[\"Humidity\"]\n",
    "fig = gmaps.figure(center=(30.0, 31.0), zoom_level=1.5)\n",
    "heat_layer = gmaps.heatmap_layer(locations, weights=humidity, dissipating=False, max_intensity=300, point_radius=4)\n",
    "\n",
    "fig.add_layer(heat_layer)\n",
    "\n",
    "# Call the figure to plot the data.\n",
    "fig"
   ]
  },
  {
   "cell_type": "code",
   "execution_count": 67,
   "metadata": {},
   "outputs": [
    {
     "data": {
      "application/vnd.jupyter.widget-view+json": {
       "model_id": "bd9d1270bed8467382356c150889e24a",
       "version_major": 2,
       "version_minor": 0
      },
      "text/plain": [
       "Figure(layout=FigureLayout(height='420px'))"
      ]
     },
     "metadata": {},
     "output_type": "display_data"
    }
   ],
   "source": [
    "# Heatmap of percent cloudiness\n",
    "locations = city_data_df[[\"Lat\", \"Lng\"]]\n",
    "clouds = city_data_df[\"Cloudiness\"]\n",
    "fig = gmaps.figure(center=(30.0, 31.0), zoom_level=1.5)\n",
    "heat_layer = gmaps.heatmap_layer(locations, weights=clouds, dissipating=False, max_intensity=300, point_radius=4)\n",
    "\n",
    "fig.add_layer(heat_layer)\n",
    "\n",
    "# Call the figure to plot the data.\n",
    "fig"
   ]
  },
  {
   "cell_type": "code",
   "execution_count": 68,
   "metadata": {},
   "outputs": [
    {
     "data": {
      "application/vnd.jupyter.widget-view+json": {
       "model_id": "943805d6e2c1487cbe26c1110f0e4287",
       "version_major": 2,
       "version_minor": 0
      },
      "text/plain": [
       "Figure(layout=FigureLayout(height='420px'))"
      ]
     },
     "metadata": {},
     "output_type": "display_data"
    }
   ],
   "source": [
    "# Heatmap of percent wind speed\n",
    "locations = city_data_df[[\"Lat\", \"Lng\"]]\n",
    "wind = city_data_df[\"Wind Speed\"]\n",
    "fig = gmaps.figure(center=(30.0, 31.0), zoom_level=1.5)\n",
    "heat_layer = gmaps.heatmap_layer(locations, weights=wind, dissipating=False, max_intensity=300, point_radius=4)\n",
    "\n",
    "fig.add_layer(heat_layer)\n",
    "\n",
    "# Call the figure to plot the data.\n",
    "fig"
   ]
  },
  {
   "cell_type": "code",
   "execution_count": 69,
   "metadata": {},
   "outputs": [
    {
     "name": "stdout",
     "output_type": "stream",
     "text": [
      "What is the minimum temperature you would like for your trip? 75\n",
      "What is the maximum temperature you would like for your trip? 90\n"
     ]
    }
   ],
   "source": [
    "# Ask the customer to add a minimum and maximum temperature value.\n",
    "min_temp = float(input(\"What is the minimum temperature you would like for your trip? \"))\n",
    "max_temp = float(input(\"What is the maximum temperature you would like for your trip? \"))"
   ]
  },
  {
   "cell_type": "code",
   "execution_count": 70,
   "metadata": {
    "scrolled": true
   },
   "outputs": [
    {
     "data": {
      "text/html": [
       "<div>\n",
       "<style scoped>\n",
       "    .dataframe tbody tr th:only-of-type {\n",
       "        vertical-align: middle;\n",
       "    }\n",
       "\n",
       "    .dataframe tbody tr th {\n",
       "        vertical-align: top;\n",
       "    }\n",
       "\n",
       "    .dataframe thead th {\n",
       "        text-align: right;\n",
       "    }\n",
       "</style>\n",
       "<table border=\"1\" class=\"dataframe\">\n",
       "  <thead>\n",
       "    <tr style=\"text-align: right;\">\n",
       "      <th></th>\n",
       "      <th>City</th>\n",
       "      <th>Lat</th>\n",
       "      <th>Lng</th>\n",
       "      <th>Max Temp</th>\n",
       "      <th>Humidity</th>\n",
       "      <th>Cloudiness</th>\n",
       "      <th>Wind Speed</th>\n",
       "      <th>Country</th>\n",
       "      <th>Date</th>\n",
       "    </tr>\n",
       "  </thead>\n",
       "  <tbody>\n",
       "    <tr>\n",
       "      <th>0</th>\n",
       "      <td>Rikitea</td>\n",
       "      <td>-23.12</td>\n",
       "      <td>-134.97</td>\n",
       "      <td>75.56</td>\n",
       "      <td>79</td>\n",
       "      <td>55</td>\n",
       "      <td>18.30</td>\n",
       "      <td>PF</td>\n",
       "      <td>2020-06-17 18:03:59</td>\n",
       "    </tr>\n",
       "    <tr>\n",
       "      <th>2</th>\n",
       "      <td>Axim</td>\n",
       "      <td>4.87</td>\n",
       "      <td>-2.24</td>\n",
       "      <td>78.15</td>\n",
       "      <td>85</td>\n",
       "      <td>89</td>\n",
       "      <td>12.46</td>\n",
       "      <td>GH</td>\n",
       "      <td>2020-06-17 18:03:59</td>\n",
       "    </tr>\n",
       "    <tr>\n",
       "      <th>4</th>\n",
       "      <td>Abeche</td>\n",
       "      <td>13.83</td>\n",
       "      <td>20.83</td>\n",
       "      <td>86.99</td>\n",
       "      <td>38</td>\n",
       "      <td>66</td>\n",
       "      <td>8.14</td>\n",
       "      <td>TD</td>\n",
       "      <td>2020-06-17 18:03:59</td>\n",
       "    </tr>\n",
       "    <tr>\n",
       "      <th>5</th>\n",
       "      <td>Carman</td>\n",
       "      <td>49.50</td>\n",
       "      <td>-98.00</td>\n",
       "      <td>88.00</td>\n",
       "      <td>51</td>\n",
       "      <td>1</td>\n",
       "      <td>12.75</td>\n",
       "      <td>CA</td>\n",
       "      <td>2020-06-17 18:04:00</td>\n",
       "    </tr>\n",
       "    <tr>\n",
       "      <th>9</th>\n",
       "      <td>Puerto Ayora</td>\n",
       "      <td>-0.74</td>\n",
       "      <td>-90.35</td>\n",
       "      <td>75.20</td>\n",
       "      <td>78</td>\n",
       "      <td>75</td>\n",
       "      <td>11.41</td>\n",
       "      <td>EC</td>\n",
       "      <td>2020-06-17 18:04:00</td>\n",
       "    </tr>\n",
       "    <tr>\n",
       "      <th>12</th>\n",
       "      <td>Kerman</td>\n",
       "      <td>30.28</td>\n",
       "      <td>57.08</td>\n",
       "      <td>87.80</td>\n",
       "      <td>10</td>\n",
       "      <td>0</td>\n",
       "      <td>9.17</td>\n",
       "      <td>IR</td>\n",
       "      <td>2020-06-17 18:04:01</td>\n",
       "    </tr>\n",
       "    <tr>\n",
       "      <th>13</th>\n",
       "      <td>Atuona</td>\n",
       "      <td>-9.80</td>\n",
       "      <td>-139.03</td>\n",
       "      <td>80.42</td>\n",
       "      <td>71</td>\n",
       "      <td>43</td>\n",
       "      <td>15.46</td>\n",
       "      <td>PF</td>\n",
       "      <td>2020-06-17 18:04:01</td>\n",
       "    </tr>\n",
       "    <tr>\n",
       "      <th>15</th>\n",
       "      <td>Veraval</td>\n",
       "      <td>20.90</td>\n",
       "      <td>70.37</td>\n",
       "      <td>84.60</td>\n",
       "      <td>81</td>\n",
       "      <td>70</td>\n",
       "      <td>12.57</td>\n",
       "      <td>IN</td>\n",
       "      <td>2020-06-17 18:04:01</td>\n",
       "    </tr>\n",
       "    <tr>\n",
       "      <th>19</th>\n",
       "      <td>Puerto Colombia</td>\n",
       "      <td>10.99</td>\n",
       "      <td>-74.95</td>\n",
       "      <td>89.60</td>\n",
       "      <td>70</td>\n",
       "      <td>75</td>\n",
       "      <td>10.29</td>\n",
       "      <td>CO</td>\n",
       "      <td>2020-06-17 18:04:02</td>\n",
       "    </tr>\n",
       "    <tr>\n",
       "      <th>20</th>\n",
       "      <td>Kapaa</td>\n",
       "      <td>22.08</td>\n",
       "      <td>-159.32</td>\n",
       "      <td>77.00</td>\n",
       "      <td>73</td>\n",
       "      <td>1</td>\n",
       "      <td>10.29</td>\n",
       "      <td>US</td>\n",
       "      <td>2020-06-17 18:04:02</td>\n",
       "    </tr>\n",
       "  </tbody>\n",
       "</table>\n",
       "</div>"
      ],
      "text/plain": [
       "               City    Lat     Lng  Max Temp  Humidity  Cloudiness  \\\n",
       "0           Rikitea -23.12 -134.97     75.56        79          55   \n",
       "2              Axim   4.87   -2.24     78.15        85          89   \n",
       "4            Abeche  13.83   20.83     86.99        38          66   \n",
       "5            Carman  49.50  -98.00     88.00        51           1   \n",
       "9      Puerto Ayora  -0.74  -90.35     75.20        78          75   \n",
       "12           Kerman  30.28   57.08     87.80        10           0   \n",
       "13           Atuona  -9.80 -139.03     80.42        71          43   \n",
       "15          Veraval  20.90   70.37     84.60        81          70   \n",
       "19  Puerto Colombia  10.99  -74.95     89.60        70          75   \n",
       "20            Kapaa  22.08 -159.32     77.00        73           1   \n",
       "\n",
       "    Wind Speed Country                 Date  \n",
       "0        18.30      PF  2020-06-17 18:03:59  \n",
       "2        12.46      GH  2020-06-17 18:03:59  \n",
       "4         8.14      TD  2020-06-17 18:03:59  \n",
       "5        12.75      CA  2020-06-17 18:04:00  \n",
       "9        11.41      EC  2020-06-17 18:04:00  \n",
       "12        9.17      IR  2020-06-17 18:04:01  \n",
       "13       15.46      PF  2020-06-17 18:04:01  \n",
       "15       12.57      IN  2020-06-17 18:04:01  \n",
       "19       10.29      CO  2020-06-17 18:04:02  \n",
       "20       10.29      US  2020-06-17 18:04:02  "
      ]
     },
     "execution_count": 70,
     "metadata": {},
     "output_type": "execute_result"
    }
   ],
   "source": [
    "# Filter the dataset to find the cities that fit the criteria.\n",
    "preferred_cities_df = city_data_df.loc[(city_data_df[\"Max Temp\"] <= max_temp) &\\\n",
    "                                      (city_data_df[\"Max Temp\"] >= min_temp)]\n",
    "preferred_cities_df.head(10)"
   ]
  },
  {
   "cell_type": "code",
   "execution_count": 72,
   "metadata": {},
   "outputs": [
    {
     "data": {
      "text/plain": [
       "City          0\n",
       "Lat           0\n",
       "Lng           0\n",
       "Max Temp      0\n",
       "Humidity      0\n",
       "Cloudiness    0\n",
       "Wind Speed    0\n",
       "Country       0\n",
       "Date          0\n",
       "dtype: int64"
      ]
     },
     "execution_count": 72,
     "metadata": {},
     "output_type": "execute_result"
    }
   ],
   "source": [
    "# determine if the DataFrame has any null values for any of the rows\n",
    "preferred_cities_df.isnull().sum()"
   ]
  },
  {
   "cell_type": "code",
   "execution_count": 73,
   "metadata": {},
   "outputs": [
    {
     "data": {
      "text/html": [
       "<div>\n",
       "<style scoped>\n",
       "    .dataframe tbody tr th:only-of-type {\n",
       "        vertical-align: middle;\n",
       "    }\n",
       "\n",
       "    .dataframe tbody tr th {\n",
       "        vertical-align: top;\n",
       "    }\n",
       "\n",
       "    .dataframe thead th {\n",
       "        text-align: right;\n",
       "    }\n",
       "</style>\n",
       "<table border=\"1\" class=\"dataframe\">\n",
       "  <thead>\n",
       "    <tr style=\"text-align: right;\">\n",
       "      <th></th>\n",
       "      <th>City</th>\n",
       "      <th>Country</th>\n",
       "      <th>Max Temp</th>\n",
       "      <th>Lat</th>\n",
       "      <th>Lng</th>\n",
       "      <th>Hotel Name</th>\n",
       "    </tr>\n",
       "  </thead>\n",
       "  <tbody>\n",
       "    <tr>\n",
       "      <th>0</th>\n",
       "      <td>Rikitea</td>\n",
       "      <td>PF</td>\n",
       "      <td>75.56</td>\n",
       "      <td>-23.12</td>\n",
       "      <td>-134.97</td>\n",
       "      <td></td>\n",
       "    </tr>\n",
       "    <tr>\n",
       "      <th>2</th>\n",
       "      <td>Axim</td>\n",
       "      <td>GH</td>\n",
       "      <td>78.15</td>\n",
       "      <td>4.87</td>\n",
       "      <td>-2.24</td>\n",
       "      <td></td>\n",
       "    </tr>\n",
       "    <tr>\n",
       "      <th>4</th>\n",
       "      <td>Abeche</td>\n",
       "      <td>TD</td>\n",
       "      <td>86.99</td>\n",
       "      <td>13.83</td>\n",
       "      <td>20.83</td>\n",
       "      <td></td>\n",
       "    </tr>\n",
       "    <tr>\n",
       "      <th>5</th>\n",
       "      <td>Carman</td>\n",
       "      <td>CA</td>\n",
       "      <td>88.00</td>\n",
       "      <td>49.50</td>\n",
       "      <td>-98.00</td>\n",
       "      <td></td>\n",
       "    </tr>\n",
       "    <tr>\n",
       "      <th>9</th>\n",
       "      <td>Puerto Ayora</td>\n",
       "      <td>EC</td>\n",
       "      <td>75.20</td>\n",
       "      <td>-0.74</td>\n",
       "      <td>-90.35</td>\n",
       "      <td></td>\n",
       "    </tr>\n",
       "    <tr>\n",
       "      <th>12</th>\n",
       "      <td>Kerman</td>\n",
       "      <td>IR</td>\n",
       "      <td>87.80</td>\n",
       "      <td>30.28</td>\n",
       "      <td>57.08</td>\n",
       "      <td></td>\n",
       "    </tr>\n",
       "    <tr>\n",
       "      <th>13</th>\n",
       "      <td>Atuona</td>\n",
       "      <td>PF</td>\n",
       "      <td>80.42</td>\n",
       "      <td>-9.80</td>\n",
       "      <td>-139.03</td>\n",
       "      <td></td>\n",
       "    </tr>\n",
       "    <tr>\n",
       "      <th>15</th>\n",
       "      <td>Veraval</td>\n",
       "      <td>IN</td>\n",
       "      <td>84.60</td>\n",
       "      <td>20.90</td>\n",
       "      <td>70.37</td>\n",
       "      <td></td>\n",
       "    </tr>\n",
       "    <tr>\n",
       "      <th>19</th>\n",
       "      <td>Puerto Colombia</td>\n",
       "      <td>CO</td>\n",
       "      <td>89.60</td>\n",
       "      <td>10.99</td>\n",
       "      <td>-74.95</td>\n",
       "      <td></td>\n",
       "    </tr>\n",
       "    <tr>\n",
       "      <th>20</th>\n",
       "      <td>Kapaa</td>\n",
       "      <td>US</td>\n",
       "      <td>77.00</td>\n",
       "      <td>22.08</td>\n",
       "      <td>-159.32</td>\n",
       "      <td></td>\n",
       "    </tr>\n",
       "  </tbody>\n",
       "</table>\n",
       "</div>"
      ],
      "text/plain": [
       "               City Country  Max Temp    Lat     Lng Hotel Name\n",
       "0           Rikitea      PF     75.56 -23.12 -134.97           \n",
       "2              Axim      GH     78.15   4.87   -2.24           \n",
       "4            Abeche      TD     86.99  13.83   20.83           \n",
       "5            Carman      CA     88.00  49.50  -98.00           \n",
       "9      Puerto Ayora      EC     75.20  -0.74  -90.35           \n",
       "12           Kerman      IR     87.80  30.28   57.08           \n",
       "13           Atuona      PF     80.42  -9.80 -139.03           \n",
       "15          Veraval      IN     84.60  20.90   70.37           \n",
       "19  Puerto Colombia      CO     89.60  10.99  -74.95           \n",
       "20            Kapaa      US     77.00  22.08 -159.32           "
      ]
     },
     "execution_count": 73,
     "metadata": {},
     "output_type": "execute_result"
    }
   ],
   "source": [
    "# Create DataFrame called hotel_df to store hotel names along with city, country, max temp, and coordinates.\n",
    "hotel_df = preferred_cities_df[[\"City\", \"Country\", \"Max Temp\", \"Lat\", \"Lng\"]].copy()\n",
    "hotel_df[\"Hotel Name\"] = \"\"\n",
    "hotel_df.head(10)"
   ]
  },
  {
   "cell_type": "code",
   "execution_count": 75,
   "metadata": {},
   "outputs": [
    {
     "name": "stdout",
     "output_type": "stream",
     "text": [
      "Hotel not found... skipping.\n",
      "Hotel not found... skipping.\n",
      "Hotel not found... skipping.\n",
      "Hotel not found... skipping.\n",
      "Hotel not found... skipping.\n",
      "Hotel not found... skipping.\n",
      "Hotel not found... skipping.\n",
      "Hotel not found... skipping.\n",
      "Hotel not found... skipping.\n",
      "Hotel not found... skipping.\n",
      "Hotel not found... skipping.\n",
      "Hotel not found... skipping.\n",
      "Hotel not found... skipping.\n",
      "Hotel not found... skipping.\n",
      "Hotel not found... skipping.\n",
      "Hotel not found... skipping.\n",
      "Hotel not found... skipping.\n"
     ]
    }
   ],
   "source": [
    "# Set parameters to search for a hotel.\n",
    "params = {\n",
    "    \"radius\": 5000,\n",
    "    \"type\": \"lodging\",\n",
    "    \"key\": g_key\n",
    "}\n",
    "\n",
    "# Iterate through the DataFrame.\n",
    "for index, row in hotel_df.iterrows():\n",
    "    # Get the latitude and longitude.\n",
    "    lat = row[\"Lat\"]\n",
    "    lng = row[\"Lng\"]\n",
    "    \n",
    "    # Add the latitude and longitude to location key for the params dictionary.\n",
    "    params[\"location\"] = f\"{lat},{lng}\"\n",
    "    \n",
    "    # Use the search term: \"lodging\" and our latitude and longitude.\n",
    "    base_url = \"https://maps.googleapis.com/maps/api/place/nearbysearch/json\"\n",
    "    \n",
    "    # Make request and get the JSON data from the search.\n",
    "    hotels = requests.get(base_url, params=params).json()\n",
    "    \n",
    "    # Grab the first hotel from the results and store the name.\n",
    "    try:\n",
    "        hotel_df.loc[index, \"Hotel Name\"] = hotels[\"results\"][0][\"name\"]\n",
    "    except (IndexError):\n",
    "        print(\"Hotel not found... skipping.\")"
   ]
  },
  {
   "cell_type": "code",
   "execution_count": 76,
   "metadata": {},
   "outputs": [
    {
     "data": {
      "text/html": [
       "<div>\n",
       "<style scoped>\n",
       "    .dataframe tbody tr th:only-of-type {\n",
       "        vertical-align: middle;\n",
       "    }\n",
       "\n",
       "    .dataframe tbody tr th {\n",
       "        vertical-align: top;\n",
       "    }\n",
       "\n",
       "    .dataframe thead th {\n",
       "        text-align: right;\n",
       "    }\n",
       "</style>\n",
       "<table border=\"1\" class=\"dataframe\">\n",
       "  <thead>\n",
       "    <tr style=\"text-align: right;\">\n",
       "      <th></th>\n",
       "      <th>City</th>\n",
       "      <th>Country</th>\n",
       "      <th>Max Temp</th>\n",
       "      <th>Lat</th>\n",
       "      <th>Lng</th>\n",
       "      <th>Hotel Name</th>\n",
       "    </tr>\n",
       "  </thead>\n",
       "  <tbody>\n",
       "    <tr>\n",
       "      <th>0</th>\n",
       "      <td>Rikitea</td>\n",
       "      <td>PF</td>\n",
       "      <td>75.56</td>\n",
       "      <td>-23.12</td>\n",
       "      <td>-134.97</td>\n",
       "      <td>Pension Maro'i</td>\n",
       "    </tr>\n",
       "    <tr>\n",
       "      <th>2</th>\n",
       "      <td>Axim</td>\n",
       "      <td>GH</td>\n",
       "      <td>78.15</td>\n",
       "      <td>4.87</td>\n",
       "      <td>-2.24</td>\n",
       "      <td>AXIM BEACH RESORT AND SPA</td>\n",
       "    </tr>\n",
       "    <tr>\n",
       "      <th>4</th>\n",
       "      <td>Abeche</td>\n",
       "      <td>TD</td>\n",
       "      <td>86.99</td>\n",
       "      <td>13.83</td>\n",
       "      <td>20.83</td>\n",
       "      <td>Assaleh Hamdan Haroune</td>\n",
       "    </tr>\n",
       "    <tr>\n",
       "      <th>5</th>\n",
       "      <td>Carman</td>\n",
       "      <td>CA</td>\n",
       "      <td>88.00</td>\n",
       "      <td>49.50</td>\n",
       "      <td>-98.00</td>\n",
       "      <td>Bell Aura Bed, Breakfast &amp; Bistro</td>\n",
       "    </tr>\n",
       "    <tr>\n",
       "      <th>9</th>\n",
       "      <td>Puerto Ayora</td>\n",
       "      <td>EC</td>\n",
       "      <td>75.20</td>\n",
       "      <td>-0.74</td>\n",
       "      <td>-90.35</td>\n",
       "      <td>Finch Bay Galapagos Hotel</td>\n",
       "    </tr>\n",
       "    <tr>\n",
       "      <th>...</th>\n",
       "      <td>...</td>\n",
       "      <td>...</td>\n",
       "      <td>...</td>\n",
       "      <td>...</td>\n",
       "      <td>...</td>\n",
       "      <td>...</td>\n",
       "    </tr>\n",
       "    <tr>\n",
       "      <th>556</th>\n",
       "      <td>Marsh Harbour</td>\n",
       "      <td>BS</td>\n",
       "      <td>80.20</td>\n",
       "      <td>26.54</td>\n",
       "      <td>-77.06</td>\n",
       "      <td>Abaco Beach Resort</td>\n",
       "    </tr>\n",
       "    <tr>\n",
       "      <th>558</th>\n",
       "      <td>Thinadhoo</td>\n",
       "      <td>MV</td>\n",
       "      <td>84.43</td>\n",
       "      <td>0.53</td>\n",
       "      <td>72.93</td>\n",
       "      <td></td>\n",
       "    </tr>\n",
       "    <tr>\n",
       "      <th>562</th>\n",
       "      <td>Salinas</td>\n",
       "      <td>US</td>\n",
       "      <td>75.99</td>\n",
       "      <td>36.68</td>\n",
       "      <td>-121.66</td>\n",
       "      <td>Good Nite Inn Salinas Monterey</td>\n",
       "    </tr>\n",
       "    <tr>\n",
       "      <th>564</th>\n",
       "      <td>Mattru</td>\n",
       "      <td>SL</td>\n",
       "      <td>80.33</td>\n",
       "      <td>7.62</td>\n",
       "      <td>-11.83</td>\n",
       "      <td>Boima Gbondo's Compound</td>\n",
       "    </tr>\n",
       "    <tr>\n",
       "      <th>565</th>\n",
       "      <td>Ambulu</td>\n",
       "      <td>ID</td>\n",
       "      <td>76.14</td>\n",
       "      <td>-8.35</td>\n",
       "      <td>113.61</td>\n",
       "      <td>Hotel Ambulu Jember</td>\n",
       "    </tr>\n",
       "  </tbody>\n",
       "</table>\n",
       "<p>226 rows × 6 columns</p>\n",
       "</div>"
      ],
      "text/plain": [
       "              City Country  Max Temp    Lat     Lng  \\\n",
       "0          Rikitea      PF     75.56 -23.12 -134.97   \n",
       "2             Axim      GH     78.15   4.87   -2.24   \n",
       "4           Abeche      TD     86.99  13.83   20.83   \n",
       "5           Carman      CA     88.00  49.50  -98.00   \n",
       "9     Puerto Ayora      EC     75.20  -0.74  -90.35   \n",
       "..             ...     ...       ...    ...     ...   \n",
       "556  Marsh Harbour      BS     80.20  26.54  -77.06   \n",
       "558      Thinadhoo      MV     84.43   0.53   72.93   \n",
       "562        Salinas      US     75.99  36.68 -121.66   \n",
       "564         Mattru      SL     80.33   7.62  -11.83   \n",
       "565         Ambulu      ID     76.14  -8.35  113.61   \n",
       "\n",
       "                            Hotel Name  \n",
       "0                       Pension Maro'i  \n",
       "2            AXIM BEACH RESORT AND SPA  \n",
       "4               Assaleh Hamdan Haroune  \n",
       "5    Bell Aura Bed, Breakfast & Bistro  \n",
       "9            Finch Bay Galapagos Hotel  \n",
       "..                                 ...  \n",
       "556                 Abaco Beach Resort  \n",
       "558                                     \n",
       "562     Good Nite Inn Salinas Monterey  \n",
       "564            Boima Gbondo's Compound  \n",
       "565                Hotel Ambulu Jember  \n",
       "\n",
       "[226 rows x 6 columns]"
      ]
     },
     "execution_count": 76,
     "metadata": {},
     "output_type": "execute_result"
    }
   ],
   "source": [
    "hotel_df"
   ]
  },
  {
   "cell_type": "code",
   "execution_count": 78,
   "metadata": {
    "scrolled": true
   },
   "outputs": [
    {
     "data": {
      "application/vnd.jupyter.widget-view+json": {
       "model_id": "3c671e1746464a618baf9c078394e533",
       "version_major": 2,
       "version_minor": 0
      },
      "text/plain": [
       "Figure(layout=FigureLayout(height='420px'))"
      ]
     },
     "metadata": {},
     "output_type": "display_data"
    }
   ],
   "source": [
    "# Add a heatmap of temperature for the vacation spots.\n",
    "locations = hotel_df[[\"Lat\", \"Lng\"]]\n",
    "max_temp = hotel_df[\"Max Temp\"]\n",
    "fig = gmaps.figure(center=(30.0,31.0), zoom_level=1.5)\n",
    "heat_layer = gmaps.heatmap_layer(locations, weights=max_temp, dissipating=False,\n",
    "                                max_intensity=300, point_radius=4)\n",
    "fig.add_layer(heat_layer)\n",
    "\n",
    "# Call the figure to plot the data.\n",
    "fig"
   ]
  },
  {
   "cell_type": "code",
   "execution_count": 85,
   "metadata": {},
   "outputs": [
    {
     "data": {
      "application/vnd.jupyter.widget-view+json": {
       "model_id": "3c1b9f69ca0f4402a2594e89a6733f8d",
       "version_major": 2,
       "version_minor": 0
      },
      "text/plain": [
       "Figure(layout=FigureLayout(height='420px'))"
      ]
     },
     "metadata": {},
     "output_type": "display_data"
    }
   ],
   "source": [
    "# Add a heatmap of temperature for the vacation spots. Adding marker_layer\n",
    "locations = hotel_df[[\"Lat\", \"Lng\"]]\n",
    "max_temp = hotel_df[\"Max Temp\"]\n",
    "fig = gmaps.figure(center=(30.0,31.0), zoom_level=1.5)\n",
    "heat_layer = gmaps.heatmap_layer(locations, weights=max_temp, dissipating=False,\n",
    "                                max_intensity=300, point_radius=4)\n",
    "marker_layer = gmaps.marker_layer(locations)\n",
    "fig.add_layer(heat_layer)\n",
    "fig.add_layer(marker_layer)\n",
    "\n",
    "# Call the figure to plot the data.\n",
    "fig"
   ]
  },
  {
   "cell_type": "code",
   "execution_count": 87,
   "metadata": {
    "scrolled": true
   },
   "outputs": [
    {
     "data": {
      "application/vnd.jupyter.widget-view+json": {
       "model_id": "bab32296b39648d88dd821bfe325a1d6",
       "version_major": 2,
       "version_minor": 0
      },
      "text/plain": [
       "Figure(layout=FigureLayout(height='420px'))"
      ]
     },
     "metadata": {},
     "output_type": "display_data"
    }
   ],
   "source": [
    "info_box_template = \"\"\"\n",
    "<dl>\n",
    "<dt>Hotel Name</dt><dd>{Hotel Name}</dd>\n",
    "<dt>City</dt><dd>{City}</dd>\n",
    "<dt>Country</dt><dd>{Country}</dd>\n",
    "<dt>Max Temp</dt><dd>{Max Temp} °F</dd>\n",
    "</dl>\n",
    "\"\"\"\n",
    "\n",
    "# Store the DataFrame Row.\n",
    "hotel_info = [info_box_template.format(**row) for index, row in hotel_df.iterrows()]\n",
    "\n",
    "# Add a heatmap of temperature for the vacation spots and a pop-up marker for each city.\n",
    "locations = hotel_df[[\"Lat\", \"Lng\"]]\n",
    "max_temp = hotel_df[\"Max Temp\"]\n",
    "fig = gmaps.figure(center=(30.0, 31.0), zoom_level=1.5)\n",
    "heat_layer = gmaps.heatmap_layer(locations, weights=max_temp,dissipating=False,\n",
    "             max_intensity=300, point_radius=4)\n",
    "marker_layer = gmaps.marker_layer(locations, info_box_content=hotel_info)\n",
    "fig.add_layer(heat_layer)\n",
    "fig.add_layer(marker_layer)\n",
    "\n",
    "# Call the figure to plot the data.\n",
    "fig"
   ]
  }
 ],
 "metadata": {
  "kernelspec": {
   "display_name": "PythonData",
   "language": "python",
   "name": "pythondata"
  },
  "language_info": {
   "codemirror_mode": {
    "name": "ipython",
    "version": 3
   },
   "file_extension": ".py",
   "mimetype": "text/x-python",
   "name": "python",
   "nbconvert_exporter": "python",
   "pygments_lexer": "ipython3",
   "version": "3.7.6"
  }
 },
 "nbformat": 4,
 "nbformat_minor": 4
}
